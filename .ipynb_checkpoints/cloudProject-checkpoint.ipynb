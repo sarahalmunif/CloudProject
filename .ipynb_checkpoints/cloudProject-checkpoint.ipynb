{
 "cells": [
  {
   "cell_type": "code",
   "execution_count": 4,
   "metadata": {},
   "outputs": [],
   "source": [
    "import os\n",
    "import tweepy as tw\n",
    "import pandas as pd\n",
    "import numpy as np\n",
    "import csv"
   ]
  },
  {
   "cell_type": "code",
   "execution_count": 5,
   "metadata": {},
   "outputs": [],
   "source": [
    "from credentials import *"
   ]
  },
  {
   "cell_type": "code",
   "execution_count": 6,
   "metadata": {},
   "outputs": [],
   "source": [
    "auth = tw.OAuthHandler(consumer_key, consumer_secret)\n",
    "auth.set_access_token(access_token, access_token_secret)\n",
    "api = tw.API(auth, wait_on_rate_limit=True)"
   ]
  },
  {
   "cell_type": "code",
   "execution_count": 7,
   "metadata": {},
   "outputs": [],
   "source": [
    "search_words = \"اكتتاب OR ارامكو\"\n",
    "date_since = \"2019-10-20\""
   ]
  },
  {
   "cell_type": "code",
   "execution_count": 8,
   "metadata": {},
   "outputs": [],
   "source": [
    "tweets = tw.Cursor(api.search,\n",
    "              q=search_words,\n",
    "              since=date_since).items()"
   ]
  },
  {
   "cell_type": "code",
   "execution_count": 14,
   "metadata": {},
   "outputs": [],
   "source": [
    "df=pd.DataFrame(data=[[tweet.id,tweet.text,tweet.created_at,tweet.source, tweet.favorite_count,tweet.retweet_count ] for tweet in tweets], columns=['ID','Tweet','Date','Source','Favorite','Retweet'])"
   ]
  },
  {
   "cell_type": "code",
   "execution_count": 24,
   "metadata": {},
   "outputs": [],
   "source": [
    "search_words2 = \"اكتتاب AND ارامكو\"\n",
    "date_since = \"2019-10-20\""
   ]
  },
  {
   "cell_type": "code",
   "execution_count": 25,
   "metadata": {},
   "outputs": [],
   "source": [
    "tweets1 = tw.Cursor(api.search,\n",
    "              q=search_words2,\n",
    "              since=date_since).items()"
   ]
  },
  {
   "cell_type": "code",
   "execution_count": 26,
   "metadata": {},
   "outputs": [],
   "source": [
    "df2=pd.DataFrame(data=[[tweet.id,tweet.text,tweet.created_at,tweet.source, tweet.favorite_count,tweet.retweet_count ] for tweet in tweets1], columns=['ID','Tweet','Date','Source','Favorite','Retweet'])"
   ]
  },
  {
   "cell_type": "code",
   "execution_count": 32,
   "metadata": {},
   "outputs": [],
   "source": [
    "df3=df.append(df2, ignore_index = True) "
   ]
  },
  {
   "cell_type": "code",
   "execution_count": 35,
   "metadata": {},
   "outputs": [
    {
     "data": {
      "text/html": [
       "<div>\n",
       "<style scoped>\n",
       "    .dataframe tbody tr th:only-of-type {\n",
       "        vertical-align: middle;\n",
       "    }\n",
       "\n",
       "    .dataframe tbody tr th {\n",
       "        vertical-align: top;\n",
       "    }\n",
       "\n",
       "    .dataframe thead th {\n",
       "        text-align: right;\n",
       "    }\n",
       "</style>\n",
       "<table border=\"1\" class=\"dataframe\">\n",
       "  <thead>\n",
       "    <tr style=\"text-align: right;\">\n",
       "      <th></th>\n",
       "      <th>ID</th>\n",
       "      <th>Tweet</th>\n",
       "      <th>Date</th>\n",
       "      <th>Source</th>\n",
       "      <th>Favorite</th>\n",
       "      <th>Retweet</th>\n",
       "    </tr>\n",
       "  </thead>\n",
       "  <tbody>\n",
       "    <tr>\n",
       "      <td>22727</td>\n",
       "      <td>1227871495176818688</td>\n",
       "      <td>ازعج امنا ب اكتتاب ارامكو 😣</td>\n",
       "      <td>2020-02-13 08:25:51</td>\n",
       "      <td>Twitter for iPhone</td>\n",
       "      <td>0</td>\n",
       "      <td>0</td>\n",
       "    </tr>\n",
       "    <tr>\n",
       "      <td>22728</td>\n",
       "      <td>1227863079993643010</td>\n",
       "      <td>@oqo888 الله يوفقك والله اتابعك ولا معي ولا ري...</td>\n",
       "      <td>2020-02-13 07:52:25</td>\n",
       "      <td>Twitter for iPhone</td>\n",
       "      <td>0</td>\n",
       "      <td>0</td>\n",
       "    </tr>\n",
       "    <tr>\n",
       "      <td>22729</td>\n",
       "      <td>1227762411073155072</td>\n",
       "      <td>RT @_1NF__: #اكتتاب_ارامكو\\n\\n..\\n\\n↴ ✿\\n \\nِ ...</td>\n",
       "      <td>2020-02-13 01:12:24</td>\n",
       "      <td>Twitter for iPhone</td>\n",
       "      <td>0</td>\n",
       "      <td>124</td>\n",
       "    </tr>\n",
       "    <tr>\n",
       "      <td>22730</td>\n",
       "      <td>1227704450183098368</td>\n",
       "      <td>RT @MohamedLegandry: تزامناً مع #اكتتاب_ارامكو...</td>\n",
       "      <td>2020-02-12 21:22:05</td>\n",
       "      <td>Twitter for iPhone</td>\n",
       "      <td>0</td>\n",
       "      <td>410</td>\n",
       "    </tr>\n",
       "    <tr>\n",
       "      <td>22731</td>\n",
       "      <td>1227703665714237440</td>\n",
       "      <td>RT @_1NF__: #اكتتاب_ارامكو\\n\\n..\\n\\n↴ ✿\\n \\nِ ...</td>\n",
       "      <td>2020-02-12 21:18:58</td>\n",
       "      <td>Twitter for iPhone</td>\n",
       "      <td>0</td>\n",
       "      <td>124</td>\n",
       "    </tr>\n",
       "  </tbody>\n",
       "</table>\n",
       "</div>"
      ],
      "text/plain": [
       "                        ID                                              Tweet  \\\n",
       "22727  1227871495176818688                        ازعج امنا ب اكتتاب ارامكو 😣   \n",
       "22728  1227863079993643010  @oqo888 الله يوفقك والله اتابعك ولا معي ولا ري...   \n",
       "22729  1227762411073155072  RT @_1NF__: #اكتتاب_ارامكو\\n\\n..\\n\\n↴ ✿\\n \\nِ ...   \n",
       "22730  1227704450183098368  RT @MohamedLegandry: تزامناً مع #اكتتاب_ارامكو...   \n",
       "22731  1227703665714237440  RT @_1NF__: #اكتتاب_ارامكو\\n\\n..\\n\\n↴ ✿\\n \\nِ ...   \n",
       "\n",
       "                     Date              Source  Favorite  Retweet  \n",
       "22727 2020-02-13 08:25:51  Twitter for iPhone         0        0  \n",
       "22728 2020-02-13 07:52:25  Twitter for iPhone         0        0  \n",
       "22729 2020-02-13 01:12:24  Twitter for iPhone         0      124  \n",
       "22730 2020-02-12 21:22:05  Twitter for iPhone         0      410  \n",
       "22731 2020-02-12 21:18:58  Twitter for iPhone         0      124  "
      ]
     },
     "metadata": {},
     "output_type": "display_data"
    }
   ],
   "source": [
    "display(df3.tail())"
   ]
  },
  {
   "cell_type": "code",
   "execution_count": 37,
   "metadata": {},
   "outputs": [],
   "source": [
    "df3.to_csv(\"extractedTweets.csv\",index=False,encoding=\"utf-8-sig\")"
   ]
  },
  {
   "cell_type": "code",
   "execution_count": null,
   "metadata": {},
   "outputs": [],
   "source": []
  }
 ],
 "metadata": {
  "kernelspec": {
   "display_name": "Python 3",
   "language": "python",
   "name": "python3"
  },
  "language_info": {
   "codemirror_mode": {
    "name": "ipython",
    "version": 3
   },
   "file_extension": ".py",
   "mimetype": "text/x-python",
   "name": "python",
   "nbconvert_exporter": "python",
   "pygments_lexer": "ipython3",
   "version": "3.7.0"
  }
 },
 "nbformat": 4,
 "nbformat_minor": 2
}
