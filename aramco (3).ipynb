{
 "cells": [
  {
   "cell_type": "markdown",
   "metadata": {},
   "source": [
    "# Import The Needed Packages"
   ]
  },
  {
   "cell_type": "code",
   "execution_count": 8,
   "metadata": {},
   "outputs": [],
   "source": [
    "#Import Python Libraries\n",
    "import numpy as np\n",
    "import pandas as pd\n",
    "import tweepy \n",
    "import csv\n",
    "import re\n",
    "import string\n",
    "import nltk \n",
    "from nltk.tokenize import RegexpTokenizer # devide the words \n",
    "import numpy as np \n",
    "import matplotlib.pyplot as plt\n",
    "import seaborn\n",
    "import csv\n",
    "import re # for regular expression\n",
    "import string\n",
    "from datetime import datetime\n",
    "import nltk \n",
    "from nltk.tokenize import RegexpTokenizer # devide the words \n",
    "from collections import Counter #count the number of word for each list \n",
    "import numpy as np \n",
    "import matplotlib.pyplot as plt\n",
    "import plotly.express as px\n",
    "#import plotly\n",
    "#import plotly.plotly as py\n",
    "#import plotly.graph_objs as go\n",
    "#plotly.tools.set_credentials_file(username='XXXXXX', api_key='XXXXXXX')\n",
    "\n",
    "%matplotlib inline\n",
    "# change the seeting of the cells to show the entire content of coulmn ( eexpand the size of coulmn)\n",
    "pd.set_option('display.max_columns', None)\n",
    "pd.set_option('display.max_rows', None)\n",
    "pd.set_option('display.max_colwidth', -1)\n",
    "\n",
    "from sklearn.tree import DecisionTreeClassifier\n",
    "from sklearn.model_selection import train_test_split\n",
    "from sklearn.model_selection import cross_val_score, cross_val_predict, KFold\n",
    "from sklearn.metrics  import confusion_matrix, classification_report\n",
    "from sklearn import metrics\n",
    "#For Descision Tree Visualization\n",
    "from sklearn.externals.six import StringIO  \n",
    "from IPython.display import Image  \n",
    "from sklearn.tree import export_graphviz \n",
    "#import pydotplus"
   ]
  },
  {
   "cell_type": "code",
   "execution_count": 10,
   "metadata": {},
   "outputs": [],
   "source": [
    "#from credentials import *"
   ]
  },
  {
   "cell_type": "markdown",
   "metadata": {},
   "source": [
    "# Connecting to Twitter API"
   ]
  },
  {
   "cell_type": "code",
   "execution_count": 11,
   "metadata": {},
   "outputs": [
    {
     "ename": "NameError",
     "evalue": "name 'consumer_key' is not defined",
     "output_type": "error",
     "traceback": [
      "\u001b[0;31m---------------------------------------------------------------------------\u001b[0m",
      "\u001b[0;31mNameError\u001b[0m                                 Traceback (most recent call last)",
      "\u001b[0;32m<ipython-input-11-a134b5d847a4>\u001b[0m in \u001b[0;36m<module>\u001b[0;34m\u001b[0m\n\u001b[0;32m----> 1\u001b[0;31m \u001b[0mauth\u001b[0m \u001b[0;34m=\u001b[0m \u001b[0mtweepy\u001b[0m\u001b[0;34m.\u001b[0m\u001b[0mOAuthHandler\u001b[0m\u001b[0;34m(\u001b[0m\u001b[0mconsumer_key\u001b[0m\u001b[0;34m,\u001b[0m \u001b[0mconsumer_secret\u001b[0m\u001b[0;34m)\u001b[0m\u001b[0;34m\u001b[0m\u001b[0;34m\u001b[0m\u001b[0m\n\u001b[0m\u001b[1;32m      2\u001b[0m \u001b[0mauth\u001b[0m\u001b[0;34m.\u001b[0m\u001b[0mset_access_token\u001b[0m\u001b[0;34m(\u001b[0m\u001b[0maccess_token\u001b[0m\u001b[0;34m,\u001b[0m \u001b[0maccess_token_secret\u001b[0m\u001b[0;34m)\u001b[0m\u001b[0;34m\u001b[0m\u001b[0;34m\u001b[0m\u001b[0m\n\u001b[1;32m      3\u001b[0m \u001b[0mapi\u001b[0m \u001b[0;34m=\u001b[0m \u001b[0mtweepy\u001b[0m\u001b[0;34m.\u001b[0m\u001b[0mAPI\u001b[0m\u001b[0;34m(\u001b[0m\u001b[0mauth\u001b[0m\u001b[0;34m,\u001b[0m \u001b[0mwait_on_rate_limit\u001b[0m\u001b[0;34m=\u001b[0m\u001b[0;32mTrue\u001b[0m\u001b[0;34m)\u001b[0m\u001b[0;34m\u001b[0m\u001b[0;34m\u001b[0m\u001b[0m\n",
      "\u001b[0;31mNameError\u001b[0m: name 'consumer_key' is not defined"
     ]
    }
   ],
   "source": [
    "auth = tweepy.OAuthHandler(consumer_key, consumer_secret)\n",
    "auth.set_access_token(access_token, access_token_secret)\n",
    "api = tweepy.API(auth, wait_on_rate_limit=True)"
   ]
  },
  {
   "cell_type": "markdown",
   "metadata": {},
   "source": [
    "# Reading The CSV File"
   ]
  },
  {
   "cell_type": "code",
   "execution_count": null,
   "metadata": {},
   "outputs": [],
   "source": [
    "#Read csv file      we have a new version dont use this file\n",
    "df = pd.read_csv(\"final_cleaned.csv\")"
   ]
  },
  {
   "cell_type": "code",
   "execution_count": null,
   "metadata": {},
   "outputs": [],
   "source": [
    "#How much data do i have\n",
    "len(df)"
   ]
  },
  {
   "cell_type": "code",
   "execution_count": 4,
   "metadata": {},
   "outputs": [
    {
     "ename": "NameError",
     "evalue": "name 'df' is not defined",
     "output_type": "error",
     "traceback": [
      "\u001b[0;31m---------------------------------------------------------------------------\u001b[0m",
      "\u001b[0;31mNameError\u001b[0m                                 Traceback (most recent call last)",
      "\u001b[0;32m<ipython-input-4-1ef3cbfcb8d4>\u001b[0m in \u001b[0;36m<module>\u001b[0;34m\u001b[0m\n\u001b[1;32m      1\u001b[0m \u001b[0;31m#See part of the Data to inderstand the data\u001b[0m\u001b[0;34m\u001b[0m\u001b[0;34m\u001b[0m\u001b[0;34m\u001b[0m\u001b[0m\n\u001b[0;32m----> 2\u001b[0;31m \u001b[0mdf\u001b[0m\u001b[0;34m.\u001b[0m\u001b[0mtail\u001b[0m\u001b[0;34m(\u001b[0m\u001b[0;36m1\u001b[0m\u001b[0;34m)\u001b[0m\u001b[0;34m\u001b[0m\u001b[0;34m\u001b[0m\u001b[0m\n\u001b[0m",
      "\u001b[0;31mNameError\u001b[0m: name 'df' is not defined"
     ]
    }
   ],
   "source": [
    "#See part of the Data to inderstand the data\n",
    "df.tail(1)"
   ]
  },
  {
   "cell_type": "code",
   "execution_count": 5,
   "metadata": {},
   "outputs": [
    {
     "ename": "NameError",
     "evalue": "name 'df' is not defined",
     "output_type": "error",
     "traceback": [
      "\u001b[0;31m---------------------------------------------------------------------------\u001b[0m",
      "\u001b[0;31mNameError\u001b[0m                                 Traceback (most recent call last)",
      "\u001b[0;32m<ipython-input-5-278b3c11f30b>\u001b[0m in \u001b[0;36m<module>\u001b[0;34m\u001b[0m\n\u001b[1;32m      1\u001b[0m \u001b[0;31m# Print a concise summary of a DataFrame\u001b[0m\u001b[0;34m\u001b[0m\u001b[0;34m\u001b[0m\u001b[0;34m\u001b[0m\u001b[0m\n\u001b[0;32m----> 2\u001b[0;31m \u001b[0mdf\u001b[0m\u001b[0;34m.\u001b[0m\u001b[0minfo\u001b[0m\u001b[0;34m(\u001b[0m\u001b[0;34m)\u001b[0m\u001b[0;34m\u001b[0m\u001b[0;34m\u001b[0m\u001b[0m\n\u001b[0m",
      "\u001b[0;31mNameError\u001b[0m: name 'df' is not defined"
     ]
    }
   ],
   "source": [
    "# Print a concise summary of a DataFrame\n",
    "df.info()"
   ]
  },
  {
   "cell_type": "code",
   "execution_count": 6,
   "metadata": {
    "scrolled": true
   },
   "outputs": [
    {
     "data": {
      "text/plain": [
       "date          object \n",
       "text          object \n",
       "id            float64\n",
       "stance        object \n",
       "location      object \n",
       "clean text    object \n",
       "tokens        object \n",
       "City          object \n",
       "dtype: object"
      ]
     },
     "execution_count": 6,
     "metadata": {},
     "output_type": "execute_result"
    }
   ],
   "source": [
    "#Getting to know the Data type\n",
    "df.dtypes"
   ]
  },
  {
   "cell_type": "markdown",
   "metadata": {},
   "source": [
    "# Filling the nulls in Location Colomn"
   ]
  },
  {
   "cell_type": "code",
   "execution_count": 7,
   "metadata": {},
   "outputs": [],
   "source": [
    "# replace NA values\n",
    "df['location'].fillna(\"Not Given\", inplace=True)"
   ]
  },
  {
   "cell_type": "markdown",
   "metadata": {},
   "source": [
    "# Importing the City Dictionary"
   ]
  },
  {
   "cell_type": "code",
   "execution_count": 8,
   "metadata": {},
   "outputs": [],
   "source": [
    "from Dictionary import *"
   ]
  },
  {
   "cell_type": "markdown",
   "metadata": {},
   "source": [
    "# If the import resulted in an error here's the dictionary"
   ]
  },
  {
   "cell_type": "code",
   "execution_count": 9,
   "metadata": {},
   "outputs": [],
   "source": [
    "\n",
    "CityDictionary = { 'Riyadh':'Riyadh','Ryiadh':'Riyadh','الرياض':'Riyadh','رياض':'Riyadh','رياضه':'Riyadh',\n",
    "                     'ارياظ':'Riyadh','riydh':'Riyadh','ryiadh':'Riyadh','Riyad':'Riyadh','riyad':'Riyadh',\n",
    "                     'Riyadh, Kingdom of Saudi Arabia':'Riyadh','Ar Riyad':'Riyadh','Arriyad':'Riyadh','Alriyadh':'Riyadh',\n",
    "                     'AlRiyadh':'Riyadh','الرياض, المملكة العربية السعودية':'Riyadh',\n",
    "                     'Riyadh, Kingdom of Saudi Arabia, Kingdom of Saudi Arabia':'Riyadh',\n",
    "                     'السعودية - الرياض - جدة':'Riyadh','نجد':'Riyadh','Riyadh, Saudi Arabia الريـاض':'Riyadh',\n",
    "                     'الخرج':'Riyadh','الدرعية':'Riyadh','الدرعيه':'Riyadh','الدرعية':'Riyadh','الدرعية':'Riyadh',\n",
    "                     'الرياض':'Riyadh','الرياض, المملكة العربية السعود':'Riyadh','Riyadh \\ K.S.A':'Riyadh',\n",
    "                   #-----------------------------------Riyadh---------------------------------------\n",
    "                     'مكة':'Makkah','مكه':'Makkah','مكة المكرمة':'Makkah','مكه المكرمه':'Makkah','mecca':'Makkah',\n",
    "                     'Mecca':'Makkah','makkah':'Makkah','Makkah':'Makkah','Makkah AlMukarramah':'Makkah',\n",
    "                     'makkah':'Makkah','makka':'Makkah','Makka':'Makkah','Makkah, Kingdom of Saudi Arabia':'Makkah',\n",
    "                     'الغربيه':'Makkah','الغربيه':'Makkah','saudi arabia - makkah':'Makkah',\n",
    "                    #------------------ ----------------Makkah---------------------------------------\n",
    "                     'Jeddah':'Jeddah','jeddah':'Jeddah','Jedda':'Jeddah','jeddah':'Jeddah','جدة':'Jeddah','jeddah':'Jeddah',\n",
    "                     'جده':'Jeddah','Jeddah, Kingdom of Saudi Arabia':'Jeddah','Jedah':'Jeddah','jedah':'Jeddah',\n",
    "                     'Jeddah, Kingdom of Saudi Arabia, Kingdom of Saudi Arabia':'Jeddah',\n",
    "                     'جدة, المملكة العربية السعودية':'Jeddah','جده':'Jeddah','Jeddah, Saudi Arabia':'Jeddah', 'جــــــــــــدة':'Jeddah',\n",
    "                    #----------------------------------Jeddah---------------------------------------\n",
    "                     'المدينة المنورة':'Almadina','Almadinah':'Almadina','Almadinah':'Almadina','madina':'Almadina',\n",
    "                     'المدينه المنوره':'Almadina','المدينة المنورة, المملكة العربية السعودية':'Almadina','المدينة':'Almadina',\n",
    "                     'المدينه':'Almadina','Medina, Kingdom of Saudi Arabia':'Almadina','Medina, Kingdom of Saudi Arabia':'Almadina',\n",
    "                    'ينبع':'Almadina','ينبع, المملكة العربيه السعودية':'Almadina','Al Ola':'Almadina','العلا':'Almadina','العلا, الممكلة العربية السعودية':'Almadina',\n",
    "                    'مهد الذهب':'Almadina','Madinah - Jeddah':'Almadina',\n",
    "                    #---------------------------------Almadina--------------------------------------\n",
    "                    'Dammam, Kingdom of Saudi Arabia':'Dammam','Dammam':'Dammam',\"dammam\":'Dammam','الدمام':'Dammam',' الدمام, المملكة العربية السعودية':'Dammam',\n",
    "                    'دمام':'Dammam', 'Riyadh - Dammam':'Dammam',\n",
    "                    #---------------------------------Dammam----------------------------------------\n",
    "                     'ahsaa':'Alahsa','Alahsa':'Alahsa','الاحساء, المملكة العربية السعو':'Alahsa','الاحساء, المملكة العربية السعودية':'Alahsa',\n",
    "                     'احساء':'Alahsa','الاحسا':'Alahsa','الاحساء':'Alahsa','احساء':'Alahsa','أحساء':'Alahsa','إحساء':'Alahsa',\n",
    "                    #---------------------------------Alahsa----------------------------------------  \n",
    "                     'الخبر':'Alkhobar','Alkhobar':'Alkhobar','alkhobar':'Alkhobar','Khobar':'Alkhobar',\n",
    "                     'الخبر, المملكة العربية السعودية':'Alkhobar','Al Khobar':'Alkhobar','Al Khobar, Kingdom of Saudi Arabia':'Alkhobar'\n",
    "                     ,'Al Khobar, Kingdom of Saudi Arabia, Kingdom of Saudi Arabia':'Alkhobar','المنطقه الشرقيه _ الخبر':'Alkhobar', \n",
    "                    'Khobar,KSA':'Alkhobar',\n",
    "                    #---------------------------------Alkhobar--------------------------------------\n",
    "                     'Hafr Al Batin, Kingdom of Saudi Arabia, Kingdom of Saudi Arabia':'Hafr AlBatin',\n",
    "                     'Hafr Al Batin, Kingdom of Saudi Arabia':'Hafr AlBatin','حفر الباطن':'Hafr AlBatin',\n",
    "                     'Hafr allbatin':'Hafr Al Batin',\n",
    "                    #----------------------------------Hafr Albatin---------------------------------\n",
    "                     'الظهران':'Dharan','الظهران, المملكة العربية السعودية':'Dharan','Dharan':'Dharan',\n",
    "                     'Dharan, Kingdom of Saudi Arabia':'Dharan','Dharan, Kingdom of Saudi Arabia, Kingdom of Saudi Arabia':'Dharan',\n",
    "                    #-----------------------------------Dharran-------------------------------------\n",
    "                     'Eastern Province':'Eastern Province','eastern Province':'Eastern Province','Eastern Province, Kingdom of Saudi Arabia':'Eastern Province',\n",
    "                     'Eastern Province, Kingdom of Saudi Arabia, Kingdom of Saudi Arabia':'Eastern Province',\n",
    "                     'المنطقة الشرقية, المملكة العربية السعودية':'Eastern Province','الشرقية':'Eastern Province','المنطقة الشرقية':'Eastern Province',\n",
    "                    'الخفجي':'Eastern Province', 'Khafji, Kingdom of Saudi Arabia':'Eastern Province', 'Khafji':'Eastern Province','Eastern, Kingdom of Saudi Arabia':'Eastern Province',\n",
    "                    #-----------------------------------Eastern Province------------------------------\n",
    "                     'Aljubail':'AlJubail','Al jubail':'AlJubail','jubail':'AlJubail','AlJubail':'AlJubail','Al Jubail, Kingdom of Saudi Arabia, Kingdom of Saudi Arabia':'AlJubail',\n",
    "                     'الجبيل':'AlJubail','جبيل الصناعية':'AlJubail','جبيل':'AlJubail', 'الجبيل, المملكة العربية السعودية':'AlJubail',\n",
    "                    #--------------------------------------Al Jubail----------------------------------\n",
    "                    'القطيف':'AlQatif','قطيف':'AlQatif','القطيف, المملكة العربية السعودية':'AlQatif','Qatif':'AlQatif','AlQatif':'AlQatif',\n",
    "                    'Al Qatif, Kingdom of Saudi Arabia, Kingdom of Saudi Arabia':'AlQatif','qateef':'AlQatif','el qatif':'AlQatif','qateef':'AlQatif',\n",
    "                    #----------------------------------------Al Qateef -------------------------------------\n",
    "                    'Hail':'Hail','hail':'Hail','Hail, Kingdom of Saudi Arabia, Kingdom of Saudi Arabia':'Hail',\n",
    "                    'حائل':'Hail','حائل, المملكة العربية السعودية':'Hail','حايل':'Hail','hail ':'Hail','Hail, Kingdom of Saudi Arabia':'Hail',\n",
    "                    #---------------------------------------- Hail -----------------------------\n",
    "                    'Al Qassim':'AlQassim','AlQassim':'AlQassim','Qassim':'AlQassim','qassim':'AlQassim','Al qassim':'AlQassim','Al Qassim, Kingdom of Saudi Arabia':'AlQassim',\n",
    "                    'Al Qassim, Kingdom of Saudi Arabia, Kingdom of Saudi Arabia':'AlQassim','القصيم':'AlQassim','قصيم':'AlQassim','القصيم, المملكة العربية السعودية':'AlQassim',\n",
    "                    'بريدة':'AlQassim','بريده':'AlQassim','عنيزة':'AlQassim','عنيزه':'AlQassim','الرس':'AlQassim','Unayzah':'AlQassim','Ar Rass':'AlQassim',\n",
    "                    'Buraydah':'AlQassim',\n",
    "                    #----------------------------------------AL Qassim-------------------------------\n",
    "                    'عسير':'Aseer Province','أبها':'Aseer Province','خميس مشيط':'Aseer Province','بيشه':'Aseer Province','بيشة':'Aseer Province',\n",
    "                    'ابها':'Aseer Province','النماص':'Aseer Province','Abha, Kingdom of Saudi Arabia, Kingdom of Saudi Arabia':'Aseer Province',\n",
    "                    'Al Namas':'Aseer Province','Bisha':'Aseer Province','ابها, المملكة العربية السعودية':'Aseer Province',\n",
    "                    #---------------------------------------- Aseer----------------------------------\n",
    "                    'تبوك':'Tabuk','Tabuk':'Tabuk','Tabuk, Kingdom of Saudi Arabia, Kingdom of Saudi Arabia':'Tabuk','tabuk':'Tabuk','تبوك, المملكة العربية السعودية':'Tabuk',\n",
    "                    #--------------------------------------- Tabuk ----------------------------------\n",
    "                    'Jazan':'Jazan','Jazan, Kingdom of Saudi Arabia, Kingdom of Saudi Arabia':'Jazan','jazan':'Jazan','Jizan':'Jazan','jezan':'Jazan',\n",
    "                    'جازان':'Jazan','جيزان':'Jazan','جزر فرسان':'Jazan','صبيا':'Jazan','جازان, المملكة العربية السعودية':'Jazan',\n",
    "                    #-----------------------------------------Jazan----------------------------------\n",
    "                    'نجران':'Najran', 'نجران, المملكة العربية السعودية':'Najran', 'Najran':'Najran', 'Najran, Kingdom of Saudi Arabia':'Najran', \n",
    "                    'شرورة':'Najran','شروره':'Najran', 'Najran, Kingdom of Saudi Arabia, Kingdom of Saudi Arabia':'Najran', \n",
    "                    #---------------------------------------- Najran---------------------------------\n",
    "                    'الباحه':'AlBahah','AlBahah':'AlBahah','AlBahah, Kingdom of Saudi Arabia':'AlBahah','AlBahah, Kingdom of Saudi Arabia, Kingdom of Saudi Arabia':'AlBahah','الباحة':'AlBahah',\n",
    "                    'الباحه':'AlBahah','الباحة, المملكة العربية السعودية':'AlBahah',\n",
    "                    #---------------------------------------AlBahah----------------------------------\n",
    "                    'الطائف':'Taif','طائف':'Taif','الطائف, المملكة العربية السعودية':'Taif',\n",
    "                    'Al Taif':'Taif','Taif':'Taif','Taif, Kingdom of Saudi Arabia, Kingdom of Saudi Arabia':'Taif',\n",
    "                    'Taif, Kingdom of Saudi Arabia':'Taif','الطائف':'Taif','الطائف':'Taif',\n",
    "                    'الطائف':'Taif','الطائف':'Taif','الطائف':'Taif','الطائف':'Taif','‏﮼قلب ‏﮼الطائف':'Taif',\n",
    "                    #-------------------------------------Taif----------------------------------------\n",
    "                    'عرعر':'Northen Province', 'رفحاء':'Northen Province', 'عرعر, المملكة العربية السعودية':'Northen Province', 'Arar':'Northen Province',\n",
    "                    'Arar, Kingdom of Saudi Arabia':'Northen Province','Arar, Kingdom of Saudi Arabia, Kingdom of Saudi Arabia':'Northen Province',\n",
    "                    'طريف':'Northen Province','العويقلية':'Northen Province',\n",
    "                    #------------------------------------Northen Province-----------------------------\n",
    "                    'الجوف':'AlJowf', 'Al Jowf':'AlJowf', 'الجوف,المملكة العربية السعودية':'AlJowf', 'جوف':'AlJowf', 'سكاكا':'AlJowf',\n",
    "                    'Sakaka, Kingdom of Saudi Arabia, Kingdom of Saudi Arabia':'AlJowf','Sakaka, Kingdom of Saudi Arabia':'AlJowf',\n",
    "                    'Sakaka':'AlJowf',\n",
    "                    #--------------------------------------Al Jowf------------------------------------\n",
    "                    'Shaybah, Kingdom of Saudi Arabia, Kingdom of Saudi Arabia':'Shaybah',\n",
    "                    # if it's in saudi but not specified yet.\n",
    "                    'KSA':'Not Given','المملكة العربية السعودية':'Not Given','المملكة العربية السعودية 🇸🇦':'Not Given','KSA🇸🇦':'Not Given',\n",
    "                    'SA':'Not Given','ksa':'Not Given','K.s.a ...':'Not Given','k.s.a':'Not Given','K.S.A':'Not Given','العربيه السعوديةمملكةالانسانيه':'Not Given',\n",
    "                    'السعودية':'Not Given','سعودية':'Not Given','Kingdom of Saudi Arabia':'Not Given','k s a':'Not Given',\n",
    "                    'Kingdom of Saudi Arabia, Kingdom of Saudi Arabia':'Not Given','kSA':'Not Given',', المملكة العربية السعودية':'Not Given',\n",
    "                    '🇸🇦':'Not Given','ksa':'Not Given','السعوديه العظمى':'Not Given', 'Kingdom Saudi Arabia':'Not Given', 'المملكة العربيه السعوديه':'Not Given',\n",
    "                    # if the country is not given then also put not give\n",
    "                    'Not Given':'Not Given',\n",
    "                   }"
   ]
  },
  {
   "cell_type": "markdown",
   "metadata": {},
   "source": [
    "# mapping the city Colomn with dictionary"
   ]
  },
  {
   "cell_type": "code",
   "execution_count": 10,
   "metadata": {},
   "outputs": [],
   "source": [
    "df['City'] = df['location'].map(CityDictionary)\n",
    "df['City'].fillna(\"Other Country\", inplace=True)"
   ]
  },
  {
   "cell_type": "code",
   "execution_count": 11,
   "metadata": {},
   "outputs": [
    {
     "data": {
      "text/plain": [
       "<matplotlib.axes._subplots.AxesSubplot at 0x14ff029fc88>"
      ]
     },
     "execution_count": 11,
     "metadata": {},
     "output_type": "execute_result"
    },
    {
     "data": {
      "image/png": "[encoded data removed]",
      "text/plain": [
       "<Figure size 432x288 with 1 Axes>"
      ]
     },
     "metadata": {
      "needs_background": "light"
     },
     "output_type": "display_data"
    }
   ],
   "source": [
    "tempo =  df['City'].value_counts()\n",
    "# visualize the results in a better way!\n",
    "fig, ax = plt.subplots()\n",
    "\n",
    "ax.tick_params(axis='x', labelsize=15)\n",
    "ax.tick_params(axis='y', labelsize=15)\n",
    "\n",
    "ax.set_xlabel('Cities' , fontsize=15)\n",
    "ax.set_ylabel('Number of tweets', fontsize=15)\n",
    "ax.set_title('Top Tweeted Cities', fontsize=30)\n",
    "\n",
    "tempo[:6].plot(ax=ax, kind='bar')"
   ]
  },
  {
   "cell_type": "markdown",
   "metadata": {},
   "source": [
    "# Q: What is the distribution of stance?"
   ]
  },
  {
   "cell_type": "code",
   "execution_count": 12,
   "metadata": {},
   "outputs": [
    {
     "data": {
      "text/plain": [
       "0    Natural \n",
       "1    Natural \n",
       "2    Negative\n",
       "3    Natural \n",
       "4    Positive\n",
       "5    Natural \n",
       "6    Natural \n",
       "7    Positive\n",
       "8    Natural \n",
       "9    Natural \n",
       "Name: stance , dtype: object"
      ]
     },
     "execution_count": 12,
     "metadata": {},
     "output_type": "execute_result"
    }
   ],
   "source": [
    "df['stance '][:10]"
   ]
  },
  {
   "cell_type": "code",
   "execution_count": 13,
   "metadata": {},
   "outputs": [],
   "source": [
    "tweets_by_stance =df['stance '].value_counts()"
   ]
  },
  {
   "cell_type": "code",
   "execution_count": 14,
   "metadata": {},
   "outputs": [
    {
     "data": {
      "text/plain": [
       "<matplotlib.axes._subplots.AxesSubplot at 0x14ff95a7f08>"
      ]
     },
     "execution_count": 14,
     "metadata": {},
     "output_type": "execute_result"
    },
    {
     "data": {
      "image/png": "[encoded data removed]",
      "text/plain": [
       "<Figure size 432x288 with 1 Axes>"
      ]
     },
     "metadata": {},
     "output_type": "display_data"
    }
   ],
   "source": [
    "# visualize the results\n",
    "tweets_by_stance.plot(kind='pie')"
   ]
  },
  {
   "cell_type": "code",
   "execution_count": 2,
   "metadata": {},
   "outputs": [
    {
     "ename": "NameError",
     "evalue": "name 'plt' is not defined",
     "output_type": "error",
     "traceback": [
      "\u001b[0;31m---------------------------------------------------------------------------\u001b[0m",
      "\u001b[0;31mNameError\u001b[0m                                 Traceback (most recent call last)",
      "\u001b[0;32m<ipython-input-2-aa1c4c6c378b>\u001b[0m in \u001b[0;36m<module>\u001b[0;34m\u001b[0m\n\u001b[1;32m      1\u001b[0m \u001b[0;31m# visualize the results in a better way!\u001b[0m\u001b[0;34m\u001b[0m\u001b[0;34m\u001b[0m\u001b[0;34m\u001b[0m\u001b[0m\n\u001b[1;32m      2\u001b[0m \u001b[0;34m\u001b[0m\u001b[0m\n\u001b[0;32m----> 3\u001b[0;31m \u001b[0mfig\u001b[0m\u001b[0;34m,\u001b[0m \u001b[0max\u001b[0m \u001b[0;34m=\u001b[0m \u001b[0mplt\u001b[0m\u001b[0;34m.\u001b[0m\u001b[0msubplots\u001b[0m\u001b[0;34m(\u001b[0m\u001b[0;34m)\u001b[0m\u001b[0;34m\u001b[0m\u001b[0;34m\u001b[0m\u001b[0m\n\u001b[0m\u001b[1;32m      4\u001b[0m \u001b[0;34m\u001b[0m\u001b[0m\n\u001b[1;32m      5\u001b[0m \u001b[0max\u001b[0m\u001b[0;34m.\u001b[0m\u001b[0mtick_params\u001b[0m\u001b[0;34m(\u001b[0m\u001b[0maxis\u001b[0m\u001b[0;34m=\u001b[0m\u001b[0;34m'x'\u001b[0m\u001b[0;34m,\u001b[0m \u001b[0mlabelsize\u001b[0m\u001b[0;34m=\u001b[0m\u001b[0;36m15\u001b[0m\u001b[0;34m)\u001b[0m\u001b[0;34m\u001b[0m\u001b[0;34m\u001b[0m\u001b[0m\n",
      "\u001b[0;31mNameError\u001b[0m: name 'plt' is not defined"
     ]
    }
   ],
   "source": [
    "# visualize the results in a better way!\n",
    "\n",
    "fig, ax = plt.subplots()\n",
    "\n",
    "ax.tick_params(axis='x', labelsize=15)\n",
    "ax.tick_params(axis='y', labelsize=10)\n",
    "\n",
    "ax.set_xlabel('Stance ', fontsize=15)\n",
    "ax.set_ylabel('Number of tweets' , fontsize=15)\n",
    "ax.set_title('Distribution of stance', fontsize=15, fontweight='bold')\n",
    "\n",
    "tweets_by_stance.plot(ax=ax, kind='bar')"
   ]
  },
  {
   "cell_type": "markdown",
   "metadata": {},
   "source": [
    "# Time serise analysis\n"
   ]
  },
  {
   "cell_type": "code",
   "execution_count": 6,
   "metadata": {},
   "outputs": [
    {
     "ename": "NameError",
     "evalue": "name 'df' is not defined",
     "output_type": "error",
     "traceback": [
      "\u001b[0;31m---------------------------------------------------------------------------\u001b[0m",
      "\u001b[0;31mNameError\u001b[0m                                 Traceback (most recent call last)",
      "\u001b[0;32m<ipython-input-6-4c35cf64bedf>\u001b[0m in \u001b[0;36m<module>\u001b[0;34m\u001b[0m\n\u001b[1;32m      1\u001b[0m \u001b[0;31m#first, we need to convert the date column to a datetime object\u001b[0m\u001b[0;34m\u001b[0m\u001b[0;34m\u001b[0m\u001b[0;34m\u001b[0m\u001b[0m\n\u001b[0;32m----> 2\u001b[0;31m \u001b[0mdf\u001b[0m\u001b[0;34m[\u001b[0m\u001b[0;34m\"Date_Time\"\u001b[0m\u001b[0;34m]\u001b[0m\u001b[0;34m=\u001b[0m\u001b[0mpd\u001b[0m\u001b[0;34m.\u001b[0m\u001b[0mto_datetime\u001b[0m\u001b[0;34m(\u001b[0m\u001b[0mdf\u001b[0m\u001b[0;34m[\u001b[0m\u001b[0;34m'date'\u001b[0m\u001b[0;34m]\u001b[0m\u001b[0;34m)\u001b[0m\u001b[0;34m\u001b[0m\u001b[0;34m\u001b[0m\u001b[0m\n\u001b[0m",
      "\u001b[0;31mNameError\u001b[0m: name 'df' is not defined"
     ]
    }
   ],
   "source": [
    "#first, we need to convert the date column to a datetime object\n",
    "df[\"Date_Time\"]=pd.to_datetime(df['date'])"
   ]
  },
  {
   "cell_type": "code",
   "execution_count": 17,
   "metadata": {},
   "outputs": [],
   "source": [
    "#creat a new data frame\n",
    "Date_df=df[['Date_Time','stance ']].copy()"
   ]
  },
  {
   "cell_type": "code",
   "execution_count": 18,
   "metadata": {},
   "outputs": [],
   "source": [
    "# create a new column for dates\n",
    "Date_df['Date'] = Date_df['Date_Time'].dt.date "
   ]
  },
  {
   "cell_type": "code",
   "execution_count": 19,
   "metadata": {},
   "outputs": [],
   "source": [
    "# count unique dates\n",
    "df_by_date = Date_df.groupby('Date').count()"
   ]
  },
  {
   "cell_type": "code",
   "execution_count": 20,
   "metadata": {},
   "outputs": [],
   "source": [
    "# make the date as the index for the visualization \n",
    "df_by_date['Date'] = df_by_date.index"
   ]
  },
  {
   "cell_type": "markdown",
   "metadata": {},
   "source": [
    "### When people with positive attitude ?"
   ]
  },
  {
   "cell_type": "code",
   "execution_count": 21,
   "metadata": {},
   "outputs": [],
   "source": [
    "#creat a new data frame\n",
    "Positive_Date_df=Date_df[Date_df[\"stance \"]=='Positive']\n",
    "Positive_df_by_date = Positive_Date_df.groupby('Date').count()"
   ]
  },
  {
   "cell_type": "code",
   "execution_count": 22,
   "metadata": {},
   "outputs": [],
   "source": [
    "Positive_df_by_date['Date'] = Positive_df_by_date.index"
   ]
  },
  {
   "cell_type": "code",
   "execution_count": 1,
   "metadata": {},
   "outputs": [
    {
     "ename": "NameError",
     "evalue": "name 'px' is not defined",
     "output_type": "error",
     "traceback": [
      "\u001b[0;31m---------------------------------------------------------------------------\u001b[0m",
      "\u001b[0;31mNameError\u001b[0m                                 Traceback (most recent call last)",
      "\u001b[0;32m<ipython-input-1-383661d1d767>\u001b[0m in \u001b[0;36m<module>\u001b[0;34m\u001b[0m\n\u001b[1;32m      1\u001b[0m \u001b[0;31m#fig = px.histogram(Positive_df_by_date, x=\"Date\", y=\"Date_Time\")\u001b[0m\u001b[0;34m\u001b[0m\u001b[0;34m\u001b[0m\u001b[0;34m\u001b[0m\u001b[0m\n\u001b[0;32m----> 2\u001b[0;31m \u001b[0mfig\u001b[0m \u001b[0;34m=\u001b[0m \u001b[0mpx\u001b[0m\u001b[0;34m.\u001b[0m\u001b[0mbar\u001b[0m\u001b[0;34m(\u001b[0m\u001b[0mx\u001b[0m\u001b[0;34m=\u001b[0m\u001b[0mPositive_df_by_date\u001b[0m\u001b[0;34m[\u001b[0m\u001b[0;34m'Date'\u001b[0m\u001b[0;34m]\u001b[0m\u001b[0;34m,\u001b[0m \u001b[0my\u001b[0m\u001b[0;34m=\u001b[0m\u001b[0mPositive_df_by_date\u001b[0m\u001b[0;34m[\u001b[0m\u001b[0;34m'Date_Time'\u001b[0m\u001b[0;34m]\u001b[0m\u001b[0;34m,\u001b[0m \u001b[0mlabels\u001b[0m\u001b[0;34m=\u001b[0m\u001b[0;34m{\u001b[0m\u001b[0;34m'x'\u001b[0m\u001b[0;34m:\u001b[0m\u001b[0;34m'Date'\u001b[0m\u001b[0;34m,\u001b[0m \u001b[0;34m'y'\u001b[0m\u001b[0;34m:\u001b[0m\u001b[0;34m'Number of tweets'\u001b[0m\u001b[0;34m}\u001b[0m\u001b[0;34m)\u001b[0m\u001b[0;34m\u001b[0m\u001b[0;34m\u001b[0m\u001b[0m\n\u001b[0m\u001b[1;32m      3\u001b[0m \u001b[0mfig\u001b[0m\u001b[0;34m.\u001b[0m\u001b[0mshow\u001b[0m\u001b[0;34m(\u001b[0m\u001b[0;34m)\u001b[0m\u001b[0;34m\u001b[0m\u001b[0;34m\u001b[0m\u001b[0m\n",
      "\u001b[0;31mNameError\u001b[0m: name 'px' is not defined"
     ]
    }
   ],
   "source": [
    "#fig = px.histogram(Positive_df_by_date, x=\"Date\", y=\"Date_Time\")\n",
    "fig = px.bar(x=Positive_df_by_date['Date'], y=Positive_df_by_date['Date_Time'], labels={'x':'Date', 'y':'Number of tweets'})\n",
    "fig.show()"
   ]
  },
  {
   "cell_type": "markdown",
   "metadata": {},
   "source": [
    "### When people with negative attitude ?"
   ]
  },
  {
   "cell_type": "code",
   "execution_count": 24,
   "metadata": {},
   "outputs": [],
   "source": [
    "#creat a new data frame\n",
    "Negative_Date_df=Date_df[Date_df[\"stance \"]=='Negative']\n",
    "Negative_df_by_date =Negative_Date_df.groupby('Date').count()\n",
    "\n"
   ]
  },
  {
   "cell_type": "code",
   "execution_count": 25,
   "metadata": {},
   "outputs": [],
   "source": [
    "Negative_df_by_date['Date'] = Negative_df_by_date.index"
   ]
  },
  {
   "cell_type": "code",
   "execution_count": 26,
   "metadata": {},
   "outputs": [
    {
     "data": {
      "application/vnd.plotly.v1+json": {
       "config": {
        "plotlyServerURL": "https://plot.ly"
       },
       "data": [
        {
         "alignmentgroup": "True",
         "hoverlabel": {
          "namelength": 0
         },
         "hovertemplate": "Date=%{x}<br>Number of tweets=%{y}",
         "legendgroup": "",
         "marker": {
          "color": "#636efa"
         },
         "name": "",
         "offsetgroup": "",
         "orientation": "v",
         "showlegend": false,
         "textposition": "auto",
         "type": "bar",
         "x": [
          "2019-12-05",
          "2019-12-06",
          "2019-12-07",
          "2019-12-08",
          "2019-12-09",
          "2019-12-10",
          "2019-12-11",
          "2019-12-12",
          "2019-12-13",
          "2019-12-14",
          "2019-12-15",
          "2019-12-16",
          "2019-12-17",
          "2019-12-18",
          "2019-12-19",
          "2019-12-20",
          "2019-12-21",
          "2019-12-22",
          "2019-12-23",
          "2019-12-24",
          "2019-12-25",
          "2019-12-26",
          "2019-12-27",
          "2019-12-28",
          "2019-12-29",
          "2019-12-30",
          "2019-12-31",
          "2020-01-01",
          "2020-01-02",
          "2020-01-03",
          "2020-01-04",
          "2020-01-05",
          "2020-01-06",
          "2020-01-07",
          "2020-01-08",
          "2020-01-09",
          "2020-01-10",
          "2020-01-11",
          "2020-01-12",
          "2020-01-13",
          "2020-01-14",
          "2020-01-15",
          "2020-01-16",
          "2020-01-17",
          "2020-01-18",
          "2020-01-19",
          "2020-01-20",
          "2020-01-22",
          "2020-01-23",
          "2020-01-24",
          "2020-01-25",
          "2020-01-26",
          "2020-01-27",
          "2020-01-28",
          "2020-01-29",
          "2020-01-31",
          "2020-02-01",
          "2020-02-02",
          "2020-02-03",
          "2020-02-04",
          "2020-02-05",
          "2020-02-06",
          "2020-02-07",
          "2020-02-08",
          "2020-02-09",
          "2020-02-10",
          "2020-02-11",
          "2020-02-12",
          "2020-02-13",
          "2020-02-14",
          "2020-02-15",
          "2020-02-16",
          "2020-02-19",
          "2020-02-21",
          "2020-02-22",
          "2020-02-23",
          "2020-02-24",
          "2020-02-25",
          "2020-02-28",
          "2020-02-29",
          "2020-03-01",
          "2020-03-02",
          "2020-03-03",
          "2020-03-04",
          "2020-03-07"
         ],
         "xaxis": "x",
         "y": [
          96,
          60,
          40,
          28,
          10,
          7,
          107,
          39,
          8,
          6,
          9,
          2,
          6,
          4,
          19,
          7,
          6,
          4,
          5,
          10,
          4,
          1,
          1,
          2,
          3,
          6,
          3,
          4,
          6,
          5,
          3,
          4,
          6,
          2,
          9,
          7,
          3,
          3,
          5,
          6,
          2,
          3,
          4,
          5,
          1,
          4,
          5,
          9,
          3,
          2,
          4,
          6,
          3,
          3,
          6,
          2,
          2,
          4,
          7,
          5,
          2,
          5,
          8,
          1,
          17,
          2,
          2,
          2,
          2,
          3,
          10,
          13,
          2,
          2,
          1,
          1,
          1,
          2,
          4,
          3,
          4,
          4,
          6,
          1,
          1
         ],
         "yaxis": "y"
        }
       ],
       "layout": {
        "barmode": "relative",
        "legend": {
         "tracegroupgap": 0
        },
        "margin": {
         "t": 60
        },
        "template": {
         "data": {
          "bar": [
           {
            "error_x": {
             "color": "#2a3f5f"
            },
            "error_y": {
             "color": "#2a3f5f"
            },
            "marker": {
             "line": {
              "color": "#E5ECF6",
              "width": 0.5
             }
            },
            "type": "bar"
           }
          ],
          "barpolar": [
           {
            "marker": {
             "line": {
              "color": "#E5ECF6",
              "width": 0.5
             }
            },
            "type": "barpolar"
           }
          ],
          "carpet": [
           {
            "aaxis": {
             "endlinecolor": "#2a3f5f",
             "gridcolor": "white",
             "linecolor": "white",
             "minorgridcolor": "white",
             "startlinecolor": "#2a3f5f"
            },
            "baxis": {
             "endlinecolor": "#2a3f5f",
             "gridcolor": "white",
             "linecolor": "white",
             "minorgridcolor": "white",
             "startlinecolor": "#2a3f5f"
            },
            "type": "carpet"
           }
          ],
          "choropleth": [
           {
            "colorbar": {
             "outlinewidth": 0,
             "ticks": ""
            },
            "type": "choropleth"
           }
          ],
          "contour": [
           {
            "colorbar": {
             "outlinewidth": 0,
             "ticks": ""
            },
            "colorscale": [
             [
              0,
              "#0d0887"
             ],
             [
              0.1111111111111111,
              "#46039f"
             ],
             [
              0.2222222222222222,
              "#7201a8"
             ],
             [
              0.3333333333333333,
              "#9c179e"
             ],
             [
              0.4444444444444444,
              "#bd3786"
             ],
             [
              0.5555555555555556,
              "#d8576b"
             ],
             [
              0.6666666666666666,
              "#ed7953"
             ],
             [
              0.7777777777777778,
              "#fb9f3a"
             ],
             [
              0.8888888888888888,
              "#fdca26"
             ],
             [
              1,
              "#f0f921"
             ]
            ],
            "type": "contour"
           }
          ],
          "contourcarpet": [
           {
            "colorbar": {
             "outlinewidth": 0,
             "ticks": ""
            },
            "type": "contourcarpet"
           }
          ],
          "heatmap": [
           {
            "colorbar": {
             "outlinewidth": 0,
             "ticks": ""
            },
            "colorscale": [
             [
              0,
              "#0d0887"
             ],
             [
              0.1111111111111111,
              "#46039f"
             ],
             [
              0.2222222222222222,
              "#7201a8"
             ],
             [
              0.3333333333333333,
              "#9c179e"
             ],
             [
              0.4444444444444444,
              "#bd3786"
             ],
             [
              0.5555555555555556,
              "#d8576b"
             ],
             [
              0.6666666666666666,
              "#ed7953"
             ],
             [
              0.7777777777777778,
              "#fb9f3a"
             ],
             [
              0.8888888888888888,
              "#fdca26"
             ],
             [
              1,
              "#f0f921"
             ]
            ],
            "type": "heatmap"
           }
          ],
          "heatmapgl": [
           {
            "colorbar": {
             "outlinewidth": 0,
             "ticks": ""
            },
            "colorscale": [
             [
              0,
              "#0d0887"
             ],
             [
              0.1111111111111111,
              "#46039f"
             ],
             [
              0.2222222222222222,
              "#7201a8"
             ],
             [
              0.3333333333333333,
              "#9c179e"
             ],
             [
              0.4444444444444444,
              "#bd3786"
             ],
             [
              0.5555555555555556,
              "#d8576b"
             ],
             [
              0.6666666666666666,
              "#ed7953"
             ],
             [
              0.7777777777777778,
              "#fb9f3a"
             ],
             [
              0.8888888888888888,
              "#fdca26"
             ],
             [
              1,
              "#f0f921"
             ]
            ],
            "type": "heatmapgl"
           }
          ],
          "histogram": [
           {
            "marker": {
             "colorbar": {
              "outlinewidth": 0,
              "ticks": ""
             }
            },
            "type": "histogram"
           }
          ],
          "histogram2d": [
           {
            "colorbar": {
             "outlinewidth": 0,
             "ticks": ""
            },
            "colorscale": [
             [
              0,
              "#0d0887"
             ],
             [
              0.1111111111111111,
              "#46039f"
             ],
             [
              0.2222222222222222,
              "#7201a8"
             ],
             [
              0.3333333333333333,
              "#9c179e"
             ],
             [
              0.4444444444444444,
              "#bd3786"
             ],
             [
              0.5555555555555556,
              "#d8576b"
             ],
             [
              0.6666666666666666,
              "#ed7953"
             ],
             [
              0.7777777777777778,
              "#fb9f3a"
             ],
             [
              0.8888888888888888,
              "#fdca26"
             ],
             [
              1,
              "#f0f921"
             ]
            ],
            "type": "histogram2d"
           }
          ],
          "histogram2dcontour": [
           {
            "colorbar": {
             "outlinewidth": 0,
             "ticks": ""
            },
            "colorscale": [
             [
              0,
              "#0d0887"
             ],
             [
              0.1111111111111111,
              "#46039f"
             ],
             [
              0.2222222222222222,
              "#7201a8"
             ],
             [
              0.3333333333333333,
              "#9c179e"
             ],
             [
              0.4444444444444444,
              "#bd3786"
             ],
             [
              0.5555555555555556,
              "#d8576b"
             ],
             [
              0.6666666666666666,
              "#ed7953"
             ],
             [
              0.7777777777777778,
              "#fb9f3a"
             ],
             [
              0.8888888888888888,
              "#fdca26"
             ],
             [
              1,
              "#f0f921"
             ]
            ],
            "type": "histogram2dcontour"
           }
          ],
          "mesh3d": [
           {
            "colorbar": {
             "outlinewidth": 0,
             "ticks": ""
            },
            "type": "mesh3d"
           }
          ],
          "parcoords": [
           {
            "line": {
             "colorbar": {
              "outlinewidth": 0,
              "ticks": ""
             }
            },
            "type": "parcoords"
           }
          ],
          "pie": [
           {
            "automargin": true,
            "type": "pie"
           }
          ],
          "scatter": [
           {
            "marker": {
             "colorbar": {
              "outlinewidth": 0,
              "ticks": ""
             }
            },
            "type": "scatter"
           }
          ],
          "scatter3d": [
           {
            "line": {
             "colorbar": {
              "outlinewidth": 0,
              "ticks": ""
             }
            },
            "marker": {
             "colorbar": {
              "outlinewidth": 0,
              "ticks": ""
             }
            },
            "type": "scatter3d"
           }
          ],
          "scattercarpet": [
           {
            "marker": {
             "colorbar": {
              "outlinewidth": 0,
              "ticks": ""
             }
            },
            "type": "scattercarpet"
           }
          ],
          "scattergeo": [
           {
            "marker": {
             "colorbar": {
              "outlinewidth": 0,
              "ticks": ""
             }
            },
            "type": "scattergeo"
           }
          ],
          "scattergl": [
           {
            "marker": {
             "colorbar": {
              "outlinewidth": 0,
              "ticks": ""
             }
            },
            "type": "scattergl"
           }
          ],
          "scattermapbox": [
           {
            "marker": {
             "colorbar": {
              "outlinewidth": 0,
              "ticks": ""
             }
            },
            "type": "scattermapbox"
           }
          ],
          "scatterpolar": [
           {
            "marker": {
             "colorbar": {
              "outlinewidth": 0,
              "ticks": ""
             }
            },
            "type": "scatterpolar"
           }
          ],
          "scatterpolargl": [
           {
            "marker": {
             "colorbar": {
              "outlinewidth": 0,
              "ticks": ""
             }
            },
            "type": "scatterpolargl"
           }
          ],
          "scatterternary": [
           {
            "marker": {
             "colorbar": {
              "outlinewidth": 0,
              "ticks": ""
             }
            },
            "type": "scatterternary"
           }
          ],
          "surface": [
           {
            "colorbar": {
             "outlinewidth": 0,
             "ticks": ""
            },
            "colorscale": [
             [
              0,
              "#0d0887"
             ],
             [
              0.1111111111111111,
              "#46039f"
             ],
             [
              0.2222222222222222,
              "#7201a8"
             ],
             [
              0.3333333333333333,
              "#9c179e"
             ],
             [
              0.4444444444444444,
              "#bd3786"
             ],
             [
              0.5555555555555556,
              "#d8576b"
             ],
             [
              0.6666666666666666,
              "#ed7953"
             ],
             [
              0.7777777777777778,
              "#fb9f3a"
             ],
             [
              0.8888888888888888,
              "#fdca26"
             ],
             [
              1,
              "#f0f921"
             ]
            ],
            "type": "surface"
           }
          ],
          "table": [
           {
            "cells": {
             "fill": {
              "color": "#EBF0F8"
             },
             "line": {
              "color": "white"
             }
            },
            "header": {
             "fill": {
              "color": "#C8D4E3"
             },
             "line": {
              "color": "white"
             }
            },
            "type": "table"
           }
          ]
         },
         "layout": {
          "annotationdefaults": {
           "arrowcolor": "#2a3f5f",
           "arrowhead": 0,
           "arrowwidth": 1
          },
          "coloraxis": {
           "colorbar": {
            "outlinewidth": 0,
            "ticks": ""
           }
          },
          "colorscale": {
           "diverging": [
            [
             0,
             "#8e0152"
            ],
            [
             0.1,
             "#c51b7d"
            ],
            [
             0.2,
             "#de77ae"
            ],
            [
             0.3,
             "#f1b6da"
            ],
            [
             0.4,
             "#fde0ef"
            ],
            [
             0.5,
             "#f7f7f7"
            ],
            [
             0.6,
             "#e6f5d0"
            ],
            [
             0.7,
             "#b8e186"
            ],
            [
             0.8,
             "#7fbc41"
            ],
            [
             0.9,
             "#4d9221"
            ],
            [
             1,
             "#276419"
            ]
           ],
           "sequential": [
            [
             0,
             "#0d0887"
            ],
            [
             0.1111111111111111,
             "#46039f"
            ],
            [
             0.2222222222222222,
             "#7201a8"
            ],
            [
             0.3333333333333333,
             "#9c179e"
            ],
            [
             0.4444444444444444,
             "#bd3786"
            ],
            [
             0.5555555555555556,
             "#d8576b"
            ],
            [
             0.6666666666666666,
             "#ed7953"
            ],
            [
             0.7777777777777778,
             "#fb9f3a"
            ],
            [
             0.8888888888888888,
             "#fdca26"
            ],
            [
             1,
             "#f0f921"
            ]
           ],
           "sequentialminus": [
            [
             0,
             "#0d0887"
            ],
            [
             0.1111111111111111,
             "#46039f"
            ],
            [
             0.2222222222222222,
             "#7201a8"
            ],
            [
             0.3333333333333333,
             "#9c179e"
            ],
            [
             0.4444444444444444,
             "#bd3786"
            ],
            [
             0.5555555555555556,
             "#d8576b"
            ],
            [
             0.6666666666666666,
             "#ed7953"
            ],
            [
             0.7777777777777778,
             "#fb9f3a"
            ],
            [
             0.8888888888888888,
             "#fdca26"
            ],
            [
             1,
             "#f0f921"
            ]
           ]
          },
          "colorway": [
           "#636efa",
           "#EF553B",
           "#00cc96",
           "#ab63fa",
           "#FFA15A",
           "#19d3f3",
           "#FF6692",
           "#B6E880",
           "#FF97FF",
           "#FECB52"
          ],
          "font": {
           "color": "#2a3f5f"
          },
          "geo": {
           "bgcolor": "white",
           "lakecolor": "white",
           "landcolor": "#E5ECF6",
           "showlakes": true,
           "showland": true,
           "subunitcolor": "white"
          },
          "hoverlabel": {
           "align": "left"
          },
          "hovermode": "closest",
          "mapbox": {
           "style": "light"
          },
          "paper_bgcolor": "white",
          "plot_bgcolor": "#E5ECF6",
          "polar": {
           "angularaxis": {
            "gridcolor": "white",
            "linecolor": "white",
            "ticks": ""
           },
           "bgcolor": "#E5ECF6",
           "radialaxis": {
            "gridcolor": "white",
            "linecolor": "white",
            "ticks": ""
           }
          },
          "scene": {
           "xaxis": {
            "backgroundcolor": "#E5ECF6",
            "gridcolor": "white",
            "gridwidth": 2,
            "linecolor": "white",
            "showbackground": true,
            "ticks": "",
            "zerolinecolor": "white"
           },
           "yaxis": {
            "backgroundcolor": "#E5ECF6",
            "gridcolor": "white",
            "gridwidth": 2,
            "linecolor": "white",
            "showbackground": true,
            "ticks": "",
            "zerolinecolor": "white"
           },
           "zaxis": {
            "backgroundcolor": "#E5ECF6",
            "gridcolor": "white",
            "gridwidth": 2,
            "linecolor": "white",
            "showbackground": true,
            "ticks": "",
            "zerolinecolor": "white"
           }
          },
          "shapedefaults": {
           "line": {
            "color": "#2a3f5f"
           }
          },
          "ternary": {
           "aaxis": {
            "gridcolor": "white",
            "linecolor": "white",
            "ticks": ""
           },
           "baxis": {
            "gridcolor": "white",
            "linecolor": "white",
            "ticks": ""
           },
           "bgcolor": "#E5ECF6",
           "caxis": {
            "gridcolor": "white",
            "linecolor": "white",
            "ticks": ""
           }
          },
          "title": {
           "x": 0.05
          },
          "xaxis": {
           "automargin": true,
           "gridcolor": "white",
           "linecolor": "white",
           "ticks": "",
           "title": {
            "standoff": 15
           },
           "zerolinecolor": "white",
           "zerolinewidth": 2
          },
          "yaxis": {
           "automargin": true,
           "gridcolor": "white",
           "linecolor": "white",
           "ticks": "",
           "title": {
            "standoff": 15
           },
           "zerolinecolor": "white",
           "zerolinewidth": 2
          }
         }
        },
        "xaxis": {
         "anchor": "y",
         "domain": [
          0,
          1
         ],
         "title": {
          "text": "Date"
         }
        },
        "yaxis": {
         "anchor": "x",
         "domain": [
          0,
          1
         ],
         "title": {
          "text": "Number of tweets"
         }
        }
       }
      },
      "text/html": [
       "<div>\n",
       "        \n",
       "        \n",
       "            <div id=\"83e48933-67d7-44bd-93b2-5179e424f2a6\" class=\"plotly-graph-div\" style=\"height:525px; width:100%;\"></div>\n",
       "            <script type=\"text/javascript\">\n",
       "                require([\"plotly\"], function(Plotly) {\n",
       "                    window.PLOTLYENV=window.PLOTLYENV || {};\n",
       "                    \n",
       "                if (document.getElementById(\"83e48933-67d7-44bd-93b2-5179e424f2a6\")) {\n",
       "                    Plotly.newPlot(\n",
       "                        '83e48933-67d7-44bd-93b2-5179e424f2a6',\n",
       "                        [{\"alignmentgroup\": \"True\", \"hoverlabel\": {\"namelength\": 0}, \"hovertemplate\": \"Date=%{x}<br>Number of tweets=%{y}\", \"legendgroup\": \"\", \"marker\": {\"color\": \"#636efa\"}, \"name\": \"\", \"offsetgroup\": \"\", \"orientation\": \"v\", \"showlegend\": false, \"textposition\": \"auto\", \"type\": \"bar\", \"x\": [\"2019-12-05\", \"2019-12-06\", \"2019-12-07\", \"2019-12-08\", \"2019-12-09\", \"2019-12-10\", \"2019-12-11\", \"2019-12-12\", \"2019-12-13\", \"2019-12-14\", \"2019-12-15\", \"2019-12-16\", \"2019-12-17\", \"2019-12-18\", \"2019-12-19\", \"2019-12-20\", \"2019-12-21\", \"2019-12-22\", \"2019-12-23\", \"2019-12-24\", \"2019-12-25\", \"2019-12-26\", \"2019-12-27\", \"2019-12-28\", \"2019-12-29\", \"2019-12-30\", \"2019-12-31\", \"2020-01-01\", \"2020-01-02\", \"2020-01-03\", \"2020-01-04\", \"2020-01-05\", \"2020-01-06\", \"2020-01-07\", \"2020-01-08\", \"2020-01-09\", \"2020-01-10\", \"2020-01-11\", \"2020-01-12\", \"2020-01-13\", \"2020-01-14\", \"2020-01-15\", \"2020-01-16\", \"2020-01-17\", \"2020-01-18\", \"2020-01-19\", \"2020-01-20\", \"2020-01-22\", \"2020-01-23\", \"2020-01-24\", \"2020-01-25\", \"2020-01-26\", \"2020-01-27\", \"2020-01-28\", \"2020-01-29\", \"2020-01-31\", \"2020-02-01\", \"2020-02-02\", \"2020-02-03\", \"2020-02-04\", \"2020-02-05\", \"2020-02-06\", \"2020-02-07\", \"2020-02-08\", \"2020-02-09\", \"2020-02-10\", \"2020-02-11\", \"2020-02-12\", \"2020-02-13\", \"2020-02-14\", \"2020-02-15\", \"2020-02-16\", \"2020-02-19\", \"2020-02-21\", \"2020-02-22\", \"2020-02-23\", \"2020-02-24\", \"2020-02-25\", \"2020-02-28\", \"2020-02-29\", \"2020-03-01\", \"2020-03-02\", \"2020-03-03\", \"2020-03-04\", \"2020-03-07\"], \"xaxis\": \"x\", \"y\": [96, 60, 40, 28, 10, 7, 107, 39, 8, 6, 9, 2, 6, 4, 19, 7, 6, 4, 5, 10, 4, 1, 1, 2, 3, 6, 3, 4, 6, 5, 3, 4, 6, 2, 9, 7, 3, 3, 5, 6, 2, 3, 4, 5, 1, 4, 5, 9, 3, 2, 4, 6, 3, 3, 6, 2, 2, 4, 7, 5, 2, 5, 8, 1, 17, 2, 2, 2, 2, 3, 10, 13, 2, 2, 1, 1, 1, 2, 4, 3, 4, 4, 6, 1, 1], \"yaxis\": \"y\"}],\n",
       "                        {\"barmode\": \"relative\", \"legend\": {\"tracegroupgap\": 0}, \"margin\": {\"t\": 60}, \"template\": {\"data\": {\"bar\": [{\"error_x\": {\"color\": \"#2a3f5f\"}, \"error_y\": {\"color\": \"#2a3f5f\"}, \"marker\": {\"line\": {\"color\": \"#E5ECF6\", \"width\": 0.5}}, \"type\": \"bar\"}], \"barpolar\": [{\"marker\": {\"line\": {\"color\": \"#E5ECF6\", \"width\": 0.5}}, \"type\": \"barpolar\"}], \"carpet\": [{\"aaxis\": {\"endlinecolor\": \"#2a3f5f\", \"gridcolor\": \"white\", \"linecolor\": \"white\", \"minorgridcolor\": \"white\", \"startlinecolor\": \"#2a3f5f\"}, \"baxis\": {\"endlinecolor\": \"#2a3f5f\", \"gridcolor\": \"white\", \"linecolor\": \"white\", \"minorgridcolor\": \"white\", \"startlinecolor\": \"#2a3f5f\"}, \"type\": \"carpet\"}], \"choropleth\": [{\"colorbar\": {\"outlinewidth\": 0, \"ticks\": \"\"}, \"type\": \"choropleth\"}], \"contour\": [{\"colorbar\": {\"outlinewidth\": 0, \"ticks\": \"\"}, \"colorscale\": [[0.0, \"#0d0887\"], [0.1111111111111111, \"#46039f\"], [0.2222222222222222, \"#7201a8\"], [0.3333333333333333, \"#9c179e\"], [0.4444444444444444, \"#bd3786\"], [0.5555555555555556, \"#d8576b\"], [0.6666666666666666, \"#ed7953\"], [0.7777777777777778, \"#fb9f3a\"], [0.8888888888888888, \"#fdca26\"], [1.0, \"#f0f921\"]], \"type\": \"contour\"}], \"contourcarpet\": [{\"colorbar\": {\"outlinewidth\": 0, \"ticks\": \"\"}, \"type\": \"contourcarpet\"}], \"heatmap\": [{\"colorbar\": {\"outlinewidth\": 0, \"ticks\": \"\"}, \"colorscale\": [[0.0, \"#0d0887\"], [0.1111111111111111, \"#46039f\"], [0.2222222222222222, \"#7201a8\"], [0.3333333333333333, \"#9c179e\"], [0.4444444444444444, \"#bd3786\"], [0.5555555555555556, \"#d8576b\"], [0.6666666666666666, \"#ed7953\"], [0.7777777777777778, \"#fb9f3a\"], [0.8888888888888888, \"#fdca26\"], [1.0, \"#f0f921\"]], \"type\": \"heatmap\"}], \"heatmapgl\": [{\"colorbar\": {\"outlinewidth\": 0, \"ticks\": \"\"}, \"colorscale\": [[0.0, \"#0d0887\"], [0.1111111111111111, \"#46039f\"], [0.2222222222222222, \"#7201a8\"], [0.3333333333333333, \"#9c179e\"], [0.4444444444444444, \"#bd3786\"], [0.5555555555555556, \"#d8576b\"], [0.6666666666666666, \"#ed7953\"], [0.7777777777777778, \"#fb9f3a\"], [0.8888888888888888, \"#fdca26\"], [1.0, \"#f0f921\"]], \"type\": \"heatmapgl\"}], \"histogram\": [{\"marker\": {\"colorbar\": {\"outlinewidth\": 0, \"ticks\": \"\"}}, \"type\": \"histogram\"}], \"histogram2d\": [{\"colorbar\": {\"outlinewidth\": 0, \"ticks\": \"\"}, \"colorscale\": [[0.0, \"#0d0887\"], [0.1111111111111111, \"#46039f\"], [0.2222222222222222, \"#7201a8\"], [0.3333333333333333, \"#9c179e\"], [0.4444444444444444, \"#bd3786\"], [0.5555555555555556, \"#d8576b\"], [0.6666666666666666, \"#ed7953\"], [0.7777777777777778, \"#fb9f3a\"], [0.8888888888888888, \"#fdca26\"], [1.0, \"#f0f921\"]], \"type\": \"histogram2d\"}], \"histogram2dcontour\": [{\"colorbar\": {\"outlinewidth\": 0, \"ticks\": \"\"}, \"colorscale\": [[0.0, \"#0d0887\"], [0.1111111111111111, \"#46039f\"], [0.2222222222222222, \"#7201a8\"], [0.3333333333333333, \"#9c179e\"], [0.4444444444444444, \"#bd3786\"], [0.5555555555555556, \"#d8576b\"], [0.6666666666666666, \"#ed7953\"], [0.7777777777777778, \"#fb9f3a\"], [0.8888888888888888, \"#fdca26\"], [1.0, \"#f0f921\"]], \"type\": \"histogram2dcontour\"}], \"mesh3d\": [{\"colorbar\": {\"outlinewidth\": 0, \"ticks\": \"\"}, \"type\": \"mesh3d\"}], \"parcoords\": [{\"line\": {\"colorbar\": {\"outlinewidth\": 0, \"ticks\": \"\"}}, \"type\": \"parcoords\"}], \"pie\": [{\"automargin\": true, \"type\": \"pie\"}], \"scatter\": [{\"marker\": {\"colorbar\": {\"outlinewidth\": 0, \"ticks\": \"\"}}, \"type\": \"scatter\"}], \"scatter3d\": [{\"line\": {\"colorbar\": {\"outlinewidth\": 0, \"ticks\": \"\"}}, \"marker\": {\"colorbar\": {\"outlinewidth\": 0, \"ticks\": \"\"}}, \"type\": \"scatter3d\"}], \"scattercarpet\": [{\"marker\": {\"colorbar\": {\"outlinewidth\": 0, \"ticks\": \"\"}}, \"type\": \"scattercarpet\"}], \"scattergeo\": [{\"marker\": {\"colorbar\": {\"outlinewidth\": 0, \"ticks\": \"\"}}, \"type\": \"scattergeo\"}], \"scattergl\": [{\"marker\": {\"colorbar\": {\"outlinewidth\": 0, \"ticks\": \"\"}}, \"type\": \"scattergl\"}], \"scattermapbox\": [{\"marker\": {\"colorbar\": {\"outlinewidth\": 0, \"ticks\": \"\"}}, \"type\": \"scattermapbox\"}], \"scatterpolar\": [{\"marker\": {\"colorbar\": {\"outlinewidth\": 0, \"ticks\": \"\"}}, \"type\": \"scatterpolar\"}], \"scatterpolargl\": [{\"marker\": {\"colorbar\": {\"outlinewidth\": 0, \"ticks\": \"\"}}, \"type\": \"scatterpolargl\"}], \"scatterternary\": [{\"marker\": {\"colorbar\": {\"outlinewidth\": 0, \"ticks\": \"\"}}, \"type\": \"scatterternary\"}], \"surface\": [{\"colorbar\": {\"outlinewidth\": 0, \"ticks\": \"\"}, \"colorscale\": [[0.0, \"#0d0887\"], [0.1111111111111111, \"#46039f\"], [0.2222222222222222, \"#7201a8\"], [0.3333333333333333, \"#9c179e\"], [0.4444444444444444, \"#bd3786\"], [0.5555555555555556, \"#d8576b\"], [0.6666666666666666, \"#ed7953\"], [0.7777777777777778, \"#fb9f3a\"], [0.8888888888888888, \"#fdca26\"], [1.0, \"#f0f921\"]], \"type\": \"surface\"}], \"table\": [{\"cells\": {\"fill\": {\"color\": \"#EBF0F8\"}, \"line\": {\"color\": \"white\"}}, \"header\": {\"fill\": {\"color\": \"#C8D4E3\"}, \"line\": {\"color\": \"white\"}}, \"type\": \"table\"}]}, \"layout\": {\"annotationdefaults\": {\"arrowcolor\": \"#2a3f5f\", \"arrowhead\": 0, \"arrowwidth\": 1}, \"coloraxis\": {\"colorbar\": {\"outlinewidth\": 0, \"ticks\": \"\"}}, \"colorscale\": {\"diverging\": [[0, \"#8e0152\"], [0.1, \"#c51b7d\"], [0.2, \"#de77ae\"], [0.3, \"#f1b6da\"], [0.4, \"#fde0ef\"], [0.5, \"#f7f7f7\"], [0.6, \"#e6f5d0\"], [0.7, \"#b8e186\"], [0.8, \"#7fbc41\"], [0.9, \"#4d9221\"], [1, \"#276419\"]], \"sequential\": [[0.0, \"#0d0887\"], [0.1111111111111111, \"#46039f\"], [0.2222222222222222, \"#7201a8\"], [0.3333333333333333, \"#9c179e\"], [0.4444444444444444, \"#bd3786\"], [0.5555555555555556, \"#d8576b\"], [0.6666666666666666, \"#ed7953\"], [0.7777777777777778, \"#fb9f3a\"], [0.8888888888888888, \"#fdca26\"], [1.0, \"#f0f921\"]], \"sequentialminus\": [[0.0, \"#0d0887\"], [0.1111111111111111, \"#46039f\"], [0.2222222222222222, \"#7201a8\"], [0.3333333333333333, \"#9c179e\"], [0.4444444444444444, \"#bd3786\"], [0.5555555555555556, \"#d8576b\"], [0.6666666666666666, \"#ed7953\"], [0.7777777777777778, \"#fb9f3a\"], [0.8888888888888888, \"#fdca26\"], [1.0, \"#f0f921\"]]}, \"colorway\": [\"#636efa\", \"#EF553B\", \"#00cc96\", \"#ab63fa\", \"#FFA15A\", \"#19d3f3\", \"#FF6692\", \"#B6E880\", \"#FF97FF\", \"#FECB52\"], \"font\": {\"color\": \"#2a3f5f\"}, \"geo\": {\"bgcolor\": \"white\", \"lakecolor\": \"white\", \"landcolor\": \"#E5ECF6\", \"showlakes\": true, \"showland\": true, \"subunitcolor\": \"white\"}, \"hoverlabel\": {\"align\": \"left\"}, \"hovermode\": \"closest\", \"mapbox\": {\"style\": \"light\"}, \"paper_bgcolor\": \"white\", \"plot_bgcolor\": \"#E5ECF6\", \"polar\": {\"angularaxis\": {\"gridcolor\": \"white\", \"linecolor\": \"white\", \"ticks\": \"\"}, \"bgcolor\": \"#E5ECF6\", \"radialaxis\": {\"gridcolor\": \"white\", \"linecolor\": \"white\", \"ticks\": \"\"}}, \"scene\": {\"xaxis\": {\"backgroundcolor\": \"#E5ECF6\", \"gridcolor\": \"white\", \"gridwidth\": 2, \"linecolor\": \"white\", \"showbackground\": true, \"ticks\": \"\", \"zerolinecolor\": \"white\"}, \"yaxis\": {\"backgroundcolor\": \"#E5ECF6\", \"gridcolor\": \"white\", \"gridwidth\": 2, \"linecolor\": \"white\", \"showbackground\": true, \"ticks\": \"\", \"zerolinecolor\": \"white\"}, \"zaxis\": {\"backgroundcolor\": \"#E5ECF6\", \"gridcolor\": \"white\", \"gridwidth\": 2, \"linecolor\": \"white\", \"showbackground\": true, \"ticks\": \"\", \"zerolinecolor\": \"white\"}}, \"shapedefaults\": {\"line\": {\"color\": \"#2a3f5f\"}}, \"ternary\": {\"aaxis\": {\"gridcolor\": \"white\", \"linecolor\": \"white\", \"ticks\": \"\"}, \"baxis\": {\"gridcolor\": \"white\", \"linecolor\": \"white\", \"ticks\": \"\"}, \"bgcolor\": \"#E5ECF6\", \"caxis\": {\"gridcolor\": \"white\", \"linecolor\": \"white\", \"ticks\": \"\"}}, \"title\": {\"x\": 0.05}, \"xaxis\": {\"automargin\": true, \"gridcolor\": \"white\", \"linecolor\": \"white\", \"ticks\": \"\", \"title\": {\"standoff\": 15}, \"zerolinecolor\": \"white\", \"zerolinewidth\": 2}, \"yaxis\": {\"automargin\": true, \"gridcolor\": \"white\", \"linecolor\": \"white\", \"ticks\": \"\", \"title\": {\"standoff\": 15}, \"zerolinecolor\": \"white\", \"zerolinewidth\": 2}}}, \"xaxis\": {\"anchor\": \"y\", \"domain\": [0.0, 1.0], \"title\": {\"text\": \"Date\"}}, \"yaxis\": {\"anchor\": \"x\", \"domain\": [0.0, 1.0], \"title\": {\"text\": \"Number of tweets\"}}},\n",
       "                        {\"responsive\": true}\n",
       "                    ).then(function(){\n",
       "                            \n",
       "var gd = document.getElementById('83e48933-67d7-44bd-93b2-5179e424f2a6');\n",
       "var x = new MutationObserver(function (mutations, observer) {{\n",
       "        var display = window.getComputedStyle(gd).display;\n",
       "        if (!display || display === 'none') {{\n",
       "            console.log([gd, 'removed!']);\n",
       "            Plotly.purge(gd);\n",
       "            observer.disconnect();\n",
       "        }}\n",
       "}});\n",
       "\n",
       "// Listen for the removal of the full notebook cells\n",
       "var notebookContainer = gd.closest('#notebook-container');\n",
       "if (notebookContainer) {{\n",
       "    x.observe(notebookContainer, {childList: true});\n",
       "}}\n",
       "\n",
       "// Listen for the clearing of the current output cell\n",
       "var outputEl = gd.closest('.output');\n",
       "if (outputEl) {{\n",
       "    x.observe(outputEl, {childList: true});\n",
       "}}\n",
       "\n",
       "                        })\n",
       "                };\n",
       "                });\n",
       "            </script>\n",
       "        </div>"
      ]
     },
     "metadata": {},
     "output_type": "display_data"
    }
   ],
   "source": [
    "#fig = px.histogram(Positive_df_by_date, x=\"Date\", y=\"Date_Time\")\n",
    "fig = px.bar(x=Negative_df_by_date['Date'], y=Negative_df_by_date['Date_Time'], labels={'x':'Date', 'y':'Number of tweets'})\n",
    "fig.show()"
   ]
  },
  {
   "cell_type": "code",
   "execution_count": 27,
   "metadata": {},
   "outputs": [
    {
     "name": "stdout",
     "output_type": "stream",
     "text": [
      "number of duplicate rows:  0\n"
     ]
    }
   ],
   "source": [
    "# this code is for finding duplicates - Abeer\n",
    "df.duplicated()\n",
    "duplicate_rows_df = df.duplicated().sum()\n",
    "print (\"number of duplicate rows: \", duplicate_rows_df)"
   ]
  },
  {
   "cell_type": "code",
   "execution_count": 28,
   "metadata": {},
   "outputs": [
    {
     "data": {
      "text/plain": [
       "Index(['date', 'text', 'id', 'stance ', 'location', 'clean text', 'tokens',\n",
       "       'City', 'Date_Time'],\n",
       "      dtype='object')"
      ]
     },
     "execution_count": 28,
     "metadata": {},
     "output_type": "execute_result"
    }
   ],
   "source": [
    "# Retrieve list of columns\n",
    "df.columns"
   ]
  },
  {
   "cell_type": "markdown",
   "metadata": {},
   "source": [
    "# Data Cleaning"
   ]
  },
  {
   "cell_type": "code",
   "execution_count": 29,
   "metadata": {},
   "outputs": [],
   "source": [
    "arabic_punctuations = '''`÷×؛<>_()*&^%][ـ،/:\"؟.,'{}~¦+|!”…“–ـ'''\n",
    "english_punctuations = string.punctuation\n",
    "punctuations_list = arabic_punctuations + english_punctuations\n",
    "\n",
    "def remove_punctuations(text):\n",
    "    translator = str.maketrans('', '', punctuations_list)\n",
    "    return text.translate(translator)"
   ]
  },
  {
   "cell_type": "code",
   "execution_count": 30,
   "metadata": {},
   "outputs": [],
   "source": [
    "def normalize_arabic(text):\n",
    "    text = re.sub(\"[إأآا]\", \"ا\", text)\n",
    "    text = re.sub(\"ى\", \"ي\", text)\n",
    "    text = re.sub(\"ة\", \"ه\", text)\n",
    "    text = re.sub(\"گ\", \"ك\", text)\n",
    "    return text"
   ]
  },
  {
   "cell_type": "code",
   "execution_count": 31,
   "metadata": {},
   "outputs": [],
   "source": [
    "def remove_repeating_char(text):\n",
    "    return re.sub(r'(.)\\1+', r'\\1', text)"
   ]
  },
  {
   "cell_type": "code",
   "execution_count": 32,
   "metadata": {},
   "outputs": [],
   "source": [
    "def remove_emoji(text):\n",
    "    emoji_pattern = re.compile(\"[\"\n",
    "                           u\"\\U0001F600-\\U0001F64F\"  # emoticons\n",
    "                           u\"\\U0001F300-\\U0001F5FF\"  # symbols & pictographs\n",
    "                           u\"\\U0001F680-\\U0001F6FF\"  # transport & map symbols\n",
    "                           u\"\\U0001F1E0-\\U0001F1FF\"  # flags (iOS)\n",
    "                           u\"\\U00002702-\\U000027B0\"\n",
    "                           u\"\\U000024C2-\\U0001F251\"\n",
    "                           \"]+\", flags=re.UNICODE)\n",
    "    return emoji_pattern.sub(r'', text)"
   ]
  },
  {
   "cell_type": "code",
   "execution_count": 33,
   "metadata": {},
   "outputs": [],
   "source": [
    "#start processing the tweet\n",
    "def processPost(tweet):\n",
    "\n",
    "    #Replace @username with empty string\n",
    "    tweet = re.sub('@[^\\s]+', ' ', str(tweet))\n",
    "    \n",
    "    #Convert www.* or https?://* to \" \"\n",
    "    tweet = re.sub('((www\\.[^\\s]+)|(https?://[^\\s]+))',' ',str(tweet))\n",
    "    \n",
    "    #Replace #word with word\n",
    "    tweet = re.sub(r'#([^\\s]+)', r'\\1', tweet)\n",
    "\n",
    "    # remove punctuations\n",
    "    tweet= remove_punctuations(str(tweet))\n",
    "    \n",
    "    # normalize the tweet\n",
    "    tweet= normalize_arabic(str(tweet))\n",
    "    \n",
    "    # remove repeated letters\n",
    "    tweet=remove_repeating_char(tweet)\n",
    "\n",
    "    #Remove new lines with white space\n",
    "    tweet = str(tweet).replace('\\n',' ')\n",
    "    tweet = str(tweet).replace('\\t',' ')\n",
    "    \n",
    "    #remove emoji\n",
    "    tweet = remove_emoji(tweet)\n",
    "        \n",
    "    return tweet"
   ]
  },
  {
   "cell_type": "code",
   "execution_count": 34,
   "metadata": {},
   "outputs": [
    {
     "name": "stderr",
     "output_type": "stream",
     "text": [
      "[nltk_data] Downloading package stopwords to\n",
      "[nltk_data]     C:\\Users\\Dell\\AppData\\Roaming\\nltk_data...\n",
      "[nltk_data]   Package stopwords is already up-to-date!\n"
     ]
    }
   ],
   "source": [
    "# remove Arabic stop words from the tweets\n",
    "import nltk\n",
    "nltk.download('stopwords')\n",
    "from nltk.corpus import stopwords\n",
    "ar_stops = set(stopwords.words('arabic'))"
   ]
  },
  {
   "cell_type": "code",
   "execution_count": 35,
   "metadata": {},
   "outputs": [],
   "source": [
    "# remove Arabic stop words from the tweets\n",
    "for word in df['text']:\n",
    "    if word in ar_stops:        \n",
    "        words_filtered.remove(word)"
   ]
  },
  {
   "cell_type": "code",
   "execution_count": 36,
   "metadata": {},
   "outputs": [],
   "source": [
    "df[\"clean text\"] = df['text'].apply(lambda x: processPost(x))"
   ]
  },
  {
   "cell_type": "code",
   "execution_count": 37,
   "metadata": {},
   "outputs": [],
   "source": [
    "dff =pd.read_csv(\"final_cleaned.csv\")   "
   ]
  },
  {
   "cell_type": "code",
   "execution_count": 38,
   "metadata": {},
   "outputs": [],
   "source": [
    "dff[\"clean text\"] = df['text'].apply(lambda x: processPost(x))"
   ]
  },
  {
   "cell_type": "code",
   "execution_count": 39,
   "metadata": {},
   "outputs": [
    {
     "name": "stdout",
     "output_type": "stream",
     "text": [
      "date          1/6/2020 5:23                                                                                              \n",
      "text          عساك تفوزين بس انتي عاد احسك ماتلعبين الا برهان اكتتاب ارامكو شكله جاء منها☻                               \n",
      "id            1.21e+18                                                                                                   \n",
      "stance        Natural                                                                                                    \n",
      "location      Not Given                                                                                                  \n",
      "clean text    عساك تفوزين بس انتي عاد احسك ماتلعبين الا برهان اكتاب ارامكو شكله جاء منها                                 \n",
      "tokens        ['اتوقع', 'انا', 'في', 'مرحله', 'الاندفاع', 'خاصه', 'بعد', 'اكتاب', 'ارامكو', 'ناس', 'دخلت', 'لاول', 'مره']\n",
      "City          Not Given                                                                                                  \n",
      "Date_Time     2020-01-06 05:23:00                                                                                        \n",
      "Name: 528, dtype: object\n"
     ]
    },
    {
     "name": "stderr",
     "output_type": "stream",
     "text": [
      "C:\\Users\\Dell\\Anaconda3\\lib\\site-packages\\ipykernel_launcher.py:1: FutureWarning:\n",
      "\n",
      "Passing a negative integer is deprecated in version 1.0 and will not be supported in future version. Instead, use None to not limit the column width.\n",
      "\n"
     ]
    }
   ],
   "source": [
    "pd.set_option('display.max_colwidth', -1)  \n",
    "print(df.iloc[528])"
   ]
  },
  {
   "cell_type": "markdown",
   "metadata": {},
   "source": [
    "# Drop Unwanted Colomns"
   ]
  },
  {
   "cell_type": "code",
   "execution_count": 26,
   "metadata": {},
   "outputs": [
    {
     "ename": "KeyError",
     "evalue": "\"['Unnamed: 0' 'username' 'to' 'replies' 'retweets' 'favorites' 'geo'\\n 'mentions' 'hashtags' 'permalink'] not found in axis\"",
     "output_type": "error",
     "traceback": [
      "\u001b[1;31m---------------------------------------------------------------------------\u001b[0m",
      "\u001b[1;31mKeyError\u001b[0m                                  Traceback (most recent call last)",
      "\u001b[1;32m<ipython-input-26-bb7db3c52259>\u001b[0m in \u001b[0;36m<module>\u001b[1;34m\u001b[0m\n\u001b[0;32m      1\u001b[0m \u001b[1;31m# Drop The unwanted Colomns ()\u001b[0m\u001b[1;33m\u001b[0m\u001b[1;33m\u001b[0m\u001b[1;33m\u001b[0m\u001b[0m\n\u001b[1;32m----> 2\u001b[1;33m \u001b[0mtemp\u001b[0m \u001b[1;33m=\u001b[0m \u001b[0mdf\u001b[0m\u001b[1;33m.\u001b[0m\u001b[0mdrop\u001b[0m\u001b[1;33m(\u001b[0m\u001b[1;33m[\u001b[0m\u001b[1;34m'Unnamed: 0'\u001b[0m\u001b[1;33m,\u001b[0m\u001b[1;34m'username'\u001b[0m\u001b[1;33m,\u001b[0m\u001b[1;34m'to'\u001b[0m\u001b[1;33m,\u001b[0m\u001b[1;34m'replies'\u001b[0m\u001b[1;33m,\u001b[0m\u001b[1;34m'retweets'\u001b[0m\u001b[1;33m,\u001b[0m\u001b[1;34m'favorites'\u001b[0m\u001b[1;33m,\u001b[0m\u001b[1;34m'geo'\u001b[0m\u001b[1;33m,\u001b[0m\u001b[1;34m'mentions'\u001b[0m\u001b[1;33m,\u001b[0m\u001b[1;34m'hashtags'\u001b[0m\u001b[1;33m,\u001b[0m\u001b[1;34m'permalink'\u001b[0m\u001b[1;33m]\u001b[0m\u001b[1;33m,\u001b[0m\u001b[0maxis\u001b[0m\u001b[1;33m=\u001b[0m\u001b[1;36m1\u001b[0m\u001b[1;33m)\u001b[0m\u001b[1;33m\u001b[0m\u001b[1;33m\u001b[0m\u001b[0m\n\u001b[0m",
      "\u001b[1;32m~\\Anaconda3\\lib\\site-packages\\pandas\\core\\frame.py\u001b[0m in \u001b[0;36mdrop\u001b[1;34m(self, labels, axis, index, columns, level, inplace, errors)\u001b[0m\n\u001b[0;32m   3995\u001b[0m             \u001b[0mlevel\u001b[0m\u001b[1;33m=\u001b[0m\u001b[0mlevel\u001b[0m\u001b[1;33m,\u001b[0m\u001b[1;33m\u001b[0m\u001b[1;33m\u001b[0m\u001b[0m\n\u001b[0;32m   3996\u001b[0m             \u001b[0minplace\u001b[0m\u001b[1;33m=\u001b[0m\u001b[0minplace\u001b[0m\u001b[1;33m,\u001b[0m\u001b[1;33m\u001b[0m\u001b[1;33m\u001b[0m\u001b[0m\n\u001b[1;32m-> 3997\u001b[1;33m             \u001b[0merrors\u001b[0m\u001b[1;33m=\u001b[0m\u001b[0merrors\u001b[0m\u001b[1;33m,\u001b[0m\u001b[1;33m\u001b[0m\u001b[1;33m\u001b[0m\u001b[0m\n\u001b[0m\u001b[0;32m   3998\u001b[0m         )\n\u001b[0;32m   3999\u001b[0m \u001b[1;33m\u001b[0m\u001b[0m\n",
      "\u001b[1;32m~\\Anaconda3\\lib\\site-packages\\pandas\\core\\generic.py\u001b[0m in \u001b[0;36mdrop\u001b[1;34m(self, labels, axis, index, columns, level, inplace, errors)\u001b[0m\n\u001b[0;32m   3934\u001b[0m         \u001b[1;32mfor\u001b[0m \u001b[0maxis\u001b[0m\u001b[1;33m,\u001b[0m \u001b[0mlabels\u001b[0m \u001b[1;32min\u001b[0m \u001b[0maxes\u001b[0m\u001b[1;33m.\u001b[0m\u001b[0mitems\u001b[0m\u001b[1;33m(\u001b[0m\u001b[1;33m)\u001b[0m\u001b[1;33m:\u001b[0m\u001b[1;33m\u001b[0m\u001b[1;33m\u001b[0m\u001b[0m\n\u001b[0;32m   3935\u001b[0m             \u001b[1;32mif\u001b[0m \u001b[0mlabels\u001b[0m \u001b[1;32mis\u001b[0m \u001b[1;32mnot\u001b[0m \u001b[1;32mNone\u001b[0m\u001b[1;33m:\u001b[0m\u001b[1;33m\u001b[0m\u001b[1;33m\u001b[0m\u001b[0m\n\u001b[1;32m-> 3936\u001b[1;33m                 \u001b[0mobj\u001b[0m \u001b[1;33m=\u001b[0m \u001b[0mobj\u001b[0m\u001b[1;33m.\u001b[0m\u001b[0m_drop_axis\u001b[0m\u001b[1;33m(\u001b[0m\u001b[0mlabels\u001b[0m\u001b[1;33m,\u001b[0m \u001b[0maxis\u001b[0m\u001b[1;33m,\u001b[0m \u001b[0mlevel\u001b[0m\u001b[1;33m=\u001b[0m\u001b[0mlevel\u001b[0m\u001b[1;33m,\u001b[0m \u001b[0merrors\u001b[0m\u001b[1;33m=\u001b[0m\u001b[0merrors\u001b[0m\u001b[1;33m)\u001b[0m\u001b[1;33m\u001b[0m\u001b[1;33m\u001b[0m\u001b[0m\n\u001b[0m\u001b[0;32m   3937\u001b[0m \u001b[1;33m\u001b[0m\u001b[0m\n\u001b[0;32m   3938\u001b[0m         \u001b[1;32mif\u001b[0m \u001b[0minplace\u001b[0m\u001b[1;33m:\u001b[0m\u001b[1;33m\u001b[0m\u001b[1;33m\u001b[0m\u001b[0m\n",
      "\u001b[1;32m~\\Anaconda3\\lib\\site-packages\\pandas\\core\\generic.py\u001b[0m in \u001b[0;36m_drop_axis\u001b[1;34m(self, labels, axis, level, errors)\u001b[0m\n\u001b[0;32m   3968\u001b[0m                 \u001b[0mnew_axis\u001b[0m \u001b[1;33m=\u001b[0m \u001b[0maxis\u001b[0m\u001b[1;33m.\u001b[0m\u001b[0mdrop\u001b[0m\u001b[1;33m(\u001b[0m\u001b[0mlabels\u001b[0m\u001b[1;33m,\u001b[0m \u001b[0mlevel\u001b[0m\u001b[1;33m=\u001b[0m\u001b[0mlevel\u001b[0m\u001b[1;33m,\u001b[0m \u001b[0merrors\u001b[0m\u001b[1;33m=\u001b[0m\u001b[0merrors\u001b[0m\u001b[1;33m)\u001b[0m\u001b[1;33m\u001b[0m\u001b[1;33m\u001b[0m\u001b[0m\n\u001b[0;32m   3969\u001b[0m             \u001b[1;32melse\u001b[0m\u001b[1;33m:\u001b[0m\u001b[1;33m\u001b[0m\u001b[1;33m\u001b[0m\u001b[0m\n\u001b[1;32m-> 3970\u001b[1;33m                 \u001b[0mnew_axis\u001b[0m \u001b[1;33m=\u001b[0m \u001b[0maxis\u001b[0m\u001b[1;33m.\u001b[0m\u001b[0mdrop\u001b[0m\u001b[1;33m(\u001b[0m\u001b[0mlabels\u001b[0m\u001b[1;33m,\u001b[0m \u001b[0merrors\u001b[0m\u001b[1;33m=\u001b[0m\u001b[0merrors\u001b[0m\u001b[1;33m)\u001b[0m\u001b[1;33m\u001b[0m\u001b[1;33m\u001b[0m\u001b[0m\n\u001b[0m\u001b[0;32m   3971\u001b[0m             \u001b[0mresult\u001b[0m \u001b[1;33m=\u001b[0m \u001b[0mself\u001b[0m\u001b[1;33m.\u001b[0m\u001b[0mreindex\u001b[0m\u001b[1;33m(\u001b[0m\u001b[1;33m**\u001b[0m\u001b[1;33m{\u001b[0m\u001b[0maxis_name\u001b[0m\u001b[1;33m:\u001b[0m \u001b[0mnew_axis\u001b[0m\u001b[1;33m}\u001b[0m\u001b[1;33m)\u001b[0m\u001b[1;33m\u001b[0m\u001b[1;33m\u001b[0m\u001b[0m\n\u001b[0;32m   3972\u001b[0m \u001b[1;33m\u001b[0m\u001b[0m\n",
      "\u001b[1;32m~\\Anaconda3\\lib\\site-packages\\pandas\\core\\indexes\\base.py\u001b[0m in \u001b[0;36mdrop\u001b[1;34m(self, labels, errors)\u001b[0m\n\u001b[0;32m   5015\u001b[0m         \u001b[1;32mif\u001b[0m \u001b[0mmask\u001b[0m\u001b[1;33m.\u001b[0m\u001b[0many\u001b[0m\u001b[1;33m(\u001b[0m\u001b[1;33m)\u001b[0m\u001b[1;33m:\u001b[0m\u001b[1;33m\u001b[0m\u001b[1;33m\u001b[0m\u001b[0m\n\u001b[0;32m   5016\u001b[0m             \u001b[1;32mif\u001b[0m \u001b[0merrors\u001b[0m \u001b[1;33m!=\u001b[0m \u001b[1;34m\"ignore\"\u001b[0m\u001b[1;33m:\u001b[0m\u001b[1;33m\u001b[0m\u001b[1;33m\u001b[0m\u001b[0m\n\u001b[1;32m-> 5017\u001b[1;33m                 \u001b[1;32mraise\u001b[0m \u001b[0mKeyError\u001b[0m\u001b[1;33m(\u001b[0m\u001b[1;34mf\"{labels[mask]} not found in axis\"\u001b[0m\u001b[1;33m)\u001b[0m\u001b[1;33m\u001b[0m\u001b[1;33m\u001b[0m\u001b[0m\n\u001b[0m\u001b[0;32m   5018\u001b[0m             \u001b[0mindexer\u001b[0m \u001b[1;33m=\u001b[0m \u001b[0mindexer\u001b[0m\u001b[1;33m[\u001b[0m\u001b[1;33m~\u001b[0m\u001b[0mmask\u001b[0m\u001b[1;33m]\u001b[0m\u001b[1;33m\u001b[0m\u001b[1;33m\u001b[0m\u001b[0m\n\u001b[0;32m   5019\u001b[0m         \u001b[1;32mreturn\u001b[0m \u001b[0mself\u001b[0m\u001b[1;33m.\u001b[0m\u001b[0mdelete\u001b[0m\u001b[1;33m(\u001b[0m\u001b[0mindexer\u001b[0m\u001b[1;33m)\u001b[0m\u001b[1;33m\u001b[0m\u001b[1;33m\u001b[0m\u001b[0m\n",
      "\u001b[1;31mKeyError\u001b[0m: \"['Unnamed: 0' 'username' 'to' 'replies' 'retweets' 'favorites' 'geo'\\n 'mentions' 'hashtags' 'permalink'] not found in axis\""
     ]
    }
   ],
   "source": [
    "# Drop The unwanted Colomns ()\n",
    "temp = df.drop(['Unnamed: 0','username','to','replies','retweets','favorites','geo','mentions','hashtags','permalink'],axis=1)"
   ]
  },
  {
   "cell_type": "markdown",
   "metadata": {},
   "source": [
    "# Save the Cleaned Data into a new CSV file"
   ]
  },
  {
   "cell_type": "code",
   "execution_count": 15,
   "metadata": {},
   "outputs": [
    {
     "ename": "NameError",
     "evalue": "name 'temp' is not defined",
     "output_type": "error",
     "traceback": [
      "\u001b[1;31m---------------------------------------------------------------------------\u001b[0m",
      "\u001b[1;31mNameError\u001b[0m                                 Traceback (most recent call last)",
      "\u001b[1;32m<ipython-input-15-83c9c7228a57>\u001b[0m in \u001b[0;36m<module>\u001b[1;34m\u001b[0m\n\u001b[1;32m----> 1\u001b[1;33m \u001b[0mtemp\u001b[0m\u001b[1;33m.\u001b[0m\u001b[0mto_csv\u001b[0m\u001b[1;33m(\u001b[0m\u001b[1;34m\"CLEANED DATA1.csv\"\u001b[0m\u001b[1;33m,\u001b[0m\u001b[0mindex\u001b[0m\u001b[1;33m=\u001b[0m\u001b[1;32mFalse\u001b[0m\u001b[1;33m,\u001b[0m\u001b[0mencoding\u001b[0m\u001b[1;33m=\u001b[0m\u001b[1;34m\"utf-8-sig\"\u001b[0m\u001b[1;33m)\u001b[0m\u001b[1;33m\u001b[0m\u001b[1;33m\u001b[0m\u001b[0m\n\u001b[0m",
      "\u001b[1;31mNameError\u001b[0m: name 'temp' is not defined"
     ]
    }
   ],
   "source": [
    "temp.to_csv(\"CLEANED DATA1.csv\",index=False,encoding=\"utf-8-sig\")"
   ]
  },
  {
   "cell_type": "code",
   "execution_count": 40,
   "metadata": {},
   "outputs": [],
   "source": [
    "df=pd.read_excel(\"newExtractedData.xlsx\")"
   ]
  },
  {
   "cell_type": "code",
   "execution_count": 41,
   "metadata": {},
   "outputs": [],
   "source": [
    "#The method that will get the location for the tweet it recevies tweet ID as parametr \n",
    "def setLocation(j):\n",
    "    try:\n",
    "        tweet=api.get_status(j)\n",
    "        \n",
    "        \n",
    "    except:\n",
    "        return None\n",
    "    location = None\n",
    "        \n",
    "\n",
    "        # Try coordinates first, as it gives the most concrete data.\n",
    "        \n",
    "    if tweet.coordinates :\n",
    "        location = (tweet.coordinates.coordinates).toString()\n",
    "        \n",
    "       # Next up, try tweet.place, which could also have a full street address, and will have at least the full_name and country, if not null \n",
    "    elif tweet.place :\n",
    "        street = \"\"\n",
    "        #if tweet.place.attributes.street_address:\n",
    "         #   street += tweet.place.attributes.street_address + \", \"\n",
    "          #  if tweet.place.attributes['623:id']:\n",
    "           #     street += tweet.place.attributes['623:id'] + \", \"\n",
    "             \n",
    "        location = street + tweet.place.full_name + \", \" + tweet.place.country\n",
    "        # Lastly, if all else fails, grab the user location. This data is pretty poor, but is at least something. You may not want it, depending on your usage.\n",
    "    elif tweet.user and tweet.user.location:\n",
    "            location = tweet.user.location        \n",
    "         \n",
    "    return location"
   ]
  },
  {
   "cell_type": "code",
   "execution_count": 42,
   "metadata": {},
   "outputs": [],
   "source": [
    "#Put the \"permalink\" colume in list\n",
    "lin_data=df['permalink'].values.tolist()\n",
    "newL=[]"
   ]
  },
  {
   "cell_type": "code",
   "execution_count": 43,
   "metadata": {},
   "outputs": [],
   "source": [
    "#Cut the ID form the permalink and add it in a list\n",
    "z=0\n",
    "for l in lin_data:\n",
    "    e=lin_data[z] +\"\"\n",
    "    s=e[-19:]\n",
    "    index=s.find('/')\n",
    "    if(index!= -1):\n",
    "        s=s[index+1:]\n",
    "    newL.append(s)\n",
    "    z=z+1"
   ]
  },
  {
   "cell_type": "code",
   "execution_count": 44,
   "metadata": {},
   "outputs": [],
   "source": [
    "#Pass each ID to setLocation method and add the returned value in a list\n",
    "newLocation=[]\n",
    "for j in newL:\n",
    "    newLocation.append(setLocation(j))\n",
    "    \n"
   ]
  },
  {
   "cell_type": "code",
   "execution_count": 45,
   "metadata": {},
   "outputs": [],
   "source": [
    "#Add new colume(location)\n",
    "df['location'] =newLocation"
   ]
  },
  {
   "cell_type": "code",
   "execution_count": 46,
   "metadata": {},
   "outputs": [],
   "source": [
    "#Drop unwanted columes\n",
    "temp = df.drop(['username','to','replies','retweets','favorites','geo','mentions','hashtags','permalink'],axis=1)"
   ]
  },
  {
   "cell_type": "code",
   "execution_count": 47,
   "metadata": {},
   "outputs": [],
   "source": [
    "temp.to_csv(\"CLEANED DATA1.csv\",index=False,encoding=\"utf-8-sig\")"
   ]
  },
  {
   "cell_type": "code",
   "execution_count": 48,
   "metadata": {},
   "outputs": [],
   "source": [
    "#Add tokens\n",
    "tokenizer = RegexpTokenizer(r'\\w+')\n",
    "dff[\"tokens\"] = dff[\"clean text\"].apply(tokenizer.tokenize)"
   ]
  },
  {
   "cell_type": "code",
   "execution_count": 17,
   "metadata": {},
   "outputs": [],
   "source": [
    "dff.to_csv(\"final_cleaned.csv\",index=False,encoding=\"utf-8-sig\")"
   ]
  },
  {
   "cell_type": "code",
   "execution_count": 49,
   "metadata": {},
   "outputs": [
    {
     "data": {
      "text/html": [
       "<div>\n",
       "<style scoped>\n",
       "    .dataframe tbody tr th:only-of-type {\n",
       "        vertical-align: middle;\n",
       "    }\n",
       "\n",
       "    .dataframe tbody tr th {\n",
       "        vertical-align: top;\n",
       "    }\n",
       "\n",
       "    .dataframe thead th {\n",
       "        text-align: right;\n",
       "    }\n",
       "</style>\n",
       "<table border=\"1\" class=\"dataframe\">\n",
       "  <thead>\n",
       "    <tr style=\"text-align: right;\">\n",
       "      <th></th>\n",
       "      <th>date</th>\n",
       "      <th>text</th>\n",
       "      <th>id</th>\n",
       "      <th>stance</th>\n",
       "      <th>location</th>\n",
       "      <th>clean text</th>\n",
       "      <th>tokens</th>\n",
       "      <th>City</th>\n",
       "    </tr>\n",
       "  </thead>\n",
       "  <tbody>\n",
       "    <tr>\n",
       "      <th>0</th>\n",
       "      <td>3/7/2020 20:40</td>\n",
       "      <td>السلام عليكم هل اقدر ابيع جزء من اسهم اكتتاب ارامكو ؟ من تطبيق المباشر للافراد</td>\n",
       "      <td>1.240000e+18</td>\n",
       "      <td>Natural</td>\n",
       "      <td>Not Given</td>\n",
       "      <td>السلام عليكم هل اقدر ابيع جزء من اسهم اكتاب ارامكو من تطبيق المباشر لافراد</td>\n",
       "      <td>[السلام, عليكم, هل, اقدر, ابيع, جزء, من, اسهم, اكتاب, ارامكو, من, تطبيق, المباشر, لافراد]</td>\n",
       "      <td>Not Given</td>\n",
       "    </tr>\n",
       "    <tr>\n",
       "      <th>1</th>\n",
       "      <td>3/7/2020 10:26</td>\n",
       "      <td>#تاسي مساء الخير ... غداً تستأنف التداولات في السوق السعودي بعد فشل اتفاق اوبك بلس وهبوط اسعار النفط لمستويات متدنية جديدة * توقعاتكم للاسبوع المقبل ؟ كتوقع شخصي ١. كسر سعر اكتتاب ارامكو . ٢. كسر مستوى ٧٠٠٠ نقطة . ٣. هناك أسهم ستعاكس اتجاه السوق موفقين</td>\n",
       "      <td>1.240000e+18</td>\n",
       "      <td>Natural</td>\n",
       "      <td>Not Given</td>\n",
       "      <td>تاسي مساء الخير غداً تستانف التداولات في السوق السعودي بعد فشل اتفاق اوبك بلس وهبوط اسعار النفط لمستويات متدنيه جديده توقعاتكم لاسبوع المقبل كتوقع شخصي ١ كسر سعر اكتاب ارامكو ٢ كسر مستوي ٧٠ نقطه ٣ هناك اسهم ستعاكس اتجاه السوق موفقين</td>\n",
       "      <td>[تاسي, مساء, الخير, غدا, تستانف, التداولات, في, السوق, السعودي, بعد, فشل, اتفاق, اوبك, بلس, وهبوط, اسعار, النفط, لمستويات, متدنيه, جديده, توقعاتكم, لاسبوع, المقبل, كتوقع, شخصي, ١, كسر, سعر, اكتاب, ارامكو, ٢, كسر, مستوي, ٧٠, نقطه, ٣, هناك, اسهم, ستعاكس, اتجاه, السوق, موفقين]</td>\n",
       "      <td>Not Given</td>\n",
       "    </tr>\n",
       "    <tr>\n",
       "      <th>2</th>\n",
       "      <td>3/7/2020 10:11</td>\n",
       "      <td>والله يابو دانة لعنة انهيار السوق ٢٠٠٦ حتى اليوم ملاحقة سوقنا ، ومع اكتتاب ارامكو عدد كبير من الناس اكتتبو وصارو يتابعون السوق وأصبح في اهتمام في الفرص الي فيه وللأسف خابت توقعات الكثير منهم ، اعتقد نحتاج فتره زمنية اطول وتحسن الأوضاع الاقتصادية علشان نصل للمستويات الي ذكرها الاخ</td>\n",
       "      <td>1.240000e+18</td>\n",
       "      <td>Negative</td>\n",
       "      <td>Kingdom of Saudi Arabia</td>\n",
       "      <td>واله يابو دانه لعنه انهيار السوق ٢٠٦ حتي اليوم ملاحقه سوقنا ومع اكتاب ارامكو عد كبير من الناس اكتبو وصارو يتابعون السوق واصبح في اهتمام في الفرص الي فيه ولاسف خابت توقعات الكثير منهم اعتقد نحتاج فتره زمنيه اطول وتحسن الاوضاع الاقتصاديه علشان نصل لمستويات الي ذكرها الاخ</td>\n",
       "      <td>[واله, يابو, دانه, لعنه, انهيار, السوق, ٢٠٦, حتي, اليوم, ملاحقه, سوقنا, ومع, اكتاب, ارامكو, عد, كبير, من, الناس, اكتبو, وصارو, يتابعون, السوق, واصبح, في, اهتمام, في, الفرص, الي, فيه, ولاسف, خابت, توقعات, الكثير, منهم, اعتقد, نحتاج, فتره, زمنيه, اطول, وتحسن, الاوضاع, الاقتصاديه, علشان, نصل, لمستويات, الي, ذكرها, الاخ]</td>\n",
       "      <td>Not Given</td>\n",
       "    </tr>\n",
       "    <tr>\n",
       "      <th>3</th>\n",
       "      <td>3/7/2020 9:50</td>\n",
       "      <td>استثمار مادي في العلاقه ! هذا اكتتاب ارامكو مو حب</td>\n",
       "      <td>1.240000e+18</td>\n",
       "      <td>Natural</td>\n",
       "      <td>قضاعه</td>\n",
       "      <td>استثمار مادي في العلاقه هذا اكتاب ارامكو مو حب</td>\n",
       "      <td>[استثمار, مادي, في, العلاقه, هذا, اكتاب, ارامكو, مو, حب]</td>\n",
       "      <td>Other Country</td>\n",
       "    </tr>\n",
       "    <tr>\n",
       "      <th>4</th>\n",
       "      <td>3/7/2020 8:07</td>\n",
       "      <td>بالنسبة للميزانية السعوديه فقد خرجت من أزمة اسعار النفط على الأقل للخمس سنوات القادمه بسبب اكتتاب أرامكو و الخطه الاستثمارية الشجاعة التي اعتمدتها في السبع سنوات الاخيره وعقبال عندنا</td>\n",
       "      <td>1.240000e+18</td>\n",
       "      <td>Positive</td>\n",
       "      <td>Not Given</td>\n",
       "      <td>بالنسبه لميزانيه السعوديه فقد خرجت من ازمه اسعار النفط علي الاقل لخمس سنوات القادمه بسب اكتاب ارامكو و الخطه الاستثماريه الشجاعه التي اعتمدتها في السبع سنوات الاخيره وعقبال عندنا</td>\n",
       "      <td>[بالنسبه, لميزانيه, السعوديه, فقد, خرجت, من, ازمه, اسعار, النفط, علي, الاقل, لخمس, سنوات, القادمه, بسب, اكتاب, ارامكو, و, الخطه, الاستثماريه, الشجاعه, التي, اعتمدتها, في, السبع, سنوات, الاخيره, وعقبال, عندنا]</td>\n",
       "      <td>Not Given</td>\n",
       "    </tr>\n",
       "  </tbody>\n",
       "</table>\n",
       "</div>"
      ],
      "text/plain": [
       "             date  \\\n",
       "0  3/7/2020 20:40   \n",
       "1  3/7/2020 10:26   \n",
       "2  3/7/2020 10:11   \n",
       "3  3/7/2020 9:50    \n",
       "4  3/7/2020 8:07    \n",
       "\n",
       "                                                                                                                                                                                                                                                                                       text  \\\n",
       "0  السلام عليكم هل اقدر ابيع جزء من اسهم اكتتاب ارامكو ؟ من تطبيق المباشر للافراد                                                                                                                                                                                                             \n",
       "1  #تاسي مساء الخير ... غداً تستأنف التداولات في السوق السعودي بعد فشل اتفاق اوبك بلس وهبوط اسعار النفط لمستويات متدنية جديدة * توقعاتكم للاسبوع المقبل ؟ كتوقع شخصي ١. كسر سعر اكتتاب ارامكو . ٢. كسر مستوى ٧٠٠٠ نقطة . ٣. هناك أسهم ستعاكس اتجاه السوق موفقين                               \n",
       "2  والله يابو دانة لعنة انهيار السوق ٢٠٠٦ حتى اليوم ملاحقة سوقنا ، ومع اكتتاب ارامكو عدد كبير من الناس اكتتبو وصارو يتابعون السوق وأصبح في اهتمام في الفرص الي فيه وللأسف خابت توقعات الكثير منهم ، اعتقد نحتاج فتره زمنية اطول وتحسن الأوضاع الاقتصادية علشان نصل للمستويات الي ذكرها الاخ   \n",
       "3  استثمار مادي في العلاقه ! هذا اكتتاب ارامكو مو حب                                                                                                                                                                                                                                          \n",
       "4  بالنسبة للميزانية السعوديه فقد خرجت من أزمة اسعار النفط على الأقل للخمس سنوات القادمه بسبب اكتتاب أرامكو و الخطه الاستثمارية الشجاعة التي اعتمدتها في السبع سنوات الاخيره وعقبال عندنا                                                                                                     \n",
       "\n",
       "             id   stance                  location  \\\n",
       "0  1.240000e+18  Natural   Not Given                 \n",
       "1  1.240000e+18  Natural   Not Given                 \n",
       "2  1.240000e+18  Negative  Kingdom of Saudi Arabia   \n",
       "3  1.240000e+18  Natural   قضاعه                     \n",
       "4  1.240000e+18  Positive  Not Given                 \n",
       "\n",
       "                                                                                                                                                                                                                                                                      clean text  \\\n",
       "0  السلام عليكم هل اقدر ابيع جزء من اسهم اكتاب ارامكو من تطبيق المباشر لافراد                                                                                                                                                                                                      \n",
       "1  تاسي مساء الخير غداً تستانف التداولات في السوق السعودي بعد فشل اتفاق اوبك بلس وهبوط اسعار النفط لمستويات متدنيه جديده توقعاتكم لاسبوع المقبل كتوقع شخصي ١ كسر سعر اكتاب ارامكو ٢ كسر مستوي ٧٠ نقطه ٣ هناك اسهم ستعاكس اتجاه السوق موفقين                                        \n",
       "2  واله يابو دانه لعنه انهيار السوق ٢٠٦ حتي اليوم ملاحقه سوقنا ومع اكتاب ارامكو عد كبير من الناس اكتبو وصارو يتابعون السوق واصبح في اهتمام في الفرص الي فيه ولاسف خابت توقعات الكثير منهم اعتقد نحتاج فتره زمنيه اطول وتحسن الاوضاع الاقتصاديه علشان نصل لمستويات الي ذكرها الاخ   \n",
       "3  استثمار مادي في العلاقه هذا اكتاب ارامكو مو حب                                                                                                                                                                                                                                  \n",
       "4  بالنسبه لميزانيه السعوديه فقد خرجت من ازمه اسعار النفط علي الاقل لخمس سنوات القادمه بسب اكتاب ارامكو و الخطه الاستثماريه الشجاعه التي اعتمدتها في السبع سنوات الاخيره وعقبال عندنا                                                                                              \n",
       "\n",
       "                                                                                                                                                                                                                                                                                                                           tokens  \\\n",
       "0  [السلام, عليكم, هل, اقدر, ابيع, جزء, من, اسهم, اكتاب, ارامكو, من, تطبيق, المباشر, لافراد]                                                                                                                                                                                                                                        \n",
       "1  [تاسي, مساء, الخير, غدا, تستانف, التداولات, في, السوق, السعودي, بعد, فشل, اتفاق, اوبك, بلس, وهبوط, اسعار, النفط, لمستويات, متدنيه, جديده, توقعاتكم, لاسبوع, المقبل, كتوقع, شخصي, ١, كسر, سعر, اكتاب, ارامكو, ٢, كسر, مستوي, ٧٠, نقطه, ٣, هناك, اسهم, ستعاكس, اتجاه, السوق, موفقين]                                               \n",
       "2  [واله, يابو, دانه, لعنه, انهيار, السوق, ٢٠٦, حتي, اليوم, ملاحقه, سوقنا, ومع, اكتاب, ارامكو, عد, كبير, من, الناس, اكتبو, وصارو, يتابعون, السوق, واصبح, في, اهتمام, في, الفرص, الي, فيه, ولاسف, خابت, توقعات, الكثير, منهم, اعتقد, نحتاج, فتره, زمنيه, اطول, وتحسن, الاوضاع, الاقتصاديه, علشان, نصل, لمستويات, الي, ذكرها, الاخ]   \n",
       "3  [استثمار, مادي, في, العلاقه, هذا, اكتاب, ارامكو, مو, حب]                                                                                                                                                                                                                                                                         \n",
       "4  [بالنسبه, لميزانيه, السعوديه, فقد, خرجت, من, ازمه, اسعار, النفط, علي, الاقل, لخمس, سنوات, القادمه, بسب, اكتاب, ارامكو, و, الخطه, الاستثماريه, الشجاعه, التي, اعتمدتها, في, السبع, سنوات, الاخيره, وعقبال, عندنا]                                                                                                                 \n",
       "\n",
       "            City  \n",
       "0  Not Given      \n",
       "1  Not Given      \n",
       "2  Not Given      \n",
       "3  Other Country  \n",
       "4  Not Given      "
      ]
     },
     "execution_count": 49,
     "metadata": {},
     "output_type": "execute_result"
    }
   ],
   "source": [
    "dff.head(5)"
   ]
  },
  {
   "cell_type": "code",
   "execution_count": null,
   "metadata": {},
   "outputs": [],
   "source": [
    "temp.to_csv(\"CLEANED DATA1.csv\",index=False,encoding=\"utf-8-sig\")"
   ]
  },
  {
   "cell_type": "markdown",
   "metadata": {},
   "source": [
    "## Classification with Decision tree"
   ]
  },
  {
   "cell_type": "code",
   "execution_count": 50,
   "metadata": {},
   "outputs": [],
   "source": [
    "from sklearn.feature_extraction.text import TfidfVectorizer"
   ]
  },
  {
   "cell_type": "code",
   "execution_count": 51,
   "metadata": {},
   "outputs": [
    {
     "data": {
      "text/html": [
       "<div>\n",
       "<style scoped>\n",
       "    .dataframe tbody tr th:only-of-type {\n",
       "        vertical-align: middle;\n",
       "    }\n",
       "\n",
       "    .dataframe tbody tr th {\n",
       "        vertical-align: top;\n",
       "    }\n",
       "\n",
       "    .dataframe thead th {\n",
       "        text-align: right;\n",
       "    }\n",
       "</style>\n",
       "<table border=\"1\" class=\"dataframe\">\n",
       "  <thead>\n",
       "    <tr style=\"text-align: right;\">\n",
       "      <th></th>\n",
       "      <th>date</th>\n",
       "      <th>text</th>\n",
       "      <th>id</th>\n",
       "      <th>stance</th>\n",
       "      <th>location</th>\n",
       "      <th>clean text</th>\n",
       "      <th>tokens</th>\n",
       "      <th>City</th>\n",
       "    </tr>\n",
       "  </thead>\n",
       "  <tbody>\n",
       "    <tr>\n",
       "      <th>0</th>\n",
       "      <td>3/7/2020 20:40</td>\n",
       "      <td>السلام عليكم هل اقدر ابيع جزء من اسهم اكتتاب ارامكو ؟ من تطبيق المباشر للافراد</td>\n",
       "      <td>1.240000e+18</td>\n",
       "      <td>Natural</td>\n",
       "      <td>Not Given</td>\n",
       "      <td>السلام عليكم هل اقدر ابيع جزء من اسهم اكتاب ارامكو من تطبيق المباشر لافراد</td>\n",
       "      <td>['السلام', 'عليكم', 'هل', 'اقدر', 'ابيع', 'جزء', 'من', 'اسهم', 'اكتاب', 'ارامكو', 'من', 'تطبيق', 'المباشر', 'لافراد']</td>\n",
       "      <td>Not Given</td>\n",
       "    </tr>\n",
       "    <tr>\n",
       "      <th>1</th>\n",
       "      <td>3/7/2020 10:26</td>\n",
       "      <td>#تاسي مساء الخير ... غداً تستأنف التداولات في السوق السعودي بعد فشل اتفاق اوبك بلس وهبوط اسعار النفط لمستويات متدنية جديدة * توقعاتكم للاسبوع المقبل ؟ كتوقع شخصي ١. كسر سعر اكتتاب ارامكو . ٢. كسر مستوى ٧٠٠٠ نقطة . ٣. هناك أسهم ستعاكس اتجاه السوق موفقين</td>\n",
       "      <td>1.240000e+18</td>\n",
       "      <td>Natural</td>\n",
       "      <td>Not Given</td>\n",
       "      <td>تاسي مساء الخير غداً تستانف التداولات في السوق السعودي بعد فشل اتفاق اوبك بلس وهبوط اسعار النفط لمستويات متدنيه جديده توقعاتكم لاسبوع المقبل كتوقع شخصي ١ كسر سعر اكتاب ارامكو ٢ كسر مستوي ٧٠ نقطه ٣ هناك اسهم ستعاكس اتجاه السوق موفقين</td>\n",
       "      <td>['تاسي', 'مساء', 'الخير', 'غدا', 'تستانف', 'التداولات', 'في', 'السوق', 'السعودي', 'بعد', 'فشل', 'اتفاق', 'اوبك', 'بلس', 'وهبوط', 'اسعار', 'النفط', 'لمستويات', 'متدنيه', 'جديده', 'توقعاتكم', 'لاسبوع', 'المقبل', 'كتوقع', 'شخصي', '١', 'كسر', 'سعر', 'اكتاب', 'ارامكو', '٢', 'كسر', 'مستوي', '٧٠', 'نقطه', '٣', 'هناك', 'اسهم', 'ستعاكس', 'اتجاه', 'السوق', 'موفقين']</td>\n",
       "      <td>Not Given</td>\n",
       "    </tr>\n",
       "    <tr>\n",
       "      <th>2</th>\n",
       "      <td>3/7/2020 10:11</td>\n",
       "      <td>والله يابو دانة لعنة انهيار السوق ٢٠٠٦ حتى اليوم ملاحقة سوقنا ، ومع اكتتاب ارامكو عدد كبير من الناس اكتتبو وصارو يتابعون السوق وأصبح في اهتمام في الفرص الي فيه وللأسف خابت توقعات الكثير منهم ، اعتقد نحتاج فتره زمنية اطول وتحسن الأوضاع الاقتصادية علشان نصل للمستويات الي ذكرها الاخ</td>\n",
       "      <td>1.240000e+18</td>\n",
       "      <td>Negative</td>\n",
       "      <td>Kingdom of Saudi Arabia</td>\n",
       "      <td>واله يابو دانه لعنه انهيار السوق ٢٠٦ حتي اليوم ملاحقه سوقنا ومع اكتاب ارامكو عد كبير من الناس اكتبو وصارو يتابعون السوق واصبح في اهتمام في الفرص الي فيه ولاسف خابت توقعات الكثير منهم اعتقد نحتاج فتره زمنيه اطول وتحسن الاوضاع الاقتصاديه علشان نصل لمستويات الي ذكرها الاخ</td>\n",
       "      <td>['واله', 'يابو', 'دانه', 'لعنه', 'انهيار', 'السوق', '٢٠٦', 'حتي', 'اليوم', 'ملاحقه', 'سوقنا', 'ومع', 'اكتاب', 'ارامكو', 'عد', 'كبير', 'من', 'الناس', 'اكتبو', 'وصارو', 'يتابعون', 'السوق', 'واصبح', 'في', 'اهتمام', 'في', 'الفرص', 'الي', 'فيه', 'ولاسف', 'خابت', 'توقعات', 'الكثير', 'منهم', 'اعتقد', 'نحتاج', 'فتره', 'زمنيه', 'اطول', 'وتحسن', 'الاوضاع', 'الاقتصاديه', 'علشان', 'نصل', 'لمستويات', 'الي', 'ذكرها', 'الاخ']</td>\n",
       "      <td>Not Given</td>\n",
       "    </tr>\n",
       "    <tr>\n",
       "      <th>3</th>\n",
       "      <td>3/7/2020 9:50</td>\n",
       "      <td>استثمار مادي في العلاقه ! هذا اكتتاب ارامكو مو حب</td>\n",
       "      <td>1.240000e+18</td>\n",
       "      <td>Natural</td>\n",
       "      <td>قضاعه</td>\n",
       "      <td>استثمار مادي في العلاقه هذا اكتاب ارامكو مو حب</td>\n",
       "      <td>['استثمار', 'مادي', 'في', 'العلاقه', 'هذا', 'اكتاب', 'ارامكو', 'مو', 'حب']</td>\n",
       "      <td>Other Country</td>\n",
       "    </tr>\n",
       "    <tr>\n",
       "      <th>4</th>\n",
       "      <td>3/7/2020 8:07</td>\n",
       "      <td>بالنسبة للميزانية السعوديه فقد خرجت من أزمة اسعار النفط على الأقل للخمس سنوات القادمه بسبب اكتتاب أرامكو و الخطه الاستثمارية الشجاعة التي اعتمدتها في السبع سنوات الاخيره وعقبال عندنا</td>\n",
       "      <td>1.240000e+18</td>\n",
       "      <td>Positive</td>\n",
       "      <td>Not Given</td>\n",
       "      <td>بالنسبه لميزانيه السعوديه فقد خرجت من ازمه اسعار النفط علي الاقل لخمس سنوات القادمه بسب اكتاب ارامكو و الخطه الاستثماريه الشجاعه التي اعتمدتها في السبع سنوات الاخيره وعقبال عندنا</td>\n",
       "      <td>['بالنسبه', 'لميزانيه', 'السعوديه', 'فقد', 'خرجت', 'من', 'ازمه', 'اسعار', 'النفط', 'علي', 'الاقل', 'لخمس', 'سنوات', 'القادمه', 'بسب', 'اكتاب', 'ارامكو', 'و', 'الخطه', 'الاستثماريه', 'الشجاعه', 'التي', 'اعتمدتها', 'في', 'السبع', 'سنوات', 'الاخيره', 'وعقبال', 'عندنا']</td>\n",
       "      <td>Not Given</td>\n",
       "    </tr>\n",
       "  </tbody>\n",
       "</table>\n",
       "</div>"
      ],
      "text/plain": [
       "             date  \\\n",
       "0  3/7/2020 20:40   \n",
       "1  3/7/2020 10:26   \n",
       "2  3/7/2020 10:11   \n",
       "3  3/7/2020 9:50    \n",
       "4  3/7/2020 8:07    \n",
       "\n",
       "                                                                                                                                                                                                                                                                                       text  \\\n",
       "0  السلام عليكم هل اقدر ابيع جزء من اسهم اكتتاب ارامكو ؟ من تطبيق المباشر للافراد                                                                                                                                                                                                             \n",
       "1  #تاسي مساء الخير ... غداً تستأنف التداولات في السوق السعودي بعد فشل اتفاق اوبك بلس وهبوط اسعار النفط لمستويات متدنية جديدة * توقعاتكم للاسبوع المقبل ؟ كتوقع شخصي ١. كسر سعر اكتتاب ارامكو . ٢. كسر مستوى ٧٠٠٠ نقطة . ٣. هناك أسهم ستعاكس اتجاه السوق موفقين                               \n",
       "2  والله يابو دانة لعنة انهيار السوق ٢٠٠٦ حتى اليوم ملاحقة سوقنا ، ومع اكتتاب ارامكو عدد كبير من الناس اكتتبو وصارو يتابعون السوق وأصبح في اهتمام في الفرص الي فيه وللأسف خابت توقعات الكثير منهم ، اعتقد نحتاج فتره زمنية اطول وتحسن الأوضاع الاقتصادية علشان نصل للمستويات الي ذكرها الاخ   \n",
       "3  استثمار مادي في العلاقه ! هذا اكتتاب ارامكو مو حب                                                                                                                                                                                                                                          \n",
       "4  بالنسبة للميزانية السعوديه فقد خرجت من أزمة اسعار النفط على الأقل للخمس سنوات القادمه بسبب اكتتاب أرامكو و الخطه الاستثمارية الشجاعة التي اعتمدتها في السبع سنوات الاخيره وعقبال عندنا                                                                                                     \n",
       "\n",
       "             id   stance                  location  \\\n",
       "0  1.240000e+18  Natural   Not Given                 \n",
       "1  1.240000e+18  Natural   Not Given                 \n",
       "2  1.240000e+18  Negative  Kingdom of Saudi Arabia   \n",
       "3  1.240000e+18  Natural   قضاعه                     \n",
       "4  1.240000e+18  Positive  Not Given                 \n",
       "\n",
       "                                                                                                                                                                                                                                                                      clean text  \\\n",
       "0  السلام عليكم هل اقدر ابيع جزء من اسهم اكتاب ارامكو من تطبيق المباشر لافراد                                                                                                                                                                                                      \n",
       "1  تاسي مساء الخير غداً تستانف التداولات في السوق السعودي بعد فشل اتفاق اوبك بلس وهبوط اسعار النفط لمستويات متدنيه جديده توقعاتكم لاسبوع المقبل كتوقع شخصي ١ كسر سعر اكتاب ارامكو ٢ كسر مستوي ٧٠ نقطه ٣ هناك اسهم ستعاكس اتجاه السوق موفقين                                        \n",
       "2  واله يابو دانه لعنه انهيار السوق ٢٠٦ حتي اليوم ملاحقه سوقنا ومع اكتاب ارامكو عد كبير من الناس اكتبو وصارو يتابعون السوق واصبح في اهتمام في الفرص الي فيه ولاسف خابت توقعات الكثير منهم اعتقد نحتاج فتره زمنيه اطول وتحسن الاوضاع الاقتصاديه علشان نصل لمستويات الي ذكرها الاخ   \n",
       "3  استثمار مادي في العلاقه هذا اكتاب ارامكو مو حب                                                                                                                                                                                                                                  \n",
       "4  بالنسبه لميزانيه السعوديه فقد خرجت من ازمه اسعار النفط علي الاقل لخمس سنوات القادمه بسب اكتاب ارامكو و الخطه الاستثماريه الشجاعه التي اعتمدتها في السبع سنوات الاخيره وعقبال عندنا                                                                                              \n",
       "\n",
       "                                                                                                                                                                                                                                                                                                                                                                                                                           tokens  \\\n",
       "0  ['السلام', 'عليكم', 'هل', 'اقدر', 'ابيع', 'جزء', 'من', 'اسهم', 'اكتاب', 'ارامكو', 'من', 'تطبيق', 'المباشر', 'لافراد']                                                                                                                                                                                                                                                                                                            \n",
       "1  ['تاسي', 'مساء', 'الخير', 'غدا', 'تستانف', 'التداولات', 'في', 'السوق', 'السعودي', 'بعد', 'فشل', 'اتفاق', 'اوبك', 'بلس', 'وهبوط', 'اسعار', 'النفط', 'لمستويات', 'متدنيه', 'جديده', 'توقعاتكم', 'لاسبوع', 'المقبل', 'كتوقع', 'شخصي', '١', 'كسر', 'سعر', 'اكتاب', 'ارامكو', '٢', 'كسر', 'مستوي', '٧٠', 'نقطه', '٣', 'هناك', 'اسهم', 'ستعاكس', 'اتجاه', 'السوق', 'موفقين']                                                           \n",
       "2  ['واله', 'يابو', 'دانه', 'لعنه', 'انهيار', 'السوق', '٢٠٦', 'حتي', 'اليوم', 'ملاحقه', 'سوقنا', 'ومع', 'اكتاب', 'ارامكو', 'عد', 'كبير', 'من', 'الناس', 'اكتبو', 'وصارو', 'يتابعون', 'السوق', 'واصبح', 'في', 'اهتمام', 'في', 'الفرص', 'الي', 'فيه', 'ولاسف', 'خابت', 'توقعات', 'الكثير', 'منهم', 'اعتقد', 'نحتاج', 'فتره', 'زمنيه', 'اطول', 'وتحسن', 'الاوضاع', 'الاقتصاديه', 'علشان', 'نصل', 'لمستويات', 'الي', 'ذكرها', 'الاخ']   \n",
       "3  ['استثمار', 'مادي', 'في', 'العلاقه', 'هذا', 'اكتاب', 'ارامكو', 'مو', 'حب']                                                                                                                                                                                                                                                                                                                                                       \n",
       "4  ['بالنسبه', 'لميزانيه', 'السعوديه', 'فقد', 'خرجت', 'من', 'ازمه', 'اسعار', 'النفط', 'علي', 'الاقل', 'لخمس', 'سنوات', 'القادمه', 'بسب', 'اكتاب', 'ارامكو', 'و', 'الخطه', 'الاستثماريه', 'الشجاعه', 'التي', 'اعتمدتها', 'في', 'السبع', 'سنوات', 'الاخيره', 'وعقبال', 'عندنا']                                                                                                                                                       \n",
       "\n",
       "            City  \n",
       "0  Not Given      \n",
       "1  Not Given      \n",
       "2  Not Given      \n",
       "3  Other Country  \n",
       "4  Not Given      "
      ]
     },
     "execution_count": 51,
     "metadata": {},
     "output_type": "execute_result"
    }
   ],
   "source": [
    "df_desc = pd.read_csv(\"final_cleaned.csv\")\n",
    "df_desc.head(5)"
   ]
  },
  {
   "cell_type": "code",
   "execution_count": 65,
   "metadata": {},
   "outputs": [],
   "source": [
    "df_desc = df_desc.rename(columns={'stance ': 'stance'}) #rename column to remove space\n",
    "df_desc= df_desc[df_desc.stance!= 'Natural']"
   ]
  },
  {
   "cell_type": "code",
   "execution_count": 81,
   "metadata": {},
   "outputs": [
    {
     "data": {
      "text/plain": [
       "array([['واله يابو دانه لعنه انهيار السوق ٢٠٦ حتي اليوم ملاحقه سوقنا ومع اكتاب ارامكو عد كبير من الناس اكتبو وصارو يتابعون السوق واصبح في اهتمام في الفرص الي فيه ولاسف خابت توقعات الكثير منهم اعتقد نحتاج فتره زمنيه اطول وتحسن الاوضاع الاقتصاديه علشان نصل لمستويات الي ذكرها الاخ'],\n",
       "       ['بالنسبه لميزانيه السعوديه فقد خرجت من ازمه اسعار النفط علي الاقل لخمس سنوات القادمه بسب اكتاب ارامكو و الخطه الاستثماريه الشجاعه التي اعتمدتها في السبع سنوات الاخيره وعقبال عندنا'],\n",
       "       ['السعوديه اصابها الشل الرباعي من يوم مامسك محمد بن سلمان الحكم الغلا زاد التجار انحاشوا بسب الرسوم البنزين صار غالي صار عندنا فقراء ومعدومين فرض الضريبه الي عمرنا ماسمعنا عنها حتي قبل البترول البطاله زادت معدل الجريمه زاد ركود اقتصادي وفشل في اكتاب ارامكو'],\n",
       "       ['في اكتاب ارامكو احسب اني بصير غني بسبه'],\n",
       "       ['اكتابارامكو يبدا ١ نوفمبر'],\n",
       "       ['حساب المواطن اكتاب ارامكو قائمه البنوك المشاركه في اكتاب ارا '],\n",
       "       ['بنك سامبا لم يستفد من اكتاب ارامكو كيف يستفيد الجزيره من اندماج المترديه والنطيحه'],\n",
       "       ['ارامكو تخط لطرح اكتاب جديد خارج الرياض ما خطوره ذلك ']],\n",
       "      dtype=object)"
      ]
     },
     "execution_count": 81,
     "metadata": {},
     "output_type": "execute_result"
    }
   ],
   "source": [
    "# Assign X to feature varaiables\n",
    "dataX = df_desc[['clean text']].values\n",
    "dataX[0:8]"
   ]
  },
  {
   "cell_type": "code",
   "execution_count": 82,
   "metadata": {},
   "outputs": [
    {
     "data": {
      "text/html": [
       "<div>\n",
       "<style scoped>\n",
       "    .dataframe tbody tr th:only-of-type {\n",
       "        vertical-align: middle;\n",
       "    }\n",
       "\n",
       "    .dataframe tbody tr th {\n",
       "        vertical-align: top;\n",
       "    }\n",
       "\n",
       "    .dataframe thead th {\n",
       "        text-align: right;\n",
       "    }\n",
       "</style>\n",
       "<table border=\"1\" class=\"dataframe\">\n",
       "  <thead>\n",
       "    <tr style=\"text-align: right;\">\n",
       "      <th></th>\n",
       "      <th>date</th>\n",
       "      <th>text</th>\n",
       "      <th>id</th>\n",
       "      <th>stance</th>\n",
       "      <th>location</th>\n",
       "      <th>clean text</th>\n",
       "      <th>tokens</th>\n",
       "      <th>City</th>\n",
       "    </tr>\n",
       "  </thead>\n",
       "  <tbody>\n",
       "    <tr>\n",
       "      <th>3672</th>\n",
       "      <td>12/5/2019 21:54</td>\n",
       "      <td>#اكتتاب_أرامكو تخصيص ١٥٠٠ سهم كحد اعلى للفرد الواحد رقم كبير والله ، كنت متوقع ٣٠٠ سهم ، اعتقد فرصه وضاعت</td>\n",
       "      <td>1.200000e+18</td>\n",
       "      <td>Positive</td>\n",
       "      <td>Not Given</td>\n",
       "      <td>وضع المكتبين في ارامكو اليوم نجاحاكتابارامكو</td>\n",
       "      <td>['وضع', 'المكتبين', 'في', 'ارامكو', 'اليوم', 'نجاحاكتابارامكو']</td>\n",
       "      <td>Not Given</td>\n",
       "    </tr>\n",
       "    <tr>\n",
       "      <th>3673</th>\n",
       "      <td>12/5/2019 21:54</td>\n",
       "      <td>اكتتاب أرامكو يجمع 446 مليار ريال بتغطية 465%.. و32 ريالا تسعير نهائي http://dlvr.it/RKlMYl</td>\n",
       "      <td>1.200000e+18</td>\n",
       "      <td>Negative</td>\n",
       "      <td>العربيه السعوديةمملكةالانسانيه</td>\n",
       "      <td>بلغت القيمه السوقيه ل ارامكو السعوديه بنهايه جلسه اليوم نحو 704 تريليون ريال لتقفز براس المال السوقي ل تداول الي نحو 895 تريليون ريال مقابل نحو 189 تريليون ريال بالجلسه السابقه التفاصيل نجاحاكتابارامكو تداولارامكو سهمارامكو</td>\n",
       "      <td>['بلغت', 'القيمه', 'السوقيه', 'ل', 'ارامكو', 'السعوديه', 'بنهايه', 'جلسه', 'اليوم', 'نحو', '704', 'تريليون', 'ريال', 'لتقفز', 'براس', 'المال', 'السوقي', 'ل', 'تداول', 'الي', 'نحو', '895', 'تريليون', 'ريال', 'مقابل', 'نحو', '189', 'تريليون', 'ريال', 'بالجلسه', 'السابقه', 'التفاصيل', 'نجاحاكتابارامكو', 'تداولارامكو', 'سهمارامكو']</td>\n",
       "      <td>Not Given</td>\n",
       "    </tr>\n",
       "    <tr>\n",
       "      <th>3675</th>\n",
       "      <td>12/5/2019 21:54</td>\n",
       "      <td>#اكتتاب_ارامكو الحمد الله مكتتب ب 10 اسهم بس القناعه شي جميل</td>\n",
       "      <td>1.200000e+18</td>\n",
       "      <td>Positive</td>\n",
       "      <td>الرياض</td>\n",
       "      <td>نجاحاكتابارامكو ثقافه الكسب السريع هي عثره في طريق الحريهالماليه</td>\n",
       "      <td>['نجاحاكتابارامكو', 'ثقافه', 'الكسب', 'السريع', 'هي', 'عثره', 'في', 'طريق', 'الحريهالماليه']</td>\n",
       "      <td>Other Country</td>\n",
       "    </tr>\n",
       "    <tr>\n",
       "      <th>3676</th>\n",
       "      <td>12/5/2019 21:54</td>\n",
       "      <td>#اكتتاب_أرامكو هو الأكبر بالعالم • إجمالي الأموال المجمعة 446 مليار • تخصيص 1500 سهم للمكتتب الفرد الواحد في #ارامكوا</td>\n",
       "      <td>1.200000e+18</td>\n",
       "      <td>Positive</td>\n",
       "      <td>Not Given</td>\n",
       "      <td>تسوق مع نون لحصول علي خصم 10 استخدام كود الخصم LMN48 نجاحاكتابارامكو</td>\n",
       "      <td>['تسوق', 'مع', 'نون', 'لحصول', 'علي', 'خصم', '10', 'استخدام', 'كود', 'الخصم', 'LMN48', 'نجاحاكتابارامكو']</td>\n",
       "      <td>Not Given</td>\n",
       "    </tr>\n",
       "    <tr>\n",
       "      <th>3677</th>\n",
       "      <td>12/5/2019 21:54</td>\n",
       "      <td>#اكتتاب_أرامكو يصبح الأكبر في العالم بقيمة 25.6 مليار دولار • تخطّت قيمة #طلبات_الاكتتاب 119 مليار دولار</td>\n",
       "      <td>1.200000e+18</td>\n",
       "      <td>Positive</td>\n",
       "      <td>الرياض, المملكة العربية السعودية</td>\n",
       "      <td>مكن تعيدون الاكتاب شوي نبغي نكتب انا وصاحبتي نجاحاكتابارامكو</td>\n",
       "      <td>['مكن', 'تعيدون', 'الاكتاب', 'شوي', 'نبغي', 'نكتب', 'انا', 'وصاحبتي', 'نجاحاكتابارامكو']</td>\n",
       "      <td>Riyadh</td>\n",
       "    </tr>\n",
       "  </tbody>\n",
       "</table>\n",
       "</div>"
      ],
      "text/plain": [
       "                 date  \\\n",
       "3672  12/5/2019 21:54   \n",
       "3673  12/5/2019 21:54   \n",
       "3675  12/5/2019 21:54   \n",
       "3676  12/5/2019 21:54   \n",
       "3677  12/5/2019 21:54   \n",
       "\n",
       "                                                                                                                       text  \\\n",
       "3672  #اكتتاب_أرامكو تخصيص ١٥٠٠ سهم كحد اعلى للفرد الواحد رقم كبير والله ، كنت متوقع ٣٠٠ سهم ، اعتقد فرصه وضاعت               \n",
       "3673  اكتتاب أرامكو يجمع 446 مليار ريال بتغطية 465%.. و32 ريالا تسعير نهائي http://dlvr.it/RKlMYl                             \n",
       "3675  #اكتتاب_ارامكو الحمد الله مكتتب ب 10 اسهم بس القناعه شي جميل                                                            \n",
       "3676  #اكتتاب_أرامكو هو الأكبر بالعالم • إجمالي الأموال المجمعة 446 مليار • تخصيص 1500 سهم للمكتتب الفرد الواحد في #ارامكوا   \n",
       "3677  #اكتتاب_أرامكو يصبح الأكبر في العالم بقيمة 25.6 مليار دولار • تخطّت قيمة #طلبات_الاكتتاب 119 مليار دولار                \n",
       "\n",
       "                id    stance                          location  \\\n",
       "3672  1.200000e+18  Positive  Not Given                          \n",
       "3673  1.200000e+18  Negative  العربيه السعوديةمملكةالانسانيه     \n",
       "3675  1.200000e+18  Positive  الرياض                             \n",
       "3676  1.200000e+18  Positive  Not Given                          \n",
       "3677  1.200000e+18  Positive  الرياض, المملكة العربية السعودية   \n",
       "\n",
       "                                                                                                                                                                                                                            clean text  \\\n",
       "3672  وضع المكتبين في ارامكو اليوم نجاحاكتابارامكو                                                                                                                                                                                       \n",
       "3673  بلغت القيمه السوقيه ل ارامكو السعوديه بنهايه جلسه اليوم نحو 704 تريليون ريال لتقفز براس المال السوقي ل تداول الي نحو 895 تريليون ريال مقابل نحو 189 تريليون ريال بالجلسه السابقه التفاصيل نجاحاكتابارامكو تداولارامكو سهمارامكو    \n",
       "3675  نجاحاكتابارامكو ثقافه الكسب السريع هي عثره في طريق الحريهالماليه                                                                                                                                                                   \n",
       "3676   تسوق مع نون لحصول علي خصم 10 استخدام كود الخصم LMN48 نجاحاكتابارامكو                                                                                                                                                              \n",
       "3677  مكن تعيدون الاكتاب شوي نبغي نكتب انا وصاحبتي نجاحاكتابارامكو                                                                                                                                                                       \n",
       "\n",
       "                                                                                                                                                                                                                                                                                                                                         tokens  \\\n",
       "3672  ['وضع', 'المكتبين', 'في', 'ارامكو', 'اليوم', 'نجاحاكتابارامكو']                                                                                                                                                                                                                                                                             \n",
       "3673  ['بلغت', 'القيمه', 'السوقيه', 'ل', 'ارامكو', 'السعوديه', 'بنهايه', 'جلسه', 'اليوم', 'نحو', '704', 'تريليون', 'ريال', 'لتقفز', 'براس', 'المال', 'السوقي', 'ل', 'تداول', 'الي', 'نحو', '895', 'تريليون', 'ريال', 'مقابل', 'نحو', '189', 'تريليون', 'ريال', 'بالجلسه', 'السابقه', 'التفاصيل', 'نجاحاكتابارامكو', 'تداولارامكو', 'سهمارامكو']   \n",
       "3675  ['نجاحاكتابارامكو', 'ثقافه', 'الكسب', 'السريع', 'هي', 'عثره', 'في', 'طريق', 'الحريهالماليه']                                                                                                                                                                                                                                                \n",
       "3676  ['تسوق', 'مع', 'نون', 'لحصول', 'علي', 'خصم', '10', 'استخدام', 'كود', 'الخصم', 'LMN48', 'نجاحاكتابارامكو']                                                                                                                                                                                                                                   \n",
       "3677  ['مكن', 'تعيدون', 'الاكتاب', 'شوي', 'نبغي', 'نكتب', 'انا', 'وصاحبتي', 'نجاحاكتابارامكو']                                                                                                                                                                                                                                                    \n",
       "\n",
       "               City  \n",
       "3672  Not Given      \n",
       "3673  Not Given      \n",
       "3675  Other Country  \n",
       "3676  Not Given      \n",
       "3677  Riyadh         "
      ]
     },
     "execution_count": 82,
     "metadata": {},
     "output_type": "execute_result"
    }
   ],
   "source": [
    "df_desc.tail(5)"
   ]
  },
  {
   "cell_type": "code",
   "execution_count": 83,
   "metadata": {},
   "outputs": [
    {
     "data": {
      "text/plain": [
       "2     Negative\n",
       "4     Positive\n",
       "7     Positive\n",
       "11    Positive\n",
       "13    Negative\n",
       "21    Positive\n",
       "23    Negative\n",
       "24    Negative\n",
       "Name: stance, dtype: object"
      ]
     },
     "execution_count": 83,
     "metadata": {},
     "output_type": "execute_result"
    }
   ],
   "source": [
    "# Assign y to target varaiable (stance)\n",
    "y = df_desc['stance']\n",
    "y[0:8]"
   ]
  },
  {
   "cell_type": "code",
   "execution_count": 84,
   "metadata": {},
   "outputs": [],
   "source": [
    "# Use TfidfVectorizer for feature extraction (TFIDF to convert textual data to numeric form):\n",
    "tf_dec = TfidfVectorizer()\n",
    "X = tf_dec.fit_transform(dataX.ravel())"
   ]
  },
  {
   "cell_type": "code",
   "execution_count": 95,
   "metadata": {},
   "outputs": [],
   "source": [
    "#Splitting of Data into train and test set took 30% of data as testing and 70% for training the model\n",
    "X_trainset, X_testset, y_trainset, y_testset = train_test_split(X, y, test_size=0.3) "
   ]
  },
  {
   "cell_type": "code",
   "execution_count": 96,
   "metadata": {},
   "outputs": [
    {
     "name": "stdout",
     "output_type": "stream",
     "text": [
      "(1923, 12968)\n",
      "(1923,)\n"
     ]
    }
   ],
   "source": [
    "print(np.shape(X_trainset))\n",
    "print(np.shape(y_trainset))"
   ]
  },
  {
   "cell_type": "code",
   "execution_count": 97,
   "metadata": {},
   "outputs": [
    {
     "name": "stdout",
     "output_type": "stream",
     "text": [
      "(825, 12968)\n",
      "(825,)\n"
     ]
    }
   ],
   "source": [
    "print(np.shape(X_testset))\n",
    "print(np.shape(y_testset))"
   ]
  },
  {
   "cell_type": "code",
   "execution_count": 98,
   "metadata": {},
   "outputs": [
    {
     "data": {
      "text/plain": [
       "DecisionTreeClassifier(ccp_alpha=0.0, class_weight=None, criterion='entropy',\n",
       "                       max_depth=None, max_features=None, max_leaf_nodes=None,\n",
       "                       min_impurity_decrease=0.0, min_impurity_split=None,\n",
       "                       min_samples_leaf=1, min_samples_split=2,\n",
       "                       min_weight_fraction_leaf=0.0, presort='deprecated',\n",
       "                       random_state=None, splitter='best')"
      ]
     },
     "execution_count": 98,
     "metadata": {},
     "output_type": "execute_result"
    }
   ],
   "source": [
    "descTree = DecisionTreeClassifier(criterion=\"entropy\",max_depth=None) # Define Model\n",
    "descTree.fit(X_trainset,y_trainset) # train the model using training set\n",
    "predTree = descTree.predict(X_testset)  # test the model using testing set\n",
    "descTree"
   ]
  },
  {
   "cell_type": "markdown",
   "metadata": {},
   "source": [
    "#### Accuracy of classifier"
   ]
  },
  {
   "cell_type": "code",
   "execution_count": 99,
   "metadata": {},
   "outputs": [
    {
     "name": "stdout",
     "output_type": "stream",
     "text": [
      "['Positive' 'Positive' 'Positive' 'Positive' 'Positive' 'Positive'\n",
      " 'Positive' 'Positive']\n",
      "2395    Negative\n",
      "341     Negative\n",
      "1736    Negative\n",
      "3048    Positive\n",
      "3275    Negative\n",
      "1771    Positive\n",
      "2712    Positive\n",
      "3328    Negative\n",
      "Name: stance, dtype: object\n"
     ]
    }
   ],
   "source": [
    "print (predTree [0:8])\n",
    "print (y_testset [0:8])"
   ]
  },
  {
   "cell_type": "code",
   "execution_count": 100,
   "metadata": {},
   "outputs": [
    {
     "name": "stdout",
     "output_type": "stream",
     "text": [
      "DecisionTrees's Accuracy:  0.6484848484848484\n"
     ]
    }
   ],
   "source": [
    "print(\"DecisionTrees's Accuracy: \", metrics.accuracy_score(y_testset, predTree))"
   ]
  },
  {
   "cell_type": "markdown",
   "metadata": {},
   "source": [
    "#### Do a 10 fold cross-validation "
   ]
  },
  {
   "cell_type": "code",
   "execution_count": 101,
   "metadata": {},
   "outputs": [
    {
     "name": "stdout",
     "output_type": "stream",
     "text": [
      "\n",
      "10-fold cross-validation:\n",
      "[0.57090909 0.58545455 0.57818182 0.63272727 0.64363636 0.63272727\n",
      " 0.62545455 0.63272727 0.5729927  0.61678832]\n",
      "The average accuracy of the Decision tree classifier is : 0.61\n",
      "\n",
      "Confusion matrix of the Decision tree classifier:\n",
      "[[ 57 156]\n",
      " [134 478]]\n",
      "\n",
      "Classification_report of Decision tree classifier:\n",
      "              precision    recall  f1-score   support\n",
      "\n",
      "    Negative       0.30      0.27      0.28       213\n",
      "    Positive       0.75      0.78      0.77       612\n",
      "\n",
      "    accuracy                           0.65       825\n",
      "   macro avg       0.53      0.52      0.52       825\n",
      "weighted avg       0.64      0.65      0.64       825\n",
      "\n",
      "----------------------------------------------------------------------------\n"
     ]
    }
   ],
   "source": [
    "results_dt = cross_val_score(descTree, X,y, cv=10)\n",
    "print(\"\\n10-fold cross-validation:\")\n",
    "print(results_dt)\n",
    "\n",
    "print(\"The average accuracy of the Decision tree classifier is : %.2f\" % np.mean(results_dt))\n",
    "\n",
    "print(\"\\nConfusion matrix of the Decision tree classifier:\")\n",
    "predicted_dt = descTree.predict(X_testset)\n",
    "print(confusion_matrix(y_testset,predicted_dt))\n",
    "\n",
    "\n",
    "print(\"\\nClassification_report of Decision tree classifier:\")\n",
    "print(classification_report(y_testset,predicted_dt))\n",
    "print(\"----------------------------------------------------------------------------\")"
   ]
  },
  {
   "cell_type": "markdown",
   "metadata": {},
   "source": [
    "# Naive Bayes"
   ]
  },
  {
   "cell_type": "code",
   "execution_count": 38,
   "metadata": {},
   "outputs": [],
   "source": [
    "\n",
    "from sklearn.feature_extraction.text import TfidfVectorizer\n",
    "from sklearn.model_selection import train_test_split\n",
    "from sklearn import svm\n",
    "from sklearn.linear_model import LogisticRegression\n",
    "from sklearn.naive_bayes import MultinomialNB\n",
    "from sklearn.model_selection import cross_val_score, cross_val_predict, KFold\n",
    "from sklearn.metrics  import confusion_matrix, classification_report\n",
    "from sklearn import metrics"
   ]
  },
  {
   "cell_type": "code",
   "execution_count": 39,
   "metadata": {},
   "outputs": [],
   "source": [
    "df = pd.read_csv(\"final_cleaned.csv\")"
   ]
  },
  {
   "cell_type": "code",
   "execution_count": 6,
   "metadata": {},
   "outputs": [
    {
     "data": {
      "text/html": [
       "<div>\n",
       "<style scoped>\n",
       "    .dataframe tbody tr th:only-of-type {\n",
       "        vertical-align: middle;\n",
       "    }\n",
       "\n",
       "    .dataframe tbody tr th {\n",
       "        vertical-align: top;\n",
       "    }\n",
       "\n",
       "    .dataframe thead th {\n",
       "        text-align: right;\n",
       "    }\n",
       "</style>\n",
       "<table border=\"1\" class=\"dataframe\">\n",
       "  <thead>\n",
       "    <tr style=\"text-align: right;\">\n",
       "      <th></th>\n",
       "      <th>date</th>\n",
       "      <th>text</th>\n",
       "      <th>id</th>\n",
       "      <th>stance</th>\n",
       "      <th>location</th>\n",
       "      <th>clean text</th>\n",
       "      <th>tokens</th>\n",
       "      <th>City</th>\n",
       "    </tr>\n",
       "  </thead>\n",
       "  <tbody>\n",
       "    <tr>\n",
       "      <th>0</th>\n",
       "      <td>3/7/2020 20:40</td>\n",
       "      <td>السلام عليكم هل اقدر ابيع جزء من اسهم اكتتاب ارامكو ؟ من تطبيق المباشر للافراد</td>\n",
       "      <td>1.240000e+18</td>\n",
       "      <td>Natural</td>\n",
       "      <td>Not Given</td>\n",
       "      <td>السلام عليكم هل اقدر ابيع جزء من اسهم اكتاب ارامكو من تطبيق المباشر لافراد</td>\n",
       "      <td>['السلام', 'عليكم', 'هل', 'اقدر', 'ابيع', 'جزء', 'من', 'اسهم', 'اكتاب', 'ارامكو', 'من', 'تطبيق', 'المباشر', 'لافراد']</td>\n",
       "      <td>Not Given</td>\n",
       "    </tr>\n",
       "    <tr>\n",
       "      <th>1</th>\n",
       "      <td>3/7/2020 10:26</td>\n",
       "      <td>#تاسي مساء الخير ... غداً تستأنف التداولات في السوق السعودي بعد فشل اتفاق اوبك بلس وهبوط اسعار النفط لمستويات متدنية جديدة * توقعاتكم للاسبوع المقبل ؟ كتوقع شخصي ١. كسر سعر اكتتاب ارامكو . ٢. كسر مستوى ٧٠٠٠ نقطة . ٣. هناك أسهم ستعاكس اتجاه السوق موفقين</td>\n",
       "      <td>1.240000e+18</td>\n",
       "      <td>Natural</td>\n",
       "      <td>Not Given</td>\n",
       "      <td>تاسي مساء الخير غداً تستانف التداولات في السوق السعودي بعد فشل اتفاق اوبك بلس وهبوط اسعار النفط لمستويات متدنيه جديده توقعاتكم لاسبوع المقبل كتوقع شخصي ١ كسر سعر اكتاب ارامكو ٢ كسر مستوي ٧٠ نقطه ٣ هناك اسهم ستعاكس اتجاه السوق موفقين</td>\n",
       "      <td>['تاسي', 'مساء', 'الخير', 'غدا', 'تستانف', 'التداولات', 'في', 'السوق', 'السعودي', 'بعد', 'فشل', 'اتفاق', 'اوبك', 'بلس', 'وهبوط', 'اسعار', 'النفط', 'لمستويات', 'متدنيه', 'جديده', 'توقعاتكم', 'لاسبوع', 'المقبل', 'كتوقع', 'شخصي', '١', 'كسر', 'سعر', 'اكتاب', 'ارامكو', '٢', 'كسر', 'مستوي', '٧٠', 'نقطه', '٣', 'هناك', 'اسهم', 'ستعاكس', 'اتجاه', 'السوق', 'موفقين']</td>\n",
       "      <td>Not Given</td>\n",
       "    </tr>\n",
       "    <tr>\n",
       "      <th>2</th>\n",
       "      <td>3/7/2020 10:11</td>\n",
       "      <td>والله يابو دانة لعنة انهيار السوق ٢٠٠٦ حتى اليوم ملاحقة سوقنا ، ومع اكتتاب ارامكو عدد كبير من الناس اكتتبو وصارو يتابعون السوق وأصبح في اهتمام في الفرص الي فيه وللأسف خابت توقعات الكثير منهم ، اعتقد نحتاج فتره زمنية اطول وتحسن الأوضاع الاقتصادية علشان نصل للمستويات الي ذكرها الاخ</td>\n",
       "      <td>1.240000e+18</td>\n",
       "      <td>Negative</td>\n",
       "      <td>Kingdom of Saudi Arabia</td>\n",
       "      <td>واله يابو دانه لعنه انهيار السوق ٢٠٦ حتي اليوم ملاحقه سوقنا ومع اكتاب ارامكو عد كبير من الناس اكتبو وصارو يتابعون السوق واصبح في اهتمام في الفرص الي فيه ولاسف خابت توقعات الكثير منهم اعتقد نحتاج فتره زمنيه اطول وتحسن الاوضاع الاقتصاديه علشان نصل لمستويات الي ذكرها الاخ</td>\n",
       "      <td>['واله', 'يابو', 'دانه', 'لعنه', 'انهيار', 'السوق', '٢٠٦', 'حتي', 'اليوم', 'ملاحقه', 'سوقنا', 'ومع', 'اكتاب', 'ارامكو', 'عد', 'كبير', 'من', 'الناس', 'اكتبو', 'وصارو', 'يتابعون', 'السوق', 'واصبح', 'في', 'اهتمام', 'في', 'الفرص', 'الي', 'فيه', 'ولاسف', 'خابت', 'توقعات', 'الكثير', 'منهم', 'اعتقد', 'نحتاج', 'فتره', 'زمنيه', 'اطول', 'وتحسن', 'الاوضاع', 'الاقتصاديه', 'علشان', 'نصل', 'لمستويات', 'الي', 'ذكرها', 'الاخ']</td>\n",
       "      <td>Not Given</td>\n",
       "    </tr>\n",
       "    <tr>\n",
       "      <th>3</th>\n",
       "      <td>3/7/2020 9:50</td>\n",
       "      <td>استثمار مادي في العلاقه ! هذا اكتتاب ارامكو مو حب</td>\n",
       "      <td>1.240000e+18</td>\n",
       "      <td>Natural</td>\n",
       "      <td>قضاعه</td>\n",
       "      <td>استثمار مادي في العلاقه هذا اكتاب ارامكو مو حب</td>\n",
       "      <td>['استثمار', 'مادي', 'في', 'العلاقه', 'هذا', 'اكتاب', 'ارامكو', 'مو', 'حب']</td>\n",
       "      <td>Other Country</td>\n",
       "    </tr>\n",
       "    <tr>\n",
       "      <th>4</th>\n",
       "      <td>3/7/2020 8:07</td>\n",
       "      <td>بالنسبة للميزانية السعوديه فقد خرجت من أزمة اسعار النفط على الأقل للخمس سنوات القادمه بسبب اكتتاب أرامكو و الخطه الاستثمارية الشجاعة التي اعتمدتها في السبع سنوات الاخيره وعقبال عندنا</td>\n",
       "      <td>1.240000e+18</td>\n",
       "      <td>Positive</td>\n",
       "      <td>Not Given</td>\n",
       "      <td>بالنسبه لميزانيه السعوديه فقد خرجت من ازمه اسعار النفط علي الاقل لخمس سنوات القادمه بسب اكتاب ارامكو و الخطه الاستثماريه الشجاعه التي اعتمدتها في السبع سنوات الاخيره وعقبال عندنا</td>\n",
       "      <td>['بالنسبه', 'لميزانيه', 'السعوديه', 'فقد', 'خرجت', 'من', 'ازمه', 'اسعار', 'النفط', 'علي', 'الاقل', 'لخمس', 'سنوات', 'القادمه', 'بسب', 'اكتاب', 'ارامكو', 'و', 'الخطه', 'الاستثماريه', 'الشجاعه', 'التي', 'اعتمدتها', 'في', 'السبع', 'سنوات', 'الاخيره', 'وعقبال', 'عندنا']</td>\n",
       "      <td>Not Given</td>\n",
       "    </tr>\n",
       "  </tbody>\n",
       "</table>\n",
       "</div>"
      ],
      "text/plain": [
       "             date  \\\n",
       "0  3/7/2020 20:40   \n",
       "1  3/7/2020 10:26   \n",
       "2  3/7/2020 10:11   \n",
       "3  3/7/2020 9:50    \n",
       "4  3/7/2020 8:07    \n",
       "\n",
       "                                                                                                                                                                                                                                                                                       text  \\\n",
       "0  السلام عليكم هل اقدر ابيع جزء من اسهم اكتتاب ارامكو ؟ من تطبيق المباشر للافراد                                                                                                                                                                                                             \n",
       "1  #تاسي مساء الخير ... غداً تستأنف التداولات في السوق السعودي بعد فشل اتفاق اوبك بلس وهبوط اسعار النفط لمستويات متدنية جديدة * توقعاتكم للاسبوع المقبل ؟ كتوقع شخصي ١. كسر سعر اكتتاب ارامكو . ٢. كسر مستوى ٧٠٠٠ نقطة . ٣. هناك أسهم ستعاكس اتجاه السوق موفقين                               \n",
       "2  والله يابو دانة لعنة انهيار السوق ٢٠٠٦ حتى اليوم ملاحقة سوقنا ، ومع اكتتاب ارامكو عدد كبير من الناس اكتتبو وصارو يتابعون السوق وأصبح في اهتمام في الفرص الي فيه وللأسف خابت توقعات الكثير منهم ، اعتقد نحتاج فتره زمنية اطول وتحسن الأوضاع الاقتصادية علشان نصل للمستويات الي ذكرها الاخ   \n",
       "3  استثمار مادي في العلاقه ! هذا اكتتاب ارامكو مو حب                                                                                                                                                                                                                                          \n",
       "4  بالنسبة للميزانية السعوديه فقد خرجت من أزمة اسعار النفط على الأقل للخمس سنوات القادمه بسبب اكتتاب أرامكو و الخطه الاستثمارية الشجاعة التي اعتمدتها في السبع سنوات الاخيره وعقبال عندنا                                                                                                     \n",
       "\n",
       "             id   stance                  location  \\\n",
       "0  1.240000e+18  Natural   Not Given                 \n",
       "1  1.240000e+18  Natural   Not Given                 \n",
       "2  1.240000e+18  Negative  Kingdom of Saudi Arabia   \n",
       "3  1.240000e+18  Natural   قضاعه                     \n",
       "4  1.240000e+18  Positive  Not Given                 \n",
       "\n",
       "                                                                                                                                                                                                                                                                      clean text  \\\n",
       "0  السلام عليكم هل اقدر ابيع جزء من اسهم اكتاب ارامكو من تطبيق المباشر لافراد                                                                                                                                                                                                      \n",
       "1  تاسي مساء الخير غداً تستانف التداولات في السوق السعودي بعد فشل اتفاق اوبك بلس وهبوط اسعار النفط لمستويات متدنيه جديده توقعاتكم لاسبوع المقبل كتوقع شخصي ١ كسر سعر اكتاب ارامكو ٢ كسر مستوي ٧٠ نقطه ٣ هناك اسهم ستعاكس اتجاه السوق موفقين                                        \n",
       "2  واله يابو دانه لعنه انهيار السوق ٢٠٦ حتي اليوم ملاحقه سوقنا ومع اكتاب ارامكو عد كبير من الناس اكتبو وصارو يتابعون السوق واصبح في اهتمام في الفرص الي فيه ولاسف خابت توقعات الكثير منهم اعتقد نحتاج فتره زمنيه اطول وتحسن الاوضاع الاقتصاديه علشان نصل لمستويات الي ذكرها الاخ   \n",
       "3  استثمار مادي في العلاقه هذا اكتاب ارامكو مو حب                                                                                                                                                                                                                                  \n",
       "4  بالنسبه لميزانيه السعوديه فقد خرجت من ازمه اسعار النفط علي الاقل لخمس سنوات القادمه بسب اكتاب ارامكو و الخطه الاستثماريه الشجاعه التي اعتمدتها في السبع سنوات الاخيره وعقبال عندنا                                                                                              \n",
       "\n",
       "                                                                                                                                                                                                                                                                                                                                                                                                                           tokens  \\\n",
       "0  ['السلام', 'عليكم', 'هل', 'اقدر', 'ابيع', 'جزء', 'من', 'اسهم', 'اكتاب', 'ارامكو', 'من', 'تطبيق', 'المباشر', 'لافراد']                                                                                                                                                                                                                                                                                                            \n",
       "1  ['تاسي', 'مساء', 'الخير', 'غدا', 'تستانف', 'التداولات', 'في', 'السوق', 'السعودي', 'بعد', 'فشل', 'اتفاق', 'اوبك', 'بلس', 'وهبوط', 'اسعار', 'النفط', 'لمستويات', 'متدنيه', 'جديده', 'توقعاتكم', 'لاسبوع', 'المقبل', 'كتوقع', 'شخصي', '١', 'كسر', 'سعر', 'اكتاب', 'ارامكو', '٢', 'كسر', 'مستوي', '٧٠', 'نقطه', '٣', 'هناك', 'اسهم', 'ستعاكس', 'اتجاه', 'السوق', 'موفقين']                                                           \n",
       "2  ['واله', 'يابو', 'دانه', 'لعنه', 'انهيار', 'السوق', '٢٠٦', 'حتي', 'اليوم', 'ملاحقه', 'سوقنا', 'ومع', 'اكتاب', 'ارامكو', 'عد', 'كبير', 'من', 'الناس', 'اكتبو', 'وصارو', 'يتابعون', 'السوق', 'واصبح', 'في', 'اهتمام', 'في', 'الفرص', 'الي', 'فيه', 'ولاسف', 'خابت', 'توقعات', 'الكثير', 'منهم', 'اعتقد', 'نحتاج', 'فتره', 'زمنيه', 'اطول', 'وتحسن', 'الاوضاع', 'الاقتصاديه', 'علشان', 'نصل', 'لمستويات', 'الي', 'ذكرها', 'الاخ']   \n",
       "3  ['استثمار', 'مادي', 'في', 'العلاقه', 'هذا', 'اكتاب', 'ارامكو', 'مو', 'حب']                                                                                                                                                                                                                                                                                                                                                       \n",
       "4  ['بالنسبه', 'لميزانيه', 'السعوديه', 'فقد', 'خرجت', 'من', 'ازمه', 'اسعار', 'النفط', 'علي', 'الاقل', 'لخمس', 'سنوات', 'القادمه', 'بسب', 'اكتاب', 'ارامكو', 'و', 'الخطه', 'الاستثماريه', 'الشجاعه', 'التي', 'اعتمدتها', 'في', 'السبع', 'سنوات', 'الاخيره', 'وعقبال', 'عندنا']                                                                                                                                                       \n",
       "\n",
       "            City  \n",
       "0  Not Given      \n",
       "1  Not Given      \n",
       "2  Not Given      \n",
       "3  Other Country  \n",
       "4  Not Given      "
      ]
     },
     "execution_count": 6,
     "metadata": {},
     "output_type": "execute_result"
    }
   ],
   "source": [
    "df.head()"
   ]
  },
  {
   "cell_type": "code",
   "execution_count": 40,
   "metadata": {},
   "outputs": [],
   "source": [
    "df=df[ df[\"stance \"] != \"Natural\"]"
   ]
  },
  {
   "cell_type": "code",
   "execution_count": 41,
   "metadata": {},
   "outputs": [],
   "source": [
    "df=df[ df[\"stance \"] != \"natural\"]"
   ]
  },
  {
   "cell_type": "code",
   "execution_count": 42,
   "metadata": {},
   "outputs": [],
   "source": [
    "df=df[ df[\"stance \"] != \"natural \"]"
   ]
  },
  {
   "cell_type": "code",
   "execution_count": 43,
   "metadata": {},
   "outputs": [],
   "source": [
    "df=df[ df[\"stance \"] != \"Natural \"]"
   ]
  },
  {
   "cell_type": "code",
   "execution_count": 228,
   "metadata": {},
   "outputs": [
    {
     "data": {
      "text/html": [
       "<div>\n",
       "<style scoped>\n",
       "    .dataframe tbody tr th:only-of-type {\n",
       "        vertical-align: middle;\n",
       "    }\n",
       "\n",
       "    .dataframe tbody tr th {\n",
       "        vertical-align: top;\n",
       "    }\n",
       "\n",
       "    .dataframe thead th {\n",
       "        text-align: right;\n",
       "    }\n",
       "</style>\n",
       "<table border=\"1\" class=\"dataframe\">\n",
       "  <thead>\n",
       "    <tr style=\"text-align: right;\">\n",
       "      <th></th>\n",
       "      <th>date</th>\n",
       "      <th>text</th>\n",
       "      <th>id</th>\n",
       "      <th>stance</th>\n",
       "      <th>location</th>\n",
       "      <th>clean text</th>\n",
       "      <th>tokens</th>\n",
       "      <th>City</th>\n",
       "    </tr>\n",
       "  </thead>\n",
       "  <tbody>\n",
       "    <tr>\n",
       "      <th>2</th>\n",
       "      <td>03/07/2020 10:11</td>\n",
       "      <td>والله يابو دانة لعنة انهيار السوق ٢٠٠٦ حتى اليوم ملاحقة سوقنا ، ومع اكتتاب ارامكو عدد كبير من الناس اكتتبو وصارو يتابعون السوق وأصبح في اهتمام في الفرص الي فيه وللأسف خابت توقعات الكثير منهم ، اعتقد نحتاج فتره زمنية اطول وتحسن الأوضاع الاقتصادية علشان نصل للمستويات الي ذكرها الاخ</td>\n",
       "      <td>1.240000e+18</td>\n",
       "      <td>Negative</td>\n",
       "      <td>Kingdom of Saudi Arabia</td>\n",
       "      <td>واله يابو دانه لعنه انهيار السوق ٢٠٦ حتي اليوم ملاحقه سوقنا ومع اكتاب ارامكو عد كبير من الناس اكتبو وصارو يتابعون السوق واصبح في اهتمام في الفرص الي فيه ولاسف خابت توقعات الكثير منهم اعتقد نحتاج فتره زمنيه اطول وتحسن الاوضاع الاقتصاديه علشان نصل لمستويات الي ذكرها الاخ</td>\n",
       "      <td>['واله', 'يابو', 'دانه', 'لعنه', 'انهيار', 'السوق', '٢٠٦', 'حتي', 'اليوم', 'ملاحقه', 'سوقنا', 'ومع', 'اكتاب', 'ارامكو', 'عد', 'كبير', 'من', 'الناس', 'اكتبو', 'وصارو', 'يتابعون', 'السوق', 'واصبح', 'في', 'اهتمام', 'في', 'الفرص', 'الي', 'فيه', 'ولاسف', 'خابت', 'توقعات', 'الكثير', 'منهم', 'اعتقد', 'نحتاج', 'فتره', 'زمنيه', 'اطول', 'وتحسن', 'الاوضاع', 'الاقتصاديه', 'علشان', 'نصل', 'لمستويات', 'الي', 'ذكرها', 'الاخ']</td>\n",
       "      <td>Not Given</td>\n",
       "    </tr>\n",
       "    <tr>\n",
       "      <th>4</th>\n",
       "      <td>03/07/2020 8:07</td>\n",
       "      <td>بالنسبة للميزانية السعوديه فقد خرجت من أزمة اسعار النفط على الأقل للخمس سنوات القادمه بسبب اكتتاب أرامكو و الخطه الاستثمارية الشجاعة التي اعتمدتها في السبع سنوات الاخيره وعقبال عندنا</td>\n",
       "      <td>1.240000e+18</td>\n",
       "      <td>Positive</td>\n",
       "      <td>Not Given</td>\n",
       "      <td>بالنسبه لميزانيه السعوديه فقد خرجت من ازمه اسعار النفط علي الاقل لخمس سنوات القادمه بسب اكتاب ارامكو و الخطه الاستثماريه الشجاعه التي اعتمدتها في السبع سنوات الاخيره وعقبال عندنا</td>\n",
       "      <td>['بالنسبه', 'لميزانيه', 'السعوديه', 'فقد', 'خرجت', 'من', 'ازمه', 'اسعار', 'النفط', 'علي', 'الاقل', 'لخمس', 'سنوات', 'القادمه', 'بسب', 'اكتاب', 'ارامكو', 'و', 'الخطه', 'الاستثماريه', 'الشجاعه', 'التي', 'اعتمدتها', 'في', 'السبع', 'سنوات', 'الاخيره', 'وعقبال', 'عندنا']</td>\n",
       "      <td>Not Given</td>\n",
       "    </tr>\n",
       "    <tr>\n",
       "      <th>7</th>\n",
       "      <td>03/06/2020 15:36</td>\n",
       "      <td>طبعاً هذا كان قبل اكتتاب أرامكو بعدها وصلت السعودية ل المركز التاسع على مستوى العالم و السابعه دولياً و تحققت رؤية ٢٠٣٠ ب نهاية ٢٠١٩</td>\n",
       "      <td>1.240000e+18</td>\n",
       "      <td>Positive</td>\n",
       "      <td>اللهم إرحم جدي.</td>\n",
       "      <td>السعوديه اصابها الشل الرباعي من يوم مامسك محمد بن سلمان الحكم الغلا زاد التجار انحاشوا بسب الرسوم البنزين صار غالي صار عندنا فقراء ومعدومين فرض الضريبه الي عمرنا ماسمعنا عنها حتي قبل البترول البطاله زادت معدل الجريمه زاد ركود اقتصادي وفشل في اكتاب ارامكو</td>\n",
       "      <td>['السعوديه', 'اصابها', 'الشل', 'الرباعي', 'من', 'يوم', 'مامسك', 'محمد', 'بن', 'سلمان', 'الحكم', 'الغلا', 'زاد', 'التجار', 'انحاشوا', 'بسب', 'الرسوم', 'البنزين', 'صار', 'غالي', 'صار', 'عندنا', 'فقراء', 'ومعدومين', 'فرض', 'الضريبه', 'الي', 'عمرنا', 'ماسمعنا', 'عنها', 'حتي', 'قبل', 'البترول', 'البطاله', 'زادت', 'معدل', 'الجريمه', 'زاد', 'ركود', 'اقتصادي', 'وفشل', 'في', 'اكتاب', 'ارامكو']</td>\n",
       "      <td>Other Country</td>\n",
       "    </tr>\n",
       "    <tr>\n",
       "      <th>11</th>\n",
       "      <td>03/04/2020 16:27</td>\n",
       "      <td>طريقة تفكيرك جد متخلفة واليوم العالم كله خرج من عزلته وأصبح يصطاد العلماء والخبرات ويقوم بتوظيفها في بلاده للإستفادة منها وانت حسابها عيب ملاحظة :آخر اكتتاب طرحته أرامكو جلب أكثر من 2 تريليون دولار وهو سابقة في تاريخ الشركات القابضة وهذا داخل السعودية فقط وقريب تطرح خارجها.</td>\n",
       "      <td>1.240000e+18</td>\n",
       "      <td>Positive</td>\n",
       "      <td>سطيف (الجزائر)🇩🇿🇩🇿</td>\n",
       "      <td>في اكتاب ارامكو احسب اني بصير غني بسبه</td>\n",
       "      <td>['في', 'اكتاب', 'ارامكو', 'احسب', 'اني', 'بصير', 'غني', 'بسبه']</td>\n",
       "      <td>Other Country</td>\n",
       "    </tr>\n",
       "    <tr>\n",
       "      <th>13</th>\n",
       "      <td>03/04/2020 12:36</td>\n",
       "      <td>وين كانت الموضوعية أيام اكتتاب أوامكو كنت تحمس العالم فيها ..اتذكر بعدها ظهرت في اذاعة يو اف ام وتغير كلامك عن أرامكو وقلت فيما معناه \"الان الاكتتاب خلص وترى ارامكو أرباحها متوقع بأن لاتكون مثل ماضيها...الخ\" احترم شخصك ولو اختلفت معك في نسبة الموضوعية لك</td>\n",
       "      <td>1.240000e+18</td>\n",
       "      <td>Negative</td>\n",
       "      <td>Not Given</td>\n",
       "      <td>اكتابارامكو يبدا ١ نوفمبر</td>\n",
       "      <td>['اكتابارامكو', 'يبدا', '١', 'نوفمبر']</td>\n",
       "      <td>Not Given</td>\n",
       "    </tr>\n",
       "  </tbody>\n",
       "</table>\n",
       "</div>"
      ],
      "text/plain": [
       "                date  \\\n",
       "2   03/07/2020 10:11   \n",
       "4   03/07/2020 8:07    \n",
       "7   03/06/2020 15:36   \n",
       "11  03/04/2020 16:27   \n",
       "13  03/04/2020 12:36   \n",
       "\n",
       "                                                                                                                                                                                                                                                                                        text  \\\n",
       "2   والله يابو دانة لعنة انهيار السوق ٢٠٠٦ حتى اليوم ملاحقة سوقنا ، ومع اكتتاب ارامكو عدد كبير من الناس اكتتبو وصارو يتابعون السوق وأصبح في اهتمام في الفرص الي فيه وللأسف خابت توقعات الكثير منهم ، اعتقد نحتاج فتره زمنية اطول وتحسن الأوضاع الاقتصادية علشان نصل للمستويات الي ذكرها الاخ   \n",
       "4   بالنسبة للميزانية السعوديه فقد خرجت من أزمة اسعار النفط على الأقل للخمس سنوات القادمه بسبب اكتتاب أرامكو و الخطه الاستثمارية الشجاعة التي اعتمدتها في السبع سنوات الاخيره وعقبال عندنا                                                                                                     \n",
       "7   طبعاً هذا كان قبل اكتتاب أرامكو بعدها وصلت السعودية ل المركز التاسع على مستوى العالم و السابعه دولياً و تحققت رؤية ٢٠٣٠ ب نهاية ٢٠١٩                                                                                                                                                       \n",
       "11  طريقة تفكيرك جد متخلفة واليوم العالم كله خرج من عزلته وأصبح يصطاد العلماء والخبرات ويقوم بتوظيفها في بلاده للإستفادة منها وانت حسابها عيب ملاحظة :آخر اكتتاب طرحته أرامكو جلب أكثر من 2 تريليون دولار وهو سابقة في تاريخ الشركات القابضة وهذا داخل السعودية فقط وقريب تطرح خارجها.         \n",
       "13  وين كانت الموضوعية أيام اكتتاب أوامكو كنت تحمس العالم فيها ..اتذكر بعدها ظهرت في اذاعة يو اف ام وتغير كلامك عن أرامكو وقلت فيما معناه \"الان الاكتتاب خلص وترى ارامكو أرباحها متوقع بأن لاتكون مثل ماضيها...الخ\" احترم شخصك ولو اختلفت معك في نسبة الموضوعية لك                             \n",
       "\n",
       "              id    stance                  location  \\\n",
       "2   1.240000e+18  Negative   Kingdom of Saudi Arabia   \n",
       "4   1.240000e+18  Positive   Not Given                 \n",
       "7   1.240000e+18  Positive   اللهم إرحم جدي.           \n",
       "11  1.240000e+18  Positive   سطيف (الجزائر)🇩🇿🇩🇿        \n",
       "13  1.240000e+18  Negative   Not Given                 \n",
       "\n",
       "                                                                                                                                                                                                                                                                       clean text  \\\n",
       "2   واله يابو دانه لعنه انهيار السوق ٢٠٦ حتي اليوم ملاحقه سوقنا ومع اكتاب ارامكو عد كبير من الناس اكتبو وصارو يتابعون السوق واصبح في اهتمام في الفرص الي فيه ولاسف خابت توقعات الكثير منهم اعتقد نحتاج فتره زمنيه اطول وتحسن الاوضاع الاقتصاديه علشان نصل لمستويات الي ذكرها الاخ   \n",
       "4   بالنسبه لميزانيه السعوديه فقد خرجت من ازمه اسعار النفط علي الاقل لخمس سنوات القادمه بسب اكتاب ارامكو و الخطه الاستثماريه الشجاعه التي اعتمدتها في السبع سنوات الاخيره وعقبال عندنا                                                                                              \n",
       "7   السعوديه اصابها الشل الرباعي من يوم مامسك محمد بن سلمان الحكم الغلا زاد التجار انحاشوا بسب الرسوم البنزين صار غالي صار عندنا فقراء ومعدومين فرض الضريبه الي عمرنا ماسمعنا عنها حتي قبل البترول البطاله زادت معدل الجريمه زاد ركود اقتصادي وفشل في اكتاب ارامكو                  \n",
       "11  في اكتاب ارامكو احسب اني بصير غني بسبه                                                                                                                                                                                                                                          \n",
       "13  اكتابارامكو يبدا ١ نوفمبر                                                                                                                                                                                                                                                       \n",
       "\n",
       "                                                                                                                                                                                                                                                                                                                                                                                                                            tokens  \\\n",
       "2   ['واله', 'يابو', 'دانه', 'لعنه', 'انهيار', 'السوق', '٢٠٦', 'حتي', 'اليوم', 'ملاحقه', 'سوقنا', 'ومع', 'اكتاب', 'ارامكو', 'عد', 'كبير', 'من', 'الناس', 'اكتبو', 'وصارو', 'يتابعون', 'السوق', 'واصبح', 'في', 'اهتمام', 'في', 'الفرص', 'الي', 'فيه', 'ولاسف', 'خابت', 'توقعات', 'الكثير', 'منهم', 'اعتقد', 'نحتاج', 'فتره', 'زمنيه', 'اطول', 'وتحسن', 'الاوضاع', 'الاقتصاديه', 'علشان', 'نصل', 'لمستويات', 'الي', 'ذكرها', 'الاخ']   \n",
       "4   ['بالنسبه', 'لميزانيه', 'السعوديه', 'فقد', 'خرجت', 'من', 'ازمه', 'اسعار', 'النفط', 'علي', 'الاقل', 'لخمس', 'سنوات', 'القادمه', 'بسب', 'اكتاب', 'ارامكو', 'و', 'الخطه', 'الاستثماريه', 'الشجاعه', 'التي', 'اعتمدتها', 'في', 'السبع', 'سنوات', 'الاخيره', 'وعقبال', 'عندنا']                                                                                                                                                       \n",
       "7   ['السعوديه', 'اصابها', 'الشل', 'الرباعي', 'من', 'يوم', 'مامسك', 'محمد', 'بن', 'سلمان', 'الحكم', 'الغلا', 'زاد', 'التجار', 'انحاشوا', 'بسب', 'الرسوم', 'البنزين', 'صار', 'غالي', 'صار', 'عندنا', 'فقراء', 'ومعدومين', 'فرض', 'الضريبه', 'الي', 'عمرنا', 'ماسمعنا', 'عنها', 'حتي', 'قبل', 'البترول', 'البطاله', 'زادت', 'معدل', 'الجريمه', 'زاد', 'ركود', 'اقتصادي', 'وفشل', 'في', 'اكتاب', 'ارامكو']                              \n",
       "11  ['في', 'اكتاب', 'ارامكو', 'احسب', 'اني', 'بصير', 'غني', 'بسبه']                                                                                                                                                                                                                                                                                                                                                                  \n",
       "13  ['اكتابارامكو', 'يبدا', '١', 'نوفمبر']                                                                                                                                                                                                                                                                                                                                                                                           \n",
       "\n",
       "             City  \n",
       "2   Not Given      \n",
       "4   Not Given      \n",
       "7   Other Country  \n",
       "11  Other Country  \n",
       "13  Not Given      "
      ]
     },
     "execution_count": 228,
     "metadata": {},
     "output_type": "execute_result"
    }
   ],
   "source": [
    "#df.head()"
   ]
  },
  {
   "cell_type": "code",
   "execution_count": 229,
   "metadata": {},
   "outputs": [],
   "source": [
    "# change values to numeric\n",
    "#df['stance '] = df['stance '].map({'Positive ': 1, 'Positive': 1,'positive': 1,'Negative ': 0,'negative': 0,'Negative': 0})  "
   ]
  },
  {
   "cell_type": "code",
   "execution_count": 230,
   "metadata": {},
   "outputs": [
    {
     "data": {
      "text/html": [
       "<div>\n",
       "<style scoped>\n",
       "    .dataframe tbody tr th:only-of-type {\n",
       "        vertical-align: middle;\n",
       "    }\n",
       "\n",
       "    .dataframe tbody tr th {\n",
       "        vertical-align: top;\n",
       "    }\n",
       "\n",
       "    .dataframe thead th {\n",
       "        text-align: right;\n",
       "    }\n",
       "</style>\n",
       "<table border=\"1\" class=\"dataframe\">\n",
       "  <thead>\n",
       "    <tr style=\"text-align: right;\">\n",
       "      <th></th>\n",
       "      <th>date</th>\n",
       "      <th>text</th>\n",
       "      <th>id</th>\n",
       "      <th>stance</th>\n",
       "      <th>location</th>\n",
       "      <th>clean text</th>\n",
       "      <th>tokens</th>\n",
       "      <th>City</th>\n",
       "    </tr>\n",
       "  </thead>\n",
       "  <tbody>\n",
       "    <tr>\n",
       "      <th>2</th>\n",
       "      <td>03/07/2020 10:11</td>\n",
       "      <td>والله يابو دانة لعنة انهيار السوق ٢٠٠٦ حتى اليوم ملاحقة سوقنا ، ومع اكتتاب ارامكو عدد كبير من الناس اكتتبو وصارو يتابعون السوق وأصبح في اهتمام في الفرص الي فيه وللأسف خابت توقعات الكثير منهم ، اعتقد نحتاج فتره زمنية اطول وتحسن الأوضاع الاقتصادية علشان نصل للمستويات الي ذكرها الاخ</td>\n",
       "      <td>1.240000e+18</td>\n",
       "      <td>0</td>\n",
       "      <td>Kingdom of Saudi Arabia</td>\n",
       "      <td>واله يابو دانه لعنه انهيار السوق ٢٠٦ حتي اليوم ملاحقه سوقنا ومع اكتاب ارامكو عد كبير من الناس اكتبو وصارو يتابعون السوق واصبح في اهتمام في الفرص الي فيه ولاسف خابت توقعات الكثير منهم اعتقد نحتاج فتره زمنيه اطول وتحسن الاوضاع الاقتصاديه علشان نصل لمستويات الي ذكرها الاخ</td>\n",
       "      <td>['واله', 'يابو', 'دانه', 'لعنه', 'انهيار', 'السوق', '٢٠٦', 'حتي', 'اليوم', 'ملاحقه', 'سوقنا', 'ومع', 'اكتاب', 'ارامكو', 'عد', 'كبير', 'من', 'الناس', 'اكتبو', 'وصارو', 'يتابعون', 'السوق', 'واصبح', 'في', 'اهتمام', 'في', 'الفرص', 'الي', 'فيه', 'ولاسف', 'خابت', 'توقعات', 'الكثير', 'منهم', 'اعتقد', 'نحتاج', 'فتره', 'زمنيه', 'اطول', 'وتحسن', 'الاوضاع', 'الاقتصاديه', 'علشان', 'نصل', 'لمستويات', 'الي', 'ذكرها', 'الاخ']</td>\n",
       "      <td>Not Given</td>\n",
       "    </tr>\n",
       "    <tr>\n",
       "      <th>4</th>\n",
       "      <td>03/07/2020 8:07</td>\n",
       "      <td>بالنسبة للميزانية السعوديه فقد خرجت من أزمة اسعار النفط على الأقل للخمس سنوات القادمه بسبب اكتتاب أرامكو و الخطه الاستثمارية الشجاعة التي اعتمدتها في السبع سنوات الاخيره وعقبال عندنا</td>\n",
       "      <td>1.240000e+18</td>\n",
       "      <td>1</td>\n",
       "      <td>Not Given</td>\n",
       "      <td>بالنسبه لميزانيه السعوديه فقد خرجت من ازمه اسعار النفط علي الاقل لخمس سنوات القادمه بسب اكتاب ارامكو و الخطه الاستثماريه الشجاعه التي اعتمدتها في السبع سنوات الاخيره وعقبال عندنا</td>\n",
       "      <td>['بالنسبه', 'لميزانيه', 'السعوديه', 'فقد', 'خرجت', 'من', 'ازمه', 'اسعار', 'النفط', 'علي', 'الاقل', 'لخمس', 'سنوات', 'القادمه', 'بسب', 'اكتاب', 'ارامكو', 'و', 'الخطه', 'الاستثماريه', 'الشجاعه', 'التي', 'اعتمدتها', 'في', 'السبع', 'سنوات', 'الاخيره', 'وعقبال', 'عندنا']</td>\n",
       "      <td>Not Given</td>\n",
       "    </tr>\n",
       "    <tr>\n",
       "      <th>7</th>\n",
       "      <td>03/06/2020 15:36</td>\n",
       "      <td>طبعاً هذا كان قبل اكتتاب أرامكو بعدها وصلت السعودية ل المركز التاسع على مستوى العالم و السابعه دولياً و تحققت رؤية ٢٠٣٠ ب نهاية ٢٠١٩</td>\n",
       "      <td>1.240000e+18</td>\n",
       "      <td>1</td>\n",
       "      <td>اللهم إرحم جدي.</td>\n",
       "      <td>السعوديه اصابها الشل الرباعي من يوم مامسك محمد بن سلمان الحكم الغلا زاد التجار انحاشوا بسب الرسوم البنزين صار غالي صار عندنا فقراء ومعدومين فرض الضريبه الي عمرنا ماسمعنا عنها حتي قبل البترول البطاله زادت معدل الجريمه زاد ركود اقتصادي وفشل في اكتاب ارامكو</td>\n",
       "      <td>['السعوديه', 'اصابها', 'الشل', 'الرباعي', 'من', 'يوم', 'مامسك', 'محمد', 'بن', 'سلمان', 'الحكم', 'الغلا', 'زاد', 'التجار', 'انحاشوا', 'بسب', 'الرسوم', 'البنزين', 'صار', 'غالي', 'صار', 'عندنا', 'فقراء', 'ومعدومين', 'فرض', 'الضريبه', 'الي', 'عمرنا', 'ماسمعنا', 'عنها', 'حتي', 'قبل', 'البترول', 'البطاله', 'زادت', 'معدل', 'الجريمه', 'زاد', 'ركود', 'اقتصادي', 'وفشل', 'في', 'اكتاب', 'ارامكو']</td>\n",
       "      <td>Other Country</td>\n",
       "    </tr>\n",
       "    <tr>\n",
       "      <th>11</th>\n",
       "      <td>03/04/2020 16:27</td>\n",
       "      <td>طريقة تفكيرك جد متخلفة واليوم العالم كله خرج من عزلته وأصبح يصطاد العلماء والخبرات ويقوم بتوظيفها في بلاده للإستفادة منها وانت حسابها عيب ملاحظة :آخر اكتتاب طرحته أرامكو جلب أكثر من 2 تريليون دولار وهو سابقة في تاريخ الشركات القابضة وهذا داخل السعودية فقط وقريب تطرح خارجها.</td>\n",
       "      <td>1.240000e+18</td>\n",
       "      <td>1</td>\n",
       "      <td>سطيف (الجزائر)🇩🇿🇩🇿</td>\n",
       "      <td>في اكتاب ارامكو احسب اني بصير غني بسبه</td>\n",
       "      <td>['في', 'اكتاب', 'ارامكو', 'احسب', 'اني', 'بصير', 'غني', 'بسبه']</td>\n",
       "      <td>Other Country</td>\n",
       "    </tr>\n",
       "    <tr>\n",
       "      <th>13</th>\n",
       "      <td>03/04/2020 12:36</td>\n",
       "      <td>وين كانت الموضوعية أيام اكتتاب أوامكو كنت تحمس العالم فيها ..اتذكر بعدها ظهرت في اذاعة يو اف ام وتغير كلامك عن أرامكو وقلت فيما معناه \"الان الاكتتاب خلص وترى ارامكو أرباحها متوقع بأن لاتكون مثل ماضيها...الخ\" احترم شخصك ولو اختلفت معك في نسبة الموضوعية لك</td>\n",
       "      <td>1.240000e+18</td>\n",
       "      <td>0</td>\n",
       "      <td>Not Given</td>\n",
       "      <td>اكتابارامكو يبدا ١ نوفمبر</td>\n",
       "      <td>['اكتابارامكو', 'يبدا', '١', 'نوفمبر']</td>\n",
       "      <td>Not Given</td>\n",
       "    </tr>\n",
       "  </tbody>\n",
       "</table>\n",
       "</div>"
      ],
      "text/plain": [
       "                date  \\\n",
       "2   03/07/2020 10:11   \n",
       "4   03/07/2020 8:07    \n",
       "7   03/06/2020 15:36   \n",
       "11  03/04/2020 16:27   \n",
       "13  03/04/2020 12:36   \n",
       "\n",
       "                                                                                                                                                                                                                                                                                        text  \\\n",
       "2   والله يابو دانة لعنة انهيار السوق ٢٠٠٦ حتى اليوم ملاحقة سوقنا ، ومع اكتتاب ارامكو عدد كبير من الناس اكتتبو وصارو يتابعون السوق وأصبح في اهتمام في الفرص الي فيه وللأسف خابت توقعات الكثير منهم ، اعتقد نحتاج فتره زمنية اطول وتحسن الأوضاع الاقتصادية علشان نصل للمستويات الي ذكرها الاخ   \n",
       "4   بالنسبة للميزانية السعوديه فقد خرجت من أزمة اسعار النفط على الأقل للخمس سنوات القادمه بسبب اكتتاب أرامكو و الخطه الاستثمارية الشجاعة التي اعتمدتها في السبع سنوات الاخيره وعقبال عندنا                                                                                                     \n",
       "7   طبعاً هذا كان قبل اكتتاب أرامكو بعدها وصلت السعودية ل المركز التاسع على مستوى العالم و السابعه دولياً و تحققت رؤية ٢٠٣٠ ب نهاية ٢٠١٩                                                                                                                                                       \n",
       "11  طريقة تفكيرك جد متخلفة واليوم العالم كله خرج من عزلته وأصبح يصطاد العلماء والخبرات ويقوم بتوظيفها في بلاده للإستفادة منها وانت حسابها عيب ملاحظة :آخر اكتتاب طرحته أرامكو جلب أكثر من 2 تريليون دولار وهو سابقة في تاريخ الشركات القابضة وهذا داخل السعودية فقط وقريب تطرح خارجها.         \n",
       "13  وين كانت الموضوعية أيام اكتتاب أوامكو كنت تحمس العالم فيها ..اتذكر بعدها ظهرت في اذاعة يو اف ام وتغير كلامك عن أرامكو وقلت فيما معناه \"الان الاكتتاب خلص وترى ارامكو أرباحها متوقع بأن لاتكون مثل ماضيها...الخ\" احترم شخصك ولو اختلفت معك في نسبة الموضوعية لك                             \n",
       "\n",
       "              id  stance                  location  \\\n",
       "2   1.240000e+18  0        Kingdom of Saudi Arabia   \n",
       "4   1.240000e+18  1        Not Given                 \n",
       "7   1.240000e+18  1        اللهم إرحم جدي.           \n",
       "11  1.240000e+18  1        سطيف (الجزائر)🇩🇿🇩🇿        \n",
       "13  1.240000e+18  0        Not Given                 \n",
       "\n",
       "                                                                                                                                                                                                                                                                       clean text  \\\n",
       "2   واله يابو دانه لعنه انهيار السوق ٢٠٦ حتي اليوم ملاحقه سوقنا ومع اكتاب ارامكو عد كبير من الناس اكتبو وصارو يتابعون السوق واصبح في اهتمام في الفرص الي فيه ولاسف خابت توقعات الكثير منهم اعتقد نحتاج فتره زمنيه اطول وتحسن الاوضاع الاقتصاديه علشان نصل لمستويات الي ذكرها الاخ   \n",
       "4   بالنسبه لميزانيه السعوديه فقد خرجت من ازمه اسعار النفط علي الاقل لخمس سنوات القادمه بسب اكتاب ارامكو و الخطه الاستثماريه الشجاعه التي اعتمدتها في السبع سنوات الاخيره وعقبال عندنا                                                                                              \n",
       "7   السعوديه اصابها الشل الرباعي من يوم مامسك محمد بن سلمان الحكم الغلا زاد التجار انحاشوا بسب الرسوم البنزين صار غالي صار عندنا فقراء ومعدومين فرض الضريبه الي عمرنا ماسمعنا عنها حتي قبل البترول البطاله زادت معدل الجريمه زاد ركود اقتصادي وفشل في اكتاب ارامكو                  \n",
       "11  في اكتاب ارامكو احسب اني بصير غني بسبه                                                                                                                                                                                                                                          \n",
       "13  اكتابارامكو يبدا ١ نوفمبر                                                                                                                                                                                                                                                       \n",
       "\n",
       "                                                                                                                                                                                                                                                                                                                                                                                                                            tokens  \\\n",
       "2   ['واله', 'يابو', 'دانه', 'لعنه', 'انهيار', 'السوق', '٢٠٦', 'حتي', 'اليوم', 'ملاحقه', 'سوقنا', 'ومع', 'اكتاب', 'ارامكو', 'عد', 'كبير', 'من', 'الناس', 'اكتبو', 'وصارو', 'يتابعون', 'السوق', 'واصبح', 'في', 'اهتمام', 'في', 'الفرص', 'الي', 'فيه', 'ولاسف', 'خابت', 'توقعات', 'الكثير', 'منهم', 'اعتقد', 'نحتاج', 'فتره', 'زمنيه', 'اطول', 'وتحسن', 'الاوضاع', 'الاقتصاديه', 'علشان', 'نصل', 'لمستويات', 'الي', 'ذكرها', 'الاخ']   \n",
       "4   ['بالنسبه', 'لميزانيه', 'السعوديه', 'فقد', 'خرجت', 'من', 'ازمه', 'اسعار', 'النفط', 'علي', 'الاقل', 'لخمس', 'سنوات', 'القادمه', 'بسب', 'اكتاب', 'ارامكو', 'و', 'الخطه', 'الاستثماريه', 'الشجاعه', 'التي', 'اعتمدتها', 'في', 'السبع', 'سنوات', 'الاخيره', 'وعقبال', 'عندنا']                                                                                                                                                       \n",
       "7   ['السعوديه', 'اصابها', 'الشل', 'الرباعي', 'من', 'يوم', 'مامسك', 'محمد', 'بن', 'سلمان', 'الحكم', 'الغلا', 'زاد', 'التجار', 'انحاشوا', 'بسب', 'الرسوم', 'البنزين', 'صار', 'غالي', 'صار', 'عندنا', 'فقراء', 'ومعدومين', 'فرض', 'الضريبه', 'الي', 'عمرنا', 'ماسمعنا', 'عنها', 'حتي', 'قبل', 'البترول', 'البطاله', 'زادت', 'معدل', 'الجريمه', 'زاد', 'ركود', 'اقتصادي', 'وفشل', 'في', 'اكتاب', 'ارامكو']                              \n",
       "11  ['في', 'اكتاب', 'ارامكو', 'احسب', 'اني', 'بصير', 'غني', 'بسبه']                                                                                                                                                                                                                                                                                                                                                                  \n",
       "13  ['اكتابارامكو', 'يبدا', '١', 'نوفمبر']                                                                                                                                                                                                                                                                                                                                                                                           \n",
       "\n",
       "             City  \n",
       "2   Not Given      \n",
       "4   Not Given      \n",
       "7   Other Country  \n",
       "11  Other Country  \n",
       "13  Not Given      "
      ]
     },
     "execution_count": 230,
     "metadata": {},
     "output_type": "execute_result"
    }
   ],
   "source": [
    "df.head()"
   ]
  },
  {
   "cell_type": "code",
   "execution_count": 231,
   "metadata": {},
   "outputs": [
    {
     "data": {
      "text/html": [
       "<div>\n",
       "<style scoped>\n",
       "    .dataframe tbody tr th:only-of-type {\n",
       "        vertical-align: middle;\n",
       "    }\n",
       "\n",
       "    .dataframe tbody tr th {\n",
       "        vertical-align: top;\n",
       "    }\n",
       "\n",
       "    .dataframe thead th {\n",
       "        text-align: right;\n",
       "    }\n",
       "</style>\n",
       "<table border=\"1\" class=\"dataframe\">\n",
       "  <thead>\n",
       "    <tr style=\"text-align: right;\">\n",
       "      <th></th>\n",
       "      <th>date</th>\n",
       "      <th>text</th>\n",
       "      <th>id</th>\n",
       "      <th>stance</th>\n",
       "      <th>location</th>\n",
       "      <th>clean text</th>\n",
       "      <th>tokens</th>\n",
       "      <th>City</th>\n",
       "    </tr>\n",
       "  </thead>\n",
       "  <tbody>\n",
       "    <tr>\n",
       "      <th>3672</th>\n",
       "      <td>12/05/2019 21:54</td>\n",
       "      <td>#اكتتاب_أرامكو تخصيص ١٥٠٠ سهم كحد اعلى للفرد الواحد رقم كبير والله ، كنت متوقع ٣٠٠ سهم ، اعتقد فرصه وضاعت</td>\n",
       "      <td>1.200000e+18</td>\n",
       "      <td>1</td>\n",
       "      <td>Not Given</td>\n",
       "      <td>وضع المكتبين في ارامكو اليوم نجاحاكتابارامكو</td>\n",
       "      <td>['وضع', 'المكتبين', 'في', 'ارامكو', 'اليوم', 'نجاحاكتابارامكو']</td>\n",
       "      <td>Not Given</td>\n",
       "    </tr>\n",
       "    <tr>\n",
       "      <th>3673</th>\n",
       "      <td>12/05/2019 21:54</td>\n",
       "      <td>اكتتاب أرامكو يجمع 446 مليار ريال بتغطية 465%.. و32 ريالا تسعير نهائي http://dlvr.it/RKlMYl</td>\n",
       "      <td>1.200000e+18</td>\n",
       "      <td>0</td>\n",
       "      <td>العربيه السعوديةمملكةالانسانيه</td>\n",
       "      <td>بلغت القيمه السوقيه ل ارامكو السعوديه بنهايه جلسه اليوم نحو 704 تريليون ريال لتقفز براس المال السوقي ل تداول الي نحو 895 تريليون ريال مقابل نحو 189 تريليون ريال بالجلسه السابقه التفاصيل نجاحاكتابارامكو تداولارامكو سهمارامكو</td>\n",
       "      <td>['بلغت', 'القيمه', 'السوقيه', 'ل', 'ارامكو', 'السعوديه', 'بنهايه', 'جلسه', 'اليوم', 'نحو', '704', 'تريليون', 'ريال', 'لتقفز', 'براس', 'المال', 'السوقي', 'ل', 'تداول', 'الي', 'نحو', '895', 'تريليون', 'ريال', 'مقابل', 'نحو', '189', 'تريليون', 'ريال', 'بالجلسه', 'السابقه', 'التفاصيل', 'نجاحاكتابارامكو', 'تداولارامكو', 'سهمارامكو']</td>\n",
       "      <td>Not Given</td>\n",
       "    </tr>\n",
       "    <tr>\n",
       "      <th>3675</th>\n",
       "      <td>12/05/2019 21:54</td>\n",
       "      <td>#اكتتاب_ارامكو الحمد الله مكتتب ب 10 اسهم بس القناعه شي جميل</td>\n",
       "      <td>1.200000e+18</td>\n",
       "      <td>1</td>\n",
       "      <td>الرياض</td>\n",
       "      <td>نجاحاكتابارامكو ثقافه الكسب السريع هي عثره في طريق الحريهالماليه</td>\n",
       "      <td>['نجاحاكتابارامكو', 'ثقافه', 'الكسب', 'السريع', 'هي', 'عثره', 'في', 'طريق', 'الحريهالماليه']</td>\n",
       "      <td>Other Country</td>\n",
       "    </tr>\n",
       "    <tr>\n",
       "      <th>3676</th>\n",
       "      <td>12/05/2019 21:54</td>\n",
       "      <td>#اكتتاب_أرامكو هو الأكبر بالعالم • إجمالي الأموال المجمعة 446 مليار • تخصيص 1500 سهم للمكتتب الفرد الواحد في #ارامكوا</td>\n",
       "      <td>1.200000e+18</td>\n",
       "      <td>1</td>\n",
       "      <td>Not Given</td>\n",
       "      <td>تسوق مع نون لحصول علي خصم 10 استخدام كود الخصم LMN48 نجاحاكتابارامكو</td>\n",
       "      <td>['تسوق', 'مع', 'نون', 'لحصول', 'علي', 'خصم', '10', 'استخدام', 'كود', 'الخصم', 'LMN48', 'نجاحاكتابارامكو']</td>\n",
       "      <td>Not Given</td>\n",
       "    </tr>\n",
       "    <tr>\n",
       "      <th>3677</th>\n",
       "      <td>12/05/2019 21:54</td>\n",
       "      <td>#اكتتاب_أرامكو يصبح الأكبر في العالم بقيمة 25.6 مليار دولار • تخطّت قيمة #طلبات_الاكتتاب 119 مليار دولار</td>\n",
       "      <td>1.200000e+18</td>\n",
       "      <td>1</td>\n",
       "      <td>الرياض, المملكة العربية السعودية</td>\n",
       "      <td>مكن تعيدون الاكتاب شوي نبغي نكتب انا وصاحبتي نجاحاكتابارامكو</td>\n",
       "      <td>['مكن', 'تعيدون', 'الاكتاب', 'شوي', 'نبغي', 'نكتب', 'انا', 'وصاحبتي', 'نجاحاكتابارامكو']</td>\n",
       "      <td>Riyadh</td>\n",
       "    </tr>\n",
       "  </tbody>\n",
       "</table>\n",
       "</div>"
      ],
      "text/plain": [
       "                  date  \\\n",
       "3672  12/05/2019 21:54   \n",
       "3673  12/05/2019 21:54   \n",
       "3675  12/05/2019 21:54   \n",
       "3676  12/05/2019 21:54   \n",
       "3677  12/05/2019 21:54   \n",
       "\n",
       "                                                                                                                       text  \\\n",
       "3672  #اكتتاب_أرامكو تخصيص ١٥٠٠ سهم كحد اعلى للفرد الواحد رقم كبير والله ، كنت متوقع ٣٠٠ سهم ، اعتقد فرصه وضاعت               \n",
       "3673  اكتتاب أرامكو يجمع 446 مليار ريال بتغطية 465%.. و32 ريالا تسعير نهائي http://dlvr.it/RKlMYl                             \n",
       "3675  #اكتتاب_ارامكو الحمد الله مكتتب ب 10 اسهم بس القناعه شي جميل                                                            \n",
       "3676  #اكتتاب_أرامكو هو الأكبر بالعالم • إجمالي الأموال المجمعة 446 مليار • تخصيص 1500 سهم للمكتتب الفرد الواحد في #ارامكوا   \n",
       "3677  #اكتتاب_أرامكو يصبح الأكبر في العالم بقيمة 25.6 مليار دولار • تخطّت قيمة #طلبات_الاكتتاب 119 مليار دولار                \n",
       "\n",
       "                id  stance                           location  \\\n",
       "3672  1.200000e+18  1        Not Given                          \n",
       "3673  1.200000e+18  0        العربيه السعوديةمملكةالانسانيه     \n",
       "3675  1.200000e+18  1        الرياض                             \n",
       "3676  1.200000e+18  1        Not Given                          \n",
       "3677  1.200000e+18  1        الرياض, المملكة العربية السعودية   \n",
       "\n",
       "                                                                                                                                                                                                                            clean text  \\\n",
       "3672  وضع المكتبين في ارامكو اليوم نجاحاكتابارامكو                                                                                                                                                                                       \n",
       "3673  بلغت القيمه السوقيه ل ارامكو السعوديه بنهايه جلسه اليوم نحو 704 تريليون ريال لتقفز براس المال السوقي ل تداول الي نحو 895 تريليون ريال مقابل نحو 189 تريليون ريال بالجلسه السابقه التفاصيل نجاحاكتابارامكو تداولارامكو سهمارامكو    \n",
       "3675  نجاحاكتابارامكو ثقافه الكسب السريع هي عثره في طريق الحريهالماليه                                                                                                                                                                   \n",
       "3676   تسوق مع نون لحصول علي خصم 10 استخدام كود الخصم LMN48 نجاحاكتابارامكو                                                                                                                                                              \n",
       "3677  مكن تعيدون الاكتاب شوي نبغي نكتب انا وصاحبتي نجاحاكتابارامكو                                                                                                                                                                       \n",
       "\n",
       "                                                                                                                                                                                                                                                                                                                                         tokens  \\\n",
       "3672  ['وضع', 'المكتبين', 'في', 'ارامكو', 'اليوم', 'نجاحاكتابارامكو']                                                                                                                                                                                                                                                                             \n",
       "3673  ['بلغت', 'القيمه', 'السوقيه', 'ل', 'ارامكو', 'السعوديه', 'بنهايه', 'جلسه', 'اليوم', 'نحو', '704', 'تريليون', 'ريال', 'لتقفز', 'براس', 'المال', 'السوقي', 'ل', 'تداول', 'الي', 'نحو', '895', 'تريليون', 'ريال', 'مقابل', 'نحو', '189', 'تريليون', 'ريال', 'بالجلسه', 'السابقه', 'التفاصيل', 'نجاحاكتابارامكو', 'تداولارامكو', 'سهمارامكو']   \n",
       "3675  ['نجاحاكتابارامكو', 'ثقافه', 'الكسب', 'السريع', 'هي', 'عثره', 'في', 'طريق', 'الحريهالماليه']                                                                                                                                                                                                                                                \n",
       "3676  ['تسوق', 'مع', 'نون', 'لحصول', 'علي', 'خصم', '10', 'استخدام', 'كود', 'الخصم', 'LMN48', 'نجاحاكتابارامكو']                                                                                                                                                                                                                                   \n",
       "3677  ['مكن', 'تعيدون', 'الاكتاب', 'شوي', 'نبغي', 'نكتب', 'انا', 'وصاحبتي', 'نجاحاكتابارامكو']                                                                                                                                                                                                                                                    \n",
       "\n",
       "               City  \n",
       "3672  Not Given      \n",
       "3673  Not Given      \n",
       "3675  Other Country  \n",
       "3676  Not Given      \n",
       "3677  Riyadh         "
      ]
     },
     "execution_count": 231,
     "metadata": {},
     "output_type": "execute_result"
    }
   ],
   "source": [
    "df.tail()"
   ]
  },
  {
   "cell_type": "code",
   "execution_count": 44,
   "metadata": {},
   "outputs": [],
   "source": [
    "# idneitfy the data and the labels\n",
    "data= df['clean text']\n",
    "target= df['stance ']"
   ]
  },
  {
   "cell_type": "code",
   "execution_count": 45,
   "metadata": {},
   "outputs": [
    {
     "data": {
      "text/plain": [
       "(2748, 12968)"
      ]
     },
     "execution_count": 45,
     "metadata": {},
     "output_type": "execute_result"
    }
   ],
   "source": [
    "# Use TfidfVectorizer for feature extraction (TFIDF to convert textual data to numeric form):\n",
    "tf_vec = TfidfVectorizer()\n",
    "X = tf_vec.fit_transform(data)\n",
    "X.shape"
   ]
  },
  {
   "cell_type": "code",
   "execution_count": 9,
   "metadata": {},
   "outputs": [
    {
     "data": {
      "text/plain": [
       "False"
      ]
     },
     "execution_count": 9,
     "metadata": {},
     "output_type": "execute_result"
    }
   ],
   "source": [
    "pd.isnull(X)"
   ]
  },
  {
   "cell_type": "code",
   "execution_count": 11,
   "metadata": {},
   "outputs": [
    {
     "ename": "TypeError",
     "evalue": "ufunc 'isnan' not supported for the input types, and the inputs could not be safely coerced to any supported types according to the casting rule ''safe''",
     "output_type": "error",
     "traceback": [
      "\u001b[0;31m---------------------------------------------------------------------------\u001b[0m",
      "\u001b[0;31mTypeError\u001b[0m                                 Traceback (most recent call last)",
      "\u001b[0;32m<ipython-input-11-7a5e6fb63bfc>\u001b[0m in \u001b[0;36m<module>\u001b[0;34m()\u001b[0m\n\u001b[0;32m----> 1\u001b[0;31m \u001b[0mnp\u001b[0m\u001b[0;34m.\u001b[0m\u001b[0many\u001b[0m\u001b[0;34m(\u001b[0m\u001b[0mnp\u001b[0m\u001b[0;34m.\u001b[0m\u001b[0misnan\u001b[0m\u001b[0;34m(\u001b[0m\u001b[0mtarget\u001b[0m\u001b[0;34m)\u001b[0m\u001b[0;34m)\u001b[0m\u001b[0;34m\u001b[0m\u001b[0m\n\u001b[0m",
      "\u001b[0;31mTypeError\u001b[0m: ufunc 'isnan' not supported for the input types, and the inputs could not be safely coerced to any supported types according to the casting rule ''safe''"
     ]
    }
   ],
   "source": [
    "np.any(np.isnan(target))"
   ]
  },
  {
   "cell_type": "code",
   "execution_count": 12,
   "metadata": {},
   "outputs": [
    {
     "ename": "TypeError",
     "evalue": "ufunc 'isnan' not supported for the input types, and the inputs could not be safely coerced to any supported types according to the casting rule ''safe''",
     "output_type": "error",
     "traceback": [
      "\u001b[0;31m---------------------------------------------------------------------------\u001b[0m",
      "\u001b[0;31mTypeError\u001b[0m                                 Traceback (most recent call last)",
      "\u001b[0;32m<ipython-input-12-3c1969529205>\u001b[0m in \u001b[0;36m<module>\u001b[0;34m()\u001b[0m\n\u001b[0;32m----> 1\u001b[0;31m \u001b[0mnp\u001b[0m\u001b[0;34m.\u001b[0m\u001b[0misnan\u001b[0m\u001b[0;34m(\u001b[0m\u001b[0mtarget\u001b[0m\u001b[0;34m)\u001b[0m\u001b[0;34m\u001b[0m\u001b[0m\n\u001b[0m",
      "\u001b[0;31mTypeError\u001b[0m: ufunc 'isnan' not supported for the input types, and the inputs could not be safely coerced to any supported types according to the casting rule ''safe''"
     ]
    }
   ],
   "source": [
    "np.isnan(target)"
   ]
  },
  {
   "cell_type": "code",
   "execution_count": 46,
   "metadata": {},
   "outputs": [],
   "source": [
    "# Training Phase\n",
    "X_train, X_test, y_train, y_test = train_test_split(X, target, test_size=0.3, random_state=0)"
   ]
  },
  {
   "cell_type": "code",
   "execution_count": 47,
   "metadata": {},
   "outputs": [],
   "source": [
    "# create the classifer and fit the training data and lables\n",
    "classifier_nb = MultinomialNB().fit(X_train.todense(),y_train)"
   ]
  },
  {
   "cell_type": "code",
   "execution_count": 48,
   "metadata": {},
   "outputs": [
    {
     "name": "stdout",
     "output_type": "stream",
     "text": [
      "MultinomialNB accuracy: 0.72\n"
     ]
    }
   ],
   "source": [
    "print(\"MultinomialNB accuracy: %.2f\"%classifier_nb.score(X_test.todense(), y_test))"
   ]
  },
  {
   "cell_type": "code",
   "execution_count": 49,
   "metadata": {},
   "outputs": [
    {
     "name": "stdout",
     "output_type": "stream",
     "text": [
      "\n",
      "10-fold cross-validation:\n",
      "[0.66666667 0.69565217 0.73188406 0.73090909 0.73090909 0.73357664\n",
      " 0.73357664 0.73722628 0.71532847 0.72992701]\n",
      "The average accuracy of the MultinomialNB classifier is : 0.72\n",
      "\n",
      "Confusion matrix of the MultinomialNB classifier:\n",
      "[[  0 234]\n",
      " [  1 590]]\n",
      "\n",
      "Classification_report of MultinomialNB classifier:\n",
      "             precision    recall  f1-score   support\n",
      "\n",
      "   Negative       0.00      0.00      0.00       234\n",
      "   Positive       0.72      1.00      0.83       591\n",
      "\n",
      "avg / total       0.51      0.72      0.60       825\n",
      "\n"
     ]
    }
   ],
   "source": [
    "#do a 10 fold cross-validation \n",
    "results_nb = cross_val_score(classifier_nb, X.todense(),target, cv=10)\n",
    "print(\"\\n10-fold cross-validation:\")\n",
    "print(results_nb)\n",
    "\n",
    "print(\"The average accuracy of the MultinomialNB classifier is : %.2f\" % np.mean(results_nb))\n",
    "\n",
    "print(\"\\nConfusion matrix of the MultinomialNB classifier:\")\n",
    "predicted_nb = classifier_nb.predict(X_test.todense())\n",
    "print(confusion_matrix(y_test,predicted_nb))\n",
    "\n",
    "\n",
    "print(\"\\nClassification_report of MultinomialNB classifier:\")\n",
    "print(classification_report(y_test,predicted_nb))"
   ]
  },
  {
   "cell_type": "code",
   "execution_count": null,
   "metadata": {},
   "outputs": [],
   "source": []
  },
  {
   "cell_type": "code",
   "execution_count": null,
   "metadata": {},
   "outputs": [],
   "source": []
  },
  {
   "cell_type": "code",
   "execution_count": null,
   "metadata": {},
   "outputs": [],
   "source": []
  }
 ],
 "metadata": {
  "kernelspec": {
   "display_name": "Python 3",
   "language": "python",
   "name": "python3"
  },
  "language_info": {
   "codemirror_mode": {
    "name": "ipython",
    "version": 3
   },
   "file_extension": ".py",
   "mimetype": "text/x-python",
   "name": "python",
   "nbconvert_exporter": "python",
   "pygments_lexer": "ipython3",
   "version": "3.7.4"
  }
 },
 "nbformat": 4,
 "nbformat_minor": 2
}
