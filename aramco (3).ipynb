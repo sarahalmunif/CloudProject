{
 "cells": [
  {
   "cell_type": "markdown",
   "metadata": {},
   "source": [
    "# Import The Needed Packages"
   ]
  },
  {
   "cell_type": "code",
   "execution_count": 141,
   "metadata": {},
   "outputs": [
    {
     "name": "stdout",
     "output_type": "stream",
     "text": [
      "Requirement already satisfied: pydotplus in /opt/anaconda3/lib/python3.7/site-packages (2.0.2)\r\n",
      "Requirement already satisfied: pyparsing>=2.0.1 in /opt/anaconda3/lib/python3.7/site-packages (from pydotplus) (2.4.2)\r\n"
     ]
    },
    {
     "ename": "ModuleNotFoundError",
     "evalue": "No module named 'bidi'",
     "output_type": "error",
     "traceback": [
      "\u001b[0;31m---------------------------------------------------------------------------\u001b[0m",
      "\u001b[0;31mModuleNotFoundError\u001b[0m                       Traceback (most recent call last)",
      "\u001b[0;32m<ipython-input-141-b8cdf297a81a>\u001b[0m in \u001b[0;36m<module>\u001b[0;34m\u001b[0m\n\u001b[1;32m      6\u001b[0m \u001b[0;32mimport\u001b[0m \u001b[0mtweepy\u001b[0m\u001b[0;34m\u001b[0m\u001b[0;34m\u001b[0m\u001b[0m\n\u001b[1;32m      7\u001b[0m \u001b[0;32mimport\u001b[0m \u001b[0mcsv\u001b[0m\u001b[0;34m\u001b[0m\u001b[0;34m\u001b[0m\u001b[0m\n\u001b[0;32m----> 8\u001b[0;31m \u001b[0;32mimport\u001b[0m \u001b[0mbidi\u001b[0m\u001b[0;34m.\u001b[0m\u001b[0malgorithm\u001b[0m\u001b[0;34m\u001b[0m\u001b[0;34m\u001b[0m\u001b[0m\n\u001b[0m\u001b[1;32m      9\u001b[0m \u001b[0;31m#import arabic_reshaper\u001b[0m\u001b[0;34m\u001b[0m\u001b[0;34m\u001b[0m\u001b[0;34m\u001b[0m\u001b[0m\n\u001b[1;32m     10\u001b[0m \u001b[0;32mimport\u001b[0m \u001b[0mre\u001b[0m\u001b[0;34m\u001b[0m\u001b[0;34m\u001b[0m\u001b[0m\n",
      "\u001b[0;31mModuleNotFoundError\u001b[0m: No module named 'bidi'"
     ]
    }
   ],
   "source": [
    "#Import Python Libraries\n",
    "import sys\n",
    "!{sys.executable} -m pip install pydotplus\n",
    "import numpy as np\n",
    "import pandas as pd\n",
    "import tweepy \n",
    "import csv\n",
    "import bidi.algorithm\n",
    "#import arabic_reshaper\n",
    "import re\n",
    "import string\n",
    "import nltk \n",
    "from nltk.tokenize import RegexpTokenizer # devide the words \n",
    "import numpy as np \n",
    "#import matplotlib.pyplot as plt\n",
    "import seaborn\n",
    "import csv\n",
    "import re # for regular expression\n",
    "import string\n",
    "from datetime import datetime\n",
    "import nltk \n",
    "from nltk.tokenize import RegexpTokenizer # devide the words \n",
    "from collections import Counter #count the number of word for each list \n",
    "import numpy as np \n",
    "import matplotlib.pyplot as plt\n",
    "import plotly.express as px\n",
    "#import plotly\n",
    "#import plotly.plotly as py\n",
    "#import plotly.graph_objs as go\n",
    "#plotly.tools.set_credentials_file(username='XXXXXX', api_key='XXXXXXX')\n",
    "\n",
    "%matplotlib inline\n",
    "# change the seeting of the cells to show the entire content of coulmn ( eexpand the size of coulmn)\n",
    "pd.set_option('display.max_columns', None)\n",
    "pd.set_option('display.max_rows', None)\n",
    "pd.set_option('display.max_colwidth', -1)\n",
    "\n",
    "from sklearn.tree import DecisionTreeClassifier\n",
    "from sklearn.model_selection import train_test_split\n",
    "from sklearn.model_selection import cross_val_score, cross_val_predict, KFold\n",
    "from sklearn.metrics  import confusion_matrix, classification_report\n",
    "from sklearn import metrics\n",
    "#For Descision Tree Visualization\n",
    "from sklearn.externals.six import StringIO  \n",
    "from IPython.display import Image  \n",
    "from sklearn.tree import export_graphviz \n",
    "import pydotplus"
   ]
  },
  {
   "cell_type": "code",
   "execution_count": 142,
   "metadata": {},
   "outputs": [
    {
     "ename": "ModuleNotFoundError",
     "evalue": "No module named 'credentials'",
     "output_type": "error",
     "traceback": [
      "\u001b[0;31m---------------------------------------------------------------------------\u001b[0m",
      "\u001b[0;31mModuleNotFoundError\u001b[0m                       Traceback (most recent call last)",
      "\u001b[0;32m<ipython-input-142-e21df03b3dd8>\u001b[0m in \u001b[0;36m<module>\u001b[0;34m\u001b[0m\n\u001b[0;32m----> 1\u001b[0;31m \u001b[0;32mfrom\u001b[0m \u001b[0mcredentials\u001b[0m \u001b[0;32mimport\u001b[0m \u001b[0;34m*\u001b[0m\u001b[0;34m\u001b[0m\u001b[0;34m\u001b[0m\u001b[0m\n\u001b[0m",
      "\u001b[0;31mModuleNotFoundError\u001b[0m: No module named 'credentials'"
     ]
    }
   ],
   "source": [
    "from credentials import *"
   ]
  },
  {
   "cell_type": "markdown",
   "metadata": {},
   "source": [
    "# Connecting to Twitter API"
   ]
  },
  {
   "cell_type": "code",
   "execution_count": 24,
   "metadata": {},
   "outputs": [
    {
     "ename": "NameError",
     "evalue": "name 'consumer_key' is not defined",
     "output_type": "error",
     "traceback": [
      "\u001b[0;31m---------------------------------------------------------------------------\u001b[0m",
      "\u001b[0;31mNameError\u001b[0m                                 Traceback (most recent call last)",
      "\u001b[0;32m<ipython-input-24-a134b5d847a4>\u001b[0m in \u001b[0;36m<module>\u001b[0;34m\u001b[0m\n\u001b[0;32m----> 1\u001b[0;31m \u001b[0mauth\u001b[0m \u001b[0;34m=\u001b[0m \u001b[0mtweepy\u001b[0m\u001b[0;34m.\u001b[0m\u001b[0mOAuthHandler\u001b[0m\u001b[0;34m(\u001b[0m\u001b[0mconsumer_key\u001b[0m\u001b[0;34m,\u001b[0m \u001b[0mconsumer_secret\u001b[0m\u001b[0;34m)\u001b[0m\u001b[0;34m\u001b[0m\u001b[0;34m\u001b[0m\u001b[0m\n\u001b[0m\u001b[1;32m      2\u001b[0m \u001b[0mauth\u001b[0m\u001b[0;34m.\u001b[0m\u001b[0mset_access_token\u001b[0m\u001b[0;34m(\u001b[0m\u001b[0maccess_token\u001b[0m\u001b[0;34m,\u001b[0m \u001b[0maccess_token_secret\u001b[0m\u001b[0;34m)\u001b[0m\u001b[0;34m\u001b[0m\u001b[0;34m\u001b[0m\u001b[0m\n\u001b[1;32m      3\u001b[0m \u001b[0mapi\u001b[0m \u001b[0;34m=\u001b[0m \u001b[0mtweepy\u001b[0m\u001b[0;34m.\u001b[0m\u001b[0mAPI\u001b[0m\u001b[0;34m(\u001b[0m\u001b[0mauth\u001b[0m\u001b[0;34m,\u001b[0m \u001b[0mwait_on_rate_limit\u001b[0m\u001b[0;34m=\u001b[0m\u001b[0;32mTrue\u001b[0m\u001b[0;34m)\u001b[0m\u001b[0;34m\u001b[0m\u001b[0;34m\u001b[0m\u001b[0m\n",
      "\u001b[0;31mNameError\u001b[0m: name 'consumer_key' is not defined"
     ]
    }
   ],
   "source": [
    "auth = tweepy.OAuthHandler(consumer_key, consumer_secret)\n",
    "auth.set_access_token(access_token, access_token_secret)\n",
    "api = tweepy.API(auth, wait_on_rate_limit=True)"
   ]
  },
  {
   "cell_type": "markdown",
   "metadata": {},
   "source": [
    "# Reading The CSV File"
   ]
  },
  {
   "cell_type": "code",
   "execution_count": 143,
   "metadata": {},
   "outputs": [],
   "source": [
    "#Read csv file      we have a new version dont use this file\n",
    "df = pd.read_csv(\"final_cleaned.csv\")"
   ]
  },
  {
   "cell_type": "code",
   "execution_count": 144,
   "metadata": {},
   "outputs": [
    {
     "data": {
      "text/plain": [
       "3680"
      ]
     },
     "execution_count": 144,
     "metadata": {},
     "output_type": "execute_result"
    }
   ],
   "source": [
    "#How much data do i have\n",
    "len(df)"
   ]
  },
  {
   "cell_type": "code",
   "execution_count": 27,
   "metadata": {},
   "outputs": [
    {
     "data": {
      "text/html": [
       "<div>\n",
       "<style scoped>\n",
       "    .dataframe tbody tr th:only-of-type {\n",
       "        vertical-align: middle;\n",
       "    }\n",
       "\n",
       "    .dataframe tbody tr th {\n",
       "        vertical-align: top;\n",
       "    }\n",
       "\n",
       "    .dataframe thead th {\n",
       "        text-align: right;\n",
       "    }\n",
       "</style>\n",
       "<table border=\"1\" class=\"dataframe\">\n",
       "  <thead>\n",
       "    <tr style=\"text-align: right;\">\n",
       "      <th></th>\n",
       "      <th>date</th>\n",
       "      <th>text</th>\n",
       "      <th>id</th>\n",
       "      <th>stance</th>\n",
       "      <th>location</th>\n",
       "      <th>clean text</th>\n",
       "      <th>tokens</th>\n",
       "      <th>City</th>\n",
       "    </tr>\n",
       "  </thead>\n",
       "  <tbody>\n",
       "    <tr>\n",
       "      <td>3679</td>\n",
       "      <td>12/5/2019 21:54</td>\n",
       "      <td>#اكتتاب_ارامكو بما اني احد ملاك اسهم في شركة ا...</td>\n",
       "      <td>1.200000e+18</td>\n",
       "      <td>Natural</td>\n",
       "      <td>Not Given</td>\n",
       "      <td>اكتابارامكو بما اني احد ملاك اسهم في شركه ارام...</td>\n",
       "      <td>['اكتابارامكو', 'بما', 'اني', 'احد', 'ملاك', '...</td>\n",
       "      <td>Not Given</td>\n",
       "    </tr>\n",
       "  </tbody>\n",
       "</table>\n",
       "</div>"
      ],
      "text/plain": [
       "                 date                                               text  \\\n",
       "3679  12/5/2019 21:54  #اكتتاب_ارامكو بما اني احد ملاك اسهم في شركة ا...   \n",
       "\n",
       "                id  stance    location  \\\n",
       "3679  1.200000e+18  Natural  Not Given   \n",
       "\n",
       "                                             clean text  \\\n",
       "3679  اكتابارامكو بما اني احد ملاك اسهم في شركه ارام...   \n",
       "\n",
       "                                                 tokens       City  \n",
       "3679  ['اكتابارامكو', 'بما', 'اني', 'احد', 'ملاك', '...  Not Given  "
      ]
     },
     "execution_count": 27,
     "metadata": {},
     "output_type": "execute_result"
    }
   ],
   "source": [
    "#See part of the Data to inderstand the data\n",
    "df.tail(1)"
   ]
  },
  {
   "cell_type": "code",
   "execution_count": 28,
   "metadata": {},
   "outputs": [
    {
     "name": "stdout",
     "output_type": "stream",
     "text": [
      "<class 'pandas.core.frame.DataFrame'>\n",
      "RangeIndex: 3680 entries, 0 to 3679\n",
      "Data columns (total 8 columns):\n",
      "date          3680 non-null object\n",
      "text          3680 non-null object\n",
      "id            3680 non-null float64\n",
      "stance        3680 non-null object\n",
      "location      3680 non-null object\n",
      "clean text    3680 non-null object\n",
      "tokens        3680 non-null object\n",
      "City          3680 non-null object\n",
      "dtypes: float64(1), object(7)\n",
      "memory usage: 230.1+ KB\n"
     ]
    }
   ],
   "source": [
    "# Print a concise summary of a DataFrame\n",
    "df.info()"
   ]
  },
  {
   "cell_type": "code",
   "execution_count": 29,
   "metadata": {
    "scrolled": true
   },
   "outputs": [
    {
     "data": {
      "text/plain": [
       "date           object\n",
       "text           object\n",
       "id            float64\n",
       "stance         object\n",
       "location       object\n",
       "clean text     object\n",
       "tokens         object\n",
       "City           object\n",
       "dtype: object"
      ]
     },
     "execution_count": 29,
     "metadata": {},
     "output_type": "execute_result"
    }
   ],
   "source": [
    "#Getting to know the Data type\n",
    "df.dtypes"
   ]
  },
  {
   "cell_type": "markdown",
   "metadata": {},
   "source": [
    "# Filling the nulls in Location Colomn"
   ]
  },
  {
   "cell_type": "code",
   "execution_count": 30,
   "metadata": {},
   "outputs": [],
   "source": [
    "# replace NA values\n",
    "df['location'].fillna(\"Not Given\", inplace=True)"
   ]
  },
  {
   "cell_type": "markdown",
   "metadata": {},
   "source": [
    "# Importing the City Dictionary"
   ]
  },
  {
   "cell_type": "code",
   "execution_count": 31,
   "metadata": {},
   "outputs": [],
   "source": [
    "from Dictionary import *"
   ]
  },
  {
   "cell_type": "markdown",
   "metadata": {},
   "source": [
    "# If the import resulted in an error here's the dictionary"
   ]
  },
  {
   "cell_type": "code",
   "execution_count": 32,
   "metadata": {},
   "outputs": [],
   "source": [
    "\n",
    "CityDictionary = { 'Riyadh':'Riyadh','Ryiadh':'Riyadh','الرياض':'Riyadh','رياض':'Riyadh','رياضه':'Riyadh',\n",
    "                     'ارياظ':'Riyadh','riydh':'Riyadh','ryiadh':'Riyadh','Riyad':'Riyadh','riyad':'Riyadh',\n",
    "                     'Riyadh, Kingdom of Saudi Arabia':'Riyadh','Ar Riyad':'Riyadh','Arriyad':'Riyadh','Alriyadh':'Riyadh',\n",
    "                     'AlRiyadh':'Riyadh','الرياض, المملكة العربية السعودية':'Riyadh',\n",
    "                     'Riyadh, Kingdom of Saudi Arabia, Kingdom of Saudi Arabia':'Riyadh',\n",
    "                     'السعودية - الرياض - جدة':'Riyadh','نجد':'Riyadh','Riyadh, Saudi Arabia الريـاض':'Riyadh',\n",
    "                     'الخرج':'Riyadh','الدرعية':'Riyadh','الدرعيه':'Riyadh','الدرعية':'Riyadh','الدرعية':'Riyadh',\n",
    "                     'الرياض':'Riyadh','الرياض, المملكة العربية السعود':'Riyadh','Riyadh \\ K.S.A':'Riyadh',\n",
    "                   #-----------------------------------Riyadh---------------------------------------\n",
    "                     'مكة':'Makkah','مكه':'Makkah','مكة المكرمة':'Makkah','مكه المكرمه':'Makkah','mecca':'Makkah',\n",
    "                     'Mecca':'Makkah','makkah':'Makkah','Makkah':'Makkah','Makkah AlMukarramah':'Makkah',\n",
    "                     'makkah':'Makkah','makka':'Makkah','Makka':'Makkah','Makkah, Kingdom of Saudi Arabia':'Makkah',\n",
    "                     'الغربيه':'Makkah','الغربيه':'Makkah','saudi arabia - makkah':'Makkah',\n",
    "                    #------------------ ----------------Makkah---------------------------------------\n",
    "                     'Jeddah':'Jeddah','jeddah':'Jeddah','Jedda':'Jeddah','jeddah':'Jeddah','جدة':'Jeddah','jeddah':'Jeddah',\n",
    "                     'جده':'Jeddah','Jeddah, Kingdom of Saudi Arabia':'Jeddah','Jedah':'Jeddah','jedah':'Jeddah',\n",
    "                     'Jeddah, Kingdom of Saudi Arabia, Kingdom of Saudi Arabia':'Jeddah',\n",
    "                     'جدة, المملكة العربية السعودية':'Jeddah','جده':'Jeddah','Jeddah, Saudi Arabia':'Jeddah', 'جــــــــــــدة':'Jeddah',\n",
    "                    #----------------------------------Jeddah---------------------------------------\n",
    "                     'المدينة المنورة':'Almadina','Almadinah':'Almadina','Almadinah':'Almadina','madina':'Almadina',\n",
    "                     'المدينه المنوره':'Almadina','المدينة المنورة, المملكة العربية السعودية':'Almadina','المدينة':'Almadina',\n",
    "                     'المدينه':'Almadina','Medina, Kingdom of Saudi Arabia':'Almadina','Medina, Kingdom of Saudi Arabia':'Almadina',\n",
    "                    'ينبع':'Almadina','ينبع, المملكة العربيه السعودية':'Almadina','Al Ola':'Almadina','العلا':'Almadina','العلا, الممكلة العربية السعودية':'Almadina',\n",
    "                    'مهد الذهب':'Almadina','Madinah - Jeddah':'Almadina',\n",
    "                    #---------------------------------Almadina--------------------------------------\n",
    "                    'Dammam, Kingdom of Saudi Arabia':'Dammam','Dammam':'Dammam',\"dammam\":'Dammam','الدمام':'Dammam',' الدمام, المملكة العربية السعودية':'Dammam',\n",
    "                    'دمام':'Dammam', 'Riyadh - Dammam':'Dammam',\n",
    "                    #---------------------------------Dammam----------------------------------------\n",
    "                     'ahsaa':'Alahsa','Alahsa':'Alahsa','الاحساء, المملكة العربية السعو':'Alahsa','الاحساء, المملكة العربية السعودية':'Alahsa',\n",
    "                     'احساء':'Alahsa','الاحسا':'Alahsa','الاحساء':'Alahsa','احساء':'Alahsa','أحساء':'Alahsa','إحساء':'Alahsa',\n",
    "                    #---------------------------------Alahsa----------------------------------------  \n",
    "                     'الخبر':'Alkhobar','Alkhobar':'Alkhobar','alkhobar':'Alkhobar','Khobar':'Alkhobar',\n",
    "                     'الخبر, المملكة العربية السعودية':'Alkhobar','Al Khobar':'Alkhobar','Al Khobar, Kingdom of Saudi Arabia':'Alkhobar'\n",
    "                     ,'Al Khobar, Kingdom of Saudi Arabia, Kingdom of Saudi Arabia':'Alkhobar','المنطقه الشرقيه _ الخبر':'Alkhobar', \n",
    "                    'Khobar,KSA':'Alkhobar',\n",
    "                    #---------------------------------Alkhobar--------------------------------------\n",
    "                     'Hafr Al Batin, Kingdom of Saudi Arabia, Kingdom of Saudi Arabia':'Hafr AlBatin',\n",
    "                     'Hafr Al Batin, Kingdom of Saudi Arabia':'Hafr AlBatin','حفر الباطن':'Hafr AlBatin',\n",
    "                     'Hafr allbatin':'Hafr Al Batin',\n",
    "                    #----------------------------------Hafr Albatin---------------------------------\n",
    "                     'الظهران':'Dharan','الظهران, المملكة العربية السعودية':'Dharan','Dharan':'Dharan',\n",
    "                     'Dharan, Kingdom of Saudi Arabia':'Dharan','Dharan, Kingdom of Saudi Arabia, Kingdom of Saudi Arabia':'Dharan',\n",
    "                    #-----------------------------------Dharran-------------------------------------\n",
    "                     'Eastern Province':'Eastern Province','eastern Province':'Eastern Province','Eastern Province, Kingdom of Saudi Arabia':'Eastern Province',\n",
    "                     'Eastern Province, Kingdom of Saudi Arabia, Kingdom of Saudi Arabia':'Eastern Province',\n",
    "                     'المنطقة الشرقية, المملكة العربية السعودية':'Eastern Province','الشرقية':'Eastern Province','المنطقة الشرقية':'Eastern Province',\n",
    "                    'الخفجي':'Eastern Province', 'Khafji, Kingdom of Saudi Arabia':'Eastern Province', 'Khafji':'Eastern Province','Eastern, Kingdom of Saudi Arabia':'Eastern Province',\n",
    "                    #-----------------------------------Eastern Province------------------------------\n",
    "                     'Aljubail':'AlJubail','Al jubail':'AlJubail','jubail':'AlJubail','AlJubail':'AlJubail','Al Jubail, Kingdom of Saudi Arabia, Kingdom of Saudi Arabia':'AlJubail',\n",
    "                     'الجبيل':'AlJubail','جبيل الصناعية':'AlJubail','جبيل':'AlJubail', 'الجبيل, المملكة العربية السعودية':'AlJubail',\n",
    "                    #--------------------------------------Al Jubail----------------------------------\n",
    "                    'القطيف':'AlQatif','قطيف':'AlQatif','القطيف, المملكة العربية السعودية':'AlQatif','Qatif':'AlQatif','AlQatif':'AlQatif',\n",
    "                    'Al Qatif, Kingdom of Saudi Arabia, Kingdom of Saudi Arabia':'AlQatif','qateef':'AlQatif','el qatif':'AlQatif','qateef':'AlQatif',\n",
    "                    #----------------------------------------Al Qateef -------------------------------------\n",
    "                    'Hail':'Hail','hail':'Hail','Hail, Kingdom of Saudi Arabia, Kingdom of Saudi Arabia':'Hail',\n",
    "                    'حائل':'Hail','حائل, المملكة العربية السعودية':'Hail','حايل':'Hail','hail ':'Hail','Hail, Kingdom of Saudi Arabia':'Hail',\n",
    "                    #---------------------------------------- Hail -----------------------------\n",
    "                    'Al Qassim':'AlQassim','AlQassim':'AlQassim','Qassim':'AlQassim','qassim':'AlQassim','Al qassim':'AlQassim','Al Qassim, Kingdom of Saudi Arabia':'AlQassim',\n",
    "                    'Al Qassim, Kingdom of Saudi Arabia, Kingdom of Saudi Arabia':'AlQassim','القصيم':'AlQassim','قصيم':'AlQassim','القصيم, المملكة العربية السعودية':'AlQassim',\n",
    "                    'بريدة':'AlQassim','بريده':'AlQassim','عنيزة':'AlQassim','عنيزه':'AlQassim','الرس':'AlQassim','Unayzah':'AlQassim','Ar Rass':'AlQassim',\n",
    "                    'Buraydah':'AlQassim',\n",
    "                    #----------------------------------------AL Qassim-------------------------------\n",
    "                    'عسير':'Aseer Province','أبها':'Aseer Province','خميس مشيط':'Aseer Province','بيشه':'Aseer Province','بيشة':'Aseer Province',\n",
    "                    'ابها':'Aseer Province','النماص':'Aseer Province','Abha, Kingdom of Saudi Arabia, Kingdom of Saudi Arabia':'Aseer Province',\n",
    "                    'Al Namas':'Aseer Province','Bisha':'Aseer Province','ابها, المملكة العربية السعودية':'Aseer Province',\n",
    "                    #---------------------------------------- Aseer----------------------------------\n",
    "                    'تبوك':'Tabuk','Tabuk':'Tabuk','Tabuk, Kingdom of Saudi Arabia, Kingdom of Saudi Arabia':'Tabuk','tabuk':'Tabuk','تبوك, المملكة العربية السعودية':'Tabuk',\n",
    "                    #--------------------------------------- Tabuk ----------------------------------\n",
    "                    'Jazan':'Jazan','Jazan, Kingdom of Saudi Arabia, Kingdom of Saudi Arabia':'Jazan','jazan':'Jazan','Jizan':'Jazan','jezan':'Jazan',\n",
    "                    'جازان':'Jazan','جيزان':'Jazan','جزر فرسان':'Jazan','صبيا':'Jazan','جازان, المملكة العربية السعودية':'Jazan',\n",
    "                    #-----------------------------------------Jazan----------------------------------\n",
    "                    'نجران':'Najran', 'نجران, المملكة العربية السعودية':'Najran', 'Najran':'Najran', 'Najran, Kingdom of Saudi Arabia':'Najran', \n",
    "                    'شرورة':'Najran','شروره':'Najran', 'Najran, Kingdom of Saudi Arabia, Kingdom of Saudi Arabia':'Najran', \n",
    "                    #---------------------------------------- Najran---------------------------------\n",
    "                    'الباحه':'AlBahah','AlBahah':'AlBahah','AlBahah, Kingdom of Saudi Arabia':'AlBahah','AlBahah, Kingdom of Saudi Arabia, Kingdom of Saudi Arabia':'AlBahah','الباحة':'AlBahah',\n",
    "                    'الباحه':'AlBahah','الباحة, المملكة العربية السعودية':'AlBahah',\n",
    "                    #---------------------------------------AlBahah----------------------------------\n",
    "                    'الطائف':'Taif','طائف':'Taif','الطائف, المملكة العربية السعودية':'Taif',\n",
    "                    'Al Taif':'Taif','Taif':'Taif','Taif, Kingdom of Saudi Arabia, Kingdom of Saudi Arabia':'Taif',\n",
    "                    'Taif, Kingdom of Saudi Arabia':'Taif','الطائف':'Taif','الطائف':'Taif',\n",
    "                    'الطائف':'Taif','الطائف':'Taif','الطائف':'Taif','الطائف':'Taif','‏﮼قلب ‏﮼الطائف':'Taif',\n",
    "                    #-------------------------------------Taif----------------------------------------\n",
    "                    'عرعر':'Northen Province', 'رفحاء':'Northen Province', 'عرعر, المملكة العربية السعودية':'Northen Province', 'Arar':'Northen Province',\n",
    "                    'Arar, Kingdom of Saudi Arabia':'Northen Province','Arar, Kingdom of Saudi Arabia, Kingdom of Saudi Arabia':'Northen Province',\n",
    "                    'طريف':'Northen Province','العويقلية':'Northen Province',\n",
    "                    #------------------------------------Northen Province-----------------------------\n",
    "                    'الجوف':'AlJowf', 'Al Jowf':'AlJowf', 'الجوف,المملكة العربية السعودية':'AlJowf', 'جوف':'AlJowf', 'سكاكا':'AlJowf',\n",
    "                    'Sakaka, Kingdom of Saudi Arabia, Kingdom of Saudi Arabia':'AlJowf','Sakaka, Kingdom of Saudi Arabia':'AlJowf',\n",
    "                    'Sakaka':'AlJowf',\n",
    "                    #--------------------------------------Al Jowf------------------------------------\n",
    "                    'Shaybah, Kingdom of Saudi Arabia, Kingdom of Saudi Arabia':'Shaybah',\n",
    "                    # if it's in saudi but not specified yet.\n",
    "                    'KSA':'Not Given','المملكة العربية السعودية':'Not Given','المملكة العربية السعودية 🇸🇦':'Not Given','KSA🇸🇦':'Not Given',\n",
    "                    'SA':'Not Given','ksa':'Not Given','K.s.a ...':'Not Given','k.s.a':'Not Given','K.S.A':'Not Given','العربيه السعوديةمملكةالانسانيه':'Not Given',\n",
    "                    'السعودية':'Not Given','سعودية':'Not Given','Kingdom of Saudi Arabia':'Not Given','k s a':'Not Given',\n",
    "                    'Kingdom of Saudi Arabia, Kingdom of Saudi Arabia':'Not Given','kSA':'Not Given',', المملكة العربية السعودية':'Not Given',\n",
    "                    '🇸🇦':'Not Given','ksa':'Not Given','السعوديه العظمى':'Not Given', 'Kingdom Saudi Arabia':'Not Given', 'المملكة العربيه السعوديه':'Not Given',\n",
    "                    # if the country is not given then also put not give\n",
    "                    'Not Given':'Not Given',\n",
    "                   }"
   ]
  },
  {
   "cell_type": "markdown",
   "metadata": {},
   "source": [
    "# mapping the city Colomn with dictionary"
   ]
  },
  {
   "cell_type": "code",
   "execution_count": 33,
   "metadata": {},
   "outputs": [],
   "source": [
    "df['City'] = df['location'].map(CityDictionary)\n",
    "df['City'].fillna(\"Other Country\", inplace=True)"
   ]
  },
  {
   "cell_type": "code",
   "execution_count": 34,
   "metadata": {},
   "outputs": [
    {
     "ename": "NameError",
     "evalue": "name 'plt' is not defined",
     "output_type": "error",
     "traceback": [
      "\u001b[0;31m---------------------------------------------------------------------------\u001b[0m",
      "\u001b[0;31mNameError\u001b[0m                                 Traceback (most recent call last)",
      "\u001b[0;32m<ipython-input-34-f64eb98df4c1>\u001b[0m in \u001b[0;36m<module>\u001b[0;34m\u001b[0m\n\u001b[1;32m      1\u001b[0m \u001b[0mtempo\u001b[0m \u001b[0;34m=\u001b[0m  \u001b[0mdf\u001b[0m\u001b[0;34m[\u001b[0m\u001b[0;34m'City'\u001b[0m\u001b[0;34m]\u001b[0m\u001b[0;34m.\u001b[0m\u001b[0mvalue_counts\u001b[0m\u001b[0;34m(\u001b[0m\u001b[0;34m)\u001b[0m\u001b[0;34m\u001b[0m\u001b[0;34m\u001b[0m\u001b[0m\n\u001b[1;32m      2\u001b[0m \u001b[0;31m# visualize the results in a better way!\u001b[0m\u001b[0;34m\u001b[0m\u001b[0;34m\u001b[0m\u001b[0;34m\u001b[0m\u001b[0m\n\u001b[0;32m----> 3\u001b[0;31m \u001b[0mfig\u001b[0m\u001b[0;34m,\u001b[0m \u001b[0max\u001b[0m \u001b[0;34m=\u001b[0m \u001b[0mplt\u001b[0m\u001b[0;34m.\u001b[0m\u001b[0msubplots\u001b[0m\u001b[0;34m(\u001b[0m\u001b[0;34m)\u001b[0m\u001b[0;34m\u001b[0m\u001b[0;34m\u001b[0m\u001b[0m\n\u001b[0m\u001b[1;32m      4\u001b[0m \u001b[0;34m\u001b[0m\u001b[0m\n\u001b[1;32m      5\u001b[0m \u001b[0max\u001b[0m\u001b[0;34m.\u001b[0m\u001b[0mtick_params\u001b[0m\u001b[0;34m(\u001b[0m\u001b[0maxis\u001b[0m\u001b[0;34m=\u001b[0m\u001b[0;34m'x'\u001b[0m\u001b[0;34m,\u001b[0m \u001b[0mlabelsize\u001b[0m\u001b[0;34m=\u001b[0m\u001b[0;36m15\u001b[0m\u001b[0;34m)\u001b[0m\u001b[0;34m\u001b[0m\u001b[0;34m\u001b[0m\u001b[0m\n",
      "\u001b[0;31mNameError\u001b[0m: name 'plt' is not defined"
     ]
    }
   ],
   "source": [
    "tempo =  df['City'].value_counts()\n",
    "# visualize the results in a better way!\n",
    "fig, ax = plt.subplots()\n",
    "\n",
    "ax.tick_params(axis='x', labelsize=15)\n",
    "ax.tick_params(axis='y', labelsize=15)\n",
    "\n",
    "ax.set_xlabel('Cities' , fontsize=15)\n",
    "ax.set_ylabel('Number of tweets', fontsize=15)\n",
    "ax.set_title('Top Tweeted Cities', fontsize=30)\n",
    "\n",
    "tempo[:6].plot(ax=ax, kind='bar')"
   ]
  },
  {
   "cell_type": "markdown",
   "metadata": {},
   "source": [
    "# Q: What is the distribution of stance?"
   ]
  },
  {
   "cell_type": "code",
   "execution_count": 35,
   "metadata": {},
   "outputs": [
    {
     "data": {
      "text/plain": [
       "0     Natural\n",
       "1     Natural\n",
       "2    Negative\n",
       "3     Natural\n",
       "4    Positive\n",
       "5     Natural\n",
       "6     Natural\n",
       "7    Positive\n",
       "8     Natural\n",
       "9     Natural\n",
       "Name: stance , dtype: object"
      ]
     },
     "execution_count": 35,
     "metadata": {},
     "output_type": "execute_result"
    }
   ],
   "source": [
    "df['stance '][:10]"
   ]
  },
  {
   "cell_type": "code",
   "execution_count": 36,
   "metadata": {},
   "outputs": [],
   "source": [
    "tweets_by_stance =df['stance '].value_counts()"
   ]
  },
  {
   "cell_type": "code",
   "execution_count": 37,
   "metadata": {},
   "outputs": [
    {
     "data": {
      "text/plain": [
       "<matplotlib.axes._subplots.AxesSubplot at 0x121d5e750>"
      ]
     },
     "execution_count": 37,
     "metadata": {},
     "output_type": "execute_result"
    }
   ],
   "source": [
    "# visualize the results\n",
    "tweets_by_stance.plot(kind='pie')"
   ]
  },
  {
   "cell_type": "code",
   "execution_count": 38,
   "metadata": {},
   "outputs": [
    {
     "ename": "NameError",
     "evalue": "name 'plt' is not defined",
     "output_type": "error",
     "traceback": [
      "\u001b[0;31m---------------------------------------------------------------------------\u001b[0m",
      "\u001b[0;31mNameError\u001b[0m                                 Traceback (most recent call last)",
      "\u001b[0;32m<ipython-input-38-cd02011c645b>\u001b[0m in \u001b[0;36m<module>\u001b[0;34m\u001b[0m\n\u001b[1;32m      1\u001b[0m \u001b[0;31m# visualize the results in a better way!\u001b[0m\u001b[0;34m\u001b[0m\u001b[0;34m\u001b[0m\u001b[0;34m\u001b[0m\u001b[0m\n\u001b[1;32m      2\u001b[0m \u001b[0;34m\u001b[0m\u001b[0m\n\u001b[0;32m----> 3\u001b[0;31m \u001b[0mfig\u001b[0m\u001b[0;34m,\u001b[0m \u001b[0max\u001b[0m \u001b[0;34m=\u001b[0m \u001b[0mplt\u001b[0m\u001b[0;34m.\u001b[0m\u001b[0msubplots\u001b[0m\u001b[0;34m(\u001b[0m\u001b[0;34m)\u001b[0m\u001b[0;34m\u001b[0m\u001b[0;34m\u001b[0m\u001b[0m\n\u001b[0m\u001b[1;32m      4\u001b[0m \u001b[0;34m\u001b[0m\u001b[0m\n\u001b[1;32m      5\u001b[0m \u001b[0max\u001b[0m\u001b[0;34m.\u001b[0m\u001b[0mtick_params\u001b[0m\u001b[0;34m(\u001b[0m\u001b[0maxis\u001b[0m\u001b[0;34m=\u001b[0m\u001b[0;34m'x'\u001b[0m\u001b[0;34m,\u001b[0m \u001b[0mlabelsize\u001b[0m\u001b[0;34m=\u001b[0m\u001b[0;36m15\u001b[0m\u001b[0;34m)\u001b[0m\u001b[0;34m\u001b[0m\u001b[0;34m\u001b[0m\u001b[0m\n",
      "\u001b[0;31mNameError\u001b[0m: name 'plt' is not defined"
     ]
    }
   ],
   "source": [
    "# visualize the results in a better way!\n",
    "\n",
    "fig, ax = plt.subplots()\n",
    "\n",
    "ax.tick_params(axis='x', labelsize=15)\n",
    "ax.tick_params(axis='y', labelsize=10)\n",
    "\n",
    "ax.set_xlabel('Stance ', fontsize=15)\n",
    "ax.set_ylabel('Number of tweets' , fontsize=15)\n",
    "ax.set_title('Distribution of stance', fontsize=15, fontweight='bold')\n",
    "BAR= ['#b3e4ff','#5DADE2','#2874A6']\n",
    "tweets_by_stance.plot(ax=ax, kind='bar',figsize=(8, 8),color=BAR)"
   ]
  },
  {
   "cell_type": "markdown",
   "metadata": {},
   "source": [
    "# Time serise analysis\n"
   ]
  },
  {
   "cell_type": "code",
   "execution_count": 39,
   "metadata": {},
   "outputs": [],
   "source": [
    "#first, we need to convert the date column to a datetime object\n",
    "df[\"Date_Time\"]=pd.to_datetime(df['date'])"
   ]
  },
  {
   "cell_type": "code",
   "execution_count": 40,
   "metadata": {},
   "outputs": [],
   "source": [
    "#creat a new data frame\n",
    "Date_df=df[['Date_Time','stance ']].copy()"
   ]
  },
  {
   "cell_type": "code",
   "execution_count": 41,
   "metadata": {},
   "outputs": [],
   "source": [
    "# create a new column for dates\n",
    "Date_df['Date'] = Date_df['Date_Time'].dt.date "
   ]
  },
  {
   "cell_type": "code",
   "execution_count": 42,
   "metadata": {},
   "outputs": [],
   "source": [
    "# count unique dates\n",
    "df_by_date = Date_df.groupby('Date').count()"
   ]
  },
  {
   "cell_type": "code",
   "execution_count": 43,
   "metadata": {},
   "outputs": [],
   "source": [
    "# make the date as the index for the visualization \n",
    "df_by_date['Date'] = df_by_date.index"
   ]
  },
  {
   "cell_type": "markdown",
   "metadata": {},
   "source": [
    "### When people with positive attitude ?"
   ]
  },
  {
   "cell_type": "code",
   "execution_count": 44,
   "metadata": {},
   "outputs": [],
   "source": [
    "#creat a new data frame\n",
    "Positive_Date_df=Date_df[Date_df[\"stance \"]=='Positive']\n",
    "Positive_df_by_date = Positive_Date_df.groupby('Date').count()"
   ]
  },
  {
   "cell_type": "code",
   "execution_count": 45,
   "metadata": {},
   "outputs": [],
   "source": [
    "Positive_df_by_date['Date'] = Positive_df_by_date.index"
   ]
  },
  {
   "cell_type": "code",
   "execution_count": 46,
   "metadata": {},
   "outputs": [
    {
     "ename": "NameError",
     "evalue": "name 'px' is not defined",
     "output_type": "error",
     "traceback": [
      "\u001b[0;31m---------------------------------------------------------------------------\u001b[0m",
      "\u001b[0;31mNameError\u001b[0m                                 Traceback (most recent call last)",
      "\u001b[0;32m<ipython-input-46-383661d1d767>\u001b[0m in \u001b[0;36m<module>\u001b[0;34m\u001b[0m\n\u001b[1;32m      1\u001b[0m \u001b[0;31m#fig = px.histogram(Positive_df_by_date, x=\"Date\", y=\"Date_Time\")\u001b[0m\u001b[0;34m\u001b[0m\u001b[0;34m\u001b[0m\u001b[0;34m\u001b[0m\u001b[0m\n\u001b[0;32m----> 2\u001b[0;31m \u001b[0mfig\u001b[0m \u001b[0;34m=\u001b[0m \u001b[0mpx\u001b[0m\u001b[0;34m.\u001b[0m\u001b[0mbar\u001b[0m\u001b[0;34m(\u001b[0m\u001b[0mx\u001b[0m\u001b[0;34m=\u001b[0m\u001b[0mPositive_df_by_date\u001b[0m\u001b[0;34m[\u001b[0m\u001b[0;34m'Date'\u001b[0m\u001b[0;34m]\u001b[0m\u001b[0;34m,\u001b[0m \u001b[0my\u001b[0m\u001b[0;34m=\u001b[0m\u001b[0mPositive_df_by_date\u001b[0m\u001b[0;34m[\u001b[0m\u001b[0;34m'Date_Time'\u001b[0m\u001b[0;34m]\u001b[0m\u001b[0;34m,\u001b[0m \u001b[0mlabels\u001b[0m\u001b[0;34m=\u001b[0m\u001b[0;34m{\u001b[0m\u001b[0;34m'x'\u001b[0m\u001b[0;34m:\u001b[0m\u001b[0;34m'Date'\u001b[0m\u001b[0;34m,\u001b[0m \u001b[0;34m'y'\u001b[0m\u001b[0;34m:\u001b[0m\u001b[0;34m'Number of tweets'\u001b[0m\u001b[0;34m}\u001b[0m\u001b[0;34m)\u001b[0m\u001b[0;34m\u001b[0m\u001b[0;34m\u001b[0m\u001b[0m\n\u001b[0m\u001b[1;32m      3\u001b[0m \u001b[0mfig\u001b[0m\u001b[0;34m.\u001b[0m\u001b[0mshow\u001b[0m\u001b[0;34m(\u001b[0m\u001b[0;34m)\u001b[0m\u001b[0;34m\u001b[0m\u001b[0;34m\u001b[0m\u001b[0m\n",
      "\u001b[0;31mNameError\u001b[0m: name 'px' is not defined"
     ]
    }
   ],
   "source": [
    "#fig = px.histogram(Positive_df_by_date, x=\"Date\", y=\"Date_Time\")\n",
    "fig = px.bar(x=Positive_df_by_date['Date'], y=Positive_df_by_date['Date_Time'], labels={'x':'Date', 'y':'Number of tweets'})\n",
    "fig.show()"
   ]
  },
  {
   "cell_type": "markdown",
   "metadata": {},
   "source": [
    "### When people with negative attitude ?"
   ]
  },
  {
   "cell_type": "code",
   "execution_count": 47,
   "metadata": {},
   "outputs": [],
   "source": [
    "#creat a new data frame\n",
    "Negative_Date_df=Date_df[Date_df[\"stance \"]=='Negative']\n",
    "Negative_df_by_date =Negative_Date_df.groupby('Date').count()\n",
    "\n"
   ]
  },
  {
   "cell_type": "code",
   "execution_count": 48,
   "metadata": {},
   "outputs": [],
   "source": [
    "Negative_df_by_date['Date'] = Negative_df_by_date.index"
   ]
  },
  {
   "cell_type": "code",
   "execution_count": 49,
   "metadata": {},
   "outputs": [
    {
     "ename": "NameError",
     "evalue": "name 'px' is not defined",
     "output_type": "error",
     "traceback": [
      "\u001b[0;31m---------------------------------------------------------------------------\u001b[0m",
      "\u001b[0;31mNameError\u001b[0m                                 Traceback (most recent call last)",
      "\u001b[0;32m<ipython-input-49-be62ec7b72f8>\u001b[0m in \u001b[0;36m<module>\u001b[0;34m\u001b[0m\n\u001b[1;32m      1\u001b[0m \u001b[0;31m#fig = px.histogram(Positive_df_by_date, x=\"Date\", y=\"Date_Time\")\u001b[0m\u001b[0;34m\u001b[0m\u001b[0;34m\u001b[0m\u001b[0;34m\u001b[0m\u001b[0m\n\u001b[0;32m----> 2\u001b[0;31m \u001b[0mfig\u001b[0m \u001b[0;34m=\u001b[0m \u001b[0mpx\u001b[0m\u001b[0;34m.\u001b[0m\u001b[0mbar\u001b[0m\u001b[0;34m(\u001b[0m\u001b[0mx\u001b[0m\u001b[0;34m=\u001b[0m\u001b[0mNegative_df_by_date\u001b[0m\u001b[0;34m[\u001b[0m\u001b[0;34m'Date'\u001b[0m\u001b[0;34m]\u001b[0m\u001b[0;34m,\u001b[0m \u001b[0my\u001b[0m\u001b[0;34m=\u001b[0m\u001b[0mNegative_df_by_date\u001b[0m\u001b[0;34m[\u001b[0m\u001b[0;34m'Date_Time'\u001b[0m\u001b[0;34m]\u001b[0m\u001b[0;34m,\u001b[0m \u001b[0mlabels\u001b[0m\u001b[0;34m=\u001b[0m\u001b[0;34m{\u001b[0m\u001b[0;34m'x'\u001b[0m\u001b[0;34m:\u001b[0m\u001b[0;34m'Date'\u001b[0m\u001b[0;34m,\u001b[0m \u001b[0;34m'y'\u001b[0m\u001b[0;34m:\u001b[0m\u001b[0;34m'Number of tweets'\u001b[0m\u001b[0;34m}\u001b[0m\u001b[0;34m)\u001b[0m\u001b[0;34m\u001b[0m\u001b[0;34m\u001b[0m\u001b[0m\n\u001b[0m\u001b[1;32m      3\u001b[0m \u001b[0mfig\u001b[0m\u001b[0;34m.\u001b[0m\u001b[0mshow\u001b[0m\u001b[0;34m(\u001b[0m\u001b[0;34m)\u001b[0m\u001b[0;34m\u001b[0m\u001b[0;34m\u001b[0m\u001b[0m\n",
      "\u001b[0;31mNameError\u001b[0m: name 'px' is not defined"
     ]
    }
   ],
   "source": [
    "#fig = px.histogram(Positive_df_by_date, x=\"Date\", y=\"Date_Time\")\n",
    "fig = px.bar(x=Negative_df_by_date['Date'], y=Negative_df_by_date['Date_Time'], labels={'x':'Date', 'y':'Number of tweets'})\n",
    "fig.show()"
   ]
  },
  {
   "cell_type": "code",
   "execution_count": 50,
   "metadata": {},
   "outputs": [
    {
     "name": "stdout",
     "output_type": "stream",
     "text": [
      "number of duplicate rows:  0\n"
     ]
    }
   ],
   "source": [
    "# this code is for finding duplicates - Abeer\n",
    "df.duplicated()\n",
    "duplicate_rows_df = df.duplicated().sum()\n",
    "print (\"number of duplicate rows: \", duplicate_rows_df)"
   ]
  },
  {
   "cell_type": "code",
   "execution_count": 51,
   "metadata": {},
   "outputs": [
    {
     "data": {
      "text/plain": [
       "Index(['date', 'text', 'id', 'stance ', 'location', 'clean text', 'tokens',\n",
       "       'City', 'Date_Time'],\n",
       "      dtype='object')"
      ]
     },
     "execution_count": 51,
     "metadata": {},
     "output_type": "execute_result"
    }
   ],
   "source": [
    "# Retrieve list of columns\n",
    "df.columns"
   ]
  },
  {
   "cell_type": "markdown",
   "metadata": {},
   "source": [
    "# Data Cleaning"
   ]
  },
  {
   "cell_type": "code",
   "execution_count": 52,
   "metadata": {},
   "outputs": [
    {
     "ename": "NameError",
     "evalue": "name 'string' is not defined",
     "output_type": "error",
     "traceback": [
      "\u001b[0;31m---------------------------------------------------------------------------\u001b[0m",
      "\u001b[0;31mNameError\u001b[0m                                 Traceback (most recent call last)",
      "\u001b[0;32m<ipython-input-52-bf79b4c61018>\u001b[0m in \u001b[0;36m<module>\u001b[0;34m\u001b[0m\n\u001b[1;32m      1\u001b[0m \u001b[0marabic_punctuations\u001b[0m \u001b[0;34m=\u001b[0m \u001b[0;34m'''`÷×؛<>_()*&^%][ـ،/:\"؟.,'{}~¦+|!”…“–ـ'''\u001b[0m\u001b[0;34m\u001b[0m\u001b[0;34m\u001b[0m\u001b[0m\n\u001b[0;32m----> 2\u001b[0;31m \u001b[0menglish_punctuations\u001b[0m \u001b[0;34m=\u001b[0m \u001b[0mstring\u001b[0m\u001b[0;34m.\u001b[0m\u001b[0mpunctuation\u001b[0m\u001b[0;34m\u001b[0m\u001b[0;34m\u001b[0m\u001b[0m\n\u001b[0m\u001b[1;32m      3\u001b[0m \u001b[0mpunctuations_list\u001b[0m \u001b[0;34m=\u001b[0m \u001b[0marabic_punctuations\u001b[0m \u001b[0;34m+\u001b[0m \u001b[0menglish_punctuations\u001b[0m\u001b[0;34m\u001b[0m\u001b[0;34m\u001b[0m\u001b[0m\n\u001b[1;32m      4\u001b[0m \u001b[0;34m\u001b[0m\u001b[0m\n\u001b[1;32m      5\u001b[0m \u001b[0;32mdef\u001b[0m \u001b[0mremove_punctuations\u001b[0m\u001b[0;34m(\u001b[0m\u001b[0mtext\u001b[0m\u001b[0;34m)\u001b[0m\u001b[0;34m:\u001b[0m\u001b[0;34m\u001b[0m\u001b[0;34m\u001b[0m\u001b[0m\n",
      "\u001b[0;31mNameError\u001b[0m: name 'string' is not defined"
     ]
    }
   ],
   "source": [
    "arabic_punctuations = '''`÷×؛<>_()*&^%][ـ،/:\"؟.,'{}~¦+|!”…“–ـ'''\n",
    "english_punctuations = string.punctuation\n",
    "punctuations_list = arabic_punctuations + english_punctuations\n",
    "\n",
    "def remove_punctuations(text):\n",
    "    translator = str.maketrans('', '', punctuations_list)\n",
    "    return text.translate(translator)"
   ]
  },
  {
   "cell_type": "code",
   "execution_count": 53,
   "metadata": {},
   "outputs": [],
   "source": [
    "def normalize_arabic(text):\n",
    "    text = re.sub(\"[إأآا]\", \"ا\", text)\n",
    "    text = re.sub(\"ى\", \"ي\", text)\n",
    "    text = re.sub(\"ة\", \"ه\", text)\n",
    "    text = re.sub(\"گ\", \"ك\", text)\n",
    "    return text"
   ]
  },
  {
   "cell_type": "code",
   "execution_count": 54,
   "metadata": {},
   "outputs": [],
   "source": [
    "def remove_repeating_char(text):\n",
    "    return re.sub(r'(.)\\1+', r'\\1', text)"
   ]
  },
  {
   "cell_type": "code",
   "execution_count": 55,
   "metadata": {},
   "outputs": [],
   "source": [
    "def remove_emoji(text):\n",
    "    emoji_pattern = re.compile(\"[\"\n",
    "                           u\"\\U0001F600-\\U0001F64F\"  # emoticons\n",
    "                           u\"\\U0001F300-\\U0001F5FF\"  # symbols & pictographs\n",
    "                           u\"\\U0001F680-\\U0001F6FF\"  # transport & map symbols\n",
    "                           u\"\\U0001F1E0-\\U0001F1FF\"  # flags (iOS)\n",
    "                           u\"\\U00002702-\\U000027B0\"\n",
    "                           u\"\\U000024C2-\\U0001F251\"\n",
    "                           \"]+\", flags=re.UNICODE)\n",
    "    return emoji_pattern.sub(r'', text)"
   ]
  },
  {
   "cell_type": "code",
   "execution_count": 56,
   "metadata": {},
   "outputs": [],
   "source": [
    "#start processing the tweet\n",
    "def processPost(tweet):\n",
    "\n",
    "    #Replace @username with empty string\n",
    "    tweet = re.sub('@[^\\s]+', ' ', str(tweet))\n",
    "    \n",
    "    #Convert www.* or https?://* to \" \"\n",
    "    tweet = re.sub('((www\\.[^\\s]+)|(https?://[^\\s]+))',' ',str(tweet))\n",
    "    \n",
    "    #Replace #word with word\n",
    "    tweet = re.sub(r'#([^\\s]+)', r'\\1', tweet)\n",
    "\n",
    "    # remove punctuations\n",
    "    tweet= remove_punctuations(str(tweet))\n",
    "    \n",
    "    # normalize the tweet\n",
    "    tweet= normalize_arabic(str(tweet))\n",
    "    \n",
    "    # remove repeated letters\n",
    "    tweet=remove_repeating_char(tweet)\n",
    "\n",
    "    #Remove new lines with white space\n",
    "    tweet = str(tweet).replace('\\n',' ')\n",
    "    tweet = str(tweet).replace('\\t',' ')\n",
    "    \n",
    "    #remove emoji\n",
    "    tweet = remove_emoji(tweet)\n",
    "        \n",
    "    return tweet"
   ]
  },
  {
   "cell_type": "code",
   "execution_count": 57,
   "metadata": {},
   "outputs": [
    {
     "name": "stderr",
     "output_type": "stream",
     "text": [
      "[nltk_data] Downloading package stopwords to\n",
      "[nltk_data]     /Users/fahdaalromi/nltk_data...\n",
      "[nltk_data]   Package stopwords is already up-to-date!\n"
     ]
    }
   ],
   "source": [
    "# remove Arabic stop words from the tweets\n",
    "import nltk\n",
    "nltk.download('stopwords')\n",
    "from nltk.corpus import stopwords\n",
    "ar_stops = set(stopwords.words('arabic'))"
   ]
  },
  {
   "cell_type": "code",
   "execution_count": 58,
   "metadata": {},
   "outputs": [],
   "source": [
    "# remove Arabic stop words from the tweets\n",
    "for word in df['text']:\n",
    "    if word in ar_stops:        \n",
    "        words_filtered.remove(word)"
   ]
  },
  {
   "cell_type": "code",
   "execution_count": 59,
   "metadata": {},
   "outputs": [
    {
     "ename": "NameError",
     "evalue": "name 're' is not defined",
     "output_type": "error",
     "traceback": [
      "\u001b[0;31m---------------------------------------------------------------------------\u001b[0m",
      "\u001b[0;31mNameError\u001b[0m                                 Traceback (most recent call last)",
      "\u001b[0;32m<ipython-input-59-f23cef9c823a>\u001b[0m in \u001b[0;36m<module>\u001b[0;34m\u001b[0m\n\u001b[0;32m----> 1\u001b[0;31m \u001b[0mdf\u001b[0m\u001b[0;34m[\u001b[0m\u001b[0;34m\"clean text\"\u001b[0m\u001b[0;34m]\u001b[0m \u001b[0;34m=\u001b[0m \u001b[0mdf\u001b[0m\u001b[0;34m[\u001b[0m\u001b[0;34m'text'\u001b[0m\u001b[0;34m]\u001b[0m\u001b[0;34m.\u001b[0m\u001b[0mapply\u001b[0m\u001b[0;34m(\u001b[0m\u001b[0;32mlambda\u001b[0m \u001b[0mx\u001b[0m\u001b[0;34m:\u001b[0m \u001b[0mprocessPost\u001b[0m\u001b[0;34m(\u001b[0m\u001b[0mx\u001b[0m\u001b[0;34m)\u001b[0m\u001b[0;34m)\u001b[0m\u001b[0;34m\u001b[0m\u001b[0;34m\u001b[0m\u001b[0m\n\u001b[0m",
      "\u001b[0;32m/opt/anaconda3/lib/python3.7/site-packages/pandas/core/series.py\u001b[0m in \u001b[0;36mapply\u001b[0;34m(self, func, convert_dtype, args, **kwds)\u001b[0m\n\u001b[1;32m   4040\u001b[0m             \u001b[0;32melse\u001b[0m\u001b[0;34m:\u001b[0m\u001b[0;34m\u001b[0m\u001b[0;34m\u001b[0m\u001b[0m\n\u001b[1;32m   4041\u001b[0m                 \u001b[0mvalues\u001b[0m \u001b[0;34m=\u001b[0m \u001b[0mself\u001b[0m\u001b[0;34m.\u001b[0m\u001b[0mastype\u001b[0m\u001b[0;34m(\u001b[0m\u001b[0mobject\u001b[0m\u001b[0;34m)\u001b[0m\u001b[0;34m.\u001b[0m\u001b[0mvalues\u001b[0m\u001b[0;34m\u001b[0m\u001b[0;34m\u001b[0m\u001b[0m\n\u001b[0;32m-> 4042\u001b[0;31m                 \u001b[0mmapped\u001b[0m \u001b[0;34m=\u001b[0m \u001b[0mlib\u001b[0m\u001b[0;34m.\u001b[0m\u001b[0mmap_infer\u001b[0m\u001b[0;34m(\u001b[0m\u001b[0mvalues\u001b[0m\u001b[0;34m,\u001b[0m \u001b[0mf\u001b[0m\u001b[0;34m,\u001b[0m \u001b[0mconvert\u001b[0m\u001b[0;34m=\u001b[0m\u001b[0mconvert_dtype\u001b[0m\u001b[0;34m)\u001b[0m\u001b[0;34m\u001b[0m\u001b[0;34m\u001b[0m\u001b[0m\n\u001b[0m\u001b[1;32m   4043\u001b[0m \u001b[0;34m\u001b[0m\u001b[0m\n\u001b[1;32m   4044\u001b[0m         \u001b[0;32mif\u001b[0m \u001b[0mlen\u001b[0m\u001b[0;34m(\u001b[0m\u001b[0mmapped\u001b[0m\u001b[0;34m)\u001b[0m \u001b[0;32mand\u001b[0m \u001b[0misinstance\u001b[0m\u001b[0;34m(\u001b[0m\u001b[0mmapped\u001b[0m\u001b[0;34m[\u001b[0m\u001b[0;36m0\u001b[0m\u001b[0;34m]\u001b[0m\u001b[0;34m,\u001b[0m \u001b[0mSeries\u001b[0m\u001b[0;34m)\u001b[0m\u001b[0;34m:\u001b[0m\u001b[0;34m\u001b[0m\u001b[0;34m\u001b[0m\u001b[0m\n",
      "\u001b[0;32mpandas/_libs/lib.pyx\u001b[0m in \u001b[0;36mpandas._libs.lib.map_infer\u001b[0;34m()\u001b[0m\n",
      "\u001b[0;32m<ipython-input-59-f23cef9c823a>\u001b[0m in \u001b[0;36m<lambda>\u001b[0;34m(x)\u001b[0m\n\u001b[0;32m----> 1\u001b[0;31m \u001b[0mdf\u001b[0m\u001b[0;34m[\u001b[0m\u001b[0;34m\"clean text\"\u001b[0m\u001b[0;34m]\u001b[0m \u001b[0;34m=\u001b[0m \u001b[0mdf\u001b[0m\u001b[0;34m[\u001b[0m\u001b[0;34m'text'\u001b[0m\u001b[0;34m]\u001b[0m\u001b[0;34m.\u001b[0m\u001b[0mapply\u001b[0m\u001b[0;34m(\u001b[0m\u001b[0;32mlambda\u001b[0m \u001b[0mx\u001b[0m\u001b[0;34m:\u001b[0m \u001b[0mprocessPost\u001b[0m\u001b[0;34m(\u001b[0m\u001b[0mx\u001b[0m\u001b[0;34m)\u001b[0m\u001b[0;34m)\u001b[0m\u001b[0;34m\u001b[0m\u001b[0;34m\u001b[0m\u001b[0m\n\u001b[0m",
      "\u001b[0;32m<ipython-input-56-ee9ab307e988>\u001b[0m in \u001b[0;36mprocessPost\u001b[0;34m(tweet)\u001b[0m\n\u001b[1;32m      3\u001b[0m \u001b[0;34m\u001b[0m\u001b[0m\n\u001b[1;32m      4\u001b[0m     \u001b[0;31m#Replace @username with empty string\u001b[0m\u001b[0;34m\u001b[0m\u001b[0;34m\u001b[0m\u001b[0;34m\u001b[0m\u001b[0m\n\u001b[0;32m----> 5\u001b[0;31m     \u001b[0mtweet\u001b[0m \u001b[0;34m=\u001b[0m \u001b[0mre\u001b[0m\u001b[0;34m.\u001b[0m\u001b[0msub\u001b[0m\u001b[0;34m(\u001b[0m\u001b[0;34m'@[^\\s]+'\u001b[0m\u001b[0;34m,\u001b[0m \u001b[0;34m' '\u001b[0m\u001b[0;34m,\u001b[0m \u001b[0mstr\u001b[0m\u001b[0;34m(\u001b[0m\u001b[0mtweet\u001b[0m\u001b[0;34m)\u001b[0m\u001b[0;34m)\u001b[0m\u001b[0;34m\u001b[0m\u001b[0;34m\u001b[0m\u001b[0m\n\u001b[0m\u001b[1;32m      6\u001b[0m \u001b[0;34m\u001b[0m\u001b[0m\n\u001b[1;32m      7\u001b[0m     \u001b[0;31m#Convert www.* or https?://* to \" \"\u001b[0m\u001b[0;34m\u001b[0m\u001b[0;34m\u001b[0m\u001b[0;34m\u001b[0m\u001b[0m\n",
      "\u001b[0;31mNameError\u001b[0m: name 're' is not defined"
     ]
    }
   ],
   "source": [
    "df[\"clean text\"] = df['text'].apply(lambda x: processPost(x))"
   ]
  },
  {
   "cell_type": "code",
   "execution_count": 160,
   "metadata": {},
   "outputs": [],
   "source": [
    "dff =pd.read_csv(\"final_cleaned.csv\")   "
   ]
  },
  {
   "cell_type": "code",
   "execution_count": 162,
   "metadata": {},
   "outputs": [
    {
     "ename": "NameError",
     "evalue": "name 're' is not defined",
     "output_type": "error",
     "traceback": [
      "\u001b[0;31m---------------------------------------------------------------------------\u001b[0m",
      "\u001b[0;31mNameError\u001b[0m                                 Traceback (most recent call last)",
      "\u001b[0;32m<ipython-input-162-236c280e0d08>\u001b[0m in \u001b[0;36m<module>\u001b[0;34m\u001b[0m\n\u001b[0;32m----> 1\u001b[0;31m \u001b[0mdff\u001b[0m\u001b[0;34m[\u001b[0m\u001b[0;34m\"clean text\"\u001b[0m\u001b[0;34m]\u001b[0m \u001b[0;34m=\u001b[0m \u001b[0mdf\u001b[0m\u001b[0;34m[\u001b[0m\u001b[0;34m'text'\u001b[0m\u001b[0;34m]\u001b[0m\u001b[0;34m.\u001b[0m\u001b[0mapply\u001b[0m\u001b[0;34m(\u001b[0m\u001b[0;32mlambda\u001b[0m \u001b[0mx\u001b[0m\u001b[0;34m:\u001b[0m \u001b[0mprocessPost\u001b[0m\u001b[0;34m(\u001b[0m\u001b[0mx\u001b[0m\u001b[0;34m)\u001b[0m\u001b[0;34m)\u001b[0m\u001b[0;34m\u001b[0m\u001b[0;34m\u001b[0m\u001b[0m\n\u001b[0m",
      "\u001b[0;32m/opt/anaconda3/lib/python3.7/site-packages/pandas/core/series.py\u001b[0m in \u001b[0;36mapply\u001b[0;34m(self, func, convert_dtype, args, **kwds)\u001b[0m\n\u001b[1;32m   4040\u001b[0m             \u001b[0;32melse\u001b[0m\u001b[0;34m:\u001b[0m\u001b[0;34m\u001b[0m\u001b[0;34m\u001b[0m\u001b[0m\n\u001b[1;32m   4041\u001b[0m                 \u001b[0mvalues\u001b[0m \u001b[0;34m=\u001b[0m \u001b[0mself\u001b[0m\u001b[0;34m.\u001b[0m\u001b[0mastype\u001b[0m\u001b[0;34m(\u001b[0m\u001b[0mobject\u001b[0m\u001b[0;34m)\u001b[0m\u001b[0;34m.\u001b[0m\u001b[0mvalues\u001b[0m\u001b[0;34m\u001b[0m\u001b[0;34m\u001b[0m\u001b[0m\n\u001b[0;32m-> 4042\u001b[0;31m                 \u001b[0mmapped\u001b[0m \u001b[0;34m=\u001b[0m \u001b[0mlib\u001b[0m\u001b[0;34m.\u001b[0m\u001b[0mmap_infer\u001b[0m\u001b[0;34m(\u001b[0m\u001b[0mvalues\u001b[0m\u001b[0;34m,\u001b[0m \u001b[0mf\u001b[0m\u001b[0;34m,\u001b[0m \u001b[0mconvert\u001b[0m\u001b[0;34m=\u001b[0m\u001b[0mconvert_dtype\u001b[0m\u001b[0;34m)\u001b[0m\u001b[0;34m\u001b[0m\u001b[0;34m\u001b[0m\u001b[0m\n\u001b[0m\u001b[1;32m   4043\u001b[0m \u001b[0;34m\u001b[0m\u001b[0m\n\u001b[1;32m   4044\u001b[0m         \u001b[0;32mif\u001b[0m \u001b[0mlen\u001b[0m\u001b[0;34m(\u001b[0m\u001b[0mmapped\u001b[0m\u001b[0;34m)\u001b[0m \u001b[0;32mand\u001b[0m \u001b[0misinstance\u001b[0m\u001b[0;34m(\u001b[0m\u001b[0mmapped\u001b[0m\u001b[0;34m[\u001b[0m\u001b[0;36m0\u001b[0m\u001b[0;34m]\u001b[0m\u001b[0;34m,\u001b[0m \u001b[0mSeries\u001b[0m\u001b[0;34m)\u001b[0m\u001b[0;34m:\u001b[0m\u001b[0;34m\u001b[0m\u001b[0;34m\u001b[0m\u001b[0m\n",
      "\u001b[0;32mpandas/_libs/lib.pyx\u001b[0m in \u001b[0;36mpandas._libs.lib.map_infer\u001b[0;34m()\u001b[0m\n",
      "\u001b[0;32m<ipython-input-162-236c280e0d08>\u001b[0m in \u001b[0;36m<lambda>\u001b[0;34m(x)\u001b[0m\n\u001b[0;32m----> 1\u001b[0;31m \u001b[0mdff\u001b[0m\u001b[0;34m[\u001b[0m\u001b[0;34m\"clean text\"\u001b[0m\u001b[0;34m]\u001b[0m \u001b[0;34m=\u001b[0m \u001b[0mdf\u001b[0m\u001b[0;34m[\u001b[0m\u001b[0;34m'text'\u001b[0m\u001b[0;34m]\u001b[0m\u001b[0;34m.\u001b[0m\u001b[0mapply\u001b[0m\u001b[0;34m(\u001b[0m\u001b[0;32mlambda\u001b[0m \u001b[0mx\u001b[0m\u001b[0;34m:\u001b[0m \u001b[0mprocessPost\u001b[0m\u001b[0;34m(\u001b[0m\u001b[0mx\u001b[0m\u001b[0;34m)\u001b[0m\u001b[0;34m)\u001b[0m\u001b[0;34m\u001b[0m\u001b[0;34m\u001b[0m\u001b[0m\n\u001b[0m",
      "\u001b[0;32m<ipython-input-56-ee9ab307e988>\u001b[0m in \u001b[0;36mprocessPost\u001b[0;34m(tweet)\u001b[0m\n\u001b[1;32m      3\u001b[0m \u001b[0;34m\u001b[0m\u001b[0m\n\u001b[1;32m      4\u001b[0m     \u001b[0;31m#Replace @username with empty string\u001b[0m\u001b[0;34m\u001b[0m\u001b[0;34m\u001b[0m\u001b[0;34m\u001b[0m\u001b[0m\n\u001b[0;32m----> 5\u001b[0;31m     \u001b[0mtweet\u001b[0m \u001b[0;34m=\u001b[0m \u001b[0mre\u001b[0m\u001b[0;34m.\u001b[0m\u001b[0msub\u001b[0m\u001b[0;34m(\u001b[0m\u001b[0;34m'@[^\\s]+'\u001b[0m\u001b[0;34m,\u001b[0m \u001b[0;34m' '\u001b[0m\u001b[0;34m,\u001b[0m \u001b[0mstr\u001b[0m\u001b[0;34m(\u001b[0m\u001b[0mtweet\u001b[0m\u001b[0;34m)\u001b[0m\u001b[0;34m)\u001b[0m\u001b[0;34m\u001b[0m\u001b[0;34m\u001b[0m\u001b[0m\n\u001b[0m\u001b[1;32m      6\u001b[0m \u001b[0;34m\u001b[0m\u001b[0m\n\u001b[1;32m      7\u001b[0m     \u001b[0;31m#Convert www.* or https?://* to \" \"\u001b[0m\u001b[0;34m\u001b[0m\u001b[0;34m\u001b[0m\u001b[0;34m\u001b[0m\u001b[0m\n",
      "\u001b[0;31mNameError\u001b[0m: name 're' is not defined"
     ]
    }
   ],
   "source": [
    "dff[\"clean text\"] = df['text'].apply(lambda x: processPost(x))"
   ]
  },
  {
   "cell_type": "code",
   "execution_count": 61,
   "metadata": {},
   "outputs": [
    {
     "name": "stdout",
     "output_type": "stream",
     "text": [
      "date          1/6/2020 5:23                                                                                                        \n",
      "text          عساك تفوزين بس انتي عاد احسك ماتلعبين الا برهان اكتتاب ارامكو شكله جاء منها☻                                         \n",
      "id            1.21e+18                                                                                                             \n",
      "stance        Natural                                                                                                              \n",
      "location      Not Given                                                                                                            \n",
      "clean text    عساك تفوزين بس انتي عاد احسك ماتلعبين الا برهان اكتاب ارامكو شكله جاء منها                                           \n",
      "tokens        ['عساك', 'تفوزين', 'بس', 'انتي', 'عاد', 'احسك', 'ماتلعبين', 'الا', 'برهان', 'اكتاب', 'ارامكو', 'شكله', 'جاء', 'منها']\n",
      "City          Not Given                                                                                                            \n",
      "Date_Time     2020-01-06 05:23:00                                                                                                  \n",
      "Name: 528, dtype: object\n"
     ]
    }
   ],
   "source": [
    "pd.set_option('display.max_colwidth', -1)  \n",
    "print(df.iloc[528])"
   ]
  },
  {
   "cell_type": "markdown",
   "metadata": {},
   "source": [
    "# Drop Unwanted Colomns"
   ]
  },
  {
   "cell_type": "code",
   "execution_count": 163,
   "metadata": {},
   "outputs": [
    {
     "ename": "KeyError",
     "evalue": "\"['Unnamed: 0' 'username' 'to' 'replies' 'retweets' 'favorites' 'geo'\\n 'mentions' 'hashtags' 'permalink'] not found in axis\"",
     "output_type": "error",
     "traceback": [
      "\u001b[0;31m---------------------------------------------------------------------------\u001b[0m",
      "\u001b[0;31mKeyError\u001b[0m                                  Traceback (most recent call last)",
      "\u001b[0;32m<ipython-input-163-bb7db3c52259>\u001b[0m in \u001b[0;36m<module>\u001b[0;34m\u001b[0m\n\u001b[1;32m      1\u001b[0m \u001b[0;31m# Drop The unwanted Colomns ()\u001b[0m\u001b[0;34m\u001b[0m\u001b[0;34m\u001b[0m\u001b[0;34m\u001b[0m\u001b[0m\n\u001b[0;32m----> 2\u001b[0;31m \u001b[0mtemp\u001b[0m \u001b[0;34m=\u001b[0m \u001b[0mdf\u001b[0m\u001b[0;34m.\u001b[0m\u001b[0mdrop\u001b[0m\u001b[0;34m(\u001b[0m\u001b[0;34m[\u001b[0m\u001b[0;34m'Unnamed: 0'\u001b[0m\u001b[0;34m,\u001b[0m\u001b[0;34m'username'\u001b[0m\u001b[0;34m,\u001b[0m\u001b[0;34m'to'\u001b[0m\u001b[0;34m,\u001b[0m\u001b[0;34m'replies'\u001b[0m\u001b[0;34m,\u001b[0m\u001b[0;34m'retweets'\u001b[0m\u001b[0;34m,\u001b[0m\u001b[0;34m'favorites'\u001b[0m\u001b[0;34m,\u001b[0m\u001b[0;34m'geo'\u001b[0m\u001b[0;34m,\u001b[0m\u001b[0;34m'mentions'\u001b[0m\u001b[0;34m,\u001b[0m\u001b[0;34m'hashtags'\u001b[0m\u001b[0;34m,\u001b[0m\u001b[0;34m'permalink'\u001b[0m\u001b[0;34m]\u001b[0m\u001b[0;34m,\u001b[0m\u001b[0maxis\u001b[0m\u001b[0;34m=\u001b[0m\u001b[0;36m1\u001b[0m\u001b[0;34m)\u001b[0m\u001b[0;34m\u001b[0m\u001b[0;34m\u001b[0m\u001b[0m\n\u001b[0m",
      "\u001b[0;32m/opt/anaconda3/lib/python3.7/site-packages/pandas/core/frame.py\u001b[0m in \u001b[0;36mdrop\u001b[0;34m(self, labels, axis, index, columns, level, inplace, errors)\u001b[0m\n\u001b[1;32m   4100\u001b[0m             \u001b[0mlevel\u001b[0m\u001b[0;34m=\u001b[0m\u001b[0mlevel\u001b[0m\u001b[0;34m,\u001b[0m\u001b[0;34m\u001b[0m\u001b[0;34m\u001b[0m\u001b[0m\n\u001b[1;32m   4101\u001b[0m             \u001b[0minplace\u001b[0m\u001b[0;34m=\u001b[0m\u001b[0minplace\u001b[0m\u001b[0;34m,\u001b[0m\u001b[0;34m\u001b[0m\u001b[0;34m\u001b[0m\u001b[0m\n\u001b[0;32m-> 4102\u001b[0;31m             \u001b[0merrors\u001b[0m\u001b[0;34m=\u001b[0m\u001b[0merrors\u001b[0m\u001b[0;34m,\u001b[0m\u001b[0;34m\u001b[0m\u001b[0;34m\u001b[0m\u001b[0m\n\u001b[0m\u001b[1;32m   4103\u001b[0m         )\n\u001b[1;32m   4104\u001b[0m \u001b[0;34m\u001b[0m\u001b[0m\n",
      "\u001b[0;32m/opt/anaconda3/lib/python3.7/site-packages/pandas/core/generic.py\u001b[0m in \u001b[0;36mdrop\u001b[0;34m(self, labels, axis, index, columns, level, inplace, errors)\u001b[0m\n\u001b[1;32m   3912\u001b[0m         \u001b[0;32mfor\u001b[0m \u001b[0maxis\u001b[0m\u001b[0;34m,\u001b[0m \u001b[0mlabels\u001b[0m \u001b[0;32min\u001b[0m \u001b[0maxes\u001b[0m\u001b[0;34m.\u001b[0m\u001b[0mitems\u001b[0m\u001b[0;34m(\u001b[0m\u001b[0;34m)\u001b[0m\u001b[0;34m:\u001b[0m\u001b[0;34m\u001b[0m\u001b[0;34m\u001b[0m\u001b[0m\n\u001b[1;32m   3913\u001b[0m             \u001b[0;32mif\u001b[0m \u001b[0mlabels\u001b[0m \u001b[0;32mis\u001b[0m \u001b[0;32mnot\u001b[0m \u001b[0;32mNone\u001b[0m\u001b[0;34m:\u001b[0m\u001b[0;34m\u001b[0m\u001b[0;34m\u001b[0m\u001b[0m\n\u001b[0;32m-> 3914\u001b[0;31m                 \u001b[0mobj\u001b[0m \u001b[0;34m=\u001b[0m \u001b[0mobj\u001b[0m\u001b[0;34m.\u001b[0m\u001b[0m_drop_axis\u001b[0m\u001b[0;34m(\u001b[0m\u001b[0mlabels\u001b[0m\u001b[0;34m,\u001b[0m \u001b[0maxis\u001b[0m\u001b[0;34m,\u001b[0m \u001b[0mlevel\u001b[0m\u001b[0;34m=\u001b[0m\u001b[0mlevel\u001b[0m\u001b[0;34m,\u001b[0m \u001b[0merrors\u001b[0m\u001b[0;34m=\u001b[0m\u001b[0merrors\u001b[0m\u001b[0;34m)\u001b[0m\u001b[0;34m\u001b[0m\u001b[0;34m\u001b[0m\u001b[0m\n\u001b[0m\u001b[1;32m   3915\u001b[0m \u001b[0;34m\u001b[0m\u001b[0m\n\u001b[1;32m   3916\u001b[0m         \u001b[0;32mif\u001b[0m \u001b[0minplace\u001b[0m\u001b[0;34m:\u001b[0m\u001b[0;34m\u001b[0m\u001b[0;34m\u001b[0m\u001b[0m\n",
      "\u001b[0;32m/opt/anaconda3/lib/python3.7/site-packages/pandas/core/generic.py\u001b[0m in \u001b[0;36m_drop_axis\u001b[0;34m(self, labels, axis, level, errors)\u001b[0m\n\u001b[1;32m   3944\u001b[0m                 \u001b[0mnew_axis\u001b[0m \u001b[0;34m=\u001b[0m \u001b[0maxis\u001b[0m\u001b[0;34m.\u001b[0m\u001b[0mdrop\u001b[0m\u001b[0;34m(\u001b[0m\u001b[0mlabels\u001b[0m\u001b[0;34m,\u001b[0m \u001b[0mlevel\u001b[0m\u001b[0;34m=\u001b[0m\u001b[0mlevel\u001b[0m\u001b[0;34m,\u001b[0m \u001b[0merrors\u001b[0m\u001b[0;34m=\u001b[0m\u001b[0merrors\u001b[0m\u001b[0;34m)\u001b[0m\u001b[0;34m\u001b[0m\u001b[0;34m\u001b[0m\u001b[0m\n\u001b[1;32m   3945\u001b[0m             \u001b[0;32melse\u001b[0m\u001b[0;34m:\u001b[0m\u001b[0;34m\u001b[0m\u001b[0;34m\u001b[0m\u001b[0m\n\u001b[0;32m-> 3946\u001b[0;31m                 \u001b[0mnew_axis\u001b[0m \u001b[0;34m=\u001b[0m \u001b[0maxis\u001b[0m\u001b[0;34m.\u001b[0m\u001b[0mdrop\u001b[0m\u001b[0;34m(\u001b[0m\u001b[0mlabels\u001b[0m\u001b[0;34m,\u001b[0m \u001b[0merrors\u001b[0m\u001b[0;34m=\u001b[0m\u001b[0merrors\u001b[0m\u001b[0;34m)\u001b[0m\u001b[0;34m\u001b[0m\u001b[0;34m\u001b[0m\u001b[0m\n\u001b[0m\u001b[1;32m   3947\u001b[0m             \u001b[0mresult\u001b[0m \u001b[0;34m=\u001b[0m \u001b[0mself\u001b[0m\u001b[0;34m.\u001b[0m\u001b[0mreindex\u001b[0m\u001b[0;34m(\u001b[0m\u001b[0;34m**\u001b[0m\u001b[0;34m{\u001b[0m\u001b[0maxis_name\u001b[0m\u001b[0;34m:\u001b[0m \u001b[0mnew_axis\u001b[0m\u001b[0;34m}\u001b[0m\u001b[0;34m)\u001b[0m\u001b[0;34m\u001b[0m\u001b[0;34m\u001b[0m\u001b[0m\n\u001b[1;32m   3948\u001b[0m \u001b[0;34m\u001b[0m\u001b[0m\n",
      "\u001b[0;32m/opt/anaconda3/lib/python3.7/site-packages/pandas/core/indexes/base.py\u001b[0m in \u001b[0;36mdrop\u001b[0;34m(self, labels, errors)\u001b[0m\n\u001b[1;32m   5338\u001b[0m         \u001b[0;32mif\u001b[0m \u001b[0mmask\u001b[0m\u001b[0;34m.\u001b[0m\u001b[0many\u001b[0m\u001b[0;34m(\u001b[0m\u001b[0;34m)\u001b[0m\u001b[0;34m:\u001b[0m\u001b[0;34m\u001b[0m\u001b[0;34m\u001b[0m\u001b[0m\n\u001b[1;32m   5339\u001b[0m             \u001b[0;32mif\u001b[0m \u001b[0merrors\u001b[0m \u001b[0;34m!=\u001b[0m \u001b[0;34m\"ignore\"\u001b[0m\u001b[0;34m:\u001b[0m\u001b[0;34m\u001b[0m\u001b[0;34m\u001b[0m\u001b[0m\n\u001b[0;32m-> 5340\u001b[0;31m                 \u001b[0;32mraise\u001b[0m \u001b[0mKeyError\u001b[0m\u001b[0;34m(\u001b[0m\u001b[0;34m\"{} not found in axis\"\u001b[0m\u001b[0;34m.\u001b[0m\u001b[0mformat\u001b[0m\u001b[0;34m(\u001b[0m\u001b[0mlabels\u001b[0m\u001b[0;34m[\u001b[0m\u001b[0mmask\u001b[0m\u001b[0;34m]\u001b[0m\u001b[0;34m)\u001b[0m\u001b[0;34m)\u001b[0m\u001b[0;34m\u001b[0m\u001b[0;34m\u001b[0m\u001b[0m\n\u001b[0m\u001b[1;32m   5341\u001b[0m             \u001b[0mindexer\u001b[0m \u001b[0;34m=\u001b[0m \u001b[0mindexer\u001b[0m\u001b[0;34m[\u001b[0m\u001b[0;34m~\u001b[0m\u001b[0mmask\u001b[0m\u001b[0;34m]\u001b[0m\u001b[0;34m\u001b[0m\u001b[0;34m\u001b[0m\u001b[0m\n\u001b[1;32m   5342\u001b[0m         \u001b[0;32mreturn\u001b[0m \u001b[0mself\u001b[0m\u001b[0;34m.\u001b[0m\u001b[0mdelete\u001b[0m\u001b[0;34m(\u001b[0m\u001b[0mindexer\u001b[0m\u001b[0;34m)\u001b[0m\u001b[0;34m\u001b[0m\u001b[0;34m\u001b[0m\u001b[0m\n",
      "\u001b[0;31mKeyError\u001b[0m: \"['Unnamed: 0' 'username' 'to' 'replies' 'retweets' 'favorites' 'geo'\\n 'mentions' 'hashtags' 'permalink'] not found in axis\""
     ]
    }
   ],
   "source": [
    "# Drop The unwanted Colomns ()\n",
    "temp = df.drop(['Unnamed: 0','username','to','replies','retweets','favorites','geo','mentions','hashtags','permalink'],axis=1)"
   ]
  },
  {
   "cell_type": "markdown",
   "metadata": {},
   "source": [
    "# Save the Cleaned Data into a new CSV file"
   ]
  },
  {
   "cell_type": "code",
   "execution_count": 63,
   "metadata": {},
   "outputs": [
    {
     "ename": "NameError",
     "evalue": "name 'temp' is not defined",
     "output_type": "error",
     "traceback": [
      "\u001b[0;31m---------------------------------------------------------------------------\u001b[0m",
      "\u001b[0;31mNameError\u001b[0m                                 Traceback (most recent call last)",
      "\u001b[0;32m<ipython-input-63-83c9c7228a57>\u001b[0m in \u001b[0;36m<module>\u001b[0;34m\u001b[0m\n\u001b[0;32m----> 1\u001b[0;31m \u001b[0mtemp\u001b[0m\u001b[0;34m.\u001b[0m\u001b[0mto_csv\u001b[0m\u001b[0;34m(\u001b[0m\u001b[0;34m\"CLEANED DATA1.csv\"\u001b[0m\u001b[0;34m,\u001b[0m\u001b[0mindex\u001b[0m\u001b[0;34m=\u001b[0m\u001b[0;32mFalse\u001b[0m\u001b[0;34m,\u001b[0m\u001b[0mencoding\u001b[0m\u001b[0;34m=\u001b[0m\u001b[0;34m\"utf-8-sig\"\u001b[0m\u001b[0;34m)\u001b[0m\u001b[0;34m\u001b[0m\u001b[0;34m\u001b[0m\u001b[0m\n\u001b[0m",
      "\u001b[0;31mNameError\u001b[0m: name 'temp' is not defined"
     ]
    }
   ],
   "source": [
    "temp.to_csv(\"CLEANED DATA1.csv\",index=False,encoding=\"utf-8-sig\")"
   ]
  },
  {
   "cell_type": "code",
   "execution_count": 64,
   "metadata": {},
   "outputs": [],
   "source": [
    "df=pd.read_excel(\"newExtractedData.xlsx\")"
   ]
  },
  {
   "cell_type": "code",
   "execution_count": 65,
   "metadata": {},
   "outputs": [],
   "source": [
    "#The method that will get the location for the tweet it recevies tweet ID as parametr \n",
    "def setLocation(j):\n",
    "    try:\n",
    "        tweet=api.get_status(j)\n",
    "        \n",
    "        \n",
    "    except:\n",
    "        return None\n",
    "    location = None\n",
    "        \n",
    "\n",
    "        # Try coordinates first, as it gives the most concrete data.\n",
    "        \n",
    "    if tweet.coordinates :\n",
    "        location = (tweet.coordinates.coordinates).toString()\n",
    "        \n",
    "       # Next up, try tweet.place, which could also have a full street address, and will have at least the full_name and country, if not null \n",
    "    elif tweet.place :\n",
    "        street = \"\"\n",
    "        #if tweet.place.attributes.street_address:\n",
    "         #   street += tweet.place.attributes.street_address + \", \"\n",
    "          #  if tweet.place.attributes['623:id']:\n",
    "           #     street += tweet.place.attributes['623:id'] + \", \"\n",
    "             \n",
    "        location = street + tweet.place.full_name + \", \" + tweet.place.country\n",
    "        # Lastly, if all else fails, grab the user location. This data is pretty poor, but is at least something. You may not want it, depending on your usage.\n",
    "    elif tweet.user and tweet.user.location:\n",
    "            location = tweet.user.location        \n",
    "         \n",
    "    return location"
   ]
  },
  {
   "cell_type": "code",
   "execution_count": 66,
   "metadata": {},
   "outputs": [],
   "source": [
    "#Put the \"permalink\" colume in list\n",
    "lin_data=df['permalink'].values.tolist()\n",
    "newL=[]"
   ]
  },
  {
   "cell_type": "code",
   "execution_count": 67,
   "metadata": {},
   "outputs": [],
   "source": [
    "#Cut the ID form the permalink and add it in a list\n",
    "z=0\n",
    "for l in lin_data:\n",
    "    e=lin_data[z] +\"\"\n",
    "    s=e[-19:]\n",
    "    index=s.find('/')\n",
    "    if(index!= -1):\n",
    "        s=s[index+1:]\n",
    "    newL.append(s)\n",
    "    z=z+1"
   ]
  },
  {
   "cell_type": "code",
   "execution_count": 68,
   "metadata": {},
   "outputs": [],
   "source": [
    "#Pass each ID to setLocation method and add the returned value in a list\n",
    "newLocation=[]\n",
    "for j in newL:\n",
    "    newLocation.append(setLocation(j))\n",
    "    \n"
   ]
  },
  {
   "cell_type": "code",
   "execution_count": 69,
   "metadata": {},
   "outputs": [],
   "source": [
    "#Add new colume(location)\n",
    "df['location'] =newLocation"
   ]
  },
  {
   "cell_type": "code",
   "execution_count": 70,
   "metadata": {},
   "outputs": [],
   "source": [
    "#Drop unwanted columes\n",
    "temp = df.drop(['username','to','replies','retweets','favorites','geo','mentions','hashtags','permalink'],axis=1)"
   ]
  },
  {
   "cell_type": "code",
   "execution_count": 71,
   "metadata": {},
   "outputs": [],
   "source": [
    "temp.to_csv(\"CLEANED DATA1.csv\",index=False,encoding=\"utf-8-sig\")"
   ]
  },
  {
   "cell_type": "code",
   "execution_count": 72,
   "metadata": {},
   "outputs": [
    {
     "ename": "NameError",
     "evalue": "name 'RegexpTokenizer' is not defined",
     "output_type": "error",
     "traceback": [
      "\u001b[0;31m---------------------------------------------------------------------------\u001b[0m",
      "\u001b[0;31mNameError\u001b[0m                                 Traceback (most recent call last)",
      "\u001b[0;32m<ipython-input-72-1e184ff64597>\u001b[0m in \u001b[0;36m<module>\u001b[0;34m\u001b[0m\n\u001b[1;32m      1\u001b[0m \u001b[0;31m#Add tokens\u001b[0m\u001b[0;34m\u001b[0m\u001b[0;34m\u001b[0m\u001b[0;34m\u001b[0m\u001b[0m\n\u001b[0;32m----> 2\u001b[0;31m \u001b[0mtokenizer\u001b[0m \u001b[0;34m=\u001b[0m \u001b[0mRegexpTokenizer\u001b[0m\u001b[0;34m(\u001b[0m\u001b[0;34mr'\\w+'\u001b[0m\u001b[0;34m)\u001b[0m\u001b[0;34m\u001b[0m\u001b[0;34m\u001b[0m\u001b[0m\n\u001b[0m\u001b[1;32m      3\u001b[0m \u001b[0mdff\u001b[0m\u001b[0;34m[\u001b[0m\u001b[0;34m\"tokens\"\u001b[0m\u001b[0;34m]\u001b[0m \u001b[0;34m=\u001b[0m \u001b[0mdff\u001b[0m\u001b[0;34m[\u001b[0m\u001b[0;34m\"clean text\"\u001b[0m\u001b[0;34m]\u001b[0m\u001b[0;34m.\u001b[0m\u001b[0mapply\u001b[0m\u001b[0;34m(\u001b[0m\u001b[0mtokenizer\u001b[0m\u001b[0;34m.\u001b[0m\u001b[0mtokenize\u001b[0m\u001b[0;34m)\u001b[0m\u001b[0;34m\u001b[0m\u001b[0;34m\u001b[0m\u001b[0m\n",
      "\u001b[0;31mNameError\u001b[0m: name 'RegexpTokenizer' is not defined"
     ]
    }
   ],
   "source": [
    "#Add tokens\n",
    "tokenizer = RegexpTokenizer(r'\\w+')\n",
    "dff[\"tokens\"] = dff[\"clean text\"].apply(tokenizer.tokenize)"
   ]
  },
  {
   "cell_type": "code",
   "execution_count": 73,
   "metadata": {},
   "outputs": [
    {
     "ename": "NameError",
     "evalue": "name 'dff' is not defined",
     "output_type": "error",
     "traceback": [
      "\u001b[0;31m---------------------------------------------------------------------------\u001b[0m",
      "\u001b[0;31mNameError\u001b[0m                                 Traceback (most recent call last)",
      "\u001b[0;32m<ipython-input-73-3783ef61d6d2>\u001b[0m in \u001b[0;36m<module>\u001b[0;34m\u001b[0m\n\u001b[0;32m----> 1\u001b[0;31m \u001b[0mdff\u001b[0m\u001b[0;34m.\u001b[0m\u001b[0mto_csv\u001b[0m\u001b[0;34m(\u001b[0m\u001b[0;34m\"final_cleaned.csv\"\u001b[0m\u001b[0;34m,\u001b[0m\u001b[0mindex\u001b[0m\u001b[0;34m=\u001b[0m\u001b[0;32mFalse\u001b[0m\u001b[0;34m,\u001b[0m\u001b[0mencoding\u001b[0m\u001b[0;34m=\u001b[0m\u001b[0;34m\"utf-8-sig\"\u001b[0m\u001b[0;34m)\u001b[0m\u001b[0;34m\u001b[0m\u001b[0;34m\u001b[0m\u001b[0m\n\u001b[0m",
      "\u001b[0;31mNameError\u001b[0m: name 'dff' is not defined"
     ]
    }
   ],
   "source": [
    "dff.to_csv(\"final_cleaned.csv\",index=False,encoding=\"utf-8-sig\")"
   ]
  },
  {
   "cell_type": "code",
   "execution_count": 74,
   "metadata": {},
   "outputs": [
    {
     "ename": "NameError",
     "evalue": "name 'dff' is not defined",
     "output_type": "error",
     "traceback": [
      "\u001b[0;31m---------------------------------------------------------------------------\u001b[0m",
      "\u001b[0;31mNameError\u001b[0m                                 Traceback (most recent call last)",
      "\u001b[0;32m<ipython-input-74-14d99359693c>\u001b[0m in \u001b[0;36m<module>\u001b[0;34m\u001b[0m\n\u001b[0;32m----> 1\u001b[0;31m \u001b[0mdff\u001b[0m\u001b[0;34m.\u001b[0m\u001b[0mhead\u001b[0m\u001b[0;34m(\u001b[0m\u001b[0;36m5\u001b[0m\u001b[0;34m)\u001b[0m\u001b[0;34m\u001b[0m\u001b[0;34m\u001b[0m\u001b[0m\n\u001b[0m",
      "\u001b[0;31mNameError\u001b[0m: name 'dff' is not defined"
     ]
    }
   ],
   "source": [
    "dff.head(5)"
   ]
  },
  {
   "cell_type": "code",
   "execution_count": 75,
   "metadata": {},
   "outputs": [],
   "source": [
    "temp.to_csv(\"CLEANED DATA1.csv\",index=False,encoding=\"utf-8-sig\")"
   ]
  },
  {
   "cell_type": "markdown",
   "metadata": {},
   "source": [
    "## Classification with Decision tree"
   ]
  },
  {
   "cell_type": "code",
   "execution_count": 76,
   "metadata": {},
   "outputs": [],
   "source": [
    "from sklearn.feature_extraction.text import TfidfVectorizer"
   ]
  },
  {
   "cell_type": "code",
   "execution_count": 77,
   "metadata": {},
   "outputs": [
    {
     "data": {
      "text/html": [
       "<div>\n",
       "<style scoped>\n",
       "    .dataframe tbody tr th:only-of-type {\n",
       "        vertical-align: middle;\n",
       "    }\n",
       "\n",
       "    .dataframe tbody tr th {\n",
       "        vertical-align: top;\n",
       "    }\n",
       "\n",
       "    .dataframe thead th {\n",
       "        text-align: right;\n",
       "    }\n",
       "</style>\n",
       "<table border=\"1\" class=\"dataframe\">\n",
       "  <thead>\n",
       "    <tr style=\"text-align: right;\">\n",
       "      <th></th>\n",
       "      <th>date</th>\n",
       "      <th>text</th>\n",
       "      <th>id</th>\n",
       "      <th>stance</th>\n",
       "      <th>location</th>\n",
       "      <th>clean text</th>\n",
       "      <th>tokens</th>\n",
       "      <th>City</th>\n",
       "    </tr>\n",
       "  </thead>\n",
       "  <tbody>\n",
       "    <tr>\n",
       "      <td>0</td>\n",
       "      <td>3/7/2020 20:40</td>\n",
       "      <td>السلام عليكم هل اقدر ابيع جزء من اسهم اكتتاب ارامكو ؟ من تطبيق المباشر للافراد</td>\n",
       "      <td>1.240000e+18</td>\n",
       "      <td>Natural</td>\n",
       "      <td>Not Given</td>\n",
       "      <td>السلام عليكم هل اقدر ابيع جزء من اسهم اكتاب ارامكو من تطبيق المباشر لافراد</td>\n",
       "      <td>['السلام', 'عليكم', 'هل', 'اقدر', 'ابيع', 'جزء', 'من', 'اسهم', 'اكتاب', 'ارامكو', 'من', 'تطبيق', 'المباشر', 'لافراد']</td>\n",
       "      <td>Not Given</td>\n",
       "    </tr>\n",
       "    <tr>\n",
       "      <td>1</td>\n",
       "      <td>3/7/2020 10:26</td>\n",
       "      <td>#تاسي مساء الخير ... غداً تستأنف التداولات في السوق السعودي بعد فشل اتفاق اوبك بلس وهبوط اسعار النفط لمستويات متدنية جديدة * توقعاتكم للاسبوع المقبل ؟ كتوقع شخصي ١. كسر سعر اكتتاب ارامكو . ٢. كسر مستوى ٧٠٠٠ نقطة . ٣. هناك أسهم ستعاكس اتجاه السوق موفقين</td>\n",
       "      <td>1.240000e+18</td>\n",
       "      <td>Natural</td>\n",
       "      <td>Not Given</td>\n",
       "      <td>تاسي مساء الخير غداً تستانف التداولات في السوق السعودي بعد فشل اتفاق اوبك بلس وهبوط اسعار النفط لمستويات متدنيه جديده توقعاتكم لاسبوع المقبل كتوقع شخصي ١ كسر سعر اكتاب ارامكو ٢ كسر مستوي ٧٠ نقطه ٣ هناك اسهم ستعاكس اتجاه السوق موفقين</td>\n",
       "      <td>['تاسي', 'مساء', 'الخير', 'غدا', 'تستانف', 'التداولات', 'في', 'السوق', 'السعودي', 'بعد', 'فشل', 'اتفاق', 'اوبك', 'بلس', 'وهبوط', 'اسعار', 'النفط', 'لمستويات', 'متدنيه', 'جديده', 'توقعاتكم', 'لاسبوع', 'المقبل', 'كتوقع', 'شخصي', '١', 'كسر', 'سعر', 'اكتاب', 'ارامكو', '٢', 'كسر', 'مستوي', '٧٠', 'نقطه', '٣', 'هناك', 'اسهم', 'ستعاكس', 'اتجاه', 'السوق', 'موفقين']</td>\n",
       "      <td>Not Given</td>\n",
       "    </tr>\n",
       "    <tr>\n",
       "      <td>2</td>\n",
       "      <td>3/7/2020 10:11</td>\n",
       "      <td>والله يابو دانة لعنة انهيار السوق ٢٠٠٦ حتى اليوم ملاحقة سوقنا ، ومع اكتتاب ارامكو عدد كبير من الناس اكتتبو وصارو يتابعون السوق وأصبح في اهتمام في الفرص الي فيه وللأسف خابت توقعات الكثير منهم ، اعتقد نحتاج فتره زمنية اطول وتحسن الأوضاع الاقتصادية علشان نصل للمستويات الي ذكرها الاخ</td>\n",
       "      <td>1.240000e+18</td>\n",
       "      <td>Negative</td>\n",
       "      <td>Kingdom of Saudi Arabia</td>\n",
       "      <td>واله يابو دانه لعنه انهيار السوق ٢٠٦ حتي اليوم ملاحقه سوقنا ومع اكتاب ارامكو عد كبير من الناس اكتبو وصارو يتابعون السوق واصبح في اهتمام في الفرص الي فيه ولاسف خابت توقعات الكثير منهم اعتقد نحتاج فتره زمنيه اطول وتحسن الاوضاع الاقتصاديه علشان نصل لمستويات الي ذكرها الاخ</td>\n",
       "      <td>['واله', 'يابو', 'دانه', 'لعنه', 'انهيار', 'السوق', '٢٠٦', 'حتي', 'اليوم', 'ملاحقه', 'سوقنا', 'ومع', 'اكتاب', 'ارامكو', 'عد', 'كبير', 'من', 'الناس', 'اكتبو', 'وصارو', 'يتابعون', 'السوق', 'واصبح', 'في', 'اهتمام', 'في', 'الفرص', 'الي', 'فيه', 'ولاسف', 'خابت', 'توقعات', 'الكثير', 'منهم', 'اعتقد', 'نحتاج', 'فتره', 'زمنيه', 'اطول', 'وتحسن', 'الاوضاع', 'الاقتصاديه', 'علشان', 'نصل', 'لمستويات', 'الي', 'ذكرها', 'الاخ']</td>\n",
       "      <td>Not Given</td>\n",
       "    </tr>\n",
       "    <tr>\n",
       "      <td>3</td>\n",
       "      <td>3/7/2020 9:50</td>\n",
       "      <td>استثمار مادي في العلاقه ! هذا اكتتاب ارامكو مو حب</td>\n",
       "      <td>1.240000e+18</td>\n",
       "      <td>Natural</td>\n",
       "      <td>قضاعه</td>\n",
       "      <td>استثمار مادي في العلاقه هذا اكتاب ارامكو مو حب</td>\n",
       "      <td>['استثمار', 'مادي', 'في', 'العلاقه', 'هذا', 'اكتاب', 'ارامكو', 'مو', 'حب']</td>\n",
       "      <td>Other Country</td>\n",
       "    </tr>\n",
       "    <tr>\n",
       "      <td>4</td>\n",
       "      <td>3/7/2020 8:07</td>\n",
       "      <td>بالنسبة للميزانية السعوديه فقد خرجت من أزمة اسعار النفط على الأقل للخمس سنوات القادمه بسبب اكتتاب أرامكو و الخطه الاستثمارية الشجاعة التي اعتمدتها في السبع سنوات الاخيره وعقبال عندنا</td>\n",
       "      <td>1.240000e+18</td>\n",
       "      <td>Positive</td>\n",
       "      <td>Not Given</td>\n",
       "      <td>بالنسبه لميزانيه السعوديه فقد خرجت من ازمه اسعار النفط علي الاقل لخمس سنوات القادمه بسب اكتاب ارامكو و الخطه الاستثماريه الشجاعه التي اعتمدتها في السبع سنوات الاخيره وعقبال عندنا</td>\n",
       "      <td>['بالنسبه', 'لميزانيه', 'السعوديه', 'فقد', 'خرجت', 'من', 'ازمه', 'اسعار', 'النفط', 'علي', 'الاقل', 'لخمس', 'سنوات', 'القادمه', 'بسب', 'اكتاب', 'ارامكو', 'و', 'الخطه', 'الاستثماريه', 'الشجاعه', 'التي', 'اعتمدتها', 'في', 'السبع', 'سنوات', 'الاخيره', 'وعقبال', 'عندنا']</td>\n",
       "      <td>Not Given</td>\n",
       "    </tr>\n",
       "  </tbody>\n",
       "</table>\n",
       "</div>"
      ],
      "text/plain": [
       "             date  \\\n",
       "0  3/7/2020 20:40   \n",
       "1  3/7/2020 10:26   \n",
       "2  3/7/2020 10:11   \n",
       "3  3/7/2020 9:50    \n",
       "4  3/7/2020 8:07    \n",
       "\n",
       "                                                                                                                                                                                                                                                                                       text  \\\n",
       "0  السلام عليكم هل اقدر ابيع جزء من اسهم اكتتاب ارامكو ؟ من تطبيق المباشر للافراد                                                                                                                                                                                                             \n",
       "1  #تاسي مساء الخير ... غداً تستأنف التداولات في السوق السعودي بعد فشل اتفاق اوبك بلس وهبوط اسعار النفط لمستويات متدنية جديدة * توقعاتكم للاسبوع المقبل ؟ كتوقع شخصي ١. كسر سعر اكتتاب ارامكو . ٢. كسر مستوى ٧٠٠٠ نقطة . ٣. هناك أسهم ستعاكس اتجاه السوق موفقين                               \n",
       "2  والله يابو دانة لعنة انهيار السوق ٢٠٠٦ حتى اليوم ملاحقة سوقنا ، ومع اكتتاب ارامكو عدد كبير من الناس اكتتبو وصارو يتابعون السوق وأصبح في اهتمام في الفرص الي فيه وللأسف خابت توقعات الكثير منهم ، اعتقد نحتاج فتره زمنية اطول وتحسن الأوضاع الاقتصادية علشان نصل للمستويات الي ذكرها الاخ   \n",
       "3  استثمار مادي في العلاقه ! هذا اكتتاب ارامكو مو حب                                                                                                                                                                                                                                          \n",
       "4  بالنسبة للميزانية السعوديه فقد خرجت من أزمة اسعار النفط على الأقل للخمس سنوات القادمه بسبب اكتتاب أرامكو و الخطه الاستثمارية الشجاعة التي اعتمدتها في السبع سنوات الاخيره وعقبال عندنا                                                                                                     \n",
       "\n",
       "             id   stance                  location  \\\n",
       "0  1.240000e+18  Natural   Not Given                 \n",
       "1  1.240000e+18  Natural   Not Given                 \n",
       "2  1.240000e+18  Negative  Kingdom of Saudi Arabia   \n",
       "3  1.240000e+18  Natural   قضاعه                     \n",
       "4  1.240000e+18  Positive  Not Given                 \n",
       "\n",
       "                                                                                                                                                                                                                                                                      clean text  \\\n",
       "0  السلام عليكم هل اقدر ابيع جزء من اسهم اكتاب ارامكو من تطبيق المباشر لافراد                                                                                                                                                                                                      \n",
       "1  تاسي مساء الخير غداً تستانف التداولات في السوق السعودي بعد فشل اتفاق اوبك بلس وهبوط اسعار النفط لمستويات متدنيه جديده توقعاتكم لاسبوع المقبل كتوقع شخصي ١ كسر سعر اكتاب ارامكو ٢ كسر مستوي ٧٠ نقطه ٣ هناك اسهم ستعاكس اتجاه السوق موفقين                                        \n",
       "2  واله يابو دانه لعنه انهيار السوق ٢٠٦ حتي اليوم ملاحقه سوقنا ومع اكتاب ارامكو عد كبير من الناس اكتبو وصارو يتابعون السوق واصبح في اهتمام في الفرص الي فيه ولاسف خابت توقعات الكثير منهم اعتقد نحتاج فتره زمنيه اطول وتحسن الاوضاع الاقتصاديه علشان نصل لمستويات الي ذكرها الاخ   \n",
       "3  استثمار مادي في العلاقه هذا اكتاب ارامكو مو حب                                                                                                                                                                                                                                  \n",
       "4  بالنسبه لميزانيه السعوديه فقد خرجت من ازمه اسعار النفط علي الاقل لخمس سنوات القادمه بسب اكتاب ارامكو و الخطه الاستثماريه الشجاعه التي اعتمدتها في السبع سنوات الاخيره وعقبال عندنا                                                                                              \n",
       "\n",
       "                                                                                                                                                                                                                                                                                                                                                                                                                           tokens  \\\n",
       "0  ['السلام', 'عليكم', 'هل', 'اقدر', 'ابيع', 'جزء', 'من', 'اسهم', 'اكتاب', 'ارامكو', 'من', 'تطبيق', 'المباشر', 'لافراد']                                                                                                                                                                                                                                                                                                            \n",
       "1  ['تاسي', 'مساء', 'الخير', 'غدا', 'تستانف', 'التداولات', 'في', 'السوق', 'السعودي', 'بعد', 'فشل', 'اتفاق', 'اوبك', 'بلس', 'وهبوط', 'اسعار', 'النفط', 'لمستويات', 'متدنيه', 'جديده', 'توقعاتكم', 'لاسبوع', 'المقبل', 'كتوقع', 'شخصي', '١', 'كسر', 'سعر', 'اكتاب', 'ارامكو', '٢', 'كسر', 'مستوي', '٧٠', 'نقطه', '٣', 'هناك', 'اسهم', 'ستعاكس', 'اتجاه', 'السوق', 'موفقين']                                                           \n",
       "2  ['واله', 'يابو', 'دانه', 'لعنه', 'انهيار', 'السوق', '٢٠٦', 'حتي', 'اليوم', 'ملاحقه', 'سوقنا', 'ومع', 'اكتاب', 'ارامكو', 'عد', 'كبير', 'من', 'الناس', 'اكتبو', 'وصارو', 'يتابعون', 'السوق', 'واصبح', 'في', 'اهتمام', 'في', 'الفرص', 'الي', 'فيه', 'ولاسف', 'خابت', 'توقعات', 'الكثير', 'منهم', 'اعتقد', 'نحتاج', 'فتره', 'زمنيه', 'اطول', 'وتحسن', 'الاوضاع', 'الاقتصاديه', 'علشان', 'نصل', 'لمستويات', 'الي', 'ذكرها', 'الاخ']   \n",
       "3  ['استثمار', 'مادي', 'في', 'العلاقه', 'هذا', 'اكتاب', 'ارامكو', 'مو', 'حب']                                                                                                                                                                                                                                                                                                                                                       \n",
       "4  ['بالنسبه', 'لميزانيه', 'السعوديه', 'فقد', 'خرجت', 'من', 'ازمه', 'اسعار', 'النفط', 'علي', 'الاقل', 'لخمس', 'سنوات', 'القادمه', 'بسب', 'اكتاب', 'ارامكو', 'و', 'الخطه', 'الاستثماريه', 'الشجاعه', 'التي', 'اعتمدتها', 'في', 'السبع', 'سنوات', 'الاخيره', 'وعقبال', 'عندنا']                                                                                                                                                       \n",
       "\n",
       "            City  \n",
       "0  Not Given      \n",
       "1  Not Given      \n",
       "2  Not Given      \n",
       "3  Other Country  \n",
       "4  Not Given      "
      ]
     },
     "execution_count": 77,
     "metadata": {},
     "output_type": "execute_result"
    }
   ],
   "source": [
    "df_desc = pd.read_csv(\"final_cleaned.csv\")\n",
    "df_desc.head(5)"
   ]
  },
  {
   "cell_type": "code",
   "execution_count": 78,
   "metadata": {},
   "outputs": [],
   "source": [
    "df_desc = df_desc.rename(columns={'stance ': 'stance'}) #rename column to remove space\n",
    "df_desc= df_desc[df_desc.stance!= 'Natural']"
   ]
  },
  {
   "cell_type": "code",
   "execution_count": 79,
   "metadata": {},
   "outputs": [
    {
     "data": {
      "text/plain": [
       "array([['واله يابو دانه لعنه انهيار السوق ٢٠٦ حتي اليوم ملاحقه سوقنا ومع اكتاب ارامكو عد كبير من الناس اكتبو وصارو يتابعون السوق واصبح في اهتمام في الفرص الي فيه ولاسف خابت توقعات الكثير منهم اعتقد نحتاج فتره زمنيه اطول وتحسن الاوضاع الاقتصاديه علشان نصل لمستويات الي ذكرها الاخ'],\n",
       "       ['بالنسبه لميزانيه السعوديه فقد خرجت من ازمه اسعار النفط علي الاقل لخمس سنوات القادمه بسب اكتاب ارامكو و الخطه الاستثماريه الشجاعه التي اعتمدتها في السبع سنوات الاخيره وعقبال عندنا'],\n",
       "       ['طبعاً هذا كان قبل اكتاب ارامكو بعدها وصلت السعوديه ل المركز التاسع علي مستوي العالم و السابعه دولياً و تحقت رؤيه ٢٠٣٠ ب نهايه ٢٠١٩'],\n",
       "       ['طريقه تفكيرك جد متخلفه واليوم العالم كله خرج من عزلته واصبح يصطاد العلماء والخبرات ويقوم بتوظيفها في بلاده لاستفاده منها وانت حسابها عيب ملاحظه اخر اكتاب طرحته ارامكو جلب اكثر من 2 تريليون دولار وهو سابقه في تاريخ الشركات القابضه وهذا داخل السعوديه فقط وقريب تطرح خارجها'],\n",
       "       ['وين كانت الموضوعيه ايام اكتاب اوامكو كنت تحمس العالم فيها اتذكر بعدها ظهرت في اذاعه يو اف ام وتغير كلامك عن ارامكو وقلت فيما معناه الان الاكتاب خلص وتري ارامكو ارباحها متوقع بان لاتكون مثل ماضيهالخ احترم شخصك ولو اختلفت معك في نسبه الموضوعيه لك'],\n",
       "       ['وش صار علي اكتاب ارامكو متي تجينا فلوس باختصار'],\n",
       "       ['حقين اكتاب ارامكو شصار عليكم الحمدله اني مفلسه وماصرت منكم'],\n",
       "       ['وهل نجحت خطه اكتاب ارامكو حتي يتم استنساخها لدينا yasqotHamad']],\n",
       "      dtype=object)"
      ]
     },
     "execution_count": 79,
     "metadata": {},
     "output_type": "execute_result"
    }
   ],
   "source": [
    "# Assign X to feature varaiables\n",
    "dataX = df_desc[['clean text']].values\n",
    "dataX[0:8]"
   ]
  },
  {
   "cell_type": "code",
   "execution_count": 80,
   "metadata": {},
   "outputs": [
    {
     "data": {
      "text/html": [
       "<div>\n",
       "<style scoped>\n",
       "    .dataframe tbody tr th:only-of-type {\n",
       "        vertical-align: middle;\n",
       "    }\n",
       "\n",
       "    .dataframe tbody tr th {\n",
       "        vertical-align: top;\n",
       "    }\n",
       "\n",
       "    .dataframe thead th {\n",
       "        text-align: right;\n",
       "    }\n",
       "</style>\n",
       "<table border=\"1\" class=\"dataframe\">\n",
       "  <thead>\n",
       "    <tr style=\"text-align: right;\">\n",
       "      <th></th>\n",
       "      <th>date</th>\n",
       "      <th>text</th>\n",
       "      <th>id</th>\n",
       "      <th>stance</th>\n",
       "      <th>location</th>\n",
       "      <th>clean text</th>\n",
       "      <th>tokens</th>\n",
       "      <th>City</th>\n",
       "    </tr>\n",
       "  </thead>\n",
       "  <tbody>\n",
       "    <tr>\n",
       "      <td>3672</td>\n",
       "      <td>12/5/2019 21:54</td>\n",
       "      <td>#اكتتاب_أرامكو تخصيص ١٥٠٠ سهم كحد اعلى للفرد الواحد رقم كبير والله ، كنت متوقع ٣٠٠ سهم ، اعتقد فرصه وضاعت</td>\n",
       "      <td>1.200000e+18</td>\n",
       "      <td>Positive</td>\n",
       "      <td>Not Given</td>\n",
       "      <td>اكتابارامكو تخصيص ١٥٠ سهم كحد اعلي لفرد الواحد رقم كبير واله كنت متوقع ٣٠ سهم اعتقد فرصه وضاعت</td>\n",
       "      <td>['اكتابارامكو', 'تخصيص', '١٥٠', 'سهم', 'كحد', 'اعلي', 'لفرد', 'الواحد', 'رقم', 'كبير', 'واله', 'كنت', 'متوقع', '٣٠', 'سهم', 'اعتقد', 'فرصه', 'وضاعت']</td>\n",
       "      <td>Not Given</td>\n",
       "    </tr>\n",
       "    <tr>\n",
       "      <td>3673</td>\n",
       "      <td>12/5/2019 21:54</td>\n",
       "      <td>اكتتاب أرامكو يجمع 446 مليار ريال بتغطية 465%.. و32 ريالا تسعير نهائي http://dlvr.it/RKlMYl</td>\n",
       "      <td>1.200000e+18</td>\n",
       "      <td>Negative</td>\n",
       "      <td>العربيه السعوديةمملكةالانسانيه</td>\n",
       "      <td>اكتاب ارامكو يجمع 46 مليار ريال بتغطيه 465 و32 ريالا تسعير نهائي</td>\n",
       "      <td>['اكتاب', 'ارامكو', 'يجمع', '46', 'مليار', 'ريال', 'بتغطيه', '465', 'و32', 'ريالا', 'تسعير', 'نهائي']</td>\n",
       "      <td>Not Given</td>\n",
       "    </tr>\n",
       "    <tr>\n",
       "      <td>3675</td>\n",
       "      <td>12/5/2019 21:54</td>\n",
       "      <td>#اكتتاب_ارامكو الحمد الله مكتتب ب 10 اسهم بس القناعه شي جميل</td>\n",
       "      <td>1.200000e+18</td>\n",
       "      <td>Positive</td>\n",
       "      <td>الرياض</td>\n",
       "      <td>اكتابارامكو الحمد اله مكتب ب 10 اسهم بس القناعه شي جميل</td>\n",
       "      <td>['اكتابارامكو', 'الحمد', 'اله', 'مكتب', 'ب', '10', 'اسهم', 'بس', 'القناعه', 'شي', 'جميل']</td>\n",
       "      <td>Other Country</td>\n",
       "    </tr>\n",
       "    <tr>\n",
       "      <td>3676</td>\n",
       "      <td>12/5/2019 21:54</td>\n",
       "      <td>#اكتتاب_أرامكو هو الأكبر بالعالم • إجمالي الأموال المجمعة 446 مليار • تخصيص 1500 سهم للمكتتب الفرد الواحد في #ارامكوا</td>\n",
       "      <td>1.200000e+18</td>\n",
       "      <td>Positive</td>\n",
       "      <td>Not Given</td>\n",
       "      <td>اكتابارامكو هو الاكبر بالعالم • اجمالي الاموال المجمعه 46 مليار • تخصيص 150 سهم لمكتب الفرد الواحد في ارامكوا</td>\n",
       "      <td>['اكتابارامكو', 'هو', 'الاكبر', 'بالعالم', 'اجمالي', 'الاموال', 'المجمعه', '46', 'مليار', 'تخصيص', '150', 'سهم', 'لمكتب', 'الفرد', 'الواحد', 'في', 'ارامكوا']</td>\n",
       "      <td>Not Given</td>\n",
       "    </tr>\n",
       "    <tr>\n",
       "      <td>3677</td>\n",
       "      <td>12/5/2019 21:54</td>\n",
       "      <td>#اكتتاب_أرامكو يصبح الأكبر في العالم بقيمة 25.6 مليار دولار • تخطّت قيمة #طلبات_الاكتتاب 119 مليار دولار</td>\n",
       "      <td>1.200000e+18</td>\n",
       "      <td>Positive</td>\n",
       "      <td>الرياض, المملكة العربية السعودية</td>\n",
       "      <td>اكتابارامكو يصبح الاكبر في العالم بقيمه 256 مليار دولار • تخطّت قيمه طلباتالاكتاب 19 مليار دولار</td>\n",
       "      <td>['اكتابارامكو', 'يصبح', 'الاكبر', 'في', 'العالم', 'بقيمه', '256', 'مليار', 'دولار', 'تخط', 'ت', 'قيمه', 'طلباتالاكتاب', '19', 'مليار', 'دولار']</td>\n",
       "      <td>Riyadh</td>\n",
       "    </tr>\n",
       "  </tbody>\n",
       "</table>\n",
       "</div>"
      ],
      "text/plain": [
       "                 date  \\\n",
       "3672  12/5/2019 21:54   \n",
       "3673  12/5/2019 21:54   \n",
       "3675  12/5/2019 21:54   \n",
       "3676  12/5/2019 21:54   \n",
       "3677  12/5/2019 21:54   \n",
       "\n",
       "                                                                                                                       text  \\\n",
       "3672  #اكتتاب_أرامكو تخصيص ١٥٠٠ سهم كحد اعلى للفرد الواحد رقم كبير والله ، كنت متوقع ٣٠٠ سهم ، اعتقد فرصه وضاعت               \n",
       "3673  اكتتاب أرامكو يجمع 446 مليار ريال بتغطية 465%.. و32 ريالا تسعير نهائي http://dlvr.it/RKlMYl                             \n",
       "3675  #اكتتاب_ارامكو الحمد الله مكتتب ب 10 اسهم بس القناعه شي جميل                                                            \n",
       "3676  #اكتتاب_أرامكو هو الأكبر بالعالم • إجمالي الأموال المجمعة 446 مليار • تخصيص 1500 سهم للمكتتب الفرد الواحد في #ارامكوا   \n",
       "3677  #اكتتاب_أرامكو يصبح الأكبر في العالم بقيمة 25.6 مليار دولار • تخطّت قيمة #طلبات_الاكتتاب 119 مليار دولار                \n",
       "\n",
       "                id    stance                          location  \\\n",
       "3672  1.200000e+18  Positive  Not Given                          \n",
       "3673  1.200000e+18  Negative  العربيه السعوديةمملكةالانسانيه     \n",
       "3675  1.200000e+18  Positive  الرياض                             \n",
       "3676  1.200000e+18  Positive  Not Given                          \n",
       "3677  1.200000e+18  Positive  الرياض, المملكة العربية السعودية   \n",
       "\n",
       "                                                                                                         clean text  \\\n",
       "3672  اكتابارامكو تخصيص ١٥٠ سهم كحد اعلي لفرد الواحد رقم كبير واله كنت متوقع ٣٠ سهم اعتقد فرصه وضاعت                  \n",
       "3673  اكتاب ارامكو يجمع 46 مليار ريال بتغطيه 465 و32 ريالا تسعير نهائي                                                \n",
       "3675  اكتابارامكو الحمد اله مكتب ب 10 اسهم بس القناعه شي جميل                                                         \n",
       "3676  اكتابارامكو هو الاكبر بالعالم • اجمالي الاموال المجمعه 46 مليار • تخصيص 150 سهم لمكتب الفرد الواحد في ارامكوا   \n",
       "3677  اكتابارامكو يصبح الاكبر في العالم بقيمه 256 مليار دولار • تخطّت قيمه طلباتالاكتاب 19 مليار دولار                \n",
       "\n",
       "                                                                                                                                                             tokens  \\\n",
       "3672  ['اكتابارامكو', 'تخصيص', '١٥٠', 'سهم', 'كحد', 'اعلي', 'لفرد', 'الواحد', 'رقم', 'كبير', 'واله', 'كنت', 'متوقع', '٣٠', 'سهم', 'اعتقد', 'فرصه', 'وضاعت']           \n",
       "3673  ['اكتاب', 'ارامكو', 'يجمع', '46', 'مليار', 'ريال', 'بتغطيه', '465', 'و32', 'ريالا', 'تسعير', 'نهائي']                                                           \n",
       "3675  ['اكتابارامكو', 'الحمد', 'اله', 'مكتب', 'ب', '10', 'اسهم', 'بس', 'القناعه', 'شي', 'جميل']                                                                       \n",
       "3676  ['اكتابارامكو', 'هو', 'الاكبر', 'بالعالم', 'اجمالي', 'الاموال', 'المجمعه', '46', 'مليار', 'تخصيص', '150', 'سهم', 'لمكتب', 'الفرد', 'الواحد', 'في', 'ارامكوا']   \n",
       "3677  ['اكتابارامكو', 'يصبح', 'الاكبر', 'في', 'العالم', 'بقيمه', '256', 'مليار', 'دولار', 'تخط', 'ت', 'قيمه', 'طلباتالاكتاب', '19', 'مليار', 'دولار']                 \n",
       "\n",
       "               City  \n",
       "3672  Not Given      \n",
       "3673  Not Given      \n",
       "3675  Other Country  \n",
       "3676  Not Given      \n",
       "3677  Riyadh         "
      ]
     },
     "execution_count": 80,
     "metadata": {},
     "output_type": "execute_result"
    }
   ],
   "source": [
    "df_desc.tail(5)"
   ]
  },
  {
   "cell_type": "code",
   "execution_count": 81,
   "metadata": {},
   "outputs": [
    {
     "data": {
      "text/plain": [
       "2     Negative\n",
       "4     Positive\n",
       "7     Positive\n",
       "11    Positive\n",
       "13    Negative\n",
       "21    Positive\n",
       "23    Negative\n",
       "24    Negative\n",
       "Name: stance, dtype: object"
      ]
     },
     "execution_count": 81,
     "metadata": {},
     "output_type": "execute_result"
    }
   ],
   "source": [
    "# Assign y to target varaiable (stance)\n",
    "y = df_desc['stance']\n",
    "y[0:8]"
   ]
  },
  {
   "cell_type": "code",
   "execution_count": 82,
   "metadata": {},
   "outputs": [],
   "source": [
    "# Use TfidfVectorizer for feature extraction (TFIDF to convert textual data to numeric form):\n",
    "tf_dec = TfidfVectorizer()\n",
    "X = tf_dec.fit_transform(dataX.ravel())"
   ]
  },
  {
   "cell_type": "code",
   "execution_count": 83,
   "metadata": {},
   "outputs": [
    {
     "ename": "NameError",
     "evalue": "name 'train_test_split' is not defined",
     "output_type": "error",
     "traceback": [
      "\u001b[0;31m---------------------------------------------------------------------------\u001b[0m",
      "\u001b[0;31mNameError\u001b[0m                                 Traceback (most recent call last)",
      "\u001b[0;32m<ipython-input-83-4f89e6316fa0>\u001b[0m in \u001b[0;36m<module>\u001b[0;34m\u001b[0m\n\u001b[1;32m      1\u001b[0m \u001b[0;31m#Splitting of Data into train and test set took 30% of data as testing and 70% for training the model\u001b[0m\u001b[0;34m\u001b[0m\u001b[0;34m\u001b[0m\u001b[0;34m\u001b[0m\u001b[0m\n\u001b[0;32m----> 2\u001b[0;31m \u001b[0mX_trainset\u001b[0m\u001b[0;34m,\u001b[0m \u001b[0mX_testset\u001b[0m\u001b[0;34m,\u001b[0m \u001b[0my_trainset\u001b[0m\u001b[0;34m,\u001b[0m \u001b[0my_testset\u001b[0m \u001b[0;34m=\u001b[0m \u001b[0mtrain_test_split\u001b[0m\u001b[0;34m(\u001b[0m\u001b[0mX\u001b[0m\u001b[0;34m,\u001b[0m \u001b[0my\u001b[0m\u001b[0;34m,\u001b[0m \u001b[0mtest_size\u001b[0m\u001b[0;34m=\u001b[0m\u001b[0;36m0.3\u001b[0m\u001b[0;34m)\u001b[0m\u001b[0;34m\u001b[0m\u001b[0;34m\u001b[0m\u001b[0m\n\u001b[0m",
      "\u001b[0;31mNameError\u001b[0m: name 'train_test_split' is not defined"
     ]
    }
   ],
   "source": [
    "#Splitting of Data into train and test set took 30% of data as testing and 70% for training the model\n",
    "X_trainset, X_testset, y_trainset, y_testset = train_test_split(X, y, test_size=0.3) "
   ]
  },
  {
   "cell_type": "code",
   "execution_count": 84,
   "metadata": {},
   "outputs": [
    {
     "ename": "NameError",
     "evalue": "name 'X_trainset' is not defined",
     "output_type": "error",
     "traceback": [
      "\u001b[0;31m---------------------------------------------------------------------------\u001b[0m",
      "\u001b[0;31mNameError\u001b[0m                                 Traceback (most recent call last)",
      "\u001b[0;32m<ipython-input-84-a44a542c0127>\u001b[0m in \u001b[0;36m<module>\u001b[0;34m\u001b[0m\n\u001b[0;32m----> 1\u001b[0;31m \u001b[0mprint\u001b[0m\u001b[0;34m(\u001b[0m\u001b[0mnp\u001b[0m\u001b[0;34m.\u001b[0m\u001b[0mshape\u001b[0m\u001b[0;34m(\u001b[0m\u001b[0mX_trainset\u001b[0m\u001b[0;34m)\u001b[0m\u001b[0;34m)\u001b[0m\u001b[0;34m\u001b[0m\u001b[0;34m\u001b[0m\u001b[0m\n\u001b[0m\u001b[1;32m      2\u001b[0m \u001b[0mprint\u001b[0m\u001b[0;34m(\u001b[0m\u001b[0mnp\u001b[0m\u001b[0;34m.\u001b[0m\u001b[0mshape\u001b[0m\u001b[0;34m(\u001b[0m\u001b[0my_trainset\u001b[0m\u001b[0;34m)\u001b[0m\u001b[0;34m)\u001b[0m\u001b[0;34m\u001b[0m\u001b[0;34m\u001b[0m\u001b[0m\n",
      "\u001b[0;31mNameError\u001b[0m: name 'X_trainset' is not defined"
     ]
    }
   ],
   "source": [
    "print(np.shape(X_trainset))\n",
    "print(np.shape(y_trainset))"
   ]
  },
  {
   "cell_type": "code",
   "execution_count": 85,
   "metadata": {},
   "outputs": [
    {
     "ename": "NameError",
     "evalue": "name 'X_testset' is not defined",
     "output_type": "error",
     "traceback": [
      "\u001b[0;31m---------------------------------------------------------------------------\u001b[0m",
      "\u001b[0;31mNameError\u001b[0m                                 Traceback (most recent call last)",
      "\u001b[0;32m<ipython-input-85-825e32fd95ec>\u001b[0m in \u001b[0;36m<module>\u001b[0;34m\u001b[0m\n\u001b[0;32m----> 1\u001b[0;31m \u001b[0mprint\u001b[0m\u001b[0;34m(\u001b[0m\u001b[0mnp\u001b[0m\u001b[0;34m.\u001b[0m\u001b[0mshape\u001b[0m\u001b[0;34m(\u001b[0m\u001b[0mX_testset\u001b[0m\u001b[0;34m)\u001b[0m\u001b[0;34m)\u001b[0m\u001b[0;34m\u001b[0m\u001b[0;34m\u001b[0m\u001b[0m\n\u001b[0m\u001b[1;32m      2\u001b[0m \u001b[0mprint\u001b[0m\u001b[0;34m(\u001b[0m\u001b[0mnp\u001b[0m\u001b[0;34m.\u001b[0m\u001b[0mshape\u001b[0m\u001b[0;34m(\u001b[0m\u001b[0my_testset\u001b[0m\u001b[0;34m)\u001b[0m\u001b[0;34m)\u001b[0m\u001b[0;34m\u001b[0m\u001b[0;34m\u001b[0m\u001b[0m\n",
      "\u001b[0;31mNameError\u001b[0m: name 'X_testset' is not defined"
     ]
    }
   ],
   "source": [
    "print(np.shape(X_testset))\n",
    "print(np.shape(y_testset))"
   ]
  },
  {
   "cell_type": "code",
   "execution_count": 86,
   "metadata": {},
   "outputs": [
    {
     "ename": "NameError",
     "evalue": "name 'DecisionTreeClassifier' is not defined",
     "output_type": "error",
     "traceback": [
      "\u001b[0;31m---------------------------------------------------------------------------\u001b[0m",
      "\u001b[0;31mNameError\u001b[0m                                 Traceback (most recent call last)",
      "\u001b[0;32m<ipython-input-86-2c1a1b024dc6>\u001b[0m in \u001b[0;36m<module>\u001b[0;34m\u001b[0m\n\u001b[0;32m----> 1\u001b[0;31m \u001b[0mdescTree\u001b[0m \u001b[0;34m=\u001b[0m \u001b[0mDecisionTreeClassifier\u001b[0m\u001b[0;34m(\u001b[0m\u001b[0mcriterion\u001b[0m\u001b[0;34m=\u001b[0m\u001b[0;34m\"entropy\"\u001b[0m\u001b[0;34m,\u001b[0m\u001b[0mmax_depth\u001b[0m\u001b[0;34m=\u001b[0m\u001b[0;32mNone\u001b[0m\u001b[0;34m)\u001b[0m \u001b[0;31m# Define Model\u001b[0m\u001b[0;34m\u001b[0m\u001b[0;34m\u001b[0m\u001b[0m\n\u001b[0m\u001b[1;32m      2\u001b[0m \u001b[0mdescTree\u001b[0m\u001b[0;34m.\u001b[0m\u001b[0mfit\u001b[0m\u001b[0;34m(\u001b[0m\u001b[0mX_trainset\u001b[0m\u001b[0;34m,\u001b[0m\u001b[0my_trainset\u001b[0m\u001b[0;34m)\u001b[0m \u001b[0;31m# train the model using training set\u001b[0m\u001b[0;34m\u001b[0m\u001b[0;34m\u001b[0m\u001b[0m\n\u001b[1;32m      3\u001b[0m \u001b[0mpredTree\u001b[0m \u001b[0;34m=\u001b[0m \u001b[0mdescTree\u001b[0m\u001b[0;34m.\u001b[0m\u001b[0mpredict\u001b[0m\u001b[0;34m(\u001b[0m\u001b[0mX_testset\u001b[0m\u001b[0;34m)\u001b[0m  \u001b[0;31m# test the model using testing set\u001b[0m\u001b[0;34m\u001b[0m\u001b[0;34m\u001b[0m\u001b[0m\n\u001b[1;32m      4\u001b[0m \u001b[0mdescTree\u001b[0m\u001b[0;34m\u001b[0m\u001b[0;34m\u001b[0m\u001b[0m\n",
      "\u001b[0;31mNameError\u001b[0m: name 'DecisionTreeClassifier' is not defined"
     ]
    }
   ],
   "source": [
    "descTree = DecisionTreeClassifier(criterion=\"entropy\",max_depth=None) # Define Model\n",
    "descTree.fit(X_trainset,y_trainset) # train the model using training set\n",
    "predTree = descTree.predict(X_testset)  # test the model using testing set\n",
    "descTree"
   ]
  },
  {
   "cell_type": "markdown",
   "metadata": {},
   "source": [
    "#### Accuracy of classifier"
   ]
  },
  {
   "cell_type": "code",
   "execution_count": 87,
   "metadata": {},
   "outputs": [
    {
     "ename": "NameError",
     "evalue": "name 'predTree' is not defined",
     "output_type": "error",
     "traceback": [
      "\u001b[0;31m---------------------------------------------------------------------------\u001b[0m",
      "\u001b[0;31mNameError\u001b[0m                                 Traceback (most recent call last)",
      "\u001b[0;32m<ipython-input-87-712e6c6c5afb>\u001b[0m in \u001b[0;36m<module>\u001b[0;34m\u001b[0m\n\u001b[0;32m----> 1\u001b[0;31m \u001b[0mprint\u001b[0m \u001b[0;34m(\u001b[0m\u001b[0mpredTree\u001b[0m \u001b[0;34m[\u001b[0m\u001b[0;36m0\u001b[0m\u001b[0;34m:\u001b[0m\u001b[0;36m8\u001b[0m\u001b[0;34m]\u001b[0m\u001b[0;34m)\u001b[0m\u001b[0;34m\u001b[0m\u001b[0;34m\u001b[0m\u001b[0m\n\u001b[0m\u001b[1;32m      2\u001b[0m \u001b[0mprint\u001b[0m \u001b[0;34m(\u001b[0m\u001b[0my_testset\u001b[0m \u001b[0;34m[\u001b[0m\u001b[0;36m0\u001b[0m\u001b[0;34m:\u001b[0m\u001b[0;36m8\u001b[0m\u001b[0;34m]\u001b[0m\u001b[0;34m)\u001b[0m\u001b[0;34m\u001b[0m\u001b[0;34m\u001b[0m\u001b[0m\n",
      "\u001b[0;31mNameError\u001b[0m: name 'predTree' is not defined"
     ]
    }
   ],
   "source": [
    "print (predTree [0:8])\n",
    "print (y_testset [0:8])"
   ]
  },
  {
   "cell_type": "code",
   "execution_count": 88,
   "metadata": {},
   "outputs": [
    {
     "ename": "NameError",
     "evalue": "name 'metrics' is not defined",
     "output_type": "error",
     "traceback": [
      "\u001b[0;31m---------------------------------------------------------------------------\u001b[0m",
      "\u001b[0;31mNameError\u001b[0m                                 Traceback (most recent call last)",
      "\u001b[0;32m<ipython-input-88-3fd79f30bd1d>\u001b[0m in \u001b[0;36m<module>\u001b[0;34m\u001b[0m\n\u001b[0;32m----> 1\u001b[0;31m \u001b[0mprint\u001b[0m\u001b[0;34m(\u001b[0m\u001b[0;34m\"DecisionTrees's Accuracy: \"\u001b[0m\u001b[0;34m,\u001b[0m \u001b[0mmetrics\u001b[0m\u001b[0;34m.\u001b[0m\u001b[0maccuracy_score\u001b[0m\u001b[0;34m(\u001b[0m\u001b[0my_testset\u001b[0m\u001b[0;34m,\u001b[0m \u001b[0mpredTree\u001b[0m\u001b[0;34m)\u001b[0m\u001b[0;34m)\u001b[0m\u001b[0;34m\u001b[0m\u001b[0;34m\u001b[0m\u001b[0m\n\u001b[0m",
      "\u001b[0;31mNameError\u001b[0m: name 'metrics' is not defined"
     ]
    }
   ],
   "source": [
    "print(\"DecisionTrees's Accuracy: \", metrics.accuracy_score(y_testset, predTree))"
   ]
  },
  {
   "cell_type": "markdown",
   "metadata": {},
   "source": [
    "#### Do a 10 fold cross-validation "
   ]
  },
  {
   "cell_type": "code",
   "execution_count": 89,
   "metadata": {},
   "outputs": [
    {
     "ename": "NameError",
     "evalue": "name 'cross_val_score' is not defined",
     "output_type": "error",
     "traceback": [
      "\u001b[0;31m---------------------------------------------------------------------------\u001b[0m",
      "\u001b[0;31mNameError\u001b[0m                                 Traceback (most recent call last)",
      "\u001b[0;32m<ipython-input-89-1c39b37c1cc0>\u001b[0m in \u001b[0;36m<module>\u001b[0;34m\u001b[0m\n\u001b[0;32m----> 1\u001b[0;31m \u001b[0mresults_dt\u001b[0m \u001b[0;34m=\u001b[0m \u001b[0mcross_val_score\u001b[0m\u001b[0;34m(\u001b[0m\u001b[0mdescTree\u001b[0m\u001b[0;34m,\u001b[0m \u001b[0mX\u001b[0m\u001b[0;34m,\u001b[0m\u001b[0my\u001b[0m\u001b[0;34m,\u001b[0m \u001b[0mcv\u001b[0m\u001b[0;34m=\u001b[0m\u001b[0;36m10\u001b[0m\u001b[0;34m)\u001b[0m\u001b[0;34m\u001b[0m\u001b[0;34m\u001b[0m\u001b[0m\n\u001b[0m\u001b[1;32m      2\u001b[0m \u001b[0mprint\u001b[0m\u001b[0;34m(\u001b[0m\u001b[0;34m\"\\n10-fold cross-validation:\"\u001b[0m\u001b[0;34m)\u001b[0m\u001b[0;34m\u001b[0m\u001b[0;34m\u001b[0m\u001b[0m\n\u001b[1;32m      3\u001b[0m \u001b[0mprint\u001b[0m\u001b[0;34m(\u001b[0m\u001b[0mresults_dt\u001b[0m\u001b[0;34m)\u001b[0m\u001b[0;34m\u001b[0m\u001b[0;34m\u001b[0m\u001b[0m\n\u001b[1;32m      4\u001b[0m \u001b[0;34m\u001b[0m\u001b[0m\n\u001b[1;32m      5\u001b[0m \u001b[0mprint\u001b[0m\u001b[0;34m(\u001b[0m\u001b[0;34m\"The average accuracy of the Decision tree classifier is : %.2f\"\u001b[0m \u001b[0;34m%\u001b[0m \u001b[0mnp\u001b[0m\u001b[0;34m.\u001b[0m\u001b[0mmean\u001b[0m\u001b[0;34m(\u001b[0m\u001b[0mresults_dt\u001b[0m\u001b[0;34m)\u001b[0m\u001b[0;34m)\u001b[0m\u001b[0;34m\u001b[0m\u001b[0;34m\u001b[0m\u001b[0m\n",
      "\u001b[0;31mNameError\u001b[0m: name 'cross_val_score' is not defined"
     ]
    }
   ],
   "source": [
    "results_dt = cross_val_score(descTree, X,y, cv=10)\n",
    "print(\"\\n10-fold cross-validation:\")\n",
    "print(results_dt)\n",
    "\n",
    "print(\"The average accuracy of the Decision tree classifier is : %.2f\" % np.mean(results_dt))\n",
    "\n",
    "print(\"\\nConfusion matrix of the Decision tree classifier:\")\n",
    "predicted_dt = descTree.predict(X_testset)\n",
    "print(confusion_matrix(y_testset,predicted_dt))\n",
    "\n",
    "\n",
    "print(\"\\nClassification_report of Decision tree classifier:\")\n",
    "print(classification_report(y_testset,predicted_dt))\n",
    "print(\"----------------------------------------------------------------------------\")"
   ]
  },
  {
   "cell_type": "markdown",
   "metadata": {},
   "source": [
    "# Naive Bayes"
   ]
  },
  {
   "cell_type": "code",
   "execution_count": 90,
   "metadata": {},
   "outputs": [],
   "source": [
    "\n",
    "from sklearn.feature_extraction.text import TfidfVectorizer\n",
    "from sklearn.model_selection import train_test_split\n",
    "from sklearn import svm\n",
    "from sklearn.linear_model import LogisticRegression\n",
    "from sklearn.naive_bayes import MultinomialNB\n",
    "from sklearn.model_selection import cross_val_score, cross_val_predict, KFold\n",
    "from sklearn.metrics  import confusion_matrix, classification_report\n",
    "from sklearn import metrics"
   ]
  },
  {
   "cell_type": "code",
   "execution_count": 91,
   "metadata": {},
   "outputs": [],
   "source": [
    "df = pd.read_csv(\"final_cleaned.csv\")"
   ]
  },
  {
   "cell_type": "code",
   "execution_count": 92,
   "metadata": {},
   "outputs": [
    {
     "data": {
      "text/html": [
       "<div>\n",
       "<style scoped>\n",
       "    .dataframe tbody tr th:only-of-type {\n",
       "        vertical-align: middle;\n",
       "    }\n",
       "\n",
       "    .dataframe tbody tr th {\n",
       "        vertical-align: top;\n",
       "    }\n",
       "\n",
       "    .dataframe thead th {\n",
       "        text-align: right;\n",
       "    }\n",
       "</style>\n",
       "<table border=\"1\" class=\"dataframe\">\n",
       "  <thead>\n",
       "    <tr style=\"text-align: right;\">\n",
       "      <th></th>\n",
       "      <th>date</th>\n",
       "      <th>text</th>\n",
       "      <th>id</th>\n",
       "      <th>stance</th>\n",
       "      <th>location</th>\n",
       "      <th>clean text</th>\n",
       "      <th>tokens</th>\n",
       "      <th>City</th>\n",
       "    </tr>\n",
       "  </thead>\n",
       "  <tbody>\n",
       "    <tr>\n",
       "      <td>0</td>\n",
       "      <td>3/7/2020 20:40</td>\n",
       "      <td>السلام عليكم هل اقدر ابيع جزء من اسهم اكتتاب ارامكو ؟ من تطبيق المباشر للافراد</td>\n",
       "      <td>1.240000e+18</td>\n",
       "      <td>Natural</td>\n",
       "      <td>Not Given</td>\n",
       "      <td>السلام عليكم هل اقدر ابيع جزء من اسهم اكتاب ارامكو من تطبيق المباشر لافراد</td>\n",
       "      <td>['السلام', 'عليكم', 'هل', 'اقدر', 'ابيع', 'جزء', 'من', 'اسهم', 'اكتاب', 'ارامكو', 'من', 'تطبيق', 'المباشر', 'لافراد']</td>\n",
       "      <td>Not Given</td>\n",
       "    </tr>\n",
       "    <tr>\n",
       "      <td>1</td>\n",
       "      <td>3/7/2020 10:26</td>\n",
       "      <td>#تاسي مساء الخير ... غداً تستأنف التداولات في السوق السعودي بعد فشل اتفاق اوبك بلس وهبوط اسعار النفط لمستويات متدنية جديدة * توقعاتكم للاسبوع المقبل ؟ كتوقع شخصي ١. كسر سعر اكتتاب ارامكو . ٢. كسر مستوى ٧٠٠٠ نقطة . ٣. هناك أسهم ستعاكس اتجاه السوق موفقين</td>\n",
       "      <td>1.240000e+18</td>\n",
       "      <td>Natural</td>\n",
       "      <td>Not Given</td>\n",
       "      <td>تاسي مساء الخير غداً تستانف التداولات في السوق السعودي بعد فشل اتفاق اوبك بلس وهبوط اسعار النفط لمستويات متدنيه جديده توقعاتكم لاسبوع المقبل كتوقع شخصي ١ كسر سعر اكتاب ارامكو ٢ كسر مستوي ٧٠ نقطه ٣ هناك اسهم ستعاكس اتجاه السوق موفقين</td>\n",
       "      <td>['تاسي', 'مساء', 'الخير', 'غدا', 'تستانف', 'التداولات', 'في', 'السوق', 'السعودي', 'بعد', 'فشل', 'اتفاق', 'اوبك', 'بلس', 'وهبوط', 'اسعار', 'النفط', 'لمستويات', 'متدنيه', 'جديده', 'توقعاتكم', 'لاسبوع', 'المقبل', 'كتوقع', 'شخصي', '١', 'كسر', 'سعر', 'اكتاب', 'ارامكو', '٢', 'كسر', 'مستوي', '٧٠', 'نقطه', '٣', 'هناك', 'اسهم', 'ستعاكس', 'اتجاه', 'السوق', 'موفقين']</td>\n",
       "      <td>Not Given</td>\n",
       "    </tr>\n",
       "    <tr>\n",
       "      <td>2</td>\n",
       "      <td>3/7/2020 10:11</td>\n",
       "      <td>والله يابو دانة لعنة انهيار السوق ٢٠٠٦ حتى اليوم ملاحقة سوقنا ، ومع اكتتاب ارامكو عدد كبير من الناس اكتتبو وصارو يتابعون السوق وأصبح في اهتمام في الفرص الي فيه وللأسف خابت توقعات الكثير منهم ، اعتقد نحتاج فتره زمنية اطول وتحسن الأوضاع الاقتصادية علشان نصل للمستويات الي ذكرها الاخ</td>\n",
       "      <td>1.240000e+18</td>\n",
       "      <td>Negative</td>\n",
       "      <td>Kingdom of Saudi Arabia</td>\n",
       "      <td>واله يابو دانه لعنه انهيار السوق ٢٠٦ حتي اليوم ملاحقه سوقنا ومع اكتاب ارامكو عد كبير من الناس اكتبو وصارو يتابعون السوق واصبح في اهتمام في الفرص الي فيه ولاسف خابت توقعات الكثير منهم اعتقد نحتاج فتره زمنيه اطول وتحسن الاوضاع الاقتصاديه علشان نصل لمستويات الي ذكرها الاخ</td>\n",
       "      <td>['واله', 'يابو', 'دانه', 'لعنه', 'انهيار', 'السوق', '٢٠٦', 'حتي', 'اليوم', 'ملاحقه', 'سوقنا', 'ومع', 'اكتاب', 'ارامكو', 'عد', 'كبير', 'من', 'الناس', 'اكتبو', 'وصارو', 'يتابعون', 'السوق', 'واصبح', 'في', 'اهتمام', 'في', 'الفرص', 'الي', 'فيه', 'ولاسف', 'خابت', 'توقعات', 'الكثير', 'منهم', 'اعتقد', 'نحتاج', 'فتره', 'زمنيه', 'اطول', 'وتحسن', 'الاوضاع', 'الاقتصاديه', 'علشان', 'نصل', 'لمستويات', 'الي', 'ذكرها', 'الاخ']</td>\n",
       "      <td>Not Given</td>\n",
       "    </tr>\n",
       "    <tr>\n",
       "      <td>3</td>\n",
       "      <td>3/7/2020 9:50</td>\n",
       "      <td>استثمار مادي في العلاقه ! هذا اكتتاب ارامكو مو حب</td>\n",
       "      <td>1.240000e+18</td>\n",
       "      <td>Natural</td>\n",
       "      <td>قضاعه</td>\n",
       "      <td>استثمار مادي في العلاقه هذا اكتاب ارامكو مو حب</td>\n",
       "      <td>['استثمار', 'مادي', 'في', 'العلاقه', 'هذا', 'اكتاب', 'ارامكو', 'مو', 'حب']</td>\n",
       "      <td>Other Country</td>\n",
       "    </tr>\n",
       "    <tr>\n",
       "      <td>4</td>\n",
       "      <td>3/7/2020 8:07</td>\n",
       "      <td>بالنسبة للميزانية السعوديه فقد خرجت من أزمة اسعار النفط على الأقل للخمس سنوات القادمه بسبب اكتتاب أرامكو و الخطه الاستثمارية الشجاعة التي اعتمدتها في السبع سنوات الاخيره وعقبال عندنا</td>\n",
       "      <td>1.240000e+18</td>\n",
       "      <td>Positive</td>\n",
       "      <td>Not Given</td>\n",
       "      <td>بالنسبه لميزانيه السعوديه فقد خرجت من ازمه اسعار النفط علي الاقل لخمس سنوات القادمه بسب اكتاب ارامكو و الخطه الاستثماريه الشجاعه التي اعتمدتها في السبع سنوات الاخيره وعقبال عندنا</td>\n",
       "      <td>['بالنسبه', 'لميزانيه', 'السعوديه', 'فقد', 'خرجت', 'من', 'ازمه', 'اسعار', 'النفط', 'علي', 'الاقل', 'لخمس', 'سنوات', 'القادمه', 'بسب', 'اكتاب', 'ارامكو', 'و', 'الخطه', 'الاستثماريه', 'الشجاعه', 'التي', 'اعتمدتها', 'في', 'السبع', 'سنوات', 'الاخيره', 'وعقبال', 'عندنا']</td>\n",
       "      <td>Not Given</td>\n",
       "    </tr>\n",
       "  </tbody>\n",
       "</table>\n",
       "</div>"
      ],
      "text/plain": [
       "             date  \\\n",
       "0  3/7/2020 20:40   \n",
       "1  3/7/2020 10:26   \n",
       "2  3/7/2020 10:11   \n",
       "3  3/7/2020 9:50    \n",
       "4  3/7/2020 8:07    \n",
       "\n",
       "                                                                                                                                                                                                                                                                                       text  \\\n",
       "0  السلام عليكم هل اقدر ابيع جزء من اسهم اكتتاب ارامكو ؟ من تطبيق المباشر للافراد                                                                                                                                                                                                             \n",
       "1  #تاسي مساء الخير ... غداً تستأنف التداولات في السوق السعودي بعد فشل اتفاق اوبك بلس وهبوط اسعار النفط لمستويات متدنية جديدة * توقعاتكم للاسبوع المقبل ؟ كتوقع شخصي ١. كسر سعر اكتتاب ارامكو . ٢. كسر مستوى ٧٠٠٠ نقطة . ٣. هناك أسهم ستعاكس اتجاه السوق موفقين                               \n",
       "2  والله يابو دانة لعنة انهيار السوق ٢٠٠٦ حتى اليوم ملاحقة سوقنا ، ومع اكتتاب ارامكو عدد كبير من الناس اكتتبو وصارو يتابعون السوق وأصبح في اهتمام في الفرص الي فيه وللأسف خابت توقعات الكثير منهم ، اعتقد نحتاج فتره زمنية اطول وتحسن الأوضاع الاقتصادية علشان نصل للمستويات الي ذكرها الاخ   \n",
       "3  استثمار مادي في العلاقه ! هذا اكتتاب ارامكو مو حب                                                                                                                                                                                                                                          \n",
       "4  بالنسبة للميزانية السعوديه فقد خرجت من أزمة اسعار النفط على الأقل للخمس سنوات القادمه بسبب اكتتاب أرامكو و الخطه الاستثمارية الشجاعة التي اعتمدتها في السبع سنوات الاخيره وعقبال عندنا                                                                                                     \n",
       "\n",
       "             id   stance                  location  \\\n",
       "0  1.240000e+18  Natural   Not Given                 \n",
       "1  1.240000e+18  Natural   Not Given                 \n",
       "2  1.240000e+18  Negative  Kingdom of Saudi Arabia   \n",
       "3  1.240000e+18  Natural   قضاعه                     \n",
       "4  1.240000e+18  Positive  Not Given                 \n",
       "\n",
       "                                                                                                                                                                                                                                                                      clean text  \\\n",
       "0  السلام عليكم هل اقدر ابيع جزء من اسهم اكتاب ارامكو من تطبيق المباشر لافراد                                                                                                                                                                                                      \n",
       "1  تاسي مساء الخير غداً تستانف التداولات في السوق السعودي بعد فشل اتفاق اوبك بلس وهبوط اسعار النفط لمستويات متدنيه جديده توقعاتكم لاسبوع المقبل كتوقع شخصي ١ كسر سعر اكتاب ارامكو ٢ كسر مستوي ٧٠ نقطه ٣ هناك اسهم ستعاكس اتجاه السوق موفقين                                        \n",
       "2  واله يابو دانه لعنه انهيار السوق ٢٠٦ حتي اليوم ملاحقه سوقنا ومع اكتاب ارامكو عد كبير من الناس اكتبو وصارو يتابعون السوق واصبح في اهتمام في الفرص الي فيه ولاسف خابت توقعات الكثير منهم اعتقد نحتاج فتره زمنيه اطول وتحسن الاوضاع الاقتصاديه علشان نصل لمستويات الي ذكرها الاخ   \n",
       "3  استثمار مادي في العلاقه هذا اكتاب ارامكو مو حب                                                                                                                                                                                                                                  \n",
       "4  بالنسبه لميزانيه السعوديه فقد خرجت من ازمه اسعار النفط علي الاقل لخمس سنوات القادمه بسب اكتاب ارامكو و الخطه الاستثماريه الشجاعه التي اعتمدتها في السبع سنوات الاخيره وعقبال عندنا                                                                                              \n",
       "\n",
       "                                                                                                                                                                                                                                                                                                                                                                                                                           tokens  \\\n",
       "0  ['السلام', 'عليكم', 'هل', 'اقدر', 'ابيع', 'جزء', 'من', 'اسهم', 'اكتاب', 'ارامكو', 'من', 'تطبيق', 'المباشر', 'لافراد']                                                                                                                                                                                                                                                                                                            \n",
       "1  ['تاسي', 'مساء', 'الخير', 'غدا', 'تستانف', 'التداولات', 'في', 'السوق', 'السعودي', 'بعد', 'فشل', 'اتفاق', 'اوبك', 'بلس', 'وهبوط', 'اسعار', 'النفط', 'لمستويات', 'متدنيه', 'جديده', 'توقعاتكم', 'لاسبوع', 'المقبل', 'كتوقع', 'شخصي', '١', 'كسر', 'سعر', 'اكتاب', 'ارامكو', '٢', 'كسر', 'مستوي', '٧٠', 'نقطه', '٣', 'هناك', 'اسهم', 'ستعاكس', 'اتجاه', 'السوق', 'موفقين']                                                           \n",
       "2  ['واله', 'يابو', 'دانه', 'لعنه', 'انهيار', 'السوق', '٢٠٦', 'حتي', 'اليوم', 'ملاحقه', 'سوقنا', 'ومع', 'اكتاب', 'ارامكو', 'عد', 'كبير', 'من', 'الناس', 'اكتبو', 'وصارو', 'يتابعون', 'السوق', 'واصبح', 'في', 'اهتمام', 'في', 'الفرص', 'الي', 'فيه', 'ولاسف', 'خابت', 'توقعات', 'الكثير', 'منهم', 'اعتقد', 'نحتاج', 'فتره', 'زمنيه', 'اطول', 'وتحسن', 'الاوضاع', 'الاقتصاديه', 'علشان', 'نصل', 'لمستويات', 'الي', 'ذكرها', 'الاخ']   \n",
       "3  ['استثمار', 'مادي', 'في', 'العلاقه', 'هذا', 'اكتاب', 'ارامكو', 'مو', 'حب']                                                                                                                                                                                                                                                                                                                                                       \n",
       "4  ['بالنسبه', 'لميزانيه', 'السعوديه', 'فقد', 'خرجت', 'من', 'ازمه', 'اسعار', 'النفط', 'علي', 'الاقل', 'لخمس', 'سنوات', 'القادمه', 'بسب', 'اكتاب', 'ارامكو', 'و', 'الخطه', 'الاستثماريه', 'الشجاعه', 'التي', 'اعتمدتها', 'في', 'السبع', 'سنوات', 'الاخيره', 'وعقبال', 'عندنا']                                                                                                                                                       \n",
       "\n",
       "            City  \n",
       "0  Not Given      \n",
       "1  Not Given      \n",
       "2  Not Given      \n",
       "3  Other Country  \n",
       "4  Not Given      "
      ]
     },
     "execution_count": 92,
     "metadata": {},
     "output_type": "execute_result"
    }
   ],
   "source": [
    "df.head()"
   ]
  },
  {
   "cell_type": "code",
   "execution_count": 93,
   "metadata": {},
   "outputs": [],
   "source": [
    "df=df[ df[\"stance \"] != \"Natural\"]"
   ]
  },
  {
   "cell_type": "code",
   "execution_count": 94,
   "metadata": {},
   "outputs": [],
   "source": [
    "df=df[ df[\"stance \"] != \"natural\"]"
   ]
  },
  {
   "cell_type": "code",
   "execution_count": 95,
   "metadata": {},
   "outputs": [],
   "source": [
    "df=df[ df[\"stance \"] != \"natural \"]"
   ]
  },
  {
   "cell_type": "code",
   "execution_count": 96,
   "metadata": {},
   "outputs": [],
   "source": [
    "df=df[ df[\"stance \"] != \"Natural \"]"
   ]
  },
  {
   "cell_type": "code",
   "execution_count": 97,
   "metadata": {},
   "outputs": [],
   "source": [
    "#df.head()"
   ]
  },
  {
   "cell_type": "code",
   "execution_count": 98,
   "metadata": {},
   "outputs": [],
   "source": [
    "# change values to numeric\n",
    "#df['stance '] = df['stance '].map({'Positive ': 1, 'Positive': 1,'positive': 1,'Negative ': 0,'negative': 0,'Negative': 0})  "
   ]
  },
  {
   "cell_type": "code",
   "execution_count": 99,
   "metadata": {},
   "outputs": [
    {
     "data": {
      "text/html": [
       "<div>\n",
       "<style scoped>\n",
       "    .dataframe tbody tr th:only-of-type {\n",
       "        vertical-align: middle;\n",
       "    }\n",
       "\n",
       "    .dataframe tbody tr th {\n",
       "        vertical-align: top;\n",
       "    }\n",
       "\n",
       "    .dataframe thead th {\n",
       "        text-align: right;\n",
       "    }\n",
       "</style>\n",
       "<table border=\"1\" class=\"dataframe\">\n",
       "  <thead>\n",
       "    <tr style=\"text-align: right;\">\n",
       "      <th></th>\n",
       "      <th>date</th>\n",
       "      <th>text</th>\n",
       "      <th>id</th>\n",
       "      <th>stance</th>\n",
       "      <th>location</th>\n",
       "      <th>clean text</th>\n",
       "      <th>tokens</th>\n",
       "      <th>City</th>\n",
       "    </tr>\n",
       "  </thead>\n",
       "  <tbody>\n",
       "    <tr>\n",
       "      <td>2</td>\n",
       "      <td>3/7/2020 10:11</td>\n",
       "      <td>والله يابو دانة لعنة انهيار السوق ٢٠٠٦ حتى اليوم ملاحقة سوقنا ، ومع اكتتاب ارامكو عدد كبير من الناس اكتتبو وصارو يتابعون السوق وأصبح في اهتمام في الفرص الي فيه وللأسف خابت توقعات الكثير منهم ، اعتقد نحتاج فتره زمنية اطول وتحسن الأوضاع الاقتصادية علشان نصل للمستويات الي ذكرها الاخ</td>\n",
       "      <td>1.240000e+18</td>\n",
       "      <td>Negative</td>\n",
       "      <td>Kingdom of Saudi Arabia</td>\n",
       "      <td>واله يابو دانه لعنه انهيار السوق ٢٠٦ حتي اليوم ملاحقه سوقنا ومع اكتاب ارامكو عد كبير من الناس اكتبو وصارو يتابعون السوق واصبح في اهتمام في الفرص الي فيه ولاسف خابت توقعات الكثير منهم اعتقد نحتاج فتره زمنيه اطول وتحسن الاوضاع الاقتصاديه علشان نصل لمستويات الي ذكرها الاخ</td>\n",
       "      <td>['واله', 'يابو', 'دانه', 'لعنه', 'انهيار', 'السوق', '٢٠٦', 'حتي', 'اليوم', 'ملاحقه', 'سوقنا', 'ومع', 'اكتاب', 'ارامكو', 'عد', 'كبير', 'من', 'الناس', 'اكتبو', 'وصارو', 'يتابعون', 'السوق', 'واصبح', 'في', 'اهتمام', 'في', 'الفرص', 'الي', 'فيه', 'ولاسف', 'خابت', 'توقعات', 'الكثير', 'منهم', 'اعتقد', 'نحتاج', 'فتره', 'زمنيه', 'اطول', 'وتحسن', 'الاوضاع', 'الاقتصاديه', 'علشان', 'نصل', 'لمستويات', 'الي', 'ذكرها', 'الاخ']</td>\n",
       "      <td>Not Given</td>\n",
       "    </tr>\n",
       "    <tr>\n",
       "      <td>4</td>\n",
       "      <td>3/7/2020 8:07</td>\n",
       "      <td>بالنسبة للميزانية السعوديه فقد خرجت من أزمة اسعار النفط على الأقل للخمس سنوات القادمه بسبب اكتتاب أرامكو و الخطه الاستثمارية الشجاعة التي اعتمدتها في السبع سنوات الاخيره وعقبال عندنا</td>\n",
       "      <td>1.240000e+18</td>\n",
       "      <td>Positive</td>\n",
       "      <td>Not Given</td>\n",
       "      <td>بالنسبه لميزانيه السعوديه فقد خرجت من ازمه اسعار النفط علي الاقل لخمس سنوات القادمه بسب اكتاب ارامكو و الخطه الاستثماريه الشجاعه التي اعتمدتها في السبع سنوات الاخيره وعقبال عندنا</td>\n",
       "      <td>['بالنسبه', 'لميزانيه', 'السعوديه', 'فقد', 'خرجت', 'من', 'ازمه', 'اسعار', 'النفط', 'علي', 'الاقل', 'لخمس', 'سنوات', 'القادمه', 'بسب', 'اكتاب', 'ارامكو', 'و', 'الخطه', 'الاستثماريه', 'الشجاعه', 'التي', 'اعتمدتها', 'في', 'السبع', 'سنوات', 'الاخيره', 'وعقبال', 'عندنا']</td>\n",
       "      <td>Not Given</td>\n",
       "    </tr>\n",
       "    <tr>\n",
       "      <td>7</td>\n",
       "      <td>3/6/2020 15:36</td>\n",
       "      <td>طبعاً هذا كان قبل اكتتاب أرامكو بعدها وصلت السعودية ل المركز التاسع على مستوى العالم و السابعه دولياً و تحققت رؤية ٢٠٣٠ ب نهاية ٢٠١٩</td>\n",
       "      <td>1.240000e+18</td>\n",
       "      <td>Positive</td>\n",
       "      <td>اللهم إرحم جدي.</td>\n",
       "      <td>طبعاً هذا كان قبل اكتاب ارامكو بعدها وصلت السعوديه ل المركز التاسع علي مستوي العالم و السابعه دولياً و تحقت رؤيه ٢٠٣٠ ب نهايه ٢٠١٩</td>\n",
       "      <td>['طبعا', 'هذا', 'كان', 'قبل', 'اكتاب', 'ارامكو', 'بعدها', 'وصلت', 'السعوديه', 'ل', 'المركز', 'التاسع', 'علي', 'مستوي', 'العالم', 'و', 'السابعه', 'دوليا', 'و', 'تحقت', 'رؤيه', '٢٠٣٠', 'ب', 'نهايه', '٢٠١٩']</td>\n",
       "      <td>Other Country</td>\n",
       "    </tr>\n",
       "    <tr>\n",
       "      <td>11</td>\n",
       "      <td>3/4/2020 16:27</td>\n",
       "      <td>طريقة تفكيرك جد متخلفة واليوم العالم كله خرج من عزلته وأصبح يصطاد العلماء والخبرات ويقوم بتوظيفها في بلاده للإستفادة منها وانت حسابها عيب ملاحظة :آخر اكتتاب طرحته أرامكو جلب أكثر من 2 تريليون دولار وهو سابقة في تاريخ الشركات القابضة وهذا داخل السعودية فقط وقريب تطرح خارجها.</td>\n",
       "      <td>1.240000e+18</td>\n",
       "      <td>Positive</td>\n",
       "      <td>سطيف (الجزائر)🇩🇿🇩🇿</td>\n",
       "      <td>طريقه تفكيرك جد متخلفه واليوم العالم كله خرج من عزلته واصبح يصطاد العلماء والخبرات ويقوم بتوظيفها في بلاده لاستفاده منها وانت حسابها عيب ملاحظه اخر اكتاب طرحته ارامكو جلب اكثر من 2 تريليون دولار وهو سابقه في تاريخ الشركات القابضه وهذا داخل السعوديه فقط وقريب تطرح خارجها</td>\n",
       "      <td>['طريقه', 'تفكيرك', 'جد', 'متخلفه', 'واليوم', 'العالم', 'كله', 'خرج', 'من', 'عزلته', 'واصبح', 'يصطاد', 'العلماء', 'والخبرات', 'ويقوم', 'بتوظيفها', 'في', 'بلاده', 'لاستفاده', 'منها', 'وانت', 'حسابها', 'عيب', 'ملاحظه', 'اخر', 'اكتاب', 'طرحته', 'ارامكو', 'جلب', 'اكثر', 'من', '2', 'تريليون', 'دولار', 'وهو', 'سابقه', 'في', 'تاريخ', 'الشركات', 'القابضه', 'وهذا', 'داخل', 'السعوديه', 'فقط', 'وقريب', 'تطرح', 'خارجها']</td>\n",
       "      <td>Other Country</td>\n",
       "    </tr>\n",
       "    <tr>\n",
       "      <td>13</td>\n",
       "      <td>3/4/2020 12:36</td>\n",
       "      <td>وين كانت الموضوعية أيام اكتتاب أوامكو كنت تحمس العالم فيها ..اتذكر بعدها ظهرت في اذاعة يو اف ام وتغير كلامك عن أرامكو وقلت فيما معناه \"الان الاكتتاب خلص وترى ارامكو أرباحها متوقع بأن لاتكون مثل ماضيها...الخ\" احترم شخصك ولو اختلفت معك في نسبة الموضوعية لك</td>\n",
       "      <td>1.240000e+18</td>\n",
       "      <td>Negative</td>\n",
       "      <td>Not Given</td>\n",
       "      <td>وين كانت الموضوعيه ايام اكتاب اوامكو كنت تحمس العالم فيها اتذكر بعدها ظهرت في اذاعه يو اف ام وتغير كلامك عن ارامكو وقلت فيما معناه الان الاكتاب خلص وتري ارامكو ارباحها متوقع بان لاتكون مثل ماضيهالخ احترم شخصك ولو اختلفت معك في نسبه الموضوعيه لك</td>\n",
       "      <td>['وين', 'كانت', 'الموضوعيه', 'ايام', 'اكتاب', 'اوامكو', 'كنت', 'تحمس', 'العالم', 'فيها', 'اتذكر', 'بعدها', 'ظهرت', 'في', 'اذاعه', 'يو', 'اف', 'ام', 'وتغير', 'كلامك', 'عن', 'ارامكو', 'وقلت', 'فيما', 'معناه', 'الان', 'الاكتاب', 'خلص', 'وتري', 'ارامكو', 'ارباحها', 'متوقع', 'بان', 'لاتكون', 'مثل', 'ماضيهالخ', 'احترم', 'شخصك', 'ولو', 'اختلفت', 'معك', 'في', 'نسبه', 'الموضوعيه', 'لك']</td>\n",
       "      <td>Not Given</td>\n",
       "    </tr>\n",
       "  </tbody>\n",
       "</table>\n",
       "</div>"
      ],
      "text/plain": [
       "              date  \\\n",
       "2   3/7/2020 10:11   \n",
       "4   3/7/2020 8:07    \n",
       "7   3/6/2020 15:36   \n",
       "11  3/4/2020 16:27   \n",
       "13  3/4/2020 12:36   \n",
       "\n",
       "                                                                                                                                                                                                                                                                                        text  \\\n",
       "2   والله يابو دانة لعنة انهيار السوق ٢٠٠٦ حتى اليوم ملاحقة سوقنا ، ومع اكتتاب ارامكو عدد كبير من الناس اكتتبو وصارو يتابعون السوق وأصبح في اهتمام في الفرص الي فيه وللأسف خابت توقعات الكثير منهم ، اعتقد نحتاج فتره زمنية اطول وتحسن الأوضاع الاقتصادية علشان نصل للمستويات الي ذكرها الاخ   \n",
       "4   بالنسبة للميزانية السعوديه فقد خرجت من أزمة اسعار النفط على الأقل للخمس سنوات القادمه بسبب اكتتاب أرامكو و الخطه الاستثمارية الشجاعة التي اعتمدتها في السبع سنوات الاخيره وعقبال عندنا                                                                                                     \n",
       "7   طبعاً هذا كان قبل اكتتاب أرامكو بعدها وصلت السعودية ل المركز التاسع على مستوى العالم و السابعه دولياً و تحققت رؤية ٢٠٣٠ ب نهاية ٢٠١٩                                                                                                                                                       \n",
       "11  طريقة تفكيرك جد متخلفة واليوم العالم كله خرج من عزلته وأصبح يصطاد العلماء والخبرات ويقوم بتوظيفها في بلاده للإستفادة منها وانت حسابها عيب ملاحظة :آخر اكتتاب طرحته أرامكو جلب أكثر من 2 تريليون دولار وهو سابقة في تاريخ الشركات القابضة وهذا داخل السعودية فقط وقريب تطرح خارجها.         \n",
       "13  وين كانت الموضوعية أيام اكتتاب أوامكو كنت تحمس العالم فيها ..اتذكر بعدها ظهرت في اذاعة يو اف ام وتغير كلامك عن أرامكو وقلت فيما معناه \"الان الاكتتاب خلص وترى ارامكو أرباحها متوقع بأن لاتكون مثل ماضيها...الخ\" احترم شخصك ولو اختلفت معك في نسبة الموضوعية لك                             \n",
       "\n",
       "              id   stance                  location  \\\n",
       "2   1.240000e+18  Negative  Kingdom of Saudi Arabia   \n",
       "4   1.240000e+18  Positive  Not Given                 \n",
       "7   1.240000e+18  Positive  اللهم إرحم جدي.           \n",
       "11  1.240000e+18  Positive  سطيف (الجزائر)🇩🇿🇩🇿        \n",
       "13  1.240000e+18  Negative  Not Given                 \n",
       "\n",
       "                                                                                                                                                                                                                                                                        clean text  \\\n",
       "2   واله يابو دانه لعنه انهيار السوق ٢٠٦ حتي اليوم ملاحقه سوقنا ومع اكتاب ارامكو عد كبير من الناس اكتبو وصارو يتابعون السوق واصبح في اهتمام في الفرص الي فيه ولاسف خابت توقعات الكثير منهم اعتقد نحتاج فتره زمنيه اطول وتحسن الاوضاع الاقتصاديه علشان نصل لمستويات الي ذكرها الاخ    \n",
       "4   بالنسبه لميزانيه السعوديه فقد خرجت من ازمه اسعار النفط علي الاقل لخمس سنوات القادمه بسب اكتاب ارامكو و الخطه الاستثماريه الشجاعه التي اعتمدتها في السبع سنوات الاخيره وعقبال عندنا                                                                                               \n",
       "7   طبعاً هذا كان قبل اكتاب ارامكو بعدها وصلت السعوديه ل المركز التاسع علي مستوي العالم و السابعه دولياً و تحقت رؤيه ٢٠٣٠ ب نهايه ٢٠١٩                                                                                                                                               \n",
       "11  طريقه تفكيرك جد متخلفه واليوم العالم كله خرج من عزلته واصبح يصطاد العلماء والخبرات ويقوم بتوظيفها في بلاده لاستفاده منها وانت حسابها عيب ملاحظه اخر اكتاب طرحته ارامكو جلب اكثر من 2 تريليون دولار وهو سابقه في تاريخ الشركات القابضه وهذا داخل السعوديه فقط وقريب تطرح خارجها   \n",
       "13  وين كانت الموضوعيه ايام اكتاب اوامكو كنت تحمس العالم فيها اتذكر بعدها ظهرت في اذاعه يو اف ام وتغير كلامك عن ارامكو وقلت فيما معناه الان الاكتاب خلص وتري ارامكو ارباحها متوقع بان لاتكون مثل ماضيهالخ احترم شخصك ولو اختلفت معك في نسبه الموضوعيه لك                             \n",
       "\n",
       "                                                                                                                                                                                                                                                                                                                                                                                                                            tokens  \\\n",
       "2   ['واله', 'يابو', 'دانه', 'لعنه', 'انهيار', 'السوق', '٢٠٦', 'حتي', 'اليوم', 'ملاحقه', 'سوقنا', 'ومع', 'اكتاب', 'ارامكو', 'عد', 'كبير', 'من', 'الناس', 'اكتبو', 'وصارو', 'يتابعون', 'السوق', 'واصبح', 'في', 'اهتمام', 'في', 'الفرص', 'الي', 'فيه', 'ولاسف', 'خابت', 'توقعات', 'الكثير', 'منهم', 'اعتقد', 'نحتاج', 'فتره', 'زمنيه', 'اطول', 'وتحسن', 'الاوضاع', 'الاقتصاديه', 'علشان', 'نصل', 'لمستويات', 'الي', 'ذكرها', 'الاخ']   \n",
       "4   ['بالنسبه', 'لميزانيه', 'السعوديه', 'فقد', 'خرجت', 'من', 'ازمه', 'اسعار', 'النفط', 'علي', 'الاقل', 'لخمس', 'سنوات', 'القادمه', 'بسب', 'اكتاب', 'ارامكو', 'و', 'الخطه', 'الاستثماريه', 'الشجاعه', 'التي', 'اعتمدتها', 'في', 'السبع', 'سنوات', 'الاخيره', 'وعقبال', 'عندنا']                                                                                                                                                       \n",
       "7   ['طبعا', 'هذا', 'كان', 'قبل', 'اكتاب', 'ارامكو', 'بعدها', 'وصلت', 'السعوديه', 'ل', 'المركز', 'التاسع', 'علي', 'مستوي', 'العالم', 'و', 'السابعه', 'دوليا', 'و', 'تحقت', 'رؤيه', '٢٠٣٠', 'ب', 'نهايه', '٢٠١٩']                                                                                                                                                                                                                     \n",
       "11  ['طريقه', 'تفكيرك', 'جد', 'متخلفه', 'واليوم', 'العالم', 'كله', 'خرج', 'من', 'عزلته', 'واصبح', 'يصطاد', 'العلماء', 'والخبرات', 'ويقوم', 'بتوظيفها', 'في', 'بلاده', 'لاستفاده', 'منها', 'وانت', 'حسابها', 'عيب', 'ملاحظه', 'اخر', 'اكتاب', 'طرحته', 'ارامكو', 'جلب', 'اكثر', 'من', '2', 'تريليون', 'دولار', 'وهو', 'سابقه', 'في', 'تاريخ', 'الشركات', 'القابضه', 'وهذا', 'داخل', 'السعوديه', 'فقط', 'وقريب', 'تطرح', 'خارجها']     \n",
       "13  ['وين', 'كانت', 'الموضوعيه', 'ايام', 'اكتاب', 'اوامكو', 'كنت', 'تحمس', 'العالم', 'فيها', 'اتذكر', 'بعدها', 'ظهرت', 'في', 'اذاعه', 'يو', 'اف', 'ام', 'وتغير', 'كلامك', 'عن', 'ارامكو', 'وقلت', 'فيما', 'معناه', 'الان', 'الاكتاب', 'خلص', 'وتري', 'ارامكو', 'ارباحها', 'متوقع', 'بان', 'لاتكون', 'مثل', 'ماضيهالخ', 'احترم', 'شخصك', 'ولو', 'اختلفت', 'معك', 'في', 'نسبه', 'الموضوعيه', 'لك']                                     \n",
       "\n",
       "             City  \n",
       "2   Not Given      \n",
       "4   Not Given      \n",
       "7   Other Country  \n",
       "11  Other Country  \n",
       "13  Not Given      "
      ]
     },
     "execution_count": 99,
     "metadata": {},
     "output_type": "execute_result"
    }
   ],
   "source": [
    "df.head()"
   ]
  },
  {
   "cell_type": "code",
   "execution_count": 100,
   "metadata": {},
   "outputs": [
    {
     "data": {
      "text/html": [
       "<div>\n",
       "<style scoped>\n",
       "    .dataframe tbody tr th:only-of-type {\n",
       "        vertical-align: middle;\n",
       "    }\n",
       "\n",
       "    .dataframe tbody tr th {\n",
       "        vertical-align: top;\n",
       "    }\n",
       "\n",
       "    .dataframe thead th {\n",
       "        text-align: right;\n",
       "    }\n",
       "</style>\n",
       "<table border=\"1\" class=\"dataframe\">\n",
       "  <thead>\n",
       "    <tr style=\"text-align: right;\">\n",
       "      <th></th>\n",
       "      <th>date</th>\n",
       "      <th>text</th>\n",
       "      <th>id</th>\n",
       "      <th>stance</th>\n",
       "      <th>location</th>\n",
       "      <th>clean text</th>\n",
       "      <th>tokens</th>\n",
       "      <th>City</th>\n",
       "    </tr>\n",
       "  </thead>\n",
       "  <tbody>\n",
       "    <tr>\n",
       "      <td>3672</td>\n",
       "      <td>12/5/2019 21:54</td>\n",
       "      <td>#اكتتاب_أرامكو تخصيص ١٥٠٠ سهم كحد اعلى للفرد الواحد رقم كبير والله ، كنت متوقع ٣٠٠ سهم ، اعتقد فرصه وضاعت</td>\n",
       "      <td>1.200000e+18</td>\n",
       "      <td>Positive</td>\n",
       "      <td>Not Given</td>\n",
       "      <td>اكتابارامكو تخصيص ١٥٠ سهم كحد اعلي لفرد الواحد رقم كبير واله كنت متوقع ٣٠ سهم اعتقد فرصه وضاعت</td>\n",
       "      <td>['اكتابارامكو', 'تخصيص', '١٥٠', 'سهم', 'كحد', 'اعلي', 'لفرد', 'الواحد', 'رقم', 'كبير', 'واله', 'كنت', 'متوقع', '٣٠', 'سهم', 'اعتقد', 'فرصه', 'وضاعت']</td>\n",
       "      <td>Not Given</td>\n",
       "    </tr>\n",
       "    <tr>\n",
       "      <td>3673</td>\n",
       "      <td>12/5/2019 21:54</td>\n",
       "      <td>اكتتاب أرامكو يجمع 446 مليار ريال بتغطية 465%.. و32 ريالا تسعير نهائي http://dlvr.it/RKlMYl</td>\n",
       "      <td>1.200000e+18</td>\n",
       "      <td>Negative</td>\n",
       "      <td>العربيه السعوديةمملكةالانسانيه</td>\n",
       "      <td>اكتاب ارامكو يجمع 46 مليار ريال بتغطيه 465 و32 ريالا تسعير نهائي</td>\n",
       "      <td>['اكتاب', 'ارامكو', 'يجمع', '46', 'مليار', 'ريال', 'بتغطيه', '465', 'و32', 'ريالا', 'تسعير', 'نهائي']</td>\n",
       "      <td>Not Given</td>\n",
       "    </tr>\n",
       "    <tr>\n",
       "      <td>3675</td>\n",
       "      <td>12/5/2019 21:54</td>\n",
       "      <td>#اكتتاب_ارامكو الحمد الله مكتتب ب 10 اسهم بس القناعه شي جميل</td>\n",
       "      <td>1.200000e+18</td>\n",
       "      <td>Positive</td>\n",
       "      <td>الرياض</td>\n",
       "      <td>اكتابارامكو الحمد اله مكتب ب 10 اسهم بس القناعه شي جميل</td>\n",
       "      <td>['اكتابارامكو', 'الحمد', 'اله', 'مكتب', 'ب', '10', 'اسهم', 'بس', 'القناعه', 'شي', 'جميل']</td>\n",
       "      <td>Other Country</td>\n",
       "    </tr>\n",
       "    <tr>\n",
       "      <td>3676</td>\n",
       "      <td>12/5/2019 21:54</td>\n",
       "      <td>#اكتتاب_أرامكو هو الأكبر بالعالم • إجمالي الأموال المجمعة 446 مليار • تخصيص 1500 سهم للمكتتب الفرد الواحد في #ارامكوا</td>\n",
       "      <td>1.200000e+18</td>\n",
       "      <td>Positive</td>\n",
       "      <td>Not Given</td>\n",
       "      <td>اكتابارامكو هو الاكبر بالعالم • اجمالي الاموال المجمعه 46 مليار • تخصيص 150 سهم لمكتب الفرد الواحد في ارامكوا</td>\n",
       "      <td>['اكتابارامكو', 'هو', 'الاكبر', 'بالعالم', 'اجمالي', 'الاموال', 'المجمعه', '46', 'مليار', 'تخصيص', '150', 'سهم', 'لمكتب', 'الفرد', 'الواحد', 'في', 'ارامكوا']</td>\n",
       "      <td>Not Given</td>\n",
       "    </tr>\n",
       "    <tr>\n",
       "      <td>3677</td>\n",
       "      <td>12/5/2019 21:54</td>\n",
       "      <td>#اكتتاب_أرامكو يصبح الأكبر في العالم بقيمة 25.6 مليار دولار • تخطّت قيمة #طلبات_الاكتتاب 119 مليار دولار</td>\n",
       "      <td>1.200000e+18</td>\n",
       "      <td>Positive</td>\n",
       "      <td>الرياض, المملكة العربية السعودية</td>\n",
       "      <td>اكتابارامكو يصبح الاكبر في العالم بقيمه 256 مليار دولار • تخطّت قيمه طلباتالاكتاب 19 مليار دولار</td>\n",
       "      <td>['اكتابارامكو', 'يصبح', 'الاكبر', 'في', 'العالم', 'بقيمه', '256', 'مليار', 'دولار', 'تخط', 'ت', 'قيمه', 'طلباتالاكتاب', '19', 'مليار', 'دولار']</td>\n",
       "      <td>Riyadh</td>\n",
       "    </tr>\n",
       "  </tbody>\n",
       "</table>\n",
       "</div>"
      ],
      "text/plain": [
       "                 date  \\\n",
       "3672  12/5/2019 21:54   \n",
       "3673  12/5/2019 21:54   \n",
       "3675  12/5/2019 21:54   \n",
       "3676  12/5/2019 21:54   \n",
       "3677  12/5/2019 21:54   \n",
       "\n",
       "                                                                                                                       text  \\\n",
       "3672  #اكتتاب_أرامكو تخصيص ١٥٠٠ سهم كحد اعلى للفرد الواحد رقم كبير والله ، كنت متوقع ٣٠٠ سهم ، اعتقد فرصه وضاعت               \n",
       "3673  اكتتاب أرامكو يجمع 446 مليار ريال بتغطية 465%.. و32 ريالا تسعير نهائي http://dlvr.it/RKlMYl                             \n",
       "3675  #اكتتاب_ارامكو الحمد الله مكتتب ب 10 اسهم بس القناعه شي جميل                                                            \n",
       "3676  #اكتتاب_أرامكو هو الأكبر بالعالم • إجمالي الأموال المجمعة 446 مليار • تخصيص 1500 سهم للمكتتب الفرد الواحد في #ارامكوا   \n",
       "3677  #اكتتاب_أرامكو يصبح الأكبر في العالم بقيمة 25.6 مليار دولار • تخطّت قيمة #طلبات_الاكتتاب 119 مليار دولار                \n",
       "\n",
       "                id   stance                           location  \\\n",
       "3672  1.200000e+18  Positive  Not Given                          \n",
       "3673  1.200000e+18  Negative  العربيه السعوديةمملكةالانسانيه     \n",
       "3675  1.200000e+18  Positive  الرياض                             \n",
       "3676  1.200000e+18  Positive  Not Given                          \n",
       "3677  1.200000e+18  Positive  الرياض, المملكة العربية السعودية   \n",
       "\n",
       "                                                                                                         clean text  \\\n",
       "3672  اكتابارامكو تخصيص ١٥٠ سهم كحد اعلي لفرد الواحد رقم كبير واله كنت متوقع ٣٠ سهم اعتقد فرصه وضاعت                  \n",
       "3673  اكتاب ارامكو يجمع 46 مليار ريال بتغطيه 465 و32 ريالا تسعير نهائي                                                \n",
       "3675  اكتابارامكو الحمد اله مكتب ب 10 اسهم بس القناعه شي جميل                                                         \n",
       "3676  اكتابارامكو هو الاكبر بالعالم • اجمالي الاموال المجمعه 46 مليار • تخصيص 150 سهم لمكتب الفرد الواحد في ارامكوا   \n",
       "3677  اكتابارامكو يصبح الاكبر في العالم بقيمه 256 مليار دولار • تخطّت قيمه طلباتالاكتاب 19 مليار دولار                \n",
       "\n",
       "                                                                                                                                                             tokens  \\\n",
       "3672  ['اكتابارامكو', 'تخصيص', '١٥٠', 'سهم', 'كحد', 'اعلي', 'لفرد', 'الواحد', 'رقم', 'كبير', 'واله', 'كنت', 'متوقع', '٣٠', 'سهم', 'اعتقد', 'فرصه', 'وضاعت']           \n",
       "3673  ['اكتاب', 'ارامكو', 'يجمع', '46', 'مليار', 'ريال', 'بتغطيه', '465', 'و32', 'ريالا', 'تسعير', 'نهائي']                                                           \n",
       "3675  ['اكتابارامكو', 'الحمد', 'اله', 'مكتب', 'ب', '10', 'اسهم', 'بس', 'القناعه', 'شي', 'جميل']                                                                       \n",
       "3676  ['اكتابارامكو', 'هو', 'الاكبر', 'بالعالم', 'اجمالي', 'الاموال', 'المجمعه', '46', 'مليار', 'تخصيص', '150', 'سهم', 'لمكتب', 'الفرد', 'الواحد', 'في', 'ارامكوا']   \n",
       "3677  ['اكتابارامكو', 'يصبح', 'الاكبر', 'في', 'العالم', 'بقيمه', '256', 'مليار', 'دولار', 'تخط', 'ت', 'قيمه', 'طلباتالاكتاب', '19', 'مليار', 'دولار']                 \n",
       "\n",
       "               City  \n",
       "3672  Not Given      \n",
       "3673  Not Given      \n",
       "3675  Other Country  \n",
       "3676  Not Given      \n",
       "3677  Riyadh         "
      ]
     },
     "execution_count": 100,
     "metadata": {},
     "output_type": "execute_result"
    }
   ],
   "source": [
    "df.tail()"
   ]
  },
  {
   "cell_type": "code",
   "execution_count": 101,
   "metadata": {},
   "outputs": [],
   "source": [
    "# idneitfy the data and the labels\n",
    "data= df['clean text']\n",
    "target= df['stance ']"
   ]
  },
  {
   "cell_type": "code",
   "execution_count": 102,
   "metadata": {},
   "outputs": [
    {
     "data": {
      "text/plain": [
       "(2748, 13460)"
      ]
     },
     "execution_count": 102,
     "metadata": {},
     "output_type": "execute_result"
    }
   ],
   "source": [
    "# Use TfidfVectorizer for feature extraction (TFIDF to convert textual data to numeric form):\n",
    "tf_vec = TfidfVectorizer()\n",
    "X = tf_vec.fit_transform(data)\n",
    "X.shape"
   ]
  },
  {
   "cell_type": "code",
   "execution_count": 103,
   "metadata": {},
   "outputs": [
    {
     "data": {
      "text/plain": [
       "False"
      ]
     },
     "execution_count": 103,
     "metadata": {},
     "output_type": "execute_result"
    }
   ],
   "source": [
    "pd.isnull(X)"
   ]
  },
  {
   "cell_type": "code",
   "execution_count": 104,
   "metadata": {},
   "outputs": [
    {
     "ename": "TypeError",
     "evalue": "ufunc 'isnan' not supported for the input types, and the inputs could not be safely coerced to any supported types according to the casting rule ''safe''",
     "output_type": "error",
     "traceback": [
      "\u001b[0;31m---------------------------------------------------------------------------\u001b[0m",
      "\u001b[0;31mTypeError\u001b[0m                                 Traceback (most recent call last)",
      "\u001b[0;32m<ipython-input-104-7a5e6fb63bfc>\u001b[0m in \u001b[0;36m<module>\u001b[0;34m\u001b[0m\n\u001b[0;32m----> 1\u001b[0;31m \u001b[0mnp\u001b[0m\u001b[0;34m.\u001b[0m\u001b[0many\u001b[0m\u001b[0;34m(\u001b[0m\u001b[0mnp\u001b[0m\u001b[0;34m.\u001b[0m\u001b[0misnan\u001b[0m\u001b[0;34m(\u001b[0m\u001b[0mtarget\u001b[0m\u001b[0;34m)\u001b[0m\u001b[0;34m)\u001b[0m\u001b[0;34m\u001b[0m\u001b[0;34m\u001b[0m\u001b[0m\n\u001b[0m",
      "\u001b[0;32m/opt/anaconda3/lib/python3.7/site-packages/pandas/core/series.py\u001b[0m in \u001b[0;36m__array_ufunc__\u001b[0;34m(self, ufunc, method, *inputs, **kwargs)\u001b[0m\n\u001b[1;32m    851\u001b[0m \u001b[0;34m\u001b[0m\u001b[0m\n\u001b[1;32m    852\u001b[0m         \u001b[0minputs\u001b[0m \u001b[0;34m=\u001b[0m \u001b[0mtuple\u001b[0m\u001b[0;34m(\u001b[0m\u001b[0mextract_array\u001b[0m\u001b[0;34m(\u001b[0m\u001b[0mx\u001b[0m\u001b[0;34m,\u001b[0m \u001b[0mextract_numpy\u001b[0m\u001b[0;34m=\u001b[0m\u001b[0;32mTrue\u001b[0m\u001b[0;34m)\u001b[0m \u001b[0;32mfor\u001b[0m \u001b[0mx\u001b[0m \u001b[0;32min\u001b[0m \u001b[0minputs\u001b[0m\u001b[0;34m)\u001b[0m\u001b[0;34m\u001b[0m\u001b[0;34m\u001b[0m\u001b[0m\n\u001b[0;32m--> 853\u001b[0;31m         \u001b[0mresult\u001b[0m \u001b[0;34m=\u001b[0m \u001b[0mgetattr\u001b[0m\u001b[0;34m(\u001b[0m\u001b[0mufunc\u001b[0m\u001b[0;34m,\u001b[0m \u001b[0mmethod\u001b[0m\u001b[0;34m)\u001b[0m\u001b[0;34m(\u001b[0m\u001b[0;34m*\u001b[0m\u001b[0minputs\u001b[0m\u001b[0;34m,\u001b[0m \u001b[0;34m**\u001b[0m\u001b[0mkwargs\u001b[0m\u001b[0;34m)\u001b[0m\u001b[0;34m\u001b[0m\u001b[0;34m\u001b[0m\u001b[0m\n\u001b[0m\u001b[1;32m    854\u001b[0m         \u001b[0;32mif\u001b[0m \u001b[0mlen\u001b[0m\u001b[0;34m(\u001b[0m\u001b[0mset\u001b[0m\u001b[0;34m(\u001b[0m\u001b[0mnames\u001b[0m\u001b[0;34m)\u001b[0m\u001b[0;34m)\u001b[0m \u001b[0;34m==\u001b[0m \u001b[0;36m1\u001b[0m\u001b[0;34m:\u001b[0m\u001b[0;34m\u001b[0m\u001b[0;34m\u001b[0m\u001b[0m\n\u001b[1;32m    855\u001b[0m             \u001b[0;31m# we require names to be hashable, right?\u001b[0m\u001b[0;34m\u001b[0m\u001b[0;34m\u001b[0m\u001b[0;34m\u001b[0m\u001b[0m\n",
      "\u001b[0;31mTypeError\u001b[0m: ufunc 'isnan' not supported for the input types, and the inputs could not be safely coerced to any supported types according to the casting rule ''safe''"
     ]
    }
   ],
   "source": [
    "np.any(np.isnan(target))"
   ]
  },
  {
   "cell_type": "code",
   "execution_count": 105,
   "metadata": {},
   "outputs": [
    {
     "ename": "TypeError",
     "evalue": "ufunc 'isnan' not supported for the input types, and the inputs could not be safely coerced to any supported types according to the casting rule ''safe''",
     "output_type": "error",
     "traceback": [
      "\u001b[0;31m---------------------------------------------------------------------------\u001b[0m",
      "\u001b[0;31mTypeError\u001b[0m                                 Traceback (most recent call last)",
      "\u001b[0;32m<ipython-input-105-3c1969529205>\u001b[0m in \u001b[0;36m<module>\u001b[0;34m\u001b[0m\n\u001b[0;32m----> 1\u001b[0;31m \u001b[0mnp\u001b[0m\u001b[0;34m.\u001b[0m\u001b[0misnan\u001b[0m\u001b[0;34m(\u001b[0m\u001b[0mtarget\u001b[0m\u001b[0;34m)\u001b[0m\u001b[0;34m\u001b[0m\u001b[0;34m\u001b[0m\u001b[0m\n\u001b[0m",
      "\u001b[0;32m/opt/anaconda3/lib/python3.7/site-packages/pandas/core/series.py\u001b[0m in \u001b[0;36m__array_ufunc__\u001b[0;34m(self, ufunc, method, *inputs, **kwargs)\u001b[0m\n\u001b[1;32m    851\u001b[0m \u001b[0;34m\u001b[0m\u001b[0m\n\u001b[1;32m    852\u001b[0m         \u001b[0minputs\u001b[0m \u001b[0;34m=\u001b[0m \u001b[0mtuple\u001b[0m\u001b[0;34m(\u001b[0m\u001b[0mextract_array\u001b[0m\u001b[0;34m(\u001b[0m\u001b[0mx\u001b[0m\u001b[0;34m,\u001b[0m \u001b[0mextract_numpy\u001b[0m\u001b[0;34m=\u001b[0m\u001b[0;32mTrue\u001b[0m\u001b[0;34m)\u001b[0m \u001b[0;32mfor\u001b[0m \u001b[0mx\u001b[0m \u001b[0;32min\u001b[0m \u001b[0minputs\u001b[0m\u001b[0;34m)\u001b[0m\u001b[0;34m\u001b[0m\u001b[0;34m\u001b[0m\u001b[0m\n\u001b[0;32m--> 853\u001b[0;31m         \u001b[0mresult\u001b[0m \u001b[0;34m=\u001b[0m \u001b[0mgetattr\u001b[0m\u001b[0;34m(\u001b[0m\u001b[0mufunc\u001b[0m\u001b[0;34m,\u001b[0m \u001b[0mmethod\u001b[0m\u001b[0;34m)\u001b[0m\u001b[0;34m(\u001b[0m\u001b[0;34m*\u001b[0m\u001b[0minputs\u001b[0m\u001b[0;34m,\u001b[0m \u001b[0;34m**\u001b[0m\u001b[0mkwargs\u001b[0m\u001b[0;34m)\u001b[0m\u001b[0;34m\u001b[0m\u001b[0;34m\u001b[0m\u001b[0m\n\u001b[0m\u001b[1;32m    854\u001b[0m         \u001b[0;32mif\u001b[0m \u001b[0mlen\u001b[0m\u001b[0;34m(\u001b[0m\u001b[0mset\u001b[0m\u001b[0;34m(\u001b[0m\u001b[0mnames\u001b[0m\u001b[0;34m)\u001b[0m\u001b[0;34m)\u001b[0m \u001b[0;34m==\u001b[0m \u001b[0;36m1\u001b[0m\u001b[0;34m:\u001b[0m\u001b[0;34m\u001b[0m\u001b[0;34m\u001b[0m\u001b[0m\n\u001b[1;32m    855\u001b[0m             \u001b[0;31m# we require names to be hashable, right?\u001b[0m\u001b[0;34m\u001b[0m\u001b[0;34m\u001b[0m\u001b[0;34m\u001b[0m\u001b[0m\n",
      "\u001b[0;31mTypeError\u001b[0m: ufunc 'isnan' not supported for the input types, and the inputs could not be safely coerced to any supported types according to the casting rule ''safe''"
     ]
    }
   ],
   "source": [
    "np.isnan(target)"
   ]
  },
  {
   "cell_type": "code",
   "execution_count": 106,
   "metadata": {},
   "outputs": [],
   "source": [
    "# Training Phase\n",
    "X_train, X_test, y_train, y_test = train_test_split(X, target, test_size=0.3, random_state=0)"
   ]
  },
  {
   "cell_type": "code",
   "execution_count": 107,
   "metadata": {},
   "outputs": [],
   "source": [
    "# create the classifer and fit the training data and lables\n",
    "classifier_nb = MultinomialNB().fit(X_train.todense(),y_train)"
   ]
  },
  {
   "cell_type": "code",
   "execution_count": 108,
   "metadata": {},
   "outputs": [
    {
     "name": "stdout",
     "output_type": "stream",
     "text": [
      "MultinomialNB accuracy: 0.72\n"
     ]
    }
   ],
   "source": [
    "print(\"MultinomialNB accuracy: %.2f\"%classifier_nb.score(X_test.todense(), y_test))"
   ]
  },
  {
   "cell_type": "code",
   "execution_count": 109,
   "metadata": {},
   "outputs": [
    {
     "name": "stdout",
     "output_type": "stream",
     "text": [
      "\n",
      "10-fold cross-validation:\n",
      "[0.73188406 0.73550725 0.73188406 0.73090909 0.73090909 0.73357664\n",
      " 0.73357664 0.73722628 0.73722628 0.73357664]\n",
      "The average accuracy of the MultinomialNB classifier is : 0.73\n",
      "\n",
      "Confusion matrix of the MultinomialNB classifier:\n",
      "[[  1 233]\n",
      " [  0 591]]\n",
      "\n",
      "Classification_report of MultinomialNB classifier:\n",
      "              precision    recall  f1-score   support\n",
      "\n",
      "    Negative       1.00      0.00      0.01       234\n",
      "    Positive       0.72      1.00      0.84       591\n",
      "\n",
      "    accuracy                           0.72       825\n",
      "   macro avg       0.86      0.50      0.42       825\n",
      "weighted avg       0.80      0.72      0.60       825\n",
      "\n"
     ]
    }
   ],
   "source": [
    "#do a 10 fold cross-validation \n",
    "results_nb = cross_val_score(classifier_nb, X.todense(),target, cv=10)\n",
    "print(\"\\n10-fold cross-validation:\")\n",
    "print(results_nb)\n",
    "\n",
    "print(\"The average accuracy of the MultinomialNB classifier is : %.2f\" % np.mean(results_nb))\n",
    "\n",
    "print(\"\\nConfusion matrix of the MultinomialNB classifier:\")\n",
    "predicted_nb = classifier_nb.predict(X_test.todense())\n",
    "print(confusion_matrix(y_test,predicted_nb))\n",
    "\n",
    "\n",
    "print(\"\\nClassification_report of MultinomialNB classifier:\")\n",
    "print(classification_report(y_test,predicted_nb))"
   ]
  },
  {
   "cell_type": "markdown",
   "metadata": {},
   "source": [
    "<h1> Visualization of our Findings </h1>"
   ]
  },
  {
   "cell_type": "code",
   "execution_count": 110,
   "metadata": {},
   "outputs": [],
   "source": [
    "import numpy as np\n",
    "import pandas as pd\n",
    "import csv\n",
    "df = pd.read_csv(\"final_cleaned.csv\")"
   ]
  },
  {
   "cell_type": "code",
   "execution_count": 111,
   "metadata": {},
   "outputs": [
    {
     "data": {
      "text/plain": [
       "Positive    197\n",
       "Natural     77 \n",
       "Negative    66 \n",
       "Name: stance , dtype: int64"
      ]
     },
     "execution_count": 111,
     "metadata": {},
     "output_type": "execute_result"
    }
   ],
   "source": [
    "tweets_by_riyadh = df[df['City']=='Riyadh']\n",
    "tweets = tweets_by_riyadh['stance '].value_counts()\n",
    "tweets"
   ]
  },
  {
   "cell_type": "markdown",
   "metadata": {},
   "source": [
    "<h1>Riyadh's Stance percentage</h1>"
   ]
  },
  {
   "cell_type": "code",
   "execution_count": 153,
   "metadata": {},
   "outputs": [
    {
     "data": {
      "image/png": "[encoded data removed]",
      "text/plain": [
       "<Figure size 432x288 with 1 Axes>"
      ]
     },
     "metadata": {},
     "output_type": "display_data"
    }
   ],
   "source": [
    "# since it's the most tweeted city\n",
    "#mpl.rcParams['font.size'] = 9.0\n",
    "tweets_by_riyadh = df[df['City']=='Riyadh']\n",
    "tweets = tweets_by_riyadh['stance '].value_counts()\n",
    "explode = (0.01, 0.01, 0.01)\n",
    "color= ['#b3e4ff','#5DADE2','#2874A6']\n",
    "tweets.plot(kind='pie',\n",
    "           colors=color,\n",
    "            autopct='%.1f',\n",
    "             fontsize=9,\n",
    "#              explode=explode,\n",
    "           title=\"Riyadh City Attitude\",\n",
    "#            center=(14,14),\n",
    "#            startangle=90,\n",
    "#            shadow =True,\n",
    "#             frame =True,\n",
    "           labeldistance =1.1,\n",
    "           explode=explode)\n",
    "plt.savefig('Riyadh2.pdf')"
   ]
  },
  {
   "cell_type": "code",
   "execution_count": 154,
   "metadata": {},
   "outputs": [
    {
     "data": {
      "image/png": "[encoded data removed]",
      "text/plain": [
       "<Figure size 432x288 with 1 Axes>"
      ]
     },
     "metadata": {},
     "output_type": "display_data"
    }
   ],
   "source": [
    "import matplotlib.pyplot as plt\n",
    "tweets_by_jeddah = df[df['City']=='Jeddah']\n",
    "tweets1 = tweets_by_jeddah['stance '].value_counts()\n",
    "explode = (0.01, 0.01, 0.01)\n",
    "# color= ['#b4cdf4','#b4def4','#b4ebf4']\n",
    "color= ['#b3e4ff','#5DADE2','#2874A6']\n",
    "tweets1.plot(kind='pie',\n",
    "           colors=color,\n",
    "            autopct='%.1f',\n",
    "             fontsize=9,\n",
    "#              explode=explode,\n",
    "           title=\"Jeddah City Attitude\",\n",
    "#            center=(14,14),\n",
    "# #            startangle=90,\n",
    "#            shadow =True,\n",
    "#             frame =True,\n",
    "           labeldistance =1.1,\n",
    "            explode=explode)\n",
    "plt.savefig('Jeddah2.pdf')"
   ]
  },
  {
   "cell_type": "code",
   "execution_count": 155,
   "metadata": {},
   "outputs": [
    {
     "ename": "NameError",
     "evalue": "name 'result_with_only_Cities' is not defined",
     "output_type": "error",
     "traceback": [
      "\u001b[0;31m---------------------------------------------------------------------------\u001b[0m",
      "\u001b[0;31mNameError\u001b[0m                                 Traceback (most recent call last)",
      "\u001b[0;32m<ipython-input-155-113d44c3f0d9>\u001b[0m in \u001b[0;36m<module>\u001b[0;34m\u001b[0m\n\u001b[1;32m     13\u001b[0m \u001b[0mresult\u001b[0m \u001b[0;34m=\u001b[0m \u001b[0mpd\u001b[0m\u001b[0;34m.\u001b[0m\u001b[0mconcat\u001b[0m\u001b[0;34m(\u001b[0m\u001b[0;34m[\u001b[0m\u001b[0mnegatives\u001b[0m\u001b[0;34m,\u001b[0m \u001b[0mpositives\u001b[0m\u001b[0;34m,\u001b[0m \u001b[0mneutrals\u001b[0m\u001b[0;34m]\u001b[0m\u001b[0;34m,\u001b[0m \u001b[0maxis\u001b[0m\u001b[0;34m=\u001b[0m\u001b[0;36m1\u001b[0m\u001b[0;34m,\u001b[0m \u001b[0msort\u001b[0m\u001b[0;34m=\u001b[0m\u001b[0;32mFalse\u001b[0m\u001b[0;34m)\u001b[0m\u001b[0;34m\u001b[0m\u001b[0;34m\u001b[0m\u001b[0m\n\u001b[1;32m     14\u001b[0m \u001b[0mresult\u001b[0m\u001b[0;34m.\u001b[0m\u001b[0mcolumns\u001b[0m\u001b[0;34m=\u001b[0m\u001b[0;34m[\u001b[0m\u001b[0;34m'Negative'\u001b[0m\u001b[0;34m,\u001b[0m\u001b[0;34m'Positive'\u001b[0m\u001b[0;34m,\u001b[0m\u001b[0;34m'Neutral'\u001b[0m\u001b[0;34m]\u001b[0m\u001b[0;34m\u001b[0m\u001b[0;34m\u001b[0m\u001b[0m\n\u001b[0;32m---> 15\u001b[0;31m \u001b[0mresult_with_only_Cities\u001b[0m\u001b[0;34m.\u001b[0m\u001b[0mcolumns\u001b[0m\u001b[0;34m=\u001b[0m\u001b[0;34m[\u001b[0m\u001b[0;34m'Negative'\u001b[0m\u001b[0;34m,\u001b[0m\u001b[0;34m'Positive'\u001b[0m\u001b[0;34m,\u001b[0m\u001b[0;34m'Neutral'\u001b[0m\u001b[0;34m]\u001b[0m\u001b[0;34m\u001b[0m\u001b[0;34m\u001b[0m\u001b[0m\n\u001b[0m\u001b[1;32m     16\u001b[0m \u001b[0;31m# result[:5].plot(kind='bar')\u001b[0m\u001b[0;34m\u001b[0m\u001b[0;34m\u001b[0m\u001b[0;34m\u001b[0m\u001b[0m\n\u001b[1;32m     17\u001b[0m \u001b[0;34m\u001b[0m\u001b[0m\n",
      "\u001b[0;31mNameError\u001b[0m: name 'result_with_only_Cities' is not defined"
     ]
    }
   ],
   "source": [
    "negative = df[df['stance ']=='Negative']\n",
    "positive = df[df['stance ']=='Positive']\n",
    "neutral = df[df['stance ']=='Natural']\n",
    "\n",
    "negative.drop(['date','text','id','stance ','location','clean text','tokens'],axis=1)\n",
    "positive.drop(['date','text','id','stance ','location','clean text','tokens'],axis=1)\n",
    "neutral.drop(['date','text','id','stance ','location','clean text','tokens'],axis=1)\n",
    "\n",
    "negatives = negative['City'].value_counts()\n",
    "positives = positive['City'].value_counts()\n",
    "neutrals = neutral['City'].value_counts()\n",
    "\n",
    "result = pd.concat([negatives, positives, neutrals], axis=1, sort=False)\n",
    "result.columns=['Negative','Positive','Neutral']\n",
    "result_with_only_Cities.columns=['Negative','Positive','Neutral']\n",
    "# result[:5].plot(kind='bar')\n",
    "\n",
    "fig,ax = plt.subplots()\n",
    "ax.tick_params(axis='x', labelsize=15)\n",
    "ax.tick_params(axis='y', labelsize=15)\n",
    "ax.set_xlabel('City/Region', fontsize=15)\n",
    "ax.set_ylabel('Stance' , fontsize=15)\n",
    "ax.set_title('most tweeted cities', fontsize=15, fontweight='bold')\n",
    "# BAR=['#b4cdf4','#b4def4','#b4ebf4']\n",
    "BAR= ['#b3e4ff','#5DADE2','#2874A6']\n",
    "result_with_only_Cities[:1].plot(ax=ax,kind='bar',figsize=(10, 10),color=BAR)\n",
    "plt.savefig('Cities.pdf')"
   ]
  },
  {
   "cell_type": "code",
   "execution_count": 156,
   "metadata": {},
   "outputs": [
    {
     "data": {
      "text/plain": [
       "<matplotlib.axes._subplots.AxesSubplot at 0x12307c250>"
      ]
     },
     "execution_count": 156,
     "metadata": {},
     "output_type": "execute_result"
    },
    {
     "data": {
      "image/png": "[encoded data removed]",
      "text/plain": [
       "<Figure size 432x288 with 1 Axes>"
      ]
     },
     "metadata": {
      "needs_background": "light"
     },
     "output_type": "display_data"
    }
   ],
   "source": [
    "tweets_by_state_SA = df['stance '][df['City']==\"Not Given\"].value_counts()\n",
    "fig, ax = plt.subplots()\n",
    "\n",
    "ax.tick_params(axis='x', labelsize=10)\n",
    "ax.tick_params(axis='y', labelsize=10)\n",
    "\n",
    "ax.set_xlabel('Number of tweets' , fontsize=15)\n",
    "ax.set_ylabel('Regions', fontsize=15)\n",
    "ax.set_title('Attitude from other countries', fontsize=10, fontweight='bold')\n",
    "BAR= ['#b3e4ff','#5DADE2','#2874A6']\n",
    "tweets_by_state_SA.plot(ax=ax, kind='barh',color=BAR)"
   ]
  },
  {
   "cell_type": "code",
   "execution_count": 157,
   "metadata": {},
   "outputs": [
    {
     "data": {
      "image/png": "[encoded data removed]",
      "text/plain": [
       "<Figure size 720x432 with 1 Axes>"
      ]
     },
     "metadata": {
      "needs_background": "light"
     },
     "output_type": "display_data"
    },
    {
     "data": {
      "text/plain": [
       "<Figure size 432x288 with 0 Axes>"
      ]
     },
     "metadata": {},
     "output_type": "display_data"
    }
   ],
   "source": [
    "# in Dec 11 Aramco's IPO published their start offering\n",
    "df['date']= pd.to_datetime(df['date'])\n",
    "fig = plt.figure(figsize=(10,6))\n",
    "ax1 = fig.add_axes([0,0,1,1])\n",
    "ax1.set_title(\"Tweets Activity\")\n",
    "ax1.tick_params(axis='x', labelsize=15)\n",
    "ax1.tick_params(axis='y', labelsize=15)\n",
    "ax1.set_title('most tweeted cities', fontsize=15)\n",
    "x= df['date']\n",
    "# n_by_state = df.groupby(\"state\")[\"last_name\"].count()\n",
    "tweetsdate = df['date'].value_counts()\n",
    "ax1.plot(x,color='#b4cdf4')\n",
    "plt.show()\n",
    "plt.savefig('Activity.pdf')"
   ]
  },
  {
   "cell_type": "code",
   "execution_count": 117,
   "metadata": {},
   "outputs": [
    {
     "data": {
      "text/plain": [
       "<matplotlib.axes._subplots.AxesSubplot at 0x1232ff750>"
      ]
     },
     "execution_count": 117,
     "metadata": {},
     "output_type": "execute_result"
    },
    {
     "data": {
      "image/png": "[encoded data removed]",
      "text/plain": [
       "<Figure size 432x288 with 1 Axes>"
      ]
     },
     "metadata": {},
     "output_type": "display_data"
    }
   ],
   "source": [
    "# Other Countries\n",
    "All = df[df['City']=='Other Country']\n",
    "tweets11 = df['stance '].value_counts()\n",
    "explode = (0.05, 0.05, 0.05)\n",
    "color= [\"lightgreen\",\"gold\",\"salmon\"]\n",
    "tweets11.plot(kind='pie',\n",
    "            colors=color,\n",
    "            autopct='%.2f',\n",
    "            radius=1.30,\n",
    "             fontsize=15,\n",
    "             explode=explode)"
   ]
  },
  {
   "cell_type": "code",
   "execution_count": 118,
   "metadata": {},
   "outputs": [
    {
     "data": {
      "text/plain": [
       "Positive    2013\n",
       "Natural     932 \n",
       "Negative    735 \n",
       "Name: stance , dtype: int64"
      ]
     },
     "execution_count": 118,
     "metadata": {},
     "output_type": "execute_result"
    }
   ],
   "source": [
    "tweets11"
   ]
  },
  {
   "cell_type": "code",
   "execution_count": 158,
   "metadata": {},
   "outputs": [
    {
     "data": {
      "text/plain": [
       "<matplotlib.axes._subplots.AxesSubplot at 0x122234f50>"
      ]
     },
     "execution_count": 158,
     "metadata": {},
     "output_type": "execute_result"
    },
    {
     "data": {
      "image/png": "[encoded data removed]",
      "text/plain": [
       "<Figure size 432x288 with 1 Axes>"
      ]
     },
     "metadata": {
      "needs_background": "light"
     },
     "output_type": "display_data"
    }
   ],
   "source": [
    "fig, ax = plt.subplots()\n",
    "\n",
    "ax.tick_params(axis='x', labelsize=10)\n",
    "ax.tick_params(axis='y', labelsize=10)\n",
    "\n",
    "ax.set_xlabel('Number of tweets' , fontsize=13)\n",
    "ax.set_ylabel('Stance', fontsize=13)\n",
    "ax.set_title('Overall stance of all tweets', fontsize=10, fontweight='bold')\n",
    "BAR= ['#b3e4ff','#5DADE2','#2874A6']\n",
    "tweets11.plot(ax=ax, kind='barh',color=BAR)"
   ]
  },
  {
   "cell_type": "markdown",
   "metadata": {},
   "source": [
    "## For people who have a positive attitude towerds Aramco, What is the top words they use?\n"
   ]
  },
  {
   "cell_type": "code",
   "execution_count": 159,
   "metadata": {},
   "outputs": [
    {
     "ename": "NameError",
     "evalue": "name 'dff' is not defined",
     "output_type": "error",
     "traceback": [
      "\u001b[0;31m---------------------------------------------------------------------------\u001b[0m",
      "\u001b[0;31mNameError\u001b[0m                                 Traceback (most recent call last)",
      "\u001b[0;32m<ipython-input-159-b6e8b735a691>\u001b[0m in \u001b[0;36m<module>\u001b[0;34m\u001b[0m\n\u001b[0;32m----> 1\u001b[0;31m \u001b[0mPositive_df\u001b[0m\u001b[0;34m=\u001b[0m\u001b[0mdff\u001b[0m\u001b[0;34m[\u001b[0m\u001b[0mdff\u001b[0m\u001b[0;34m[\u001b[0m\u001b[0;34m\"stance \"\u001b[0m\u001b[0;34m]\u001b[0m\u001b[0;34m==\u001b[0m\u001b[0;34m\"Positive\"\u001b[0m\u001b[0;34m]\u001b[0m\u001b[0;34m\u001b[0m\u001b[0;34m\u001b[0m\u001b[0m\n\u001b[0m",
      "\u001b[0;31mNameError\u001b[0m: name 'dff' is not defined"
     ]
    }
   ],
   "source": [
    "Positive_df=dff[dff[\"stance \"]==\"Positive\"]"
   ]
  },
  {
   "cell_type": "code",
   "execution_count": 121,
   "metadata": {},
   "outputs": [
    {
     "ename": "NameError",
     "evalue": "name 'Positive_df' is not defined",
     "output_type": "error",
     "traceback": [
      "\u001b[0;31m---------------------------------------------------------------------------\u001b[0m",
      "\u001b[0;31mNameError\u001b[0m                                 Traceback (most recent call last)",
      "\u001b[0;32m<ipython-input-121-0acf1b5d57af>\u001b[0m in \u001b[0;36m<module>\u001b[0;34m\u001b[0m\n\u001b[0;32m----> 1\u001b[0;31m \u001b[0mPositive_word\u001b[0m \u001b[0;34m=\u001b[0m \u001b[0;34m[\u001b[0m \u001b[0mword\u001b[0m \u001b[0;32mfor\u001b[0m \u001b[0mtokens\u001b[0m \u001b[0;32min\u001b[0m \u001b[0mPositive_df\u001b[0m\u001b[0;34m[\u001b[0m\u001b[0;34m\"tokens\"\u001b[0m\u001b[0;34m]\u001b[0m \u001b[0;32mfor\u001b[0m \u001b[0mword\u001b[0m \u001b[0;32min\u001b[0m \u001b[0mtokens\u001b[0m\u001b[0;34m]\u001b[0m\u001b[0;34m\u001b[0m\u001b[0;34m\u001b[0m\u001b[0m\n\u001b[0m",
      "\u001b[0;31mNameError\u001b[0m: name 'Positive_df' is not defined"
     ]
    }
   ],
   "source": [
    "Positive_word = [ word for tokens in Positive_df[\"tokens\"] for word in tokens]"
   ]
  },
  {
   "cell_type": "code",
   "execution_count": 122,
   "metadata": {},
   "outputs": [
    {
     "ename": "NameError",
     "evalue": "name 'Counter' is not defined",
     "output_type": "error",
     "traceback": [
      "\u001b[0;31m---------------------------------------------------------------------------\u001b[0m",
      "\u001b[0;31mNameError\u001b[0m                                 Traceback (most recent call last)",
      "\u001b[0;32m<ipython-input-122-522d50a8b347>\u001b[0m in \u001b[0;36m<module>\u001b[0;34m\u001b[0m\n\u001b[0;32m----> 1\u001b[0;31m \u001b[0mPositive_word_counter\u001b[0m \u001b[0;34m=\u001b[0m \u001b[0mCounter\u001b[0m\u001b[0;34m(\u001b[0m\u001b[0mPositive_word\u001b[0m\u001b[0;34m)\u001b[0m\u001b[0;34m\u001b[0m\u001b[0;34m\u001b[0m\u001b[0m\n\u001b[0m",
      "\u001b[0;31mNameError\u001b[0m: name 'Counter' is not defined"
     ]
    }
   ],
   "source": [
    "Positive_word_counter = Counter(Positive_word)"
   ]
  },
  {
   "cell_type": "code",
   "execution_count": 123,
   "metadata": {},
   "outputs": [],
   "source": [
    "# stop words\n",
    "ignore = {'في','هذا','السياره','عن','من'\n",
    "          ,'لسياره','بن',\n",
    "          'او','بس','لا','من','الا','كان','ان','و','محل', 'ارامكو','اكتابارامكو','اكتاب','اله','الحمد','الي','د','شركه','بعد','العالم','اسهم','نجاحاكتابارامكو','ريال','له' ,'الاكتاب','قطر','دولار','الفضائيه','كل','السهم','طرح','الاسهم','ا','٢٤','مع','قناه','لم','ولا','التي','سهم','اليوم','اكبر','ايران','سعودي','السوق','علي','انا', 'او','ما'}"
   ]
  },
  {
   "cell_type": "code",
   "execution_count": 124,
   "metadata": {},
   "outputs": [
    {
     "ename": "NameError",
     "evalue": "name 'Positive_word_counter' is not defined",
     "output_type": "error",
     "traceback": [
      "\u001b[0;31m---------------------------------------------------------------------------\u001b[0m",
      "\u001b[0;31mNameError\u001b[0m                                 Traceback (most recent call last)",
      "\u001b[0;32m<ipython-input-124-e9d04fab0c49>\u001b[0m in \u001b[0;36m<module>\u001b[0;34m\u001b[0m\n\u001b[1;32m      1\u001b[0m \u001b[0;31m# remove stop words from the list of words\u001b[0m\u001b[0;34m\u001b[0m\u001b[0;34m\u001b[0m\u001b[0;34m\u001b[0m\u001b[0m\n\u001b[1;32m      2\u001b[0m \u001b[0;32mfor\u001b[0m \u001b[0mword\u001b[0m \u001b[0;32min\u001b[0m \u001b[0mignore\u001b[0m\u001b[0;34m:\u001b[0m\u001b[0;34m\u001b[0m\u001b[0;34m\u001b[0m\u001b[0m\n\u001b[0;32m----> 3\u001b[0;31m     \u001b[0;32mif\u001b[0m \u001b[0mword\u001b[0m \u001b[0;32min\u001b[0m \u001b[0mPositive_word_counter\u001b[0m\u001b[0;34m:\u001b[0m\u001b[0;34m\u001b[0m\u001b[0;34m\u001b[0m\u001b[0m\n\u001b[0m\u001b[1;32m      4\u001b[0m         \u001b[0;32mdel\u001b[0m \u001b[0mPositive_word_counter\u001b[0m\u001b[0;34m[\u001b[0m\u001b[0mword\u001b[0m\u001b[0;34m]\u001b[0m\u001b[0;34m\u001b[0m\u001b[0;34m\u001b[0m\u001b[0m\n",
      "\u001b[0;31mNameError\u001b[0m: name 'Positive_word_counter' is not defined"
     ]
    }
   ],
   "source": [
    "# remove stop words from the list of words\n",
    "for word in ignore:\n",
    "    if word in Positive_word_counter:\n",
    "        del Positive_word_counter[word]"
   ]
  },
  {
   "cell_type": "code",
   "execution_count": 125,
   "metadata": {},
   "outputs": [
    {
     "ename": "NameError",
     "evalue": "name 'Positive_word_counter' is not defined",
     "output_type": "error",
     "traceback": [
      "\u001b[0;31m---------------------------------------------------------------------------\u001b[0m",
      "\u001b[0;31mNameError\u001b[0m                                 Traceback (most recent call last)",
      "\u001b[0;32m<ipython-input-125-51517a9f4f86>\u001b[0m in \u001b[0;36m<module>\u001b[0;34m\u001b[0m\n\u001b[0;32m----> 1\u001b[0;31m \u001b[0mPositive_word_counter\u001b[0m\u001b[0;34m.\u001b[0m\u001b[0mmost_common\u001b[0m\u001b[0;34m(\u001b[0m\u001b[0;36m8\u001b[0m\u001b[0;34m)\u001b[0m\u001b[0;34m\u001b[0m\u001b[0;34m\u001b[0m\u001b[0m\n\u001b[0m",
      "\u001b[0;31mNameError\u001b[0m: name 'Positive_word_counter' is not defined"
     ]
    }
   ],
   "source": [
    "Positive_word_counter.most_common(8)"
   ]
  },
  {
   "cell_type": "code",
   "execution_count": 126,
   "metadata": {},
   "outputs": [
    {
     "ename": "NameError",
     "evalue": "name 'Positive_word_counter' is not defined",
     "output_type": "error",
     "traceback": [
      "\u001b[0;31m---------------------------------------------------------------------------\u001b[0m",
      "\u001b[0;31mNameError\u001b[0m                                 Traceback (most recent call last)",
      "\u001b[0;32m<ipython-input-126-82c02c802e6d>\u001b[0m in \u001b[0;36m<module>\u001b[0;34m\u001b[0m\n\u001b[1;32m      1\u001b[0m \u001b[0;31m# store the top 8 words in a new data frame\u001b[0m\u001b[0;34m\u001b[0m\u001b[0;34m\u001b[0m\u001b[0;34m\u001b[0m\u001b[0m\n\u001b[0;32m----> 2\u001b[0;31m \u001b[0mlst\u001b[0m \u001b[0;34m=\u001b[0m \u001b[0mPositive_word_counter\u001b[0m\u001b[0;34m.\u001b[0m\u001b[0mmost_common\u001b[0m\u001b[0;34m(\u001b[0m\u001b[0;36m8\u001b[0m\u001b[0;34m)\u001b[0m\u001b[0;34m\u001b[0m\u001b[0;34m\u001b[0m\u001b[0m\n\u001b[0m\u001b[1;32m      3\u001b[0m \u001b[0mword_df\u001b[0m \u001b[0;34m=\u001b[0m \u001b[0mpd\u001b[0m\u001b[0;34m.\u001b[0m\u001b[0mDataFrame\u001b[0m\u001b[0;34m(\u001b[0m\u001b[0mlst\u001b[0m\u001b[0;34m,\u001b[0m \u001b[0mcolumns\u001b[0m \u001b[0;34m=\u001b[0m \u001b[0;34m[\u001b[0m\u001b[0;34m'Word'\u001b[0m\u001b[0;34m,\u001b[0m \u001b[0;34m'Count'\u001b[0m\u001b[0;34m]\u001b[0m\u001b[0;34m)\u001b[0m\u001b[0;34m\u001b[0m\u001b[0;34m\u001b[0m\u001b[0m\n",
      "\u001b[0;31mNameError\u001b[0m: name 'Positive_word_counter' is not defined"
     ]
    }
   ],
   "source": [
    "# store the top 8 words in a new data frame\n",
    "lst = Positive_word_counter.most_common(8)\n",
    "word_df = pd.DataFrame(lst, columns = ['Word', 'Count'])"
   ]
  },
  {
   "cell_type": "code",
   "execution_count": 127,
   "metadata": {},
   "outputs": [
    {
     "ename": "ModuleNotFoundError",
     "evalue": "No module named 'arabic_reshaper'",
     "output_type": "error",
     "traceback": [
      "\u001b[0;31m---------------------------------------------------------------------------\u001b[0m",
      "\u001b[0;31mModuleNotFoundError\u001b[0m                       Traceback (most recent call last)",
      "\u001b[0;32m<ipython-input-127-c46e73f6eaed>\u001b[0m in \u001b[0;36m<module>\u001b[0;34m\u001b[0m\n\u001b[0;32m----> 1\u001b[0;31m \u001b[0;32mimport\u001b[0m \u001b[0marabic_reshaper\u001b[0m\u001b[0;34m\u001b[0m\u001b[0;34m\u001b[0m\u001b[0m\n\u001b[0m\u001b[1;32m      2\u001b[0m \u001b[0;32mimport\u001b[0m \u001b[0mmatplotlib\u001b[0m\u001b[0;34m.\u001b[0m\u001b[0mpyplot\u001b[0m \u001b[0;32mas\u001b[0m \u001b[0mplt\u001b[0m\u001b[0;34m\u001b[0m\u001b[0;34m\u001b[0m\u001b[0m\n\u001b[1;32m      3\u001b[0m \u001b[0;32mfrom\u001b[0m \u001b[0mbidi\u001b[0m\u001b[0;34m.\u001b[0m\u001b[0malgorithm\u001b[0m \u001b[0;32mimport\u001b[0m \u001b[0mget_display\u001b[0m\u001b[0;34m\u001b[0m\u001b[0;34m\u001b[0m\u001b[0m\n\u001b[1;32m      4\u001b[0m \u001b[0;34m\u001b[0m\u001b[0m\n\u001b[1;32m      5\u001b[0m \u001b[0;32mfor\u001b[0m \u001b[0midx\u001b[0m\u001b[0;34m,\u001b[0m\u001b[0mrow\u001b[0m \u001b[0;32min\u001b[0m \u001b[0mword_df\u001b[0m\u001b[0;34m.\u001b[0m\u001b[0miterrows\u001b[0m\u001b[0;34m(\u001b[0m\u001b[0;34m)\u001b[0m\u001b[0;34m:\u001b[0m\u001b[0;34m\u001b[0m\u001b[0;34m\u001b[0m\u001b[0m\n",
      "\u001b[0;31mModuleNotFoundError\u001b[0m: No module named 'arabic_reshaper'"
     ]
    }
   ],
   "source": [
    "import arabic_reshaper\n",
    "import matplotlib.pyplot as plt\n",
    "from bidi.algorithm import get_display\n",
    "\n",
    "for idx,row in word_df.iterrows():\n",
    "   word_df.loc[idx,'Word']=get_display(arabic_reshaper.reshape(word_df.loc[idx,'Word']))"
   ]
  },
  {
   "cell_type": "code",
   "execution_count": 128,
   "metadata": {},
   "outputs": [
    {
     "ename": "NameError",
     "evalue": "name 'word_df' is not defined",
     "output_type": "error",
     "traceback": [
      "\u001b[0;31m---------------------------------------------------------------------------\u001b[0m",
      "\u001b[0;31mNameError\u001b[0m                                 Traceback (most recent call last)",
      "\u001b[0;32m<ipython-input-128-0be4b9d114f0>\u001b[0m in \u001b[0;36m<module>\u001b[0;34m\u001b[0m\n\u001b[0;32m----> 1\u001b[0;31m \u001b[0mword_df\u001b[0m\u001b[0;34m.\u001b[0m\u001b[0mset_index\u001b[0m\u001b[0;34m(\u001b[0m\u001b[0;34m'Word'\u001b[0m\u001b[0;34m,\u001b[0m \u001b[0minplace\u001b[0m\u001b[0;34m=\u001b[0m\u001b[0;32mTrue\u001b[0m\u001b[0;34m)\u001b[0m\u001b[0;34m\u001b[0m\u001b[0;34m\u001b[0m\u001b[0m\n\u001b[0m",
      "\u001b[0;31mNameError\u001b[0m: name 'word_df' is not defined"
     ]
    }
   ],
   "source": [
    "word_df.set_index('Word', inplace=True)"
   ]
  },
  {
   "cell_type": "markdown",
   "metadata": {},
   "source": [
    "## For people who have a positive attitude towerds Aramco, What is the top words they use?\n"
   ]
  },
  {
   "cell_type": "code",
   "execution_count": 129,
   "metadata": {},
   "outputs": [
    {
     "ename": "NameError",
     "evalue": "name 'plt' is not defined",
     "output_type": "error",
     "traceback": [
      "\u001b[0;31m---------------------------------------------------------------------------\u001b[0m",
      "\u001b[0;31mNameError\u001b[0m                                 Traceback (most recent call last)",
      "\u001b[0;32m<ipython-input-129-f4fc44932ede>\u001b[0m in \u001b[0;36m<module>\u001b[0;34m\u001b[0m\n\u001b[0;32m----> 1\u001b[0;31m \u001b[0mfig\u001b[0m\u001b[0;34m,\u001b[0m\u001b[0max\u001b[0m \u001b[0;34m=\u001b[0m \u001b[0mplt\u001b[0m\u001b[0;34m.\u001b[0m\u001b[0msubplots\u001b[0m\u001b[0;34m(\u001b[0m\u001b[0;34m)\u001b[0m\u001b[0;34m\u001b[0m\u001b[0;34m\u001b[0m\u001b[0m\n\u001b[0m\u001b[1;32m      2\u001b[0m \u001b[0;34m\u001b[0m\u001b[0m\n\u001b[1;32m      3\u001b[0m \u001b[0max\u001b[0m\u001b[0;34m.\u001b[0m\u001b[0mtick_params\u001b[0m\u001b[0;34m(\u001b[0m\u001b[0maxis\u001b[0m\u001b[0;34m=\u001b[0m\u001b[0;34m'x'\u001b[0m\u001b[0;34m,\u001b[0m \u001b[0mlabelsize\u001b[0m\u001b[0;34m=\u001b[0m\u001b[0;36m15\u001b[0m\u001b[0;34m)\u001b[0m\u001b[0;34m\u001b[0m\u001b[0;34m\u001b[0m\u001b[0m\n\u001b[1;32m      4\u001b[0m \u001b[0max\u001b[0m\u001b[0;34m.\u001b[0m\u001b[0mtick_params\u001b[0m\u001b[0;34m(\u001b[0m\u001b[0maxis\u001b[0m\u001b[0;34m=\u001b[0m\u001b[0;34m'y'\u001b[0m\u001b[0;34m,\u001b[0m \u001b[0mlabelsize\u001b[0m\u001b[0;34m=\u001b[0m\u001b[0;36m15\u001b[0m\u001b[0;34m)\u001b[0m\u001b[0;34m\u001b[0m\u001b[0;34m\u001b[0m\u001b[0m\n\u001b[1;32m      5\u001b[0m \u001b[0max\u001b[0m\u001b[0;34m.\u001b[0m\u001b[0mset_xlabel\u001b[0m\u001b[0;34m(\u001b[0m\u001b[0;34m'Words'\u001b[0m\u001b[0;34m,\u001b[0m \u001b[0mfontsize\u001b[0m\u001b[0;34m=\u001b[0m\u001b[0;36m15\u001b[0m\u001b[0;34m)\u001b[0m\u001b[0;34m\u001b[0m\u001b[0;34m\u001b[0m\u001b[0m\n",
      "\u001b[0;31mNameError\u001b[0m: name 'plt' is not defined"
     ]
    }
   ],
   "source": [
    "import matplotlib.pyplot as plt\n",
    "fig,ax = plt.subplots()\n",
    "\n",
    "ax.tick_params(axis='x', labelsize=15)\n",
    "ax.tick_params(axis='y', labelsize=15)\n",
    "ax.set_xlabel('Words', fontsize=15)\n",
    "ax.set_ylabel('count' , fontsize=15)\n",
    "ax.set_title('The most common positive word', fontsize=15, fontweight='bold')\n",
    "# BAR=['#b4cdf4','#b4def4','#b4ebf4']\n",
    "BAR= ['#b3e4ff','#5DADE2','#2874A6']\n",
    "word_df[:8].plot(ax=ax,kind='bar',figsize=(10, 10),color=BAR)\n",
    "plt.savefig('word_df.pdf')"
   ]
  },
  {
   "cell_type": "markdown",
   "metadata": {},
   "source": [
    "Finding the most tweeted "
   ]
  },
  {
   "cell_type": "code",
   "execution_count": 145,
   "metadata": {},
   "outputs": [],
   "source": [
    "dataframe = df"
   ]
  },
  {
   "cell_type": "markdown",
   "metadata": {},
   "source": []
  },
  {
   "cell_type": "code",
   "execution_count": 146,
   "metadata": {},
   "outputs": [],
   "source": [
    "dates=[]\n",
    "date=''\n",
    "for row in dataframe.itertuples():\n",
    "    date=row.date[:2]\n",
    "    if(date[1:2]=='/'):\n",
    "        date=row.date[:1]\n",
    "    dates.append(int(date))"
   ]
  },
  {
   "cell_type": "code",
   "execution_count": 147,
   "metadata": {},
   "outputs": [],
   "source": [
    "dataframe['newDate']=dates"
   ]
  },
  {
   "cell_type": "code",
   "execution_count": 148,
   "metadata": {},
   "outputs": [],
   "source": [
    "datesName=[]\n",
    "daten=''\n",
    "for row in dataframe.itertuples():\n",
    "    #daten=row.newDate\n",
    "    if(row.newDate==12):\n",
    "        daten='December 2019'\n",
    "       # datesName.append('December 2019')\n",
    "    if(row.newDate==1):\n",
    "        daten='January 2020'\n",
    "       # datesName.append('January 2020')\n",
    "    if(row.newDate==2):\n",
    "        daten='February 2020'\n",
    "       # datesName.append('February 2020')\n",
    "    if(row.newDate==3):\n",
    "        daten='March 2020'\n",
    "       # datesName.append('March 2020')\n",
    "    datesName.append(daten)"
   ]
  },
  {
   "cell_type": "code",
   "execution_count": 149,
   "metadata": {},
   "outputs": [],
   "source": [
    "dataframe['DateName']=datesName"
   ]
  },
  {
   "cell_type": "code",
   "execution_count": 150,
   "metadata": {},
   "outputs": [],
   "source": [
    "NegativeTweets = dataframe[dataframe['stance ']=='Negative']\n",
    "PositiveTweets = dataframe[dataframe['stance ']=='Positive']\n",
    "NaturalTweets = dataframe[dataframe['stance ']=='Natural']"
   ]
  },
  {
   "cell_type": "code",
   "execution_count": 151,
   "metadata": {},
   "outputs": [],
   "source": [
    "fullPositiveTweets = PositiveTweets['DateName'].value_counts()\n",
    "fullNaturaltweets = NaturalTweets['DateName'].value_counts()\n",
    "fullNegativeTweets = NegativeTweets['DateName'].value_counts()"
   ]
  },
  {
   "cell_type": "code",
   "execution_count": 152,
   "metadata": {},
   "outputs": [
    {
     "data": {
      "text/plain": [
       "<matplotlib.legend.Legend at 0x1a290576d0>"
      ]
     },
     "execution_count": 152,
     "metadata": {},
     "output_type": "execute_result"
    },
    {
     "data": {
      "image/png": "[encoded data removed]",
      "text/plain": [
       "<Figure size 1080x720 with 1 Axes>"
      ]
     },
     "metadata": {
      "needs_background": "light"
     },
     "output_type": "display_data"
    }
   ],
   "source": [
    "import matplotlib.pyplot as plt\n",
    "n_groups = 4\n",
    "\n",
    "fig, ax = plt.subplots()\n",
    "index = np.arange(n_groups)\n",
    "bar_width = 0.25\n",
    "opacity = 0.8\n",
    "fig.set_size_inches(15, 10)\n",
    "\n",
    "rects1 = plt.bar(index, fullPositiveTweets, bar_width,\n",
    "alpha=opacity,\n",
    "color='#b3e4ff',\n",
    "label='Positive Tweets')\n",
    "\n",
    "rects2 = plt.bar(index + bar_width, fullNaturaltweets, bar_width,\n",
    "alpha=opacity,\n",
    "color='#5dade2',\n",
    "label='Neutral Tweets')\n",
    "\n",
    "rects3 = plt.bar(index + bar_width +bar_width , fullNegativeTweets, bar_width,\n",
    "alpha=opacity,\n",
    "color='#2874a6',\n",
    "label='Negative Tweets')\n",
    "\n",
    "plt.xlabel('Date')\n",
    "plt.ylabel('Tweets')\n",
    "plt.title('Most active dates tweeted')\n",
    "plt.xticks(index + bar_width, fullNegativeTweets.index)\n",
    "plt.legend()"
   ]
  },
  {
   "cell_type": "code",
   "execution_count": null,
   "metadata": {},
   "outputs": [],
   "source": []
  },
  {
   "cell_type": "code",
   "execution_count": null,
   "metadata": {},
   "outputs": [],
   "source": []
  }
 ],
 "metadata": {
  "kernelspec": {
   "display_name": "Python 3",
   "language": "python",
   "name": "python3"
  },
  "language_info": {
   "codemirror_mode": {
    "name": "ipython",
    "version": 3
   },
   "file_extension": ".py",
   "mimetype": "text/x-python",
   "name": "python",
   "nbconvert_exporter": "python",
   "pygments_lexer": "ipython3",
   "version": "3.7.4"
  }
 },
 "nbformat": 4,
 "nbformat_minor": 2
}
