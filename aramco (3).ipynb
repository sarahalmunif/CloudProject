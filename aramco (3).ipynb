{
 "cells": [
  {
   "cell_type": "markdown",
   "metadata": {},
   "source": [
    "# Import The Needed Packages"
   ]
  },
  {
   "cell_type": "code",
<<<<<<< HEAD
   "execution_count": 8,
   "metadata": {},
   "outputs": [],
=======
   "execution_count": 3,
   "metadata": {},
   "outputs": [
    {
     "name": "stdout",
     "output_type": "stream",
     "text": [
      "Requirement already satisfied: pydotplus in c:\\users\\abeer\\anaconda3\\lib\\site-packages (2.0.2)\n",
      "Requirement already satisfied: pyparsing>=2.0.1 in c:\\users\\abeer\\anaconda3\\lib\\site-packages (from pydotplus) (2.4.2)\n"
     ]
    },
    {
     "name": "stderr",
     "output_type": "stream",
     "text": [
      "C:\\Users\\abeer\\Anaconda3\\lib\\site-packages\\sklearn\\externals\\six.py:31: DeprecationWarning:\n",
      "\n",
      "The module is deprecated in version 0.21 and will be removed in version 0.23 since we've dropped support for Python 2.7. Please rely on the official version of six (https://pypi.org/project/six/).\n",
      "\n"
     ]
    }
   ],
>>>>>>> 4977cebfadd9d38a736d3ed3c006f7eafa235b64
   "source": [
    "#Import Python Libraries\n",
    "import sys\n",
    "!{sys.executable} -m pip install pydotplus\n",
    "import numpy as np\n",
    "import pandas as pd\n",
    "import tweepy \n",
    "import csv\n",
    "import re\n",
    "import string\n",
    "import nltk \n",
    "from nltk.tokenize import RegexpTokenizer # devide the words \n",
    "import numpy as np \n",
    "import matplotlib.pyplot as plt\n",
    "import seaborn\n",
    "import csv\n",
    "import re # for regular expression\n",
    "import string\n",
    "from datetime import datetime\n",
    "import nltk \n",
    "from nltk.tokenize import RegexpTokenizer # devide the words \n",
    "from collections import Counter #count the number of word for each list \n",
    "import numpy as np \n",
    "import matplotlib.pyplot as plt\n",
    "import plotly.express as px\n",
    "#import plotly\n",
    "#import plotly.plotly as py\n",
    "#import plotly.graph_objs as go\n",
    "#plotly.tools.set_credentials_file(username='XXXXXX', api_key='XXXXXXX')\n",
    "\n",
    "%matplotlib inline\n",
    "# change the seeting of the cells to show the entire content of coulmn ( eexpand the size of coulmn)\n",
    "pd.set_option('display.max_columns', None)\n",
    "pd.set_option('display.max_rows', None)\n",
    "pd.set_option('display.max_colwidth', -1)\n",
    "\n",
    "from sklearn.tree import DecisionTreeClassifier\n",
    "from sklearn.model_selection import train_test_split\n",
    "from sklearn.model_selection import cross_val_score, cross_val_predict, KFold\n",
    "from sklearn.metrics  import confusion_matrix, classification_report\n",
    "from sklearn import metrics\n",
    "#For Descision Tree Visualization\n",
    "from sklearn.externals.six import StringIO  \n",
    "from IPython.display import Image  \n",
    "from sklearn.tree import export_graphviz \n",
    "#import pydotplus"
   ]
  },
  {
   "cell_type": "code",
   "execution_count": 10,
   "metadata": {},
   "outputs": [],
   "source": [
    "#from credentials import *"
   ]
  },
  {
   "cell_type": "markdown",
   "metadata": {},
   "source": [
    "# Connecting to Twitter API"
   ]
  },
  {
   "cell_type": "code",
   "execution_count": 11,
   "metadata": {},
   "outputs": [
    {
     "ename": "NameError",
     "evalue": "name 'consumer_key' is not defined",
     "output_type": "error",
     "traceback": [
      "\u001b[0;31m---------------------------------------------------------------------------\u001b[0m",
      "\u001b[0;31mNameError\u001b[0m                                 Traceback (most recent call last)",
      "\u001b[0;32m<ipython-input-11-a134b5d847a4>\u001b[0m in \u001b[0;36m<module>\u001b[0;34m\u001b[0m\n\u001b[0;32m----> 1\u001b[0;31m \u001b[0mauth\u001b[0m \u001b[0;34m=\u001b[0m \u001b[0mtweepy\u001b[0m\u001b[0;34m.\u001b[0m\u001b[0mOAuthHandler\u001b[0m\u001b[0;34m(\u001b[0m\u001b[0mconsumer_key\u001b[0m\u001b[0;34m,\u001b[0m \u001b[0mconsumer_secret\u001b[0m\u001b[0;34m)\u001b[0m\u001b[0;34m\u001b[0m\u001b[0;34m\u001b[0m\u001b[0m\n\u001b[0m\u001b[1;32m      2\u001b[0m \u001b[0mauth\u001b[0m\u001b[0;34m.\u001b[0m\u001b[0mset_access_token\u001b[0m\u001b[0;34m(\u001b[0m\u001b[0maccess_token\u001b[0m\u001b[0;34m,\u001b[0m \u001b[0maccess_token_secret\u001b[0m\u001b[0;34m)\u001b[0m\u001b[0;34m\u001b[0m\u001b[0;34m\u001b[0m\u001b[0m\n\u001b[1;32m      3\u001b[0m \u001b[0mapi\u001b[0m \u001b[0;34m=\u001b[0m \u001b[0mtweepy\u001b[0m\u001b[0;34m.\u001b[0m\u001b[0mAPI\u001b[0m\u001b[0;34m(\u001b[0m\u001b[0mauth\u001b[0m\u001b[0;34m,\u001b[0m \u001b[0mwait_on_rate_limit\u001b[0m\u001b[0;34m=\u001b[0m\u001b[0;32mTrue\u001b[0m\u001b[0;34m)\u001b[0m\u001b[0;34m\u001b[0m\u001b[0;34m\u001b[0m\u001b[0m\n",
      "\u001b[0;31mNameError\u001b[0m: name 'consumer_key' is not defined"
     ]
    }
   ],
   "source": [
    "auth = tweepy.OAuthHandler(consumer_key, consumer_secret)\n",
    "auth.set_access_token(access_token, access_token_secret)\n",
    "api = tweepy.API(auth, wait_on_rate_limit=True)"
   ]
  },
  {
   "cell_type": "markdown",
   "metadata": {},
   "source": [
    "# Reading The CSV File"
   ]
  },
  {
   "cell_type": "code",
   "execution_count": null,
   "metadata": {},
   "outputs": [],
   "source": [
    "#Read csv file      we have a new version dont use this file\n",
    "df = pd.read_csv(\"final_cleaned.csv\")"
   ]
  },
  {
   "cell_type": "code",
   "execution_count": null,
   "metadata": {},
   "outputs": [],
   "source": [
    "#How much data do i have\n",
    "len(df)"
   ]
  },
  {
   "cell_type": "code",
   "execution_count": 4,
   "metadata": {},
   "outputs": [
    {
     "ename": "NameError",
     "evalue": "name 'df' is not defined",
     "output_type": "error",
     "traceback": [
      "\u001b[0;31m---------------------------------------------------------------------------\u001b[0m",
      "\u001b[0;31mNameError\u001b[0m                                 Traceback (most recent call last)",
      "\u001b[0;32m<ipython-input-4-1ef3cbfcb8d4>\u001b[0m in \u001b[0;36m<module>\u001b[0;34m\u001b[0m\n\u001b[1;32m      1\u001b[0m \u001b[0;31m#See part of the Data to inderstand the data\u001b[0m\u001b[0;34m\u001b[0m\u001b[0;34m\u001b[0m\u001b[0;34m\u001b[0m\u001b[0m\n\u001b[0;32m----> 2\u001b[0;31m \u001b[0mdf\u001b[0m\u001b[0;34m.\u001b[0m\u001b[0mtail\u001b[0m\u001b[0;34m(\u001b[0m\u001b[0;36m1\u001b[0m\u001b[0;34m)\u001b[0m\u001b[0;34m\u001b[0m\u001b[0;34m\u001b[0m\u001b[0m\n\u001b[0m",
      "\u001b[0;31mNameError\u001b[0m: name 'df' is not defined"
     ]
    }
   ],
   "source": [
    "#See part of the Data to inderstand the data\n",
    "df.tail(1)"
   ]
  },
  {
   "cell_type": "code",
   "execution_count": 5,
   "metadata": {},
   "outputs": [
    {
     "ename": "NameError",
     "evalue": "name 'df' is not defined",
     "output_type": "error",
     "traceback": [
      "\u001b[0;31m---------------------------------------------------------------------------\u001b[0m",
      "\u001b[0;31mNameError\u001b[0m                                 Traceback (most recent call last)",
      "\u001b[0;32m<ipython-input-5-278b3c11f30b>\u001b[0m in \u001b[0;36m<module>\u001b[0;34m\u001b[0m\n\u001b[1;32m      1\u001b[0m \u001b[0;31m# Print a concise summary of a DataFrame\u001b[0m\u001b[0;34m\u001b[0m\u001b[0;34m\u001b[0m\u001b[0;34m\u001b[0m\u001b[0m\n\u001b[0;32m----> 2\u001b[0;31m \u001b[0mdf\u001b[0m\u001b[0;34m.\u001b[0m\u001b[0minfo\u001b[0m\u001b[0;34m(\u001b[0m\u001b[0;34m)\u001b[0m\u001b[0;34m\u001b[0m\u001b[0;34m\u001b[0m\u001b[0m\n\u001b[0m",
      "\u001b[0;31mNameError\u001b[0m: name 'df' is not defined"
     ]
    }
   ],
   "source": [
    "# Print a concise summary of a DataFrame\n",
    "df.info()"
   ]
  },
  {
   "cell_type": "code",
   "execution_count": 6,
   "metadata": {
    "scrolled": true
   },
   "outputs": [
    {
     "data": {
      "text/plain": [
       "date          object \n",
       "text          object \n",
       "id            float64\n",
       "stance        object \n",
       "location      object \n",
       "clean text    object \n",
       "tokens        object \n",
       "City          object \n",
       "dtype: object"
      ]
     },
     "execution_count": 6,
     "metadata": {},
     "output_type": "execute_result"
    }
   ],
   "source": [
    "#Getting to know the Data type\n",
    "df.dtypes"
   ]
  },
  {
   "cell_type": "markdown",
   "metadata": {},
   "source": [
    "# Filling the nulls in Location Colomn"
   ]
  },
  {
   "cell_type": "code",
   "execution_count": 7,
   "metadata": {},
   "outputs": [],
   "source": [
    "# replace NA values\n",
    "df['location'].fillna(\"Not Given\", inplace=True)"
   ]
  },
  {
   "cell_type": "markdown",
   "metadata": {},
   "source": [
    "# Importing the City Dictionary"
   ]
  },
  {
   "cell_type": "code",
   "execution_count": 8,
   "metadata": {},
   "outputs": [],
   "source": [
    "from Dictionary import *"
   ]
  },
  {
   "cell_type": "markdown",
   "metadata": {},
   "source": [
    "# If the import resulted in an error here's the dictionary"
   ]
  },
  {
   "cell_type": "code",
   "execution_count": 9,
   "metadata": {},
   "outputs": [],
   "source": [
    "\n",
    "CityDictionary = { 'Riyadh':'Riyadh','Ryiadh':'Riyadh','الرياض':'Riyadh','رياض':'Riyadh','رياضه':'Riyadh',\n",
    "                     'ارياظ':'Riyadh','riydh':'Riyadh','ryiadh':'Riyadh','Riyad':'Riyadh','riyad':'Riyadh',\n",
    "                     'Riyadh, Kingdom of Saudi Arabia':'Riyadh','Ar Riyad':'Riyadh','Arriyad':'Riyadh','Alriyadh':'Riyadh',\n",
    "                     'AlRiyadh':'Riyadh','الرياض, المملكة العربية السعودية':'Riyadh',\n",
    "                     'Riyadh, Kingdom of Saudi Arabia, Kingdom of Saudi Arabia':'Riyadh',\n",
    "                     'السعودية - الرياض - جدة':'Riyadh','نجد':'Riyadh','Riyadh, Saudi Arabia الريـاض':'Riyadh',\n",
    "                     'الخرج':'Riyadh','الدرعية':'Riyadh','الدرعيه':'Riyadh','الدرعية':'Riyadh','الدرعية':'Riyadh',\n",
    "                     'الرياض':'Riyadh','الرياض, المملكة العربية السعود':'Riyadh','Riyadh \\ K.S.A':'Riyadh',\n",
    "                   #-----------------------------------Riyadh---------------------------------------\n",
    "                     'مكة':'Makkah','مكه':'Makkah','مكة المكرمة':'Makkah','مكه المكرمه':'Makkah','mecca':'Makkah',\n",
    "                     'Mecca':'Makkah','makkah':'Makkah','Makkah':'Makkah','Makkah AlMukarramah':'Makkah',\n",
    "                     'makkah':'Makkah','makka':'Makkah','Makka':'Makkah','Makkah, Kingdom of Saudi Arabia':'Makkah',\n",
    "                     'الغربيه':'Makkah','الغربيه':'Makkah','saudi arabia - makkah':'Makkah',\n",
    "                    #------------------ ----------------Makkah---------------------------------------\n",
    "                     'Jeddah':'Jeddah','jeddah':'Jeddah','Jedda':'Jeddah','jeddah':'Jeddah','جدة':'Jeddah','jeddah':'Jeddah',\n",
    "                     'جده':'Jeddah','Jeddah, Kingdom of Saudi Arabia':'Jeddah','Jedah':'Jeddah','jedah':'Jeddah',\n",
    "                     'Jeddah, Kingdom of Saudi Arabia, Kingdom of Saudi Arabia':'Jeddah',\n",
    "                     'جدة, المملكة العربية السعودية':'Jeddah','جده':'Jeddah','Jeddah, Saudi Arabia':'Jeddah', 'جــــــــــــدة':'Jeddah',\n",
    "                    #----------------------------------Jeddah---------------------------------------\n",
    "                     'المدينة المنورة':'Almadina','Almadinah':'Almadina','Almadinah':'Almadina','madina':'Almadina',\n",
    "                     'المدينه المنوره':'Almadina','المدينة المنورة, المملكة العربية السعودية':'Almadina','المدينة':'Almadina',\n",
    "                     'المدينه':'Almadina','Medina, Kingdom of Saudi Arabia':'Almadina','Medina, Kingdom of Saudi Arabia':'Almadina',\n",
    "                    'ينبع':'Almadina','ينبع, المملكة العربيه السعودية':'Almadina','Al Ola':'Almadina','العلا':'Almadina','العلا, الممكلة العربية السعودية':'Almadina',\n",
    "                    'مهد الذهب':'Almadina','Madinah - Jeddah':'Almadina',\n",
    "                    #---------------------------------Almadina--------------------------------------\n",
    "                    'Dammam, Kingdom of Saudi Arabia':'Dammam','Dammam':'Dammam',\"dammam\":'Dammam','الدمام':'Dammam',' الدمام, المملكة العربية السعودية':'Dammam',\n",
    "                    'دمام':'Dammam', 'Riyadh - Dammam':'Dammam',\n",
    "                    #---------------------------------Dammam----------------------------------------\n",
    "                     'ahsaa':'Alahsa','Alahsa':'Alahsa','الاحساء, المملكة العربية السعو':'Alahsa','الاحساء, المملكة العربية السعودية':'Alahsa',\n",
    "                     'احساء':'Alahsa','الاحسا':'Alahsa','الاحساء':'Alahsa','احساء':'Alahsa','أحساء':'Alahsa','إحساء':'Alahsa',\n",
    "                    #---------------------------------Alahsa----------------------------------------  \n",
    "                     'الخبر':'Alkhobar','Alkhobar':'Alkhobar','alkhobar':'Alkhobar','Khobar':'Alkhobar',\n",
    "                     'الخبر, المملكة العربية السعودية':'Alkhobar','Al Khobar':'Alkhobar','Al Khobar, Kingdom of Saudi Arabia':'Alkhobar'\n",
    "                     ,'Al Khobar, Kingdom of Saudi Arabia, Kingdom of Saudi Arabia':'Alkhobar','المنطقه الشرقيه _ الخبر':'Alkhobar', \n",
    "                    'Khobar,KSA':'Alkhobar',\n",
    "                    #---------------------------------Alkhobar--------------------------------------\n",
    "                     'Hafr Al Batin, Kingdom of Saudi Arabia, Kingdom of Saudi Arabia':'Hafr AlBatin',\n",
    "                     'Hafr Al Batin, Kingdom of Saudi Arabia':'Hafr AlBatin','حفر الباطن':'Hafr AlBatin',\n",
    "                     'Hafr allbatin':'Hafr Al Batin',\n",
    "                    #----------------------------------Hafr Albatin---------------------------------\n",
    "                     'الظهران':'Dharan','الظهران, المملكة العربية السعودية':'Dharan','Dharan':'Dharan',\n",
    "                     'Dharan, Kingdom of Saudi Arabia':'Dharan','Dharan, Kingdom of Saudi Arabia, Kingdom of Saudi Arabia':'Dharan',\n",
    "                    #-----------------------------------Dharran-------------------------------------\n",
    "                     'Eastern Province':'Eastern Province','eastern Province':'Eastern Province','Eastern Province, Kingdom of Saudi Arabia':'Eastern Province',\n",
    "                     'Eastern Province, Kingdom of Saudi Arabia, Kingdom of Saudi Arabia':'Eastern Province',\n",
    "                     'المنطقة الشرقية, المملكة العربية السعودية':'Eastern Province','الشرقية':'Eastern Province','المنطقة الشرقية':'Eastern Province',\n",
    "                    'الخفجي':'Eastern Province', 'Khafji, Kingdom of Saudi Arabia':'Eastern Province', 'Khafji':'Eastern Province','Eastern, Kingdom of Saudi Arabia':'Eastern Province',\n",
    "                    #-----------------------------------Eastern Province------------------------------\n",
    "                     'Aljubail':'AlJubail','Al jubail':'AlJubail','jubail':'AlJubail','AlJubail':'AlJubail','Al Jubail, Kingdom of Saudi Arabia, Kingdom of Saudi Arabia':'AlJubail',\n",
    "                     'الجبيل':'AlJubail','جبيل الصناعية':'AlJubail','جبيل':'AlJubail', 'الجبيل, المملكة العربية السعودية':'AlJubail',\n",
    "                    #--------------------------------------Al Jubail----------------------------------\n",
    "                    'القطيف':'AlQatif','قطيف':'AlQatif','القطيف, المملكة العربية السعودية':'AlQatif','Qatif':'AlQatif','AlQatif':'AlQatif',\n",
    "                    'Al Qatif, Kingdom of Saudi Arabia, Kingdom of Saudi Arabia':'AlQatif','qateef':'AlQatif','el qatif':'AlQatif','qateef':'AlQatif',\n",
    "                    #----------------------------------------Al Qateef -------------------------------------\n",
    "                    'Hail':'Hail','hail':'Hail','Hail, Kingdom of Saudi Arabia, Kingdom of Saudi Arabia':'Hail',\n",
    "                    'حائل':'Hail','حائل, المملكة العربية السعودية':'Hail','حايل':'Hail','hail ':'Hail','Hail, Kingdom of Saudi Arabia':'Hail',\n",
    "                    #---------------------------------------- Hail -----------------------------\n",
    "                    'Al Qassim':'AlQassim','AlQassim':'AlQassim','Qassim':'AlQassim','qassim':'AlQassim','Al qassim':'AlQassim','Al Qassim, Kingdom of Saudi Arabia':'AlQassim',\n",
    "                    'Al Qassim, Kingdom of Saudi Arabia, Kingdom of Saudi Arabia':'AlQassim','القصيم':'AlQassim','قصيم':'AlQassim','القصيم, المملكة العربية السعودية':'AlQassim',\n",
    "                    'بريدة':'AlQassim','بريده':'AlQassim','عنيزة':'AlQassim','عنيزه':'AlQassim','الرس':'AlQassim','Unayzah':'AlQassim','Ar Rass':'AlQassim',\n",
    "                    'Buraydah':'AlQassim',\n",
    "                    #----------------------------------------AL Qassim-------------------------------\n",
    "                    'عسير':'Aseer Province','أبها':'Aseer Province','خميس مشيط':'Aseer Province','بيشه':'Aseer Province','بيشة':'Aseer Province',\n",
    "                    'ابها':'Aseer Province','النماص':'Aseer Province','Abha, Kingdom of Saudi Arabia, Kingdom of Saudi Arabia':'Aseer Province',\n",
    "                    'Al Namas':'Aseer Province','Bisha':'Aseer Province','ابها, المملكة العربية السعودية':'Aseer Province',\n",
    "                    #---------------------------------------- Aseer----------------------------------\n",
    "                    'تبوك':'Tabuk','Tabuk':'Tabuk','Tabuk, Kingdom of Saudi Arabia, Kingdom of Saudi Arabia':'Tabuk','tabuk':'Tabuk','تبوك, المملكة العربية السعودية':'Tabuk',\n",
    "                    #--------------------------------------- Tabuk ----------------------------------\n",
    "                    'Jazan':'Jazan','Jazan, Kingdom of Saudi Arabia, Kingdom of Saudi Arabia':'Jazan','jazan':'Jazan','Jizan':'Jazan','jezan':'Jazan',\n",
    "                    'جازان':'Jazan','جيزان':'Jazan','جزر فرسان':'Jazan','صبيا':'Jazan','جازان, المملكة العربية السعودية':'Jazan',\n",
    "                    #-----------------------------------------Jazan----------------------------------\n",
    "                    'نجران':'Najran', 'نجران, المملكة العربية السعودية':'Najran', 'Najran':'Najran', 'Najran, Kingdom of Saudi Arabia':'Najran', \n",
    "                    'شرورة':'Najran','شروره':'Najran', 'Najran, Kingdom of Saudi Arabia, Kingdom of Saudi Arabia':'Najran', \n",
    "                    #---------------------------------------- Najran---------------------------------\n",
    "                    'الباحه':'AlBahah','AlBahah':'AlBahah','AlBahah, Kingdom of Saudi Arabia':'AlBahah','AlBahah, Kingdom of Saudi Arabia, Kingdom of Saudi Arabia':'AlBahah','الباحة':'AlBahah',\n",
    "                    'الباحه':'AlBahah','الباحة, المملكة العربية السعودية':'AlBahah',\n",
    "                    #---------------------------------------AlBahah----------------------------------\n",
    "                    'الطائف':'Taif','طائف':'Taif','الطائف, المملكة العربية السعودية':'Taif',\n",
    "                    'Al Taif':'Taif','Taif':'Taif','Taif, Kingdom of Saudi Arabia, Kingdom of Saudi Arabia':'Taif',\n",
    "                    'Taif, Kingdom of Saudi Arabia':'Taif','الطائف':'Taif','الطائف':'Taif',\n",
    "                    'الطائف':'Taif','الطائف':'Taif','الطائف':'Taif','الطائف':'Taif','‏﮼قلب ‏﮼الطائف':'Taif',\n",
    "                    #-------------------------------------Taif----------------------------------------\n",
    "                    'عرعر':'Northen Province', 'رفحاء':'Northen Province', 'عرعر, المملكة العربية السعودية':'Northen Province', 'Arar':'Northen Province',\n",
    "                    'Arar, Kingdom of Saudi Arabia':'Northen Province','Arar, Kingdom of Saudi Arabia, Kingdom of Saudi Arabia':'Northen Province',\n",
    "                    'طريف':'Northen Province','العويقلية':'Northen Province',\n",
    "                    #------------------------------------Northen Province-----------------------------\n",
    "                    'الجوف':'AlJowf', 'Al Jowf':'AlJowf', 'الجوف,المملكة العربية السعودية':'AlJowf', 'جوف':'AlJowf', 'سكاكا':'AlJowf',\n",
    "                    'Sakaka, Kingdom of Saudi Arabia, Kingdom of Saudi Arabia':'AlJowf','Sakaka, Kingdom of Saudi Arabia':'AlJowf',\n",
    "                    'Sakaka':'AlJowf',\n",
    "                    #--------------------------------------Al Jowf------------------------------------\n",
    "                    'Shaybah, Kingdom of Saudi Arabia, Kingdom of Saudi Arabia':'Shaybah',\n",
    "                    # if it's in saudi but not specified yet.\n",
    "                    'KSA':'Not Given','المملكة العربية السعودية':'Not Given','المملكة العربية السعودية 🇸🇦':'Not Given','KSA🇸🇦':'Not Given',\n",
    "                    'SA':'Not Given','ksa':'Not Given','K.s.a ...':'Not Given','k.s.a':'Not Given','K.S.A':'Not Given','العربيه السعوديةمملكةالانسانيه':'Not Given',\n",
    "                    'السعودية':'Not Given','سعودية':'Not Given','Kingdom of Saudi Arabia':'Not Given','k s a':'Not Given',\n",
    "                    'Kingdom of Saudi Arabia, Kingdom of Saudi Arabia':'Not Given','kSA':'Not Given',', المملكة العربية السعودية':'Not Given',\n",
    "                    '🇸🇦':'Not Given','ksa':'Not Given','السعوديه العظمى':'Not Given', 'Kingdom Saudi Arabia':'Not Given', 'المملكة العربيه السعوديه':'Not Given',\n",
    "                    # if the country is not given then also put not give\n",
    "                    'Not Given':'Not Given',\n",
    "                   }"
   ]
  },
  {
   "cell_type": "markdown",
   "metadata": {},
   "source": [
    "# mapping the city Colomn with dictionary"
   ]
  },
  {
   "cell_type": "code",
   "execution_count": 10,
   "metadata": {},
   "outputs": [],
   "source": [
    "df['City'] = df['location'].map(CityDictionary)\n",
    "df['City'].fillna(\"Other Country\", inplace=True)"
   ]
  },
  {
   "cell_type": "code",
   "execution_count": 11,
   "metadata": {},
   "outputs": [
    {
     "data": {
      "text/plain": [
       "<matplotlib.axes._subplots.AxesSubplot at 0x14ff029fc88>"
      ]
     },
     "execution_count": 11,
     "metadata": {},
     "output_type": "execute_result"
    },
    {
     "data": {
      "image/png": "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\n",
      "text/plain": [
       "<Figure size 432x288 with 1 Axes>"
      ]
     },
     "metadata": {
      "needs_background": "light"
     },
     "output_type": "display_data"
    }
   ],
   "source": [
    "tempo =  df['City'].value_counts()\n",
    "# visualize the results in a better way!\n",
    "fig, ax = plt.subplots()\n",
    "\n",
    "ax.tick_params(axis='x', labelsize=15)\n",
    "ax.tick_params(axis='y', labelsize=15)\n",
    "\n",
    "ax.set_xlabel('Cities' , fontsize=15)\n",
    "ax.set_ylabel('Number of tweets', fontsize=15)\n",
    "ax.set_title('Top Tweeted Cities', fontsize=30)\n",
    "\n",
    "tempo[:6].plot(ax=ax, kind='bar')"
   ]
  },
  {
   "cell_type": "markdown",
   "metadata": {},
   "source": [
    "# Q: What is the distribution of stance?"
   ]
  },
  {
   "cell_type": "code",
   "execution_count": 12,
   "metadata": {},
   "outputs": [
    {
     "data": {
      "text/plain": [
       "0    Natural \n",
       "1    Natural \n",
       "2    Negative\n",
       "3    Natural \n",
       "4    Positive\n",
       "5    Natural \n",
       "6    Natural \n",
       "7    Positive\n",
       "8    Natural \n",
       "9    Natural \n",
       "Name: stance , dtype: object"
      ]
     },
     "execution_count": 12,
     "metadata": {},
     "output_type": "execute_result"
    }
   ],
   "source": [
    "df['stance '][:10]"
   ]
  },
  {
   "cell_type": "code",
   "execution_count": 13,
   "metadata": {},
   "outputs": [],
   "source": [
    "tweets_by_stance =df['stance '].value_counts()"
   ]
  },
  {
   "cell_type": "code",
   "execution_count": 14,
   "metadata": {},
   "outputs": [
    {
     "data": {
      "text/plain": [
       "<matplotlib.axes._subplots.AxesSubplot at 0x14ff95a7f08>"
      ]
     },
     "execution_count": 14,
     "metadata": {},
     "output_type": "execute_result"
    },
    {
     "data": {
      "image/png": "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\n",
      "text/plain": [
       "<Figure size 432x288 with 1 Axes>"
      ]
     },
     "metadata": {},
     "output_type": "display_data"
    }
   ],
   "source": [
    "# visualize the results\n",
    "tweets_by_stance.plot(kind='pie')"
   ]
  },
  {
   "cell_type": "code",
   "execution_count": 2,
   "metadata": {},
   "outputs": [
    {
     "ename": "NameError",
     "evalue": "name 'plt' is not defined",
     "output_type": "error",
     "traceback": [
      "\u001b[0;31m---------------------------------------------------------------------------\u001b[0m",
      "\u001b[0;31mNameError\u001b[0m                                 Traceback (most recent call last)",
      "\u001b[0;32m<ipython-input-2-aa1c4c6c378b>\u001b[0m in \u001b[0;36m<module>\u001b[0;34m\u001b[0m\n\u001b[1;32m      1\u001b[0m \u001b[0;31m# visualize the results in a better way!\u001b[0m\u001b[0;34m\u001b[0m\u001b[0;34m\u001b[0m\u001b[0;34m\u001b[0m\u001b[0m\n\u001b[1;32m      2\u001b[0m \u001b[0;34m\u001b[0m\u001b[0m\n\u001b[0;32m----> 3\u001b[0;31m \u001b[0mfig\u001b[0m\u001b[0;34m,\u001b[0m \u001b[0max\u001b[0m \u001b[0;34m=\u001b[0m \u001b[0mplt\u001b[0m\u001b[0;34m.\u001b[0m\u001b[0msubplots\u001b[0m\u001b[0;34m(\u001b[0m\u001b[0;34m)\u001b[0m\u001b[0;34m\u001b[0m\u001b[0;34m\u001b[0m\u001b[0m\n\u001b[0m\u001b[1;32m      4\u001b[0m \u001b[0;34m\u001b[0m\u001b[0m\n\u001b[1;32m      5\u001b[0m \u001b[0max\u001b[0m\u001b[0;34m.\u001b[0m\u001b[0mtick_params\u001b[0m\u001b[0;34m(\u001b[0m\u001b[0maxis\u001b[0m\u001b[0;34m=\u001b[0m\u001b[0;34m'x'\u001b[0m\u001b[0;34m,\u001b[0m \u001b[0mlabelsize\u001b[0m\u001b[0;34m=\u001b[0m\u001b[0;36m15\u001b[0m\u001b[0;34m)\u001b[0m\u001b[0;34m\u001b[0m\u001b[0;34m\u001b[0m\u001b[0m\n",
      "\u001b[0;31mNameError\u001b[0m: name 'plt' is not defined"
     ]
    }
   ],
   "source": [
    "# visualize the results in a better way!\n",
    "\n",
    "fig, ax = plt.subplots()\n",
    "\n",
    "ax.tick_params(axis='x', labelsize=15)\n",
    "ax.tick_params(axis='y', labelsize=10)\n",
    "\n",
    "ax.set_xlabel('Stance ', fontsize=15)\n",
    "ax.set_ylabel('Number of tweets' , fontsize=15)\n",
    "ax.set_title('Distribution of stance', fontsize=15, fontweight='bold')\n",
    "\n",
    "tweets_by_stance.plot(ax=ax, kind='bar')"
   ]
  },
  {
   "cell_type": "markdown",
   "metadata": {},
   "source": [
    "# Time serise analysis\n"
   ]
  },
  {
   "cell_type": "code",
   "execution_count": 6,
   "metadata": {},
   "outputs": [
    {
     "ename": "NameError",
     "evalue": "name 'df' is not defined",
     "output_type": "error",
     "traceback": [
      "\u001b[0;31m---------------------------------------------------------------------------\u001b[0m",
      "\u001b[0;31mNameError\u001b[0m                                 Traceback (most recent call last)",
      "\u001b[0;32m<ipython-input-6-4c35cf64bedf>\u001b[0m in \u001b[0;36m<module>\u001b[0;34m\u001b[0m\n\u001b[1;32m      1\u001b[0m \u001b[0;31m#first, we need to convert the date column to a datetime object\u001b[0m\u001b[0;34m\u001b[0m\u001b[0;34m\u001b[0m\u001b[0;34m\u001b[0m\u001b[0m\n\u001b[0;32m----> 2\u001b[0;31m \u001b[0mdf\u001b[0m\u001b[0;34m[\u001b[0m\u001b[0;34m\"Date_Time\"\u001b[0m\u001b[0;34m]\u001b[0m\u001b[0;34m=\u001b[0m\u001b[0mpd\u001b[0m\u001b[0;34m.\u001b[0m\u001b[0mto_datetime\u001b[0m\u001b[0;34m(\u001b[0m\u001b[0mdf\u001b[0m\u001b[0;34m[\u001b[0m\u001b[0;34m'date'\u001b[0m\u001b[0;34m]\u001b[0m\u001b[0;34m)\u001b[0m\u001b[0;34m\u001b[0m\u001b[0;34m\u001b[0m\u001b[0m\n\u001b[0m",
      "\u001b[0;31mNameError\u001b[0m: name 'df' is not defined"
     ]
    }
   ],
   "source": [
    "#first, we need to convert the date column to a datetime object\n",
    "df[\"Date_Time\"]=pd.to_datetime(df['date'])"
   ]
  },
  {
   "cell_type": "code",
   "execution_count": 17,
   "metadata": {},
   "outputs": [],
   "source": [
    "#creat a new data frame\n",
    "Date_df=df[['Date_Time','stance ']].copy()"
   ]
  },
  {
   "cell_type": "code",
   "execution_count": 18,
   "metadata": {},
   "outputs": [],
   "source": [
    "# create a new column for dates\n",
    "Date_df['Date'] = Date_df['Date_Time'].dt.date "
   ]
  },
  {
   "cell_type": "code",
   "execution_count": 19,
   "metadata": {},
   "outputs": [],
   "source": [
    "# count unique dates\n",
    "df_by_date = Date_df.groupby('Date').count()"
   ]
  },
  {
   "cell_type": "code",
   "execution_count": 20,
   "metadata": {},
   "outputs": [],
   "source": [
    "# make the date as the index for the visualization \n",
    "df_by_date['Date'] = df_by_date.index"
   ]
  },
  {
   "cell_type": "markdown",
   "metadata": {},
   "source": [
    "### When people with positive attitude ?"
   ]
  },
  {
   "cell_type": "code",
   "execution_count": 21,
   "metadata": {},
   "outputs": [],
   "source": [
    "#creat a new data frame\n",
    "Positive_Date_df=Date_df[Date_df[\"stance \"]=='Positive']\n",
    "Positive_df_by_date = Positive_Date_df.groupby('Date').count()"
   ]
  },
  {
   "cell_type": "code",
   "execution_count": 22,
   "metadata": {},
   "outputs": [],
   "source": [
    "Positive_df_by_date['Date'] = Positive_df_by_date.index"
   ]
  },
  {
   "cell_type": "code",
   "execution_count": 1,
   "metadata": {},
   "outputs": [
    {
     "ename": "NameError",
     "evalue": "name 'px' is not defined",
     "output_type": "error",
     "traceback": [
      "\u001b[0;31m---------------------------------------------------------------------------\u001b[0m",
      "\u001b[0;31mNameError\u001b[0m                                 Traceback (most recent call last)",
      "\u001b[0;32m<ipython-input-1-383661d1d767>\u001b[0m in \u001b[0;36m<module>\u001b[0;34m\u001b[0m\n\u001b[1;32m      1\u001b[0m \u001b[0;31m#fig = px.histogram(Positive_df_by_date, x=\"Date\", y=\"Date_Time\")\u001b[0m\u001b[0;34m\u001b[0m\u001b[0;34m\u001b[0m\u001b[0;34m\u001b[0m\u001b[0m\n\u001b[0;32m----> 2\u001b[0;31m \u001b[0mfig\u001b[0m \u001b[0;34m=\u001b[0m \u001b[0mpx\u001b[0m\u001b[0;34m.\u001b[0m\u001b[0mbar\u001b[0m\u001b[0;34m(\u001b[0m\u001b[0mx\u001b[0m\u001b[0;34m=\u001b[0m\u001b[0mPositive_df_by_date\u001b[0m\u001b[0;34m[\u001b[0m\u001b[0;34m'Date'\u001b[0m\u001b[0;34m]\u001b[0m\u001b[0;34m,\u001b[0m \u001b[0my\u001b[0m\u001b[0;34m=\u001b[0m\u001b[0mPositive_df_by_date\u001b[0m\u001b[0;34m[\u001b[0m\u001b[0;34m'Date_Time'\u001b[0m\u001b[0;34m]\u001b[0m\u001b[0;34m,\u001b[0m \u001b[0mlabels\u001b[0m\u001b[0;34m=\u001b[0m\u001b[0;34m{\u001b[0m\u001b[0;34m'x'\u001b[0m\u001b[0;34m:\u001b[0m\u001b[0;34m'Date'\u001b[0m\u001b[0;34m,\u001b[0m \u001b[0;34m'y'\u001b[0m\u001b[0;34m:\u001b[0m\u001b[0;34m'Number of tweets'\u001b[0m\u001b[0;34m}\u001b[0m\u001b[0;34m)\u001b[0m\u001b[0;34m\u001b[0m\u001b[0;34m\u001b[0m\u001b[0m\n\u001b[0m\u001b[1;32m      3\u001b[0m \u001b[0mfig\u001b[0m\u001b[0;34m.\u001b[0m\u001b[0mshow\u001b[0m\u001b[0;34m(\u001b[0m\u001b[0;34m)\u001b[0m\u001b[0;34m\u001b[0m\u001b[0;34m\u001b[0m\u001b[0m\n",
      "\u001b[0;31mNameError\u001b[0m: name 'px' is not defined"
     ]
    }
   ],
   "source": [
    "#fig = px.histogram(Positive_df_by_date, x=\"Date\", y=\"Date_Time\")\n",
    "fig = px.bar(x=Positive_df_by_date['Date'], y=Positive_df_by_date['Date_Time'], labels={'x':'Date', 'y':'Number of tweets'})\n",
    "fig.show()"
   ]
  },
  {
   "cell_type": "markdown",
   "metadata": {},
   "source": [
    "### When people with negative attitude ?"
   ]
  },
  {
   "cell_type": "code",
   "execution_count": 24,
   "metadata": {},
   "outputs": [],
   "source": [
    "#creat a new data frame\n",
    "Negative_Date_df=Date_df[Date_df[\"stance \"]=='Negative']\n",
    "Negative_df_by_date =Negative_Date_df.groupby('Date').count()\n",
    "\n"
   ]
  },
  {
   "cell_type": "code",
   "execution_count": 25,
   "metadata": {},
   "outputs": [],
   "source": [
    "Negative_df_by_date['Date'] = Negative_df_by_date.index"
   ]
  },
  {
   "cell_type": "code",
   "execution_count": 26,
   "metadata": {},
   "outputs": [
    {
     "data": {
      "application/vnd.plotly.v1+json": {
       "config": {
        "plotlyServerURL": "https://plot.ly"
       },
       "data": [
        {
         "alignmentgroup": "True",
         "hoverlabel": {
          "namelength": 0
         },
         "hovertemplate": "Date=%{x}<br>Number of tweets=%{y}",
         "legendgroup": "",
         "marker": {
          "color": "#636efa"
         },
         "name": "",
         "offsetgroup": "",
         "orientation": "v",
         "showlegend": false,
         "textposition": "auto",
         "type": "bar",
         "x": [
          "2019-12-05",
          "2019-12-06",
          "2019-12-07",
          "2019-12-08",
          "2019-12-09",
          "2019-12-10",
          "2019-12-11",
          "2019-12-12",
          "2019-12-13",
          "2019-12-14",
          "2019-12-15",
          "2019-12-16",
          "2019-12-17",
          "2019-12-18",
          "2019-12-19",
          "2019-12-20",
          "2019-12-21",
          "2019-12-22",
          "2019-12-23",
          "2019-12-24",
          "2019-12-25",
          "2019-12-26",
          "2019-12-27",
          "2019-12-28",
          "2019-12-29",
          "2019-12-30",
          "2019-12-31",
          "2020-01-01",
          "2020-01-02",
          "2020-01-03",
          "2020-01-04",
          "2020-01-05",
          "2020-01-06",
          "2020-01-07",
          "2020-01-08",
          "2020-01-09",
          "2020-01-10",
          "2020-01-11",
          "2020-01-12",
          "2020-01-13",
          "2020-01-14",
          "2020-01-15",
          "2020-01-16",
          "2020-01-17",
          "2020-01-18",
          "2020-01-19",
          "2020-01-20",
          "2020-01-22",
          "2020-01-23",
          "2020-01-24",
          "2020-01-25",
          "2020-01-26",
          "2020-01-27",
          "2020-01-28",
          "2020-01-29",
          "2020-01-31",
          "2020-02-01",
          "2020-02-02",
          "2020-02-03",
          "2020-02-04",
          "2020-02-05",
          "2020-02-06",
          "2020-02-07",
          "2020-02-08",
          "2020-02-09",
          "2020-02-10",
          "2020-02-11",
          "2020-02-12",
          "2020-02-13",
          "2020-02-14",
          "2020-02-15",
          "2020-02-16",
          "2020-02-19",
          "2020-02-21",
          "2020-02-22",
          "2020-02-23",
          "2020-02-24",
          "2020-02-25",
          "2020-02-28",
          "2020-02-29",
          "2020-03-01",
          "2020-03-02",
          "2020-03-03",
          "2020-03-04",
          "2020-03-07"
         ],
         "xaxis": "x",
         "y": [
          96,
          60,
          40,
          28,
          10,
          7,
          107,
          39,
          8,
          6,
          9,
          2,
          6,
          4,
          19,
          7,
          6,
          4,
          5,
          10,
          4,
          1,
          1,
          2,
          3,
          6,
          3,
          4,
          6,
          5,
          3,
          4,
          6,
          2,
          9,
          7,
          3,
          3,
          5,
          6,
          2,
          3,
          4,
          5,
          1,
          4,
          5,
          9,
          3,
          2,
          4,
          6,
          3,
          3,
          6,
          2,
          2,
          4,
          7,
          5,
          2,
          5,
          8,
          1,
          17,
          2,
          2,
          2,
          2,
          3,
          10,
          13,
          2,
          2,
          1,
          1,
          1,
          2,
          4,
          3,
          4,
          4,
          6,
          1,
          1
         ],
         "yaxis": "y"
        }
       ],
       "layout": {
        "barmode": "relative",
        "legend": {
         "tracegroupgap": 0
        },
        "margin": {
         "t": 60
        },
        "template": {
         "data": {
          "bar": [
           {
            "error_x": {
             "color": "#2a3f5f"
            },
            "error_y": {
             "color": "#2a3f5f"
            },
            "marker": {
             "line": {
              "color": "#E5ECF6",
              "width": 0.5
             }
            },
            "type": "bar"
           }
          ],
          "barpolar": [
           {
            "marker": {
             "line": {
              "color": "#E5ECF6",
              "width": 0.5
             }
            },
            "type": "barpolar"
           }
          ],
          "carpet": [
           {
            "aaxis": {
             "endlinecolor": "#2a3f5f",
             "gridcolor": "white",
             "linecolor": "white",
             "minorgridcolor": "white",
             "startlinecolor": "#2a3f5f"
            },
            "baxis": {
             "endlinecolor": "#2a3f5f",
             "gridcolor": "white",
             "linecolor": "white",
             "minorgridcolor": "white",
             "startlinecolor": "#2a3f5f"
            },
            "type": "carpet"
           }
          ],
          "choropleth": [
           {
            "colorbar": {
             "outlinewidth": 0,
             "ticks": ""
            },
            "type": "choropleth"
           }
          ],
          "contour": [
           {
            "colorbar": {
             "outlinewidth": 0,
             "ticks": ""
            },
            "colorscale": [
             [
              0,
              "#0d0887"
             ],
             [
              0.1111111111111111,
              "#46039f"
             ],
             [
              0.2222222222222222,
              "#7201a8"
             ],
             [
              0.3333333333333333,
              "#9c179e"
             ],
             [
              0.4444444444444444,
              "#bd3786"
             ],
             [
              0.5555555555555556,
              "#d8576b"
             ],
             [
              0.6666666666666666,
              "#ed7953"
             ],
             [
              0.7777777777777778,
              "#fb9f3a"
             ],
             [
              0.8888888888888888,
              "#fdca26"
             ],
             [
              1,
              "#f0f921"
             ]
            ],
            "type": "contour"
           }
          ],
          "contourcarpet": [
           {
            "colorbar": {
             "outlinewidth": 0,
             "ticks": ""
            },
            "type": "contourcarpet"
           }
          ],
          "heatmap": [
           {
            "colorbar": {
             "outlinewidth": 0,
             "ticks": ""
            },
            "colorscale": [
             [
              0,
              "#0d0887"
             ],
             [
              0.1111111111111111,
              "#46039f"
             ],
             [
              0.2222222222222222,
              "#7201a8"
             ],
             [
              0.3333333333333333,
              "#9c179e"
             ],
             [
              0.4444444444444444,
              "#bd3786"
             ],
             [
              0.5555555555555556,
              "#d8576b"
             ],
             [
              0.6666666666666666,
              "#ed7953"
             ],
             [
              0.7777777777777778,
              "#fb9f3a"
             ],
             [
              0.8888888888888888,
              "#fdca26"
             ],
             [
              1,
              "#f0f921"
             ]
            ],
            "type": "heatmap"
           }
          ],
          "heatmapgl": [
           {
            "colorbar": {
             "outlinewidth": 0,
             "ticks": ""
            },
            "colorscale": [
             [
              0,
              "#0d0887"
             ],
             [
              0.1111111111111111,
              "#46039f"
             ],
             [
              0.2222222222222222,
              "#7201a8"
             ],
             [
              0.3333333333333333,
              "#9c179e"
             ],
             [
              0.4444444444444444,
              "#bd3786"
             ],
             [
              0.5555555555555556,
              "#d8576b"
             ],
             [
              0.6666666666666666,
              "#ed7953"
             ],
             [
              0.7777777777777778,
              "#fb9f3a"
             ],
             [
              0.8888888888888888,
              "#fdca26"
             ],
             [
              1,
              "#f0f921"
             ]
            ],
            "type": "heatmapgl"
           }
          ],
          "histogram": [
           {
            "marker": {
             "colorbar": {
              "outlinewidth": 0,
              "ticks": ""
             }
            },
            "type": "histogram"
           }
          ],
          "histogram2d": [
           {
            "colorbar": {
             "outlinewidth": 0,
             "ticks": ""
            },
            "colorscale": [
             [
              0,
              "#0d0887"
             ],
             [
              0.1111111111111111,
              "#46039f"
             ],
             [
              0.2222222222222222,
              "#7201a8"
             ],
             [
              0.3333333333333333,
              "#9c179e"
             ],
             [
              0.4444444444444444,
              "#bd3786"
             ],
             [
              0.5555555555555556,
              "#d8576b"
             ],
             [
              0.6666666666666666,
              "#ed7953"
             ],
             [
              0.7777777777777778,
              "#fb9f3a"
             ],
             [
              0.8888888888888888,
              "#fdca26"
             ],
             [
              1,
              "#f0f921"
             ]
            ],
            "type": "histogram2d"
           }
          ],
          "histogram2dcontour": [
           {
            "colorbar": {
             "outlinewidth": 0,
             "ticks": ""
            },
            "colorscale": [
             [
              0,
              "#0d0887"
             ],
             [
              0.1111111111111111,
              "#46039f"
             ],
             [
              0.2222222222222222,
              "#7201a8"
             ],
             [
              0.3333333333333333,
              "#9c179e"
             ],
             [
              0.4444444444444444,
              "#bd3786"
             ],
             [
              0.5555555555555556,
              "#d8576b"
             ],
             [
              0.6666666666666666,
              "#ed7953"
             ],
             [
              0.7777777777777778,
              "#fb9f3a"
             ],
             [
              0.8888888888888888,
              "#fdca26"
             ],
             [
              1,
              "#f0f921"
             ]
            ],
            "type": "histogram2dcontour"
           }
          ],
          "mesh3d": [
           {
            "colorbar": {
             "outlinewidth": 0,
             "ticks": ""
            },
            "type": "mesh3d"
           }
          ],
          "parcoords": [
           {
            "line": {
             "colorbar": {
              "outlinewidth": 0,
              "ticks": ""
             }
            },
            "type": "parcoords"
           }
          ],
          "pie": [
           {
            "automargin": true,
            "type": "pie"
           }
          ],
          "scatter": [
           {
            "marker": {
             "colorbar": {
              "outlinewidth": 0,
              "ticks": ""
             }
            },
            "type": "scatter"
           }
          ],
          "scatter3d": [
           {
            "line": {
             "colorbar": {
              "outlinewidth": 0,
              "ticks": ""
             }
            },
            "marker": {
             "colorbar": {
              "outlinewidth": 0,
              "ticks": ""
             }
            },
            "type": "scatter3d"
           }
          ],
          "scattercarpet": [
           {
            "marker": {
             "colorbar": {
              "outlinewidth": 0,
              "ticks": ""
             }
            },
            "type": "scattercarpet"
           }
          ],
          "scattergeo": [
           {
            "marker": {
             "colorbar": {
              "outlinewidth": 0,
              "ticks": ""
             }
            },
            "type": "scattergeo"
           }
          ],
          "scattergl": [
           {
            "marker": {
             "colorbar": {
              "outlinewidth": 0,
              "ticks": ""
             }
            },
            "type": "scattergl"
           }
          ],
          "scattermapbox": [
           {
            "marker": {
             "colorbar": {
              "outlinewidth": 0,
              "ticks": ""
             }
            },
            "type": "scattermapbox"
           }
          ],
          "scatterpolar": [
           {
            "marker": {
             "colorbar": {
              "outlinewidth": 0,
              "ticks": ""
             }
            },
            "type": "scatterpolar"
           }
          ],
          "scatterpolargl": [
           {
            "marker": {
             "colorbar": {
              "outlinewidth": 0,
              "ticks": ""
             }
            },
            "type": "scatterpolargl"
           }
          ],
          "scatterternary": [
           {
            "marker": {
             "colorbar": {
              "outlinewidth": 0,
              "ticks": ""
             }
            },
            "type": "scatterternary"
           }
          ],
          "surface": [
           {
            "colorbar": {
             "outlinewidth": 0,
             "ticks": ""
            },
            "colorscale": [
             [
              0,
              "#0d0887"
             ],
             [
              0.1111111111111111,
              "#46039f"
             ],
             [
              0.2222222222222222,
              "#7201a8"
             ],
             [
              0.3333333333333333,
              "#9c179e"
             ],
             [
              0.4444444444444444,
              "#bd3786"
             ],
             [
              0.5555555555555556,
              "#d8576b"
             ],
             [
              0.6666666666666666,
              "#ed7953"
             ],
             [
              0.7777777777777778,
              "#fb9f3a"
             ],
             [
              0.8888888888888888,
              "#fdca26"
             ],
             [
              1,
              "#f0f921"
             ]
            ],
            "type": "surface"
           }
          ],
          "table": [
           {
            "cells": {
             "fill": {
              "color": "#EBF0F8"
             },
             "line": {
              "color": "white"
             }
            },
            "header": {
             "fill": {
              "color": "#C8D4E3"
             },
             "line": {
              "color": "white"
             }
            },
            "type": "table"
           }
          ]
         },
         "layout": {
          "annotationdefaults": {
           "arrowcolor": "#2a3f5f",
           "arrowhead": 0,
           "arrowwidth": 1
          },
          "coloraxis": {
           "colorbar": {
            "outlinewidth": 0,
            "ticks": ""
           }
          },
          "colorscale": {
           "diverging": [
            [
             0,
             "#8e0152"
            ],
            [
             0.1,
             "#c51b7d"
            ],
            [
             0.2,
             "#de77ae"
            ],
            [
             0.3,
             "#f1b6da"
            ],
            [
             0.4,
             "#fde0ef"
            ],
            [
             0.5,
             "#f7f7f7"
            ],
            [
             0.6,
             "#e6f5d0"
            ],
            [
             0.7,
             "#b8e186"
            ],
            [
             0.8,
             "#7fbc41"
            ],
            [
             0.9,
             "#4d9221"
            ],
            [
             1,
             "#276419"
            ]
           ],
           "sequential": [
            [
             0,
             "#0d0887"
            ],
            [
             0.1111111111111111,
             "#46039f"
            ],
            [
             0.2222222222222222,
             "#7201a8"
            ],
            [
             0.3333333333333333,
             "#9c179e"
            ],
            [
             0.4444444444444444,
             "#bd3786"
            ],
            [
             0.5555555555555556,
             "#d8576b"
            ],
            [
             0.6666666666666666,
             "#ed7953"
            ],
            [
             0.7777777777777778,
             "#fb9f3a"
            ],
            [
             0.8888888888888888,
             "#fdca26"
            ],
            [
             1,
             "#f0f921"
            ]
           ],
           "sequentialminus": [
            [
             0,
             "#0d0887"
            ],
            [
             0.1111111111111111,
             "#46039f"
            ],
            [
             0.2222222222222222,
             "#7201a8"
            ],
            [
             0.3333333333333333,
             "#9c179e"
            ],
            [
             0.4444444444444444,
             "#bd3786"
            ],
            [
             0.5555555555555556,
             "#d8576b"
            ],
            [
             0.6666666666666666,
             "#ed7953"
            ],
            [
             0.7777777777777778,
             "#fb9f3a"
            ],
            [
             0.8888888888888888,
             "#fdca26"
            ],
            [
             1,
             "#f0f921"
            ]
           ]
          },
          "colorway": [
           "#636efa",
           "#EF553B",
           "#00cc96",
           "#ab63fa",
           "#FFA15A",
           "#19d3f3",
           "#FF6692",
           "#B6E880",
           "#FF97FF",
           "#FECB52"
          ],
          "font": {
           "color": "#2a3f5f"
          },
          "geo": {
           "bgcolor": "white",
           "lakecolor": "white",
           "landcolor": "#E5ECF6",
           "showlakes": true,
           "showland": true,
           "subunitcolor": "white"
          },
          "hoverlabel": {
           "align": "left"
          },
          "hovermode": "closest",
          "mapbox": {
           "style": "light"
          },
          "paper_bgcolor": "white",
          "plot_bgcolor": "#E5ECF6",
          "polar": {
           "angularaxis": {
            "gridcolor": "white",
            "linecolor": "white",
            "ticks": ""
           },
           "bgcolor": "#E5ECF6",
           "radialaxis": {
            "gridcolor": "white",
            "linecolor": "white",
            "ticks": ""
           }
          },
          "scene": {
           "xaxis": {
            "backgroundcolor": "#E5ECF6",
            "gridcolor": "white",
            "gridwidth": 2,
            "linecolor": "white",
            "showbackground": true,
            "ticks": "",
            "zerolinecolor": "white"
           },
           "yaxis": {
            "backgroundcolor": "#E5ECF6",
            "gridcolor": "white",
            "gridwidth": 2,
            "linecolor": "white",
            "showbackground": true,
            "ticks": "",
            "zerolinecolor": "white"
           },
           "zaxis": {
            "backgroundcolor": "#E5ECF6",
            "gridcolor": "white",
            "gridwidth": 2,
            "linecolor": "white",
            "showbackground": true,
            "ticks": "",
            "zerolinecolor": "white"
           }
          },
          "shapedefaults": {
           "line": {
            "color": "#2a3f5f"
           }
          },
          "ternary": {
           "aaxis": {
            "gridcolor": "white",
            "linecolor": "white",
            "ticks": ""
           },
           "baxis": {
            "gridcolor": "white",
            "linecolor": "white",
            "ticks": ""
           },
           "bgcolor": "#E5ECF6",
           "caxis": {
            "gridcolor": "white",
            "linecolor": "white",
            "ticks": ""
           }
          },
          "title": {
           "x": 0.05
          },
          "xaxis": {
           "automargin": true,
           "gridcolor": "white",
           "linecolor": "white",
           "ticks": "",
           "title": {
            "standoff": 15
           },
           "zerolinecolor": "white",
           "zerolinewidth": 2
          },
          "yaxis": {
           "automargin": true,
           "gridcolor": "white",
           "linecolor": "white",
           "ticks": "",
           "title": {
            "standoff": 15
           },
           "zerolinecolor": "white",
           "zerolinewidth": 2
          }
         }
        },
        "xaxis": {
         "anchor": "y",
         "domain": [
          0,
          1
         ],
         "title": {
          "text": "Date"
         }
        },
        "yaxis": {
         "anchor": "x",
         "domain": [
          0,
          1
         ],
         "title": {
          "text": "Number of tweets"
         }
        }
       }
      },
      "text/html": [
       "<div>\n",
       "        \n",
       "        \n",
       "            <div id=\"83e48933-67d7-44bd-93b2-5179e424f2a6\" class=\"plotly-graph-div\" style=\"height:525px; width:100%;\"></div>\n",
       "            <script type=\"text/javascript\">\n",
       "                require([\"plotly\"], function(Plotly) {\n",
       "                    window.PLOTLYENV=window.PLOTLYENV || {};\n",
       "                    \n",
       "                if (document.getElementById(\"83e48933-67d7-44bd-93b2-5179e424f2a6\")) {\n",
       "                    Plotly.newPlot(\n",
       "                        '83e48933-67d7-44bd-93b2-5179e424f2a6',\n",
       "                        [{\"alignmentgroup\": \"True\", \"hoverlabel\": {\"namelength\": 0}, \"hovertemplate\": \"Date=%{x}<br>Number of tweets=%{y}\", \"legendgroup\": \"\", \"marker\": {\"color\": \"#636efa\"}, \"name\": \"\", \"offsetgroup\": \"\", \"orientation\": \"v\", \"showlegend\": false, \"textposition\": \"auto\", \"type\": \"bar\", \"x\": [\"2019-12-05\", \"2019-12-06\", \"2019-12-07\", \"2019-12-08\", \"2019-12-09\", \"2019-12-10\", \"2019-12-11\", \"2019-12-12\", \"2019-12-13\", \"2019-12-14\", \"2019-12-15\", \"2019-12-16\", \"2019-12-17\", \"2019-12-18\", \"2019-12-19\", \"2019-12-20\", \"2019-12-21\", \"2019-12-22\", \"2019-12-23\", \"2019-12-24\", \"2019-12-25\", \"2019-12-26\", \"2019-12-27\", \"2019-12-28\", \"2019-12-29\", \"2019-12-30\", \"2019-12-31\", \"2020-01-01\", \"2020-01-02\", \"2020-01-03\", \"2020-01-04\", \"2020-01-05\", \"2020-01-06\", \"2020-01-07\", \"2020-01-08\", \"2020-01-09\", \"2020-01-10\", \"2020-01-11\", \"2020-01-12\", \"2020-01-13\", \"2020-01-14\", \"2020-01-15\", \"2020-01-16\", \"2020-01-17\", \"2020-01-18\", \"2020-01-19\", \"2020-01-20\", \"2020-01-22\", \"2020-01-23\", \"2020-01-24\", \"2020-01-25\", \"2020-01-26\", \"2020-01-27\", \"2020-01-28\", \"2020-01-29\", \"2020-01-31\", \"2020-02-01\", \"2020-02-02\", \"2020-02-03\", \"2020-02-04\", \"2020-02-05\", \"2020-02-06\", \"2020-02-07\", \"2020-02-08\", \"2020-02-09\", \"2020-02-10\", \"2020-02-11\", \"2020-02-12\", \"2020-02-13\", \"2020-02-14\", \"2020-02-15\", \"2020-02-16\", \"2020-02-19\", \"2020-02-21\", \"2020-02-22\", \"2020-02-23\", \"2020-02-24\", \"2020-02-25\", \"2020-02-28\", \"2020-02-29\", \"2020-03-01\", \"2020-03-02\", \"2020-03-03\", \"2020-03-04\", \"2020-03-07\"], \"xaxis\": \"x\", \"y\": [96, 60, 40, 28, 10, 7, 107, 39, 8, 6, 9, 2, 6, 4, 19, 7, 6, 4, 5, 10, 4, 1, 1, 2, 3, 6, 3, 4, 6, 5, 3, 4, 6, 2, 9, 7, 3, 3, 5, 6, 2, 3, 4, 5, 1, 4, 5, 9, 3, 2, 4, 6, 3, 3, 6, 2, 2, 4, 7, 5, 2, 5, 8, 1, 17, 2, 2, 2, 2, 3, 10, 13, 2, 2, 1, 1, 1, 2, 4, 3, 4, 4, 6, 1, 1], \"yaxis\": \"y\"}],\n",
       "                        {\"barmode\": \"relative\", \"legend\": {\"tracegroupgap\": 0}, \"margin\": {\"t\": 60}, \"template\": {\"data\": {\"bar\": [{\"error_x\": {\"color\": \"#2a3f5f\"}, \"error_y\": {\"color\": \"#2a3f5f\"}, \"marker\": {\"line\": {\"color\": \"#E5ECF6\", \"width\": 0.5}}, \"type\": \"bar\"}], \"barpolar\": [{\"marker\": {\"line\": {\"color\": \"#E5ECF6\", \"width\": 0.5}}, \"type\": \"barpolar\"}], \"carpet\": [{\"aaxis\": {\"endlinecolor\": \"#2a3f5f\", \"gridcolor\": \"white\", \"linecolor\": \"white\", \"minorgridcolor\": \"white\", \"startlinecolor\": \"#2a3f5f\"}, \"baxis\": {\"endlinecolor\": \"#2a3f5f\", \"gridcolor\": \"white\", \"linecolor\": \"white\", \"minorgridcolor\": \"white\", \"startlinecolor\": \"#2a3f5f\"}, \"type\": \"carpet\"}], \"choropleth\": [{\"colorbar\": {\"outlinewidth\": 0, \"ticks\": \"\"}, \"type\": \"choropleth\"}], \"contour\": [{\"colorbar\": {\"outlinewidth\": 0, \"ticks\": \"\"}, \"colorscale\": [[0.0, \"#0d0887\"], [0.1111111111111111, \"#46039f\"], [0.2222222222222222, \"#7201a8\"], [0.3333333333333333, \"#9c179e\"], [0.4444444444444444, \"#bd3786\"], [0.5555555555555556, \"#d8576b\"], [0.6666666666666666, \"#ed7953\"], [0.7777777777777778, \"#fb9f3a\"], [0.8888888888888888, \"#fdca26\"], [1.0, \"#f0f921\"]], \"type\": \"contour\"}], \"contourcarpet\": [{\"colorbar\": {\"outlinewidth\": 0, \"ticks\": \"\"}, \"type\": \"contourcarpet\"}], \"heatmap\": [{\"colorbar\": {\"outlinewidth\": 0, \"ticks\": \"\"}, \"colorscale\": [[0.0, \"#0d0887\"], [0.1111111111111111, \"#46039f\"], [0.2222222222222222, \"#7201a8\"], [0.3333333333333333, \"#9c179e\"], [0.4444444444444444, \"#bd3786\"], [0.5555555555555556, \"#d8576b\"], [0.6666666666666666, \"#ed7953\"], [0.7777777777777778, \"#fb9f3a\"], [0.8888888888888888, \"#fdca26\"], [1.0, \"#f0f921\"]], \"type\": \"heatmap\"}], \"heatmapgl\": [{\"colorbar\": {\"outlinewidth\": 0, \"ticks\": \"\"}, \"colorscale\": [[0.0, \"#0d0887\"], [0.1111111111111111, \"#46039f\"], [0.2222222222222222, \"#7201a8\"], [0.3333333333333333, \"#9c179e\"], [0.4444444444444444, \"#bd3786\"], [0.5555555555555556, \"#d8576b\"], [0.6666666666666666, \"#ed7953\"], [0.7777777777777778, \"#fb9f3a\"], [0.8888888888888888, \"#fdca26\"], [1.0, \"#f0f921\"]], \"type\": \"heatmapgl\"}], \"histogram\": [{\"marker\": {\"colorbar\": {\"outlinewidth\": 0, \"ticks\": \"\"}}, \"type\": \"histogram\"}], \"histogram2d\": [{\"colorbar\": {\"outlinewidth\": 0, \"ticks\": \"\"}, \"colorscale\": [[0.0, \"#0d0887\"], [0.1111111111111111, \"#46039f\"], [0.2222222222222222, \"#7201a8\"], [0.3333333333333333, \"#9c179e\"], [0.4444444444444444, \"#bd3786\"], [0.5555555555555556, \"#d8576b\"], [0.6666666666666666, \"#ed7953\"], [0.7777777777777778, \"#fb9f3a\"], [0.8888888888888888, \"#fdca26\"], [1.0, \"#f0f921\"]], \"type\": \"histogram2d\"}], \"histogram2dcontour\": [{\"colorbar\": {\"outlinewidth\": 0, \"ticks\": \"\"}, \"colorscale\": [[0.0, \"#0d0887\"], [0.1111111111111111, \"#46039f\"], [0.2222222222222222, \"#7201a8\"], [0.3333333333333333, \"#9c179e\"], [0.4444444444444444, \"#bd3786\"], [0.5555555555555556, \"#d8576b\"], [0.6666666666666666, \"#ed7953\"], [0.7777777777777778, \"#fb9f3a\"], [0.8888888888888888, \"#fdca26\"], [1.0, \"#f0f921\"]], \"type\": \"histogram2dcontour\"}], \"mesh3d\": [{\"colorbar\": {\"outlinewidth\": 0, \"ticks\": \"\"}, \"type\": \"mesh3d\"}], \"parcoords\": [{\"line\": {\"colorbar\": {\"outlinewidth\": 0, \"ticks\": \"\"}}, \"type\": \"parcoords\"}], \"pie\": [{\"automargin\": true, \"type\": \"pie\"}], \"scatter\": [{\"marker\": {\"colorbar\": {\"outlinewidth\": 0, \"ticks\": \"\"}}, \"type\": \"scatter\"}], \"scatter3d\": [{\"line\": {\"colorbar\": {\"outlinewidth\": 0, \"ticks\": \"\"}}, \"marker\": {\"colorbar\": {\"outlinewidth\": 0, \"ticks\": \"\"}}, \"type\": \"scatter3d\"}], \"scattercarpet\": [{\"marker\": {\"colorbar\": {\"outlinewidth\": 0, \"ticks\": \"\"}}, \"type\": \"scattercarpet\"}], \"scattergeo\": [{\"marker\": {\"colorbar\": {\"outlinewidth\": 0, \"ticks\": \"\"}}, \"type\": \"scattergeo\"}], \"scattergl\": [{\"marker\": {\"colorbar\": {\"outlinewidth\": 0, \"ticks\": \"\"}}, \"type\": \"scattergl\"}], \"scattermapbox\": [{\"marker\": {\"colorbar\": {\"outlinewidth\": 0, \"ticks\": \"\"}}, \"type\": \"scattermapbox\"}], \"scatterpolar\": [{\"marker\": {\"colorbar\": {\"outlinewidth\": 0, \"ticks\": \"\"}}, \"type\": \"scatterpolar\"}], \"scatterpolargl\": [{\"marker\": {\"colorbar\": {\"outlinewidth\": 0, \"ticks\": \"\"}}, \"type\": \"scatterpolargl\"}], \"scatterternary\": [{\"marker\": {\"colorbar\": {\"outlinewidth\": 0, \"ticks\": \"\"}}, \"type\": \"scatterternary\"}], \"surface\": [{\"colorbar\": {\"outlinewidth\": 0, \"ticks\": \"\"}, \"colorscale\": [[0.0, \"#0d0887\"], [0.1111111111111111, \"#46039f\"], [0.2222222222222222, \"#7201a8\"], [0.3333333333333333, \"#9c179e\"], [0.4444444444444444, \"#bd3786\"], [0.5555555555555556, \"#d8576b\"], [0.6666666666666666, \"#ed7953\"], [0.7777777777777778, \"#fb9f3a\"], [0.8888888888888888, \"#fdca26\"], [1.0, \"#f0f921\"]], \"type\": \"surface\"}], \"table\": [{\"cells\": {\"fill\": {\"color\": \"#EBF0F8\"}, \"line\": {\"color\": \"white\"}}, \"header\": {\"fill\": {\"color\": \"#C8D4E3\"}, \"line\": {\"color\": \"white\"}}, \"type\": \"table\"}]}, \"layout\": {\"annotationdefaults\": {\"arrowcolor\": \"#2a3f5f\", \"arrowhead\": 0, \"arrowwidth\": 1}, \"coloraxis\": {\"colorbar\": {\"outlinewidth\": 0, \"ticks\": \"\"}}, \"colorscale\": {\"diverging\": [[0, \"#8e0152\"], [0.1, \"#c51b7d\"], [0.2, \"#de77ae\"], [0.3, \"#f1b6da\"], [0.4, \"#fde0ef\"], [0.5, \"#f7f7f7\"], [0.6, \"#e6f5d0\"], [0.7, \"#b8e186\"], [0.8, \"#7fbc41\"], [0.9, \"#4d9221\"], [1, \"#276419\"]], \"sequential\": [[0.0, \"#0d0887\"], [0.1111111111111111, \"#46039f\"], [0.2222222222222222, \"#7201a8\"], [0.3333333333333333, \"#9c179e\"], [0.4444444444444444, \"#bd3786\"], [0.5555555555555556, \"#d8576b\"], [0.6666666666666666, \"#ed7953\"], [0.7777777777777778, \"#fb9f3a\"], [0.8888888888888888, \"#fdca26\"], [1.0, \"#f0f921\"]], \"sequentialminus\": [[0.0, \"#0d0887\"], [0.1111111111111111, \"#46039f\"], [0.2222222222222222, \"#7201a8\"], [0.3333333333333333, \"#9c179e\"], [0.4444444444444444, \"#bd3786\"], [0.5555555555555556, \"#d8576b\"], [0.6666666666666666, \"#ed7953\"], [0.7777777777777778, \"#fb9f3a\"], [0.8888888888888888, \"#fdca26\"], [1.0, \"#f0f921\"]]}, \"colorway\": [\"#636efa\", \"#EF553B\", \"#00cc96\", \"#ab63fa\", \"#FFA15A\", \"#19d3f3\", \"#FF6692\", \"#B6E880\", \"#FF97FF\", \"#FECB52\"], \"font\": {\"color\": \"#2a3f5f\"}, \"geo\": {\"bgcolor\": \"white\", \"lakecolor\": \"white\", \"landcolor\": \"#E5ECF6\", \"showlakes\": true, \"showland\": true, \"subunitcolor\": \"white\"}, \"hoverlabel\": {\"align\": \"left\"}, \"hovermode\": \"closest\", \"mapbox\": {\"style\": \"light\"}, \"paper_bgcolor\": \"white\", \"plot_bgcolor\": \"#E5ECF6\", \"polar\": {\"angularaxis\": {\"gridcolor\": \"white\", \"linecolor\": \"white\", \"ticks\": \"\"}, \"bgcolor\": \"#E5ECF6\", \"radialaxis\": {\"gridcolor\": \"white\", \"linecolor\": \"white\", \"ticks\": \"\"}}, \"scene\": {\"xaxis\": {\"backgroundcolor\": \"#E5ECF6\", \"gridcolor\": \"white\", \"gridwidth\": 2, \"linecolor\": \"white\", \"showbackground\": true, \"ticks\": \"\", \"zerolinecolor\": \"white\"}, \"yaxis\": {\"backgroundcolor\": \"#E5ECF6\", \"gridcolor\": \"white\", \"gridwidth\": 2, \"linecolor\": \"white\", \"showbackground\": true, \"ticks\": \"\", \"zerolinecolor\": \"white\"}, \"zaxis\": {\"backgroundcolor\": \"#E5ECF6\", \"gridcolor\": \"white\", \"gridwidth\": 2, \"linecolor\": \"white\", \"showbackground\": true, \"ticks\": \"\", \"zerolinecolor\": \"white\"}}, \"shapedefaults\": {\"line\": {\"color\": \"#2a3f5f\"}}, \"ternary\": {\"aaxis\": {\"gridcolor\": \"white\", \"linecolor\": \"white\", \"ticks\": \"\"}, \"baxis\": {\"gridcolor\": \"white\", \"linecolor\": \"white\", \"ticks\": \"\"}, \"bgcolor\": \"#E5ECF6\", \"caxis\": {\"gridcolor\": \"white\", \"linecolor\": \"white\", \"ticks\": \"\"}}, \"title\": {\"x\": 0.05}, \"xaxis\": {\"automargin\": true, \"gridcolor\": \"white\", \"linecolor\": \"white\", \"ticks\": \"\", \"title\": {\"standoff\": 15}, \"zerolinecolor\": \"white\", \"zerolinewidth\": 2}, \"yaxis\": {\"automargin\": true, \"gridcolor\": \"white\", \"linecolor\": \"white\", \"ticks\": \"\", \"title\": {\"standoff\": 15}, \"zerolinecolor\": \"white\", \"zerolinewidth\": 2}}}, \"xaxis\": {\"anchor\": \"y\", \"domain\": [0.0, 1.0], \"title\": {\"text\": \"Date\"}}, \"yaxis\": {\"anchor\": \"x\", \"domain\": [0.0, 1.0], \"title\": {\"text\": \"Number of tweets\"}}},\n",
       "                        {\"responsive\": true}\n",
       "                    ).then(function(){\n",
       "                            \n",
       "var gd = document.getElementById('83e48933-67d7-44bd-93b2-5179e424f2a6');\n",
       "var x = new MutationObserver(function (mutations, observer) {{\n",
       "        var display = window.getComputedStyle(gd).display;\n",
       "        if (!display || display === 'none') {{\n",
       "            console.log([gd, 'removed!']);\n",
       "            Plotly.purge(gd);\n",
       "            observer.disconnect();\n",
       "        }}\n",
       "}});\n",
       "\n",
       "// Listen for the removal of the full notebook cells\n",
       "var notebookContainer = gd.closest('#notebook-container');\n",
       "if (notebookContainer) {{\n",
       "    x.observe(notebookContainer, {childList: true});\n",
       "}}\n",
       "\n",
       "// Listen for the clearing of the current output cell\n",
       "var outputEl = gd.closest('.output');\n",
       "if (outputEl) {{\n",
       "    x.observe(outputEl, {childList: true});\n",
       "}}\n",
       "\n",
       "                        })\n",
       "                };\n",
       "                });\n",
       "            </script>\n",
       "        </div>"
      ]
     },
     "metadata": {},
     "output_type": "display_data"
    }
   ],
   "source": [
    "#fig = px.histogram(Positive_df_by_date, x=\"Date\", y=\"Date_Time\")\n",
    "fig = px.bar(x=Negative_df_by_date['Date'], y=Negative_df_by_date['Date_Time'], labels={'x':'Date', 'y':'Number of tweets'})\n",
    "fig.show()"
   ]
  },
  {
   "cell_type": "code",
   "execution_count": 27,
   "metadata": {},
   "outputs": [
    {
     "name": "stdout",
     "output_type": "stream",
     "text": [
      "number of duplicate rows:  0\n"
     ]
    }
   ],
   "source": [
    "# this code is for finding duplicates - Abeer\n",
    "df.duplicated()\n",
    "duplicate_rows_df = df.duplicated().sum()\n",
    "print (\"number of duplicate rows: \", duplicate_rows_df)"
   ]
  },
  {
   "cell_type": "code",
   "execution_count": 28,
   "metadata": {},
   "outputs": [
    {
     "data": {
      "text/plain": [
       "Index(['date', 'text', 'id', 'stance ', 'location', 'clean text', 'tokens',\n",
       "       'City', 'Date_Time'],\n",
       "      dtype='object')"
      ]
     },
     "execution_count": 28,
     "metadata": {},
     "output_type": "execute_result"
    }
   ],
   "source": [
    "# Retrieve list of columns\n",
    "df.columns"
   ]
  },
  {
   "cell_type": "markdown",
   "metadata": {},
   "source": [
    "# Data Cleaning"
   ]
  },
  {
   "cell_type": "code",
   "execution_count": 29,
   "metadata": {},
   "outputs": [],
   "source": [
    "arabic_punctuations = '''`÷×؛<>_()*&^%][ـ،/:\"؟.,'{}~¦+|!”…“–ـ'''\n",
    "english_punctuations = string.punctuation\n",
    "punctuations_list = arabic_punctuations + english_punctuations\n",
    "\n",
    "def remove_punctuations(text):\n",
    "    translator = str.maketrans('', '', punctuations_list)\n",
    "    return text.translate(translator)"
   ]
  },
  {
   "cell_type": "code",
   "execution_count": 30,
   "metadata": {},
   "outputs": [],
   "source": [
    "def normalize_arabic(text):\n",
    "    text = re.sub(\"[إأآا]\", \"ا\", text)\n",
    "    text = re.sub(\"ى\", \"ي\", text)\n",
    "    text = re.sub(\"ة\", \"ه\", text)\n",
    "    text = re.sub(\"گ\", \"ك\", text)\n",
    "    return text"
   ]
  },
  {
   "cell_type": "code",
   "execution_count": 31,
   "metadata": {},
   "outputs": [],
   "source": [
    "def remove_repeating_char(text):\n",
    "    return re.sub(r'(.)\\1+', r'\\1', text)"
   ]
  },
  {
   "cell_type": "code",
   "execution_count": 32,
   "metadata": {},
   "outputs": [],
   "source": [
    "def remove_emoji(text):\n",
    "    emoji_pattern = re.compile(\"[\"\n",
    "                           u\"\\U0001F600-\\U0001F64F\"  # emoticons\n",
    "                           u\"\\U0001F300-\\U0001F5FF\"  # symbols & pictographs\n",
    "                           u\"\\U0001F680-\\U0001F6FF\"  # transport & map symbols\n",
    "                           u\"\\U0001F1E0-\\U0001F1FF\"  # flags (iOS)\n",
    "                           u\"\\U00002702-\\U000027B0\"\n",
    "                           u\"\\U000024C2-\\U0001F251\"\n",
    "                           \"]+\", flags=re.UNICODE)\n",
    "    return emoji_pattern.sub(r'', text)"
   ]
  },
  {
   "cell_type": "code",
   "execution_count": 33,
   "metadata": {},
   "outputs": [],
   "source": [
    "#start processing the tweet\n",
    "def processPost(tweet):\n",
    "\n",
    "    #Replace @username with empty string\n",
    "    tweet = re.sub('@[^\\s]+', ' ', str(tweet))\n",
    "    \n",
    "    #Convert www.* or https?://* to \" \"\n",
    "    tweet = re.sub('((www\\.[^\\s]+)|(https?://[^\\s]+))',' ',str(tweet))\n",
    "    \n",
    "    #Replace #word with word\n",
    "    tweet = re.sub(r'#([^\\s]+)', r'\\1', tweet)\n",
    "\n",
    "    # remove punctuations\n",
    "    tweet= remove_punctuations(str(tweet))\n",
    "    \n",
    "    # normalize the tweet\n",
    "    tweet= normalize_arabic(str(tweet))\n",
    "    \n",
    "    # remove repeated letters\n",
    "    tweet=remove_repeating_char(tweet)\n",
    "\n",
    "    #Remove new lines with white space\n",
    "    tweet = str(tweet).replace('\\n',' ')\n",
    "    tweet = str(tweet).replace('\\t',' ')\n",
    "    \n",
    "    #remove emoji\n",
    "    tweet = remove_emoji(tweet)\n",
    "        \n",
    "    return tweet"
   ]
  },
  {
   "cell_type": "code",
   "execution_count": 34,
   "metadata": {},
   "outputs": [
    {
     "name": "stderr",
     "output_type": "stream",
     "text": [
      "[nltk_data] Downloading package stopwords to\n",
      "[nltk_data]     C:\\Users\\Dell\\AppData\\Roaming\\nltk_data...\n",
      "[nltk_data]   Package stopwords is already up-to-date!\n"
     ]
    }
   ],
   "source": [
    "# remove Arabic stop words from the tweets\n",
    "import nltk\n",
    "nltk.download('stopwords')\n",
    "from nltk.corpus import stopwords\n",
    "ar_stops = set(stopwords.words('arabic'))"
   ]
  },
  {
   "cell_type": "code",
   "execution_count": 35,
   "metadata": {},
   "outputs": [],
   "source": [
    "# remove Arabic stop words from the tweets\n",
    "for word in df['text']:\n",
    "    if word in ar_stops:        \n",
    "        words_filtered.remove(word)"
   ]
  },
  {
   "cell_type": "code",
   "execution_count": 36,
   "metadata": {},
   "outputs": [],
   "source": [
    "df[\"clean text\"] = df['text'].apply(lambda x: processPost(x))"
   ]
  },
  {
   "cell_type": "code",
   "execution_count": 37,
   "metadata": {},
   "outputs": [],
   "source": [
    "dff =pd.read_csv(\"final_cleaned.csv\")   "
   ]
  },
  {
   "cell_type": "code",
   "execution_count": 38,
   "metadata": {},
   "outputs": [],
   "source": [
    "dff[\"clean text\"] = df['text'].apply(lambda x: processPost(x))"
   ]
  },
  {
   "cell_type": "code",
   "execution_count": 39,
   "metadata": {},
   "outputs": [
    {
     "name": "stdout",
     "output_type": "stream",
     "text": [
      "date          1/6/2020 5:23                                                                                              \n",
      "text          عساك تفوزين بس انتي عاد احسك ماتلعبين الا برهان اكتتاب ارامكو شكله جاء منها☻                               \n",
      "id            1.21e+18                                                                                                   \n",
      "stance        Natural                                                                                                    \n",
      "location      Not Given                                                                                                  \n",
      "clean text    عساك تفوزين بس انتي عاد احسك ماتلعبين الا برهان اكتاب ارامكو شكله جاء منها                                 \n",
      "tokens        ['اتوقع', 'انا', 'في', 'مرحله', 'الاندفاع', 'خاصه', 'بعد', 'اكتاب', 'ارامكو', 'ناس', 'دخلت', 'لاول', 'مره']\n",
      "City          Not Given                                                                                                  \n",
      "Date_Time     2020-01-06 05:23:00                                                                                        \n",
      "Name: 528, dtype: object\n"
     ]
    },
    {
     "name": "stderr",
     "output_type": "stream",
     "text": [
      "C:\\Users\\Dell\\Anaconda3\\lib\\site-packages\\ipykernel_launcher.py:1: FutureWarning:\n",
      "\n",
      "Passing a negative integer is deprecated in version 1.0 and will not be supported in future version. Instead, use None to not limit the column width.\n",
      "\n"
     ]
    }
   ],
   "source": [
    "pd.set_option('display.max_colwidth', -1)  \n",
    "print(df.iloc[528])"
   ]
  },
  {
   "cell_type": "markdown",
   "metadata": {},
   "source": [
    "# Drop Unwanted Colomns"
   ]
  },
  {
   "cell_type": "code",
   "execution_count": 26,
   "metadata": {},
   "outputs": [
    {
     "ename": "KeyError",
     "evalue": "\"['Unnamed: 0' 'username' 'to' 'replies' 'retweets' 'favorites' 'geo'\\n 'mentions' 'hashtags' 'permalink'] not found in axis\"",
     "output_type": "error",
     "traceback": [
      "\u001b[1;31m---------------------------------------------------------------------------\u001b[0m",
      "\u001b[1;31mKeyError\u001b[0m                                  Traceback (most recent call last)",
      "\u001b[1;32m<ipython-input-26-bb7db3c52259>\u001b[0m in \u001b[0;36m<module>\u001b[1;34m\u001b[0m\n\u001b[0;32m      1\u001b[0m \u001b[1;31m# Drop The unwanted Colomns ()\u001b[0m\u001b[1;33m\u001b[0m\u001b[1;33m\u001b[0m\u001b[1;33m\u001b[0m\u001b[0m\n\u001b[1;32m----> 2\u001b[1;33m \u001b[0mtemp\u001b[0m \u001b[1;33m=\u001b[0m \u001b[0mdf\u001b[0m\u001b[1;33m.\u001b[0m\u001b[0mdrop\u001b[0m\u001b[1;33m(\u001b[0m\u001b[1;33m[\u001b[0m\u001b[1;34m'Unnamed: 0'\u001b[0m\u001b[1;33m,\u001b[0m\u001b[1;34m'username'\u001b[0m\u001b[1;33m,\u001b[0m\u001b[1;34m'to'\u001b[0m\u001b[1;33m,\u001b[0m\u001b[1;34m'replies'\u001b[0m\u001b[1;33m,\u001b[0m\u001b[1;34m'retweets'\u001b[0m\u001b[1;33m,\u001b[0m\u001b[1;34m'favorites'\u001b[0m\u001b[1;33m,\u001b[0m\u001b[1;34m'geo'\u001b[0m\u001b[1;33m,\u001b[0m\u001b[1;34m'mentions'\u001b[0m\u001b[1;33m,\u001b[0m\u001b[1;34m'hashtags'\u001b[0m\u001b[1;33m,\u001b[0m\u001b[1;34m'permalink'\u001b[0m\u001b[1;33m]\u001b[0m\u001b[1;33m,\u001b[0m\u001b[0maxis\u001b[0m\u001b[1;33m=\u001b[0m\u001b[1;36m1\u001b[0m\u001b[1;33m)\u001b[0m\u001b[1;33m\u001b[0m\u001b[1;33m\u001b[0m\u001b[0m\n\u001b[0m",
      "\u001b[1;32m~\\Anaconda3\\lib\\site-packages\\pandas\\core\\frame.py\u001b[0m in \u001b[0;36mdrop\u001b[1;34m(self, labels, axis, index, columns, level, inplace, errors)\u001b[0m\n\u001b[0;32m   3995\u001b[0m             \u001b[0mlevel\u001b[0m\u001b[1;33m=\u001b[0m\u001b[0mlevel\u001b[0m\u001b[1;33m,\u001b[0m\u001b[1;33m\u001b[0m\u001b[1;33m\u001b[0m\u001b[0m\n\u001b[0;32m   3996\u001b[0m             \u001b[0minplace\u001b[0m\u001b[1;33m=\u001b[0m\u001b[0minplace\u001b[0m\u001b[1;33m,\u001b[0m\u001b[1;33m\u001b[0m\u001b[1;33m\u001b[0m\u001b[0m\n\u001b[1;32m-> 3997\u001b[1;33m             \u001b[0merrors\u001b[0m\u001b[1;33m=\u001b[0m\u001b[0merrors\u001b[0m\u001b[1;33m,\u001b[0m\u001b[1;33m\u001b[0m\u001b[1;33m\u001b[0m\u001b[0m\n\u001b[0m\u001b[0;32m   3998\u001b[0m         )\n\u001b[0;32m   3999\u001b[0m \u001b[1;33m\u001b[0m\u001b[0m\n",
      "\u001b[1;32m~\\Anaconda3\\lib\\site-packages\\pandas\\core\\generic.py\u001b[0m in \u001b[0;36mdrop\u001b[1;34m(self, labels, axis, index, columns, level, inplace, errors)\u001b[0m\n\u001b[0;32m   3934\u001b[0m         \u001b[1;32mfor\u001b[0m \u001b[0maxis\u001b[0m\u001b[1;33m,\u001b[0m \u001b[0mlabels\u001b[0m \u001b[1;32min\u001b[0m \u001b[0maxes\u001b[0m\u001b[1;33m.\u001b[0m\u001b[0mitems\u001b[0m\u001b[1;33m(\u001b[0m\u001b[1;33m)\u001b[0m\u001b[1;33m:\u001b[0m\u001b[1;33m\u001b[0m\u001b[1;33m\u001b[0m\u001b[0m\n\u001b[0;32m   3935\u001b[0m             \u001b[1;32mif\u001b[0m \u001b[0mlabels\u001b[0m \u001b[1;32mis\u001b[0m \u001b[1;32mnot\u001b[0m \u001b[1;32mNone\u001b[0m\u001b[1;33m:\u001b[0m\u001b[1;33m\u001b[0m\u001b[1;33m\u001b[0m\u001b[0m\n\u001b[1;32m-> 3936\u001b[1;33m                 \u001b[0mobj\u001b[0m \u001b[1;33m=\u001b[0m \u001b[0mobj\u001b[0m\u001b[1;33m.\u001b[0m\u001b[0m_drop_axis\u001b[0m\u001b[1;33m(\u001b[0m\u001b[0mlabels\u001b[0m\u001b[1;33m,\u001b[0m \u001b[0maxis\u001b[0m\u001b[1;33m,\u001b[0m \u001b[0mlevel\u001b[0m\u001b[1;33m=\u001b[0m\u001b[0mlevel\u001b[0m\u001b[1;33m,\u001b[0m \u001b[0merrors\u001b[0m\u001b[1;33m=\u001b[0m\u001b[0merrors\u001b[0m\u001b[1;33m)\u001b[0m\u001b[1;33m\u001b[0m\u001b[1;33m\u001b[0m\u001b[0m\n\u001b[0m\u001b[0;32m   3937\u001b[0m \u001b[1;33m\u001b[0m\u001b[0m\n\u001b[0;32m   3938\u001b[0m         \u001b[1;32mif\u001b[0m \u001b[0minplace\u001b[0m\u001b[1;33m:\u001b[0m\u001b[1;33m\u001b[0m\u001b[1;33m\u001b[0m\u001b[0m\n",
      "\u001b[1;32m~\\Anaconda3\\lib\\site-packages\\pandas\\core\\generic.py\u001b[0m in \u001b[0;36m_drop_axis\u001b[1;34m(self, labels, axis, level, errors)\u001b[0m\n\u001b[0;32m   3968\u001b[0m                 \u001b[0mnew_axis\u001b[0m \u001b[1;33m=\u001b[0m \u001b[0maxis\u001b[0m\u001b[1;33m.\u001b[0m\u001b[0mdrop\u001b[0m\u001b[1;33m(\u001b[0m\u001b[0mlabels\u001b[0m\u001b[1;33m,\u001b[0m \u001b[0mlevel\u001b[0m\u001b[1;33m=\u001b[0m\u001b[0mlevel\u001b[0m\u001b[1;33m,\u001b[0m \u001b[0merrors\u001b[0m\u001b[1;33m=\u001b[0m\u001b[0merrors\u001b[0m\u001b[1;33m)\u001b[0m\u001b[1;33m\u001b[0m\u001b[1;33m\u001b[0m\u001b[0m\n\u001b[0;32m   3969\u001b[0m             \u001b[1;32melse\u001b[0m\u001b[1;33m:\u001b[0m\u001b[1;33m\u001b[0m\u001b[1;33m\u001b[0m\u001b[0m\n\u001b[1;32m-> 3970\u001b[1;33m                 \u001b[0mnew_axis\u001b[0m \u001b[1;33m=\u001b[0m \u001b[0maxis\u001b[0m\u001b[1;33m.\u001b[0m\u001b[0mdrop\u001b[0m\u001b[1;33m(\u001b[0m\u001b[0mlabels\u001b[0m\u001b[1;33m,\u001b[0m \u001b[0merrors\u001b[0m\u001b[1;33m=\u001b[0m\u001b[0merrors\u001b[0m\u001b[1;33m)\u001b[0m\u001b[1;33m\u001b[0m\u001b[1;33m\u001b[0m\u001b[0m\n\u001b[0m\u001b[0;32m   3971\u001b[0m             \u001b[0mresult\u001b[0m \u001b[1;33m=\u001b[0m \u001b[0mself\u001b[0m\u001b[1;33m.\u001b[0m\u001b[0mreindex\u001b[0m\u001b[1;33m(\u001b[0m\u001b[1;33m**\u001b[0m\u001b[1;33m{\u001b[0m\u001b[0maxis_name\u001b[0m\u001b[1;33m:\u001b[0m \u001b[0mnew_axis\u001b[0m\u001b[1;33m}\u001b[0m\u001b[1;33m)\u001b[0m\u001b[1;33m\u001b[0m\u001b[1;33m\u001b[0m\u001b[0m\n\u001b[0;32m   3972\u001b[0m \u001b[1;33m\u001b[0m\u001b[0m\n",
      "\u001b[1;32m~\\Anaconda3\\lib\\site-packages\\pandas\\core\\indexes\\base.py\u001b[0m in \u001b[0;36mdrop\u001b[1;34m(self, labels, errors)\u001b[0m\n\u001b[0;32m   5015\u001b[0m         \u001b[1;32mif\u001b[0m \u001b[0mmask\u001b[0m\u001b[1;33m.\u001b[0m\u001b[0many\u001b[0m\u001b[1;33m(\u001b[0m\u001b[1;33m)\u001b[0m\u001b[1;33m:\u001b[0m\u001b[1;33m\u001b[0m\u001b[1;33m\u001b[0m\u001b[0m\n\u001b[0;32m   5016\u001b[0m             \u001b[1;32mif\u001b[0m \u001b[0merrors\u001b[0m \u001b[1;33m!=\u001b[0m \u001b[1;34m\"ignore\"\u001b[0m\u001b[1;33m:\u001b[0m\u001b[1;33m\u001b[0m\u001b[1;33m\u001b[0m\u001b[0m\n\u001b[1;32m-> 5017\u001b[1;33m                 \u001b[1;32mraise\u001b[0m \u001b[0mKeyError\u001b[0m\u001b[1;33m(\u001b[0m\u001b[1;34mf\"{labels[mask]} not found in axis\"\u001b[0m\u001b[1;33m)\u001b[0m\u001b[1;33m\u001b[0m\u001b[1;33m\u001b[0m\u001b[0m\n\u001b[0m\u001b[0;32m   5018\u001b[0m             \u001b[0mindexer\u001b[0m \u001b[1;33m=\u001b[0m \u001b[0mindexer\u001b[0m\u001b[1;33m[\u001b[0m\u001b[1;33m~\u001b[0m\u001b[0mmask\u001b[0m\u001b[1;33m]\u001b[0m\u001b[1;33m\u001b[0m\u001b[1;33m\u001b[0m\u001b[0m\n\u001b[0;32m   5019\u001b[0m         \u001b[1;32mreturn\u001b[0m \u001b[0mself\u001b[0m\u001b[1;33m.\u001b[0m\u001b[0mdelete\u001b[0m\u001b[1;33m(\u001b[0m\u001b[0mindexer\u001b[0m\u001b[1;33m)\u001b[0m\u001b[1;33m\u001b[0m\u001b[1;33m\u001b[0m\u001b[0m\n",
      "\u001b[1;31mKeyError\u001b[0m: \"['Unnamed: 0' 'username' 'to' 'replies' 'retweets' 'favorites' 'geo'\\n 'mentions' 'hashtags' 'permalink'] not found in axis\""
     ]
    }
   ],
   "source": [
    "# Drop The unwanted Colomns ()\n",
    "temp = df.drop(['Unnamed: 0','username','to','replies','retweets','favorites','geo','mentions','hashtags','permalink'],axis=1)"
   ]
  },
  {
   "cell_type": "markdown",
   "metadata": {},
   "source": [
    "# Save the Cleaned Data into a new CSV file"
   ]
  },
  {
   "cell_type": "code",
   "execution_count": 15,
   "metadata": {},
   "outputs": [
    {
     "ename": "NameError",
     "evalue": "name 'temp' is not defined",
     "output_type": "error",
     "traceback": [
      "\u001b[1;31m---------------------------------------------------------------------------\u001b[0m",
      "\u001b[1;31mNameError\u001b[0m                                 Traceback (most recent call last)",
      "\u001b[1;32m<ipython-input-15-83c9c7228a57>\u001b[0m in \u001b[0;36m<module>\u001b[1;34m\u001b[0m\n\u001b[1;32m----> 1\u001b[1;33m \u001b[0mtemp\u001b[0m\u001b[1;33m.\u001b[0m\u001b[0mto_csv\u001b[0m\u001b[1;33m(\u001b[0m\u001b[1;34m\"CLEANED DATA1.csv\"\u001b[0m\u001b[1;33m,\u001b[0m\u001b[0mindex\u001b[0m\u001b[1;33m=\u001b[0m\u001b[1;32mFalse\u001b[0m\u001b[1;33m,\u001b[0m\u001b[0mencoding\u001b[0m\u001b[1;33m=\u001b[0m\u001b[1;34m\"utf-8-sig\"\u001b[0m\u001b[1;33m)\u001b[0m\u001b[1;33m\u001b[0m\u001b[1;33m\u001b[0m\u001b[0m\n\u001b[0m",
      "\u001b[1;31mNameError\u001b[0m: name 'temp' is not defined"
     ]
    }
   ],
   "source": [
    "temp.to_csv(\"CLEANED DATA1.csv\",index=False,encoding=\"utf-8-sig\")"
   ]
  },
  {
   "cell_type": "code",
   "execution_count": 40,
   "metadata": {},
   "outputs": [],
   "source": [
    "df=pd.read_excel(\"newExtractedData.xlsx\")"
   ]
  },
  {
   "cell_type": "code",
   "execution_count": 41,
   "metadata": {},
   "outputs": [],
   "source": [
    "#The method that will get the location for the tweet it recevies tweet ID as parametr \n",
    "def setLocation(j):\n",
    "    try:\n",
    "        tweet=api.get_status(j)\n",
    "        \n",
    "        \n",
    "    except:\n",
    "        return None\n",
    "    location = None\n",
    "        \n",
    "\n",
    "        # Try coordinates first, as it gives the most concrete data.\n",
    "        \n",
    "    if tweet.coordinates :\n",
    "        location = (tweet.coordinates.coordinates).toString()\n",
    "        \n",
    "       # Next up, try tweet.place, which could also have a full street address, and will have at least the full_name and country, if not null \n",
    "    elif tweet.place :\n",
    "        street = \"\"\n",
    "        #if tweet.place.attributes.street_address:\n",
    "         #   street += tweet.place.attributes.street_address + \", \"\n",
    "          #  if tweet.place.attributes['623:id']:\n",
    "           #     street += tweet.place.attributes['623:id'] + \", \"\n",
    "             \n",
    "        location = street + tweet.place.full_name + \", \" + tweet.place.country\n",
    "        # Lastly, if all else fails, grab the user location. This data is pretty poor, but is at least something. You may not want it, depending on your usage.\n",
    "    elif tweet.user and tweet.user.location:\n",
    "            location = tweet.user.location        \n",
    "         \n",
    "    return location"
   ]
  },
  {
   "cell_type": "code",
   "execution_count": 42,
   "metadata": {},
   "outputs": [],
   "source": [
    "#Put the \"permalink\" colume in list\n",
    "lin_data=df['permalink'].values.tolist()\n",
    "newL=[]"
   ]
  },
  {
   "cell_type": "code",
   "execution_count": 43,
   "metadata": {},
   "outputs": [],
   "source": [
    "#Cut the ID form the permalink and add it in a list\n",
    "z=0\n",
    "for l in lin_data:\n",
    "    e=lin_data[z] +\"\"\n",
    "    s=e[-19:]\n",
    "    index=s.find('/')\n",
    "    if(index!= -1):\n",
    "        s=s[index+1:]\n",
    "    newL.append(s)\n",
    "    z=z+1"
   ]
  },
  {
   "cell_type": "code",
   "execution_count": 44,
   "metadata": {},
   "outputs": [],
   "source": [
    "#Pass each ID to setLocation method and add the returned value in a list\n",
    "newLocation=[]\n",
    "for j in newL:\n",
    "    newLocation.append(setLocation(j))\n",
    "    \n"
   ]
  },
  {
   "cell_type": "code",
   "execution_count": 45,
   "metadata": {},
   "outputs": [],
   "source": [
    "#Add new colume(location)\n",
    "df['location'] =newLocation"
   ]
  },
  {
   "cell_type": "code",
   "execution_count": 46,
   "metadata": {},
   "outputs": [],
   "source": [
    "#Drop unwanted columes\n",
    "temp = df.drop(['username','to','replies','retweets','favorites','geo','mentions','hashtags','permalink'],axis=1)"
   ]
  },
  {
   "cell_type": "code",
   "execution_count": 47,
   "metadata": {},
   "outputs": [],
   "source": [
    "temp.to_csv(\"CLEANED DATA1.csv\",index=False,encoding=\"utf-8-sig\")"
   ]
  },
  {
   "cell_type": "code",
   "execution_count": 48,
   "metadata": {},
   "outputs": [],
   "source": [
    "#Add tokens\n",
    "tokenizer = RegexpTokenizer(r'\\w+')\n",
    "dff[\"tokens\"] = dff[\"clean text\"].apply(tokenizer.tokenize)"
   ]
  },
  {
   "cell_type": "code",
   "execution_count": 17,
   "metadata": {},
   "outputs": [],
   "source": [
    "dff.to_csv(\"final_cleaned.csv\",index=False,encoding=\"utf-8-sig\")"
   ]
  },
  {
   "cell_type": "code",
   "execution_count": 49,
   "metadata": {},
   "outputs": [
    {
     "data": {
      "text/html": [
       "<div>\n",
       "<style scoped>\n",
       "    .dataframe tbody tr th:only-of-type {\n",
       "        vertical-align: middle;\n",
       "    }\n",
       "\n",
       "    .dataframe tbody tr th {\n",
       "        vertical-align: top;\n",
       "    }\n",
       "\n",
       "    .dataframe thead th {\n",
       "        text-align: right;\n",
       "    }\n",
       "</style>\n",
       "<table border=\"1\" class=\"dataframe\">\n",
       "  <thead>\n",
       "    <tr style=\"text-align: right;\">\n",
       "      <th></th>\n",
       "      <th>date</th>\n",
       "      <th>text</th>\n",
       "      <th>id</th>\n",
       "      <th>stance</th>\n",
       "      <th>location</th>\n",
       "      <th>clean text</th>\n",
       "      <th>tokens</th>\n",
       "      <th>City</th>\n",
       "    </tr>\n",
       "  </thead>\n",
       "  <tbody>\n",
       "    <tr>\n",
       "      <th>0</th>\n",
       "      <td>3/7/2020 20:40</td>\n",
       "      <td>السلام عليكم هل اقدر ابيع جزء من اسهم اكتتاب ارامكو ؟ من تطبيق المباشر للافراد</td>\n",
       "      <td>1.240000e+18</td>\n",
       "      <td>Natural</td>\n",
       "      <td>Not Given</td>\n",
       "      <td>السلام عليكم هل اقدر ابيع جزء من اسهم اكتاب ارامكو من تطبيق المباشر لافراد</td>\n",
       "      <td>[السلام, عليكم, هل, اقدر, ابيع, جزء, من, اسهم, اكتاب, ارامكو, من, تطبيق, المباشر, لافراد]</td>\n",
       "      <td>Not Given</td>\n",
       "    </tr>\n",
       "    <tr>\n",
       "      <th>1</th>\n",
       "      <td>3/7/2020 10:26</td>\n",
       "      <td>#تاسي مساء الخير ... غداً تستأنف التداولات في السوق السعودي بعد فشل اتفاق اوبك بلس وهبوط اسعار النفط لمستويات متدنية جديدة * توقعاتكم للاسبوع المقبل ؟ كتوقع شخصي ١. كسر سعر اكتتاب ارامكو . ٢. كسر مستوى ٧٠٠٠ نقطة . ٣. هناك أسهم ستعاكس اتجاه السوق موفقين</td>\n",
       "      <td>1.240000e+18</td>\n",
       "      <td>Natural</td>\n",
       "      <td>Not Given</td>\n",
       "      <td>تاسي مساء الخير غداً تستانف التداولات في السوق السعودي بعد فشل اتفاق اوبك بلس وهبوط اسعار النفط لمستويات متدنيه جديده توقعاتكم لاسبوع المقبل كتوقع شخصي ١ كسر سعر اكتاب ارامكو ٢ كسر مستوي ٧٠ نقطه ٣ هناك اسهم ستعاكس اتجاه السوق موفقين</td>\n",
       "      <td>[تاسي, مساء, الخير, غدا, تستانف, التداولات, في, السوق, السعودي, بعد, فشل, اتفاق, اوبك, بلس, وهبوط, اسعار, النفط, لمستويات, متدنيه, جديده, توقعاتكم, لاسبوع, المقبل, كتوقع, شخصي, ١, كسر, سعر, اكتاب, ارامكو, ٢, كسر, مستوي, ٧٠, نقطه, ٣, هناك, اسهم, ستعاكس, اتجاه, السوق, موفقين]</td>\n",
       "      <td>Not Given</td>\n",
       "    </tr>\n",
       "    <tr>\n",
       "      <th>2</th>\n",
       "      <td>3/7/2020 10:11</td>\n",
       "      <td>والله يابو دانة لعنة انهيار السوق ٢٠٠٦ حتى اليوم ملاحقة سوقنا ، ومع اكتتاب ارامكو عدد كبير من الناس اكتتبو وصارو يتابعون السوق وأصبح في اهتمام في الفرص الي فيه وللأسف خابت توقعات الكثير منهم ، اعتقد نحتاج فتره زمنية اطول وتحسن الأوضاع الاقتصادية علشان نصل للمستويات الي ذكرها الاخ</td>\n",
       "      <td>1.240000e+18</td>\n",
       "      <td>Negative</td>\n",
       "      <td>Kingdom of Saudi Arabia</td>\n",
       "      <td>واله يابو دانه لعنه انهيار السوق ٢٠٦ حتي اليوم ملاحقه سوقنا ومع اكتاب ارامكو عد كبير من الناس اكتبو وصارو يتابعون السوق واصبح في اهتمام في الفرص الي فيه ولاسف خابت توقعات الكثير منهم اعتقد نحتاج فتره زمنيه اطول وتحسن الاوضاع الاقتصاديه علشان نصل لمستويات الي ذكرها الاخ</td>\n",
       "      <td>[واله, يابو, دانه, لعنه, انهيار, السوق, ٢٠٦, حتي, اليوم, ملاحقه, سوقنا, ومع, اكتاب, ارامكو, عد, كبير, من, الناس, اكتبو, وصارو, يتابعون, السوق, واصبح, في, اهتمام, في, الفرص, الي, فيه, ولاسف, خابت, توقعات, الكثير, منهم, اعتقد, نحتاج, فتره, زمنيه, اطول, وتحسن, الاوضاع, الاقتصاديه, علشان, نصل, لمستويات, الي, ذكرها, الاخ]</td>\n",
       "      <td>Not Given</td>\n",
       "    </tr>\n",
       "    <tr>\n",
       "      <th>3</th>\n",
       "      <td>3/7/2020 9:50</td>\n",
       "      <td>استثمار مادي في العلاقه ! هذا اكتتاب ارامكو مو حب</td>\n",
       "      <td>1.240000e+18</td>\n",
       "      <td>Natural</td>\n",
       "      <td>قضاعه</td>\n",
       "      <td>استثمار مادي في العلاقه هذا اكتاب ارامكو مو حب</td>\n",
       "      <td>[استثمار, مادي, في, العلاقه, هذا, اكتاب, ارامكو, مو, حب]</td>\n",
       "      <td>Other Country</td>\n",
       "    </tr>\n",
       "    <tr>\n",
       "      <th>4</th>\n",
       "      <td>3/7/2020 8:07</td>\n",
       "      <td>بالنسبة للميزانية السعوديه فقد خرجت من أزمة اسعار النفط على الأقل للخمس سنوات القادمه بسبب اكتتاب أرامكو و الخطه الاستثمارية الشجاعة التي اعتمدتها في السبع سنوات الاخيره وعقبال عندنا</td>\n",
       "      <td>1.240000e+18</td>\n",
       "      <td>Positive</td>\n",
       "      <td>Not Given</td>\n",
       "      <td>بالنسبه لميزانيه السعوديه فقد خرجت من ازمه اسعار النفط علي الاقل لخمس سنوات القادمه بسب اكتاب ارامكو و الخطه الاستثماريه الشجاعه التي اعتمدتها في السبع سنوات الاخيره وعقبال عندنا</td>\n",
       "      <td>[بالنسبه, لميزانيه, السعوديه, فقد, خرجت, من, ازمه, اسعار, النفط, علي, الاقل, لخمس, سنوات, القادمه, بسب, اكتاب, ارامكو, و, الخطه, الاستثماريه, الشجاعه, التي, اعتمدتها, في, السبع, سنوات, الاخيره, وعقبال, عندنا]</td>\n",
       "      <td>Not Given</td>\n",
       "    </tr>\n",
       "  </tbody>\n",
       "</table>\n",
       "</div>"
      ],
      "text/plain": [
       "             date  \\\n",
       "0  3/7/2020 20:40   \n",
       "1  3/7/2020 10:26   \n",
       "2  3/7/2020 10:11   \n",
       "3  3/7/2020 9:50    \n",
       "4  3/7/2020 8:07    \n",
       "\n",
       "                                                                                                                                                                                                                                                                                       text  \\\n",
       "0  السلام عليكم هل اقدر ابيع جزء من اسهم اكتتاب ارامكو ؟ من تطبيق المباشر للافراد                                                                                                                                                                                                             \n",
       "1  #تاسي مساء الخير ... غداً تستأنف التداولات في السوق السعودي بعد فشل اتفاق اوبك بلس وهبوط اسعار النفط لمستويات متدنية جديدة * توقعاتكم للاسبوع المقبل ؟ كتوقع شخصي ١. كسر سعر اكتتاب ارامكو . ٢. كسر مستوى ٧٠٠٠ نقطة . ٣. هناك أسهم ستعاكس اتجاه السوق موفقين                               \n",
       "2  والله يابو دانة لعنة انهيار السوق ٢٠٠٦ حتى اليوم ملاحقة سوقنا ، ومع اكتتاب ارامكو عدد كبير من الناس اكتتبو وصارو يتابعون السوق وأصبح في اهتمام في الفرص الي فيه وللأسف خابت توقعات الكثير منهم ، اعتقد نحتاج فتره زمنية اطول وتحسن الأوضاع الاقتصادية علشان نصل للمستويات الي ذكرها الاخ   \n",
       "3  استثمار مادي في العلاقه ! هذا اكتتاب ارامكو مو حب                                                                                                                                                                                                                                          \n",
       "4  بالنسبة للميزانية السعوديه فقد خرجت من أزمة اسعار النفط على الأقل للخمس سنوات القادمه بسبب اكتتاب أرامكو و الخطه الاستثمارية الشجاعة التي اعتمدتها في السبع سنوات الاخيره وعقبال عندنا                                                                                                     \n",
       "\n",
       "             id   stance                  location  \\\n",
       "0  1.240000e+18  Natural   Not Given                 \n",
       "1  1.240000e+18  Natural   Not Given                 \n",
       "2  1.240000e+18  Negative  Kingdom of Saudi Arabia   \n",
       "3  1.240000e+18  Natural   قضاعه                     \n",
       "4  1.240000e+18  Positive  Not Given                 \n",
       "\n",
       "                                                                                                                                                                                                                                                                      clean text  \\\n",
       "0  السلام عليكم هل اقدر ابيع جزء من اسهم اكتاب ارامكو من تطبيق المباشر لافراد                                                                                                                                                                                                      \n",
       "1  تاسي مساء الخير غداً تستانف التداولات في السوق السعودي بعد فشل اتفاق اوبك بلس وهبوط اسعار النفط لمستويات متدنيه جديده توقعاتكم لاسبوع المقبل كتوقع شخصي ١ كسر سعر اكتاب ارامكو ٢ كسر مستوي ٧٠ نقطه ٣ هناك اسهم ستعاكس اتجاه السوق موفقين                                        \n",
       "2  واله يابو دانه لعنه انهيار السوق ٢٠٦ حتي اليوم ملاحقه سوقنا ومع اكتاب ارامكو عد كبير من الناس اكتبو وصارو يتابعون السوق واصبح في اهتمام في الفرص الي فيه ولاسف خابت توقعات الكثير منهم اعتقد نحتاج فتره زمنيه اطول وتحسن الاوضاع الاقتصاديه علشان نصل لمستويات الي ذكرها الاخ   \n",
       "3  استثمار مادي في العلاقه هذا اكتاب ارامكو مو حب                                                                                                                                                                                                                                  \n",
       "4  بالنسبه لميزانيه السعوديه فقد خرجت من ازمه اسعار النفط علي الاقل لخمس سنوات القادمه بسب اكتاب ارامكو و الخطه الاستثماريه الشجاعه التي اعتمدتها في السبع سنوات الاخيره وعقبال عندنا                                                                                              \n",
       "\n",
       "                                                                                                                                                                                                                                                                                                                           tokens  \\\n",
       "0  [السلام, عليكم, هل, اقدر, ابيع, جزء, من, اسهم, اكتاب, ارامكو, من, تطبيق, المباشر, لافراد]                                                                                                                                                                                                                                        \n",
       "1  [تاسي, مساء, الخير, غدا, تستانف, التداولات, في, السوق, السعودي, بعد, فشل, اتفاق, اوبك, بلس, وهبوط, اسعار, النفط, لمستويات, متدنيه, جديده, توقعاتكم, لاسبوع, المقبل, كتوقع, شخصي, ١, كسر, سعر, اكتاب, ارامكو, ٢, كسر, مستوي, ٧٠, نقطه, ٣, هناك, اسهم, ستعاكس, اتجاه, السوق, موفقين]                                               \n",
       "2  [واله, يابو, دانه, لعنه, انهيار, السوق, ٢٠٦, حتي, اليوم, ملاحقه, سوقنا, ومع, اكتاب, ارامكو, عد, كبير, من, الناس, اكتبو, وصارو, يتابعون, السوق, واصبح, في, اهتمام, في, الفرص, الي, فيه, ولاسف, خابت, توقعات, الكثير, منهم, اعتقد, نحتاج, فتره, زمنيه, اطول, وتحسن, الاوضاع, الاقتصاديه, علشان, نصل, لمستويات, الي, ذكرها, الاخ]   \n",
       "3  [استثمار, مادي, في, العلاقه, هذا, اكتاب, ارامكو, مو, حب]                                                                                                                                                                                                                                                                         \n",
       "4  [بالنسبه, لميزانيه, السعوديه, فقد, خرجت, من, ازمه, اسعار, النفط, علي, الاقل, لخمس, سنوات, القادمه, بسب, اكتاب, ارامكو, و, الخطه, الاستثماريه, الشجاعه, التي, اعتمدتها, في, السبع, سنوات, الاخيره, وعقبال, عندنا]                                                                                                                 \n",
       "\n",
       "            City  \n",
       "0  Not Given      \n",
       "1  Not Given      \n",
       "2  Not Given      \n",
       "3  Other Country  \n",
       "4  Not Given      "
      ]
     },
     "execution_count": 49,
     "metadata": {},
     "output_type": "execute_result"
    }
   ],
   "source": [
    "dff.head(5)"
   ]
  },
  {
   "cell_type": "code",
   "execution_count": null,
   "metadata": {},
   "outputs": [],
   "source": [
    "temp.to_csv(\"CLEANED DATA1.csv\",index=False,encoding=\"utf-8-sig\")"
   ]
  },
  {
   "cell_type": "markdown",
   "metadata": {},
   "source": [
    "## Classification with Decision tree"
   ]
  },
  {
   "cell_type": "code",
   "execution_count": 50,
   "metadata": {},
   "outputs": [],
   "source": [
    "from sklearn.feature_extraction.text import TfidfVectorizer"
   ]
  },
  {
   "cell_type": "code",
   "execution_count": 51,
   "metadata": {},
   "outputs": [
    {
     "data": {
      "text/html": [
       "<div>\n",
       "<style scoped>\n",
       "    .dataframe tbody tr th:only-of-type {\n",
       "        vertical-align: middle;\n",
       "    }\n",
       "\n",
       "    .dataframe tbody tr th {\n",
       "        vertical-align: top;\n",
       "    }\n",
       "\n",
       "    .dataframe thead th {\n",
       "        text-align: right;\n",
       "    }\n",
       "</style>\n",
       "<table border=\"1\" class=\"dataframe\">\n",
       "  <thead>\n",
       "    <tr style=\"text-align: right;\">\n",
       "      <th></th>\n",
       "      <th>date</th>\n",
       "      <th>text</th>\n",
       "      <th>id</th>\n",
       "      <th>stance</th>\n",
       "      <th>location</th>\n",
       "      <th>clean text</th>\n",
       "      <th>tokens</th>\n",
       "      <th>City</th>\n",
       "    </tr>\n",
       "  </thead>\n",
       "  <tbody>\n",
       "    <tr>\n",
       "      <th>0</th>\n",
       "      <td>3/7/2020 20:40</td>\n",
       "      <td>السلام عليكم هل اقدر ابيع جزء من اسهم اكتتاب ارامكو ؟ من تطبيق المباشر للافراد</td>\n",
       "      <td>1.240000e+18</td>\n",
       "      <td>Natural</td>\n",
       "      <td>Not Given</td>\n",
       "      <td>السلام عليكم هل اقدر ابيع جزء من اسهم اكتاب ارامكو من تطبيق المباشر لافراد</td>\n",
       "      <td>['السلام', 'عليكم', 'هل', 'اقدر', 'ابيع', 'جزء', 'من', 'اسهم', 'اكتاب', 'ارامكو', 'من', 'تطبيق', 'المباشر', 'لافراد']</td>\n",
       "      <td>Not Given</td>\n",
       "    </tr>\n",
       "    <tr>\n",
       "      <th>1</th>\n",
       "      <td>3/7/2020 10:26</td>\n",
       "      <td>#تاسي مساء الخير ... غداً تستأنف التداولات في السوق السعودي بعد فشل اتفاق اوبك بلس وهبوط اسعار النفط لمستويات متدنية جديدة * توقعاتكم للاسبوع المقبل ؟ كتوقع شخصي ١. كسر سعر اكتتاب ارامكو . ٢. كسر مستوى ٧٠٠٠ نقطة . ٣. هناك أسهم ستعاكس اتجاه السوق موفقين</td>\n",
       "      <td>1.240000e+18</td>\n",
       "      <td>Natural</td>\n",
       "      <td>Not Given</td>\n",
       "      <td>تاسي مساء الخير غداً تستانف التداولات في السوق السعودي بعد فشل اتفاق اوبك بلس وهبوط اسعار النفط لمستويات متدنيه جديده توقعاتكم لاسبوع المقبل كتوقع شخصي ١ كسر سعر اكتاب ارامكو ٢ كسر مستوي ٧٠ نقطه ٣ هناك اسهم ستعاكس اتجاه السوق موفقين</td>\n",
       "      <td>['تاسي', 'مساء', 'الخير', 'غدا', 'تستانف', 'التداولات', 'في', 'السوق', 'السعودي', 'بعد', 'فشل', 'اتفاق', 'اوبك', 'بلس', 'وهبوط', 'اسعار', 'النفط', 'لمستويات', 'متدنيه', 'جديده', 'توقعاتكم', 'لاسبوع', 'المقبل', 'كتوقع', 'شخصي', '١', 'كسر', 'سعر', 'اكتاب', 'ارامكو', '٢', 'كسر', 'مستوي', '٧٠', 'نقطه', '٣', 'هناك', 'اسهم', 'ستعاكس', 'اتجاه', 'السوق', 'موفقين']</td>\n",
       "      <td>Not Given</td>\n",
       "    </tr>\n",
       "    <tr>\n",
       "      <th>2</th>\n",
       "      <td>3/7/2020 10:11</td>\n",
       "      <td>والله يابو دانة لعنة انهيار السوق ٢٠٠٦ حتى اليوم ملاحقة سوقنا ، ومع اكتتاب ارامكو عدد كبير من الناس اكتتبو وصارو يتابعون السوق وأصبح في اهتمام في الفرص الي فيه وللأسف خابت توقعات الكثير منهم ، اعتقد نحتاج فتره زمنية اطول وتحسن الأوضاع الاقتصادية علشان نصل للمستويات الي ذكرها الاخ</td>\n",
       "      <td>1.240000e+18</td>\n",
       "      <td>Negative</td>\n",
       "      <td>Kingdom of Saudi Arabia</td>\n",
       "      <td>واله يابو دانه لعنه انهيار السوق ٢٠٦ حتي اليوم ملاحقه سوقنا ومع اكتاب ارامكو عد كبير من الناس اكتبو وصارو يتابعون السوق واصبح في اهتمام في الفرص الي فيه ولاسف خابت توقعات الكثير منهم اعتقد نحتاج فتره زمنيه اطول وتحسن الاوضاع الاقتصاديه علشان نصل لمستويات الي ذكرها الاخ</td>\n",
       "      <td>['واله', 'يابو', 'دانه', 'لعنه', 'انهيار', 'السوق', '٢٠٦', 'حتي', 'اليوم', 'ملاحقه', 'سوقنا', 'ومع', 'اكتاب', 'ارامكو', 'عد', 'كبير', 'من', 'الناس', 'اكتبو', 'وصارو', 'يتابعون', 'السوق', 'واصبح', 'في', 'اهتمام', 'في', 'الفرص', 'الي', 'فيه', 'ولاسف', 'خابت', 'توقعات', 'الكثير', 'منهم', 'اعتقد', 'نحتاج', 'فتره', 'زمنيه', 'اطول', 'وتحسن', 'الاوضاع', 'الاقتصاديه', 'علشان', 'نصل', 'لمستويات', 'الي', 'ذكرها', 'الاخ']</td>\n",
       "      <td>Not Given</td>\n",
       "    </tr>\n",
       "    <tr>\n",
       "      <th>3</th>\n",
       "      <td>3/7/2020 9:50</td>\n",
       "      <td>استثمار مادي في العلاقه ! هذا اكتتاب ارامكو مو حب</td>\n",
       "      <td>1.240000e+18</td>\n",
       "      <td>Natural</td>\n",
       "      <td>قضاعه</td>\n",
       "      <td>استثمار مادي في العلاقه هذا اكتاب ارامكو مو حب</td>\n",
       "      <td>['استثمار', 'مادي', 'في', 'العلاقه', 'هذا', 'اكتاب', 'ارامكو', 'مو', 'حب']</td>\n",
       "      <td>Other Country</td>\n",
       "    </tr>\n",
       "    <tr>\n",
       "      <th>4</th>\n",
       "      <td>3/7/2020 8:07</td>\n",
       "      <td>بالنسبة للميزانية السعوديه فقد خرجت من أزمة اسعار النفط على الأقل للخمس سنوات القادمه بسبب اكتتاب أرامكو و الخطه الاستثمارية الشجاعة التي اعتمدتها في السبع سنوات الاخيره وعقبال عندنا</td>\n",
       "      <td>1.240000e+18</td>\n",
       "      <td>Positive</td>\n",
       "      <td>Not Given</td>\n",
       "      <td>بالنسبه لميزانيه السعوديه فقد خرجت من ازمه اسعار النفط علي الاقل لخمس سنوات القادمه بسب اكتاب ارامكو و الخطه الاستثماريه الشجاعه التي اعتمدتها في السبع سنوات الاخيره وعقبال عندنا</td>\n",
       "      <td>['بالنسبه', 'لميزانيه', 'السعوديه', 'فقد', 'خرجت', 'من', 'ازمه', 'اسعار', 'النفط', 'علي', 'الاقل', 'لخمس', 'سنوات', 'القادمه', 'بسب', 'اكتاب', 'ارامكو', 'و', 'الخطه', 'الاستثماريه', 'الشجاعه', 'التي', 'اعتمدتها', 'في', 'السبع', 'سنوات', 'الاخيره', 'وعقبال', 'عندنا']</td>\n",
       "      <td>Not Given</td>\n",
       "    </tr>\n",
       "  </tbody>\n",
       "</table>\n",
       "</div>"
      ],
      "text/plain": [
       "             date  \\\n",
       "0  3/7/2020 20:40   \n",
       "1  3/7/2020 10:26   \n",
       "2  3/7/2020 10:11   \n",
       "3  3/7/2020 9:50    \n",
       "4  3/7/2020 8:07    \n",
       "\n",
       "                                                                                                                                                                                                                                                                                       text  \\\n",
       "0  السلام عليكم هل اقدر ابيع جزء من اسهم اكتتاب ارامكو ؟ من تطبيق المباشر للافراد                                                                                                                                                                                                             \n",
       "1  #تاسي مساء الخير ... غداً تستأنف التداولات في السوق السعودي بعد فشل اتفاق اوبك بلس وهبوط اسعار النفط لمستويات متدنية جديدة * توقعاتكم للاسبوع المقبل ؟ كتوقع شخصي ١. كسر سعر اكتتاب ارامكو . ٢. كسر مستوى ٧٠٠٠ نقطة . ٣. هناك أسهم ستعاكس اتجاه السوق موفقين                               \n",
       "2  والله يابو دانة لعنة انهيار السوق ٢٠٠٦ حتى اليوم ملاحقة سوقنا ، ومع اكتتاب ارامكو عدد كبير من الناس اكتتبو وصارو يتابعون السوق وأصبح في اهتمام في الفرص الي فيه وللأسف خابت توقعات الكثير منهم ، اعتقد نحتاج فتره زمنية اطول وتحسن الأوضاع الاقتصادية علشان نصل للمستويات الي ذكرها الاخ   \n",
       "3  استثمار مادي في العلاقه ! هذا اكتتاب ارامكو مو حب                                                                                                                                                                                                                                          \n",
       "4  بالنسبة للميزانية السعوديه فقد خرجت من أزمة اسعار النفط على الأقل للخمس سنوات القادمه بسبب اكتتاب أرامكو و الخطه الاستثمارية الشجاعة التي اعتمدتها في السبع سنوات الاخيره وعقبال عندنا                                                                                                     \n",
       "\n",
       "             id   stance                  location  \\\n",
       "0  1.240000e+18  Natural   Not Given                 \n",
       "1  1.240000e+18  Natural   Not Given                 \n",
       "2  1.240000e+18  Negative  Kingdom of Saudi Arabia   \n",
       "3  1.240000e+18  Natural   قضاعه                     \n",
       "4  1.240000e+18  Positive  Not Given                 \n",
       "\n",
       "                                                                                                                                                                                                                                                                      clean text  \\\n",
       "0  السلام عليكم هل اقدر ابيع جزء من اسهم اكتاب ارامكو من تطبيق المباشر لافراد                                                                                                                                                                                                      \n",
       "1  تاسي مساء الخير غداً تستانف التداولات في السوق السعودي بعد فشل اتفاق اوبك بلس وهبوط اسعار النفط لمستويات متدنيه جديده توقعاتكم لاسبوع المقبل كتوقع شخصي ١ كسر سعر اكتاب ارامكو ٢ كسر مستوي ٧٠ نقطه ٣ هناك اسهم ستعاكس اتجاه السوق موفقين                                        \n",
       "2  واله يابو دانه لعنه انهيار السوق ٢٠٦ حتي اليوم ملاحقه سوقنا ومع اكتاب ارامكو عد كبير من الناس اكتبو وصارو يتابعون السوق واصبح في اهتمام في الفرص الي فيه ولاسف خابت توقعات الكثير منهم اعتقد نحتاج فتره زمنيه اطول وتحسن الاوضاع الاقتصاديه علشان نصل لمستويات الي ذكرها الاخ   \n",
       "3  استثمار مادي في العلاقه هذا اكتاب ارامكو مو حب                                                                                                                                                                                                                                  \n",
       "4  بالنسبه لميزانيه السعوديه فقد خرجت من ازمه اسعار النفط علي الاقل لخمس سنوات القادمه بسب اكتاب ارامكو و الخطه الاستثماريه الشجاعه التي اعتمدتها في السبع سنوات الاخيره وعقبال عندنا                                                                                              \n",
       "\n",
       "                                                                                                                                                                                                                                                                                                                                                                                                                           tokens  \\\n",
       "0  ['السلام', 'عليكم', 'هل', 'اقدر', 'ابيع', 'جزء', 'من', 'اسهم', 'اكتاب', 'ارامكو', 'من', 'تطبيق', 'المباشر', 'لافراد']                                                                                                                                                                                                                                                                                                            \n",
       "1  ['تاسي', 'مساء', 'الخير', 'غدا', 'تستانف', 'التداولات', 'في', 'السوق', 'السعودي', 'بعد', 'فشل', 'اتفاق', 'اوبك', 'بلس', 'وهبوط', 'اسعار', 'النفط', 'لمستويات', 'متدنيه', 'جديده', 'توقعاتكم', 'لاسبوع', 'المقبل', 'كتوقع', 'شخصي', '١', 'كسر', 'سعر', 'اكتاب', 'ارامكو', '٢', 'كسر', 'مستوي', '٧٠', 'نقطه', '٣', 'هناك', 'اسهم', 'ستعاكس', 'اتجاه', 'السوق', 'موفقين']                                                           \n",
       "2  ['واله', 'يابو', 'دانه', 'لعنه', 'انهيار', 'السوق', '٢٠٦', 'حتي', 'اليوم', 'ملاحقه', 'سوقنا', 'ومع', 'اكتاب', 'ارامكو', 'عد', 'كبير', 'من', 'الناس', 'اكتبو', 'وصارو', 'يتابعون', 'السوق', 'واصبح', 'في', 'اهتمام', 'في', 'الفرص', 'الي', 'فيه', 'ولاسف', 'خابت', 'توقعات', 'الكثير', 'منهم', 'اعتقد', 'نحتاج', 'فتره', 'زمنيه', 'اطول', 'وتحسن', 'الاوضاع', 'الاقتصاديه', 'علشان', 'نصل', 'لمستويات', 'الي', 'ذكرها', 'الاخ']   \n",
       "3  ['استثمار', 'مادي', 'في', 'العلاقه', 'هذا', 'اكتاب', 'ارامكو', 'مو', 'حب']                                                                                                                                                                                                                                                                                                                                                       \n",
       "4  ['بالنسبه', 'لميزانيه', 'السعوديه', 'فقد', 'خرجت', 'من', 'ازمه', 'اسعار', 'النفط', 'علي', 'الاقل', 'لخمس', 'سنوات', 'القادمه', 'بسب', 'اكتاب', 'ارامكو', 'و', 'الخطه', 'الاستثماريه', 'الشجاعه', 'التي', 'اعتمدتها', 'في', 'السبع', 'سنوات', 'الاخيره', 'وعقبال', 'عندنا']                                                                                                                                                       \n",
       "\n",
       "            City  \n",
       "0  Not Given      \n",
       "1  Not Given      \n",
       "2  Not Given      \n",
       "3  Other Country  \n",
       "4  Not Given      "
      ]
     },
     "execution_count": 51,
     "metadata": {},
     "output_type": "execute_result"
    }
   ],
   "source": [
    "df_desc = pd.read_csv(\"final_cleaned.csv\")\n",
    "df_desc.head(5)"
   ]
  },
  {
   "cell_type": "code",
   "execution_count": 65,
   "metadata": {},
   "outputs": [],
   "source": [
    "df_desc = df_desc.rename(columns={'stance ': 'stance'}) #rename column to remove space\n",
    "df_desc= df_desc[df_desc.stance!= 'Natural']"
   ]
  },
  {
   "cell_type": "code",
   "execution_count": 81,
   "metadata": {},
   "outputs": [
    {
     "data": {
      "text/plain": [
       "array([['واله يابو دانه لعنه انهيار السوق ٢٠٦ حتي اليوم ملاحقه سوقنا ومع اكتاب ارامكو عد كبير من الناس اكتبو وصارو يتابعون السوق واصبح في اهتمام في الفرص الي فيه ولاسف خابت توقعات الكثير منهم اعتقد نحتاج فتره زمنيه اطول وتحسن الاوضاع الاقتصاديه علشان نصل لمستويات الي ذكرها الاخ'],\n",
       "       ['بالنسبه لميزانيه السعوديه فقد خرجت من ازمه اسعار النفط علي الاقل لخمس سنوات القادمه بسب اكتاب ارامكو و الخطه الاستثماريه الشجاعه التي اعتمدتها في السبع سنوات الاخيره وعقبال عندنا'],\n",
       "       ['السعوديه اصابها الشل الرباعي من يوم مامسك محمد بن سلمان الحكم الغلا زاد التجار انحاشوا بسب الرسوم البنزين صار غالي صار عندنا فقراء ومعدومين فرض الضريبه الي عمرنا ماسمعنا عنها حتي قبل البترول البطاله زادت معدل الجريمه زاد ركود اقتصادي وفشل في اكتاب ارامكو'],\n",
       "       ['في اكتاب ارامكو احسب اني بصير غني بسبه'],\n",
       "       ['اكتابارامكو يبدا ١ نوفمبر'],\n",
       "       ['حساب المواطن اكتاب ارامكو قائمه البنوك المشاركه في اكتاب ارا '],\n",
       "       ['بنك سامبا لم يستفد من اكتاب ارامكو كيف يستفيد الجزيره من اندماج المترديه والنطيحه'],\n",
       "       ['ارامكو تخط لطرح اكتاب جديد خارج الرياض ما خطوره ذلك ']],\n",
       "      dtype=object)"
      ]
     },
     "execution_count": 81,
     "metadata": {},
     "output_type": "execute_result"
    }
   ],
   "source": [
    "# Assign X to feature varaiables\n",
    "dataX = df_desc[['clean text']].values\n",
    "dataX[0:8]"
   ]
  },
  {
   "cell_type": "code",
   "execution_count": 82,
   "metadata": {},
   "outputs": [
    {
     "data": {
      "text/html": [
       "<div>\n",
       "<style scoped>\n",
       "    .dataframe tbody tr th:only-of-type {\n",
       "        vertical-align: middle;\n",
       "    }\n",
       "\n",
       "    .dataframe tbody tr th {\n",
       "        vertical-align: top;\n",
       "    }\n",
       "\n",
       "    .dataframe thead th {\n",
       "        text-align: right;\n",
       "    }\n",
       "</style>\n",
       "<table border=\"1\" class=\"dataframe\">\n",
       "  <thead>\n",
       "    <tr style=\"text-align: right;\">\n",
       "      <th></th>\n",
       "      <th>date</th>\n",
       "      <th>text</th>\n",
       "      <th>id</th>\n",
       "      <th>stance</th>\n",
       "      <th>location</th>\n",
       "      <th>clean text</th>\n",
       "      <th>tokens</th>\n",
       "      <th>City</th>\n",
       "    </tr>\n",
       "  </thead>\n",
       "  <tbody>\n",
       "    <tr>\n",
       "      <th>3672</th>\n",
       "      <td>12/5/2019 21:54</td>\n",
       "      <td>#اكتتاب_أرامكو تخصيص ١٥٠٠ سهم كحد اعلى للفرد الواحد رقم كبير والله ، كنت متوقع ٣٠٠ سهم ، اعتقد فرصه وضاعت</td>\n",
       "      <td>1.200000e+18</td>\n",
       "      <td>Positive</td>\n",
       "      <td>Not Given</td>\n",
       "      <td>وضع المكتبين في ارامكو اليوم نجاحاكتابارامكو</td>\n",
       "      <td>['وضع', 'المكتبين', 'في', 'ارامكو', 'اليوم', 'نجاحاكتابارامكو']</td>\n",
       "      <td>Not Given</td>\n",
       "    </tr>\n",
       "    <tr>\n",
       "      <th>3673</th>\n",
       "      <td>12/5/2019 21:54</td>\n",
       "      <td>اكتتاب أرامكو يجمع 446 مليار ريال بتغطية 465%.. و32 ريالا تسعير نهائي http://dlvr.it/RKlMYl</td>\n",
       "      <td>1.200000e+18</td>\n",
       "      <td>Negative</td>\n",
       "      <td>العربيه السعوديةمملكةالانسانيه</td>\n",
       "      <td>بلغت القيمه السوقيه ل ارامكو السعوديه بنهايه جلسه اليوم نحو 704 تريليون ريال لتقفز براس المال السوقي ل تداول الي نحو 895 تريليون ريال مقابل نحو 189 تريليون ريال بالجلسه السابقه التفاصيل نجاحاكتابارامكو تداولارامكو سهمارامكو</td>\n",
       "      <td>['بلغت', 'القيمه', 'السوقيه', 'ل', 'ارامكو', 'السعوديه', 'بنهايه', 'جلسه', 'اليوم', 'نحو', '704', 'تريليون', 'ريال', 'لتقفز', 'براس', 'المال', 'السوقي', 'ل', 'تداول', 'الي', 'نحو', '895', 'تريليون', 'ريال', 'مقابل', 'نحو', '189', 'تريليون', 'ريال', 'بالجلسه', 'السابقه', 'التفاصيل', 'نجاحاكتابارامكو', 'تداولارامكو', 'سهمارامكو']</td>\n",
       "      <td>Not Given</td>\n",
       "    </tr>\n",
       "    <tr>\n",
       "      <th>3675</th>\n",
       "      <td>12/5/2019 21:54</td>\n",
       "      <td>#اكتتاب_ارامكو الحمد الله مكتتب ب 10 اسهم بس القناعه شي جميل</td>\n",
       "      <td>1.200000e+18</td>\n",
       "      <td>Positive</td>\n",
       "      <td>الرياض</td>\n",
       "      <td>نجاحاكتابارامكو ثقافه الكسب السريع هي عثره في طريق الحريهالماليه</td>\n",
       "      <td>['نجاحاكتابارامكو', 'ثقافه', 'الكسب', 'السريع', 'هي', 'عثره', 'في', 'طريق', 'الحريهالماليه']</td>\n",
       "      <td>Other Country</td>\n",
       "    </tr>\n",
       "    <tr>\n",
       "      <th>3676</th>\n",
       "      <td>12/5/2019 21:54</td>\n",
       "      <td>#اكتتاب_أرامكو هو الأكبر بالعالم • إجمالي الأموال المجمعة 446 مليار • تخصيص 1500 سهم للمكتتب الفرد الواحد في #ارامكوا</td>\n",
       "      <td>1.200000e+18</td>\n",
       "      <td>Positive</td>\n",
       "      <td>Not Given</td>\n",
       "      <td>تسوق مع نون لحصول علي خصم 10 استخدام كود الخصم LMN48 نجاحاكتابارامكو</td>\n",
       "      <td>['تسوق', 'مع', 'نون', 'لحصول', 'علي', 'خصم', '10', 'استخدام', 'كود', 'الخصم', 'LMN48', 'نجاحاكتابارامكو']</td>\n",
       "      <td>Not Given</td>\n",
       "    </tr>\n",
       "    <tr>\n",
       "      <th>3677</th>\n",
       "      <td>12/5/2019 21:54</td>\n",
       "      <td>#اكتتاب_أرامكو يصبح الأكبر في العالم بقيمة 25.6 مليار دولار • تخطّت قيمة #طلبات_الاكتتاب 119 مليار دولار</td>\n",
       "      <td>1.200000e+18</td>\n",
       "      <td>Positive</td>\n",
       "      <td>الرياض, المملكة العربية السعودية</td>\n",
       "      <td>مكن تعيدون الاكتاب شوي نبغي نكتب انا وصاحبتي نجاحاكتابارامكو</td>\n",
       "      <td>['مكن', 'تعيدون', 'الاكتاب', 'شوي', 'نبغي', 'نكتب', 'انا', 'وصاحبتي', 'نجاحاكتابارامكو']</td>\n",
       "      <td>Riyadh</td>\n",
       "    </tr>\n",
       "  </tbody>\n",
       "</table>\n",
       "</div>"
      ],
      "text/plain": [
       "                 date  \\\n",
       "3672  12/5/2019 21:54   \n",
       "3673  12/5/2019 21:54   \n",
       "3675  12/5/2019 21:54   \n",
       "3676  12/5/2019 21:54   \n",
       "3677  12/5/2019 21:54   \n",
       "\n",
       "                                                                                                                       text  \\\n",
       "3672  #اكتتاب_أرامكو تخصيص ١٥٠٠ سهم كحد اعلى للفرد الواحد رقم كبير والله ، كنت متوقع ٣٠٠ سهم ، اعتقد فرصه وضاعت               \n",
       "3673  اكتتاب أرامكو يجمع 446 مليار ريال بتغطية 465%.. و32 ريالا تسعير نهائي http://dlvr.it/RKlMYl                             \n",
       "3675  #اكتتاب_ارامكو الحمد الله مكتتب ب 10 اسهم بس القناعه شي جميل                                                            \n",
       "3676  #اكتتاب_أرامكو هو الأكبر بالعالم • إجمالي الأموال المجمعة 446 مليار • تخصيص 1500 سهم للمكتتب الفرد الواحد في #ارامكوا   \n",
       "3677  #اكتتاب_أرامكو يصبح الأكبر في العالم بقيمة 25.6 مليار دولار • تخطّت قيمة #طلبات_الاكتتاب 119 مليار دولار                \n",
       "\n",
       "                id    stance                          location  \\\n",
       "3672  1.200000e+18  Positive  Not Given                          \n",
       "3673  1.200000e+18  Negative  العربيه السعوديةمملكةالانسانيه     \n",
       "3675  1.200000e+18  Positive  الرياض                             \n",
       "3676  1.200000e+18  Positive  Not Given                          \n",
       "3677  1.200000e+18  Positive  الرياض, المملكة العربية السعودية   \n",
       "\n",
       "                                                                                                                                                                                                                            clean text  \\\n",
       "3672  وضع المكتبين في ارامكو اليوم نجاحاكتابارامكو                                                                                                                                                                                       \n",
       "3673  بلغت القيمه السوقيه ل ارامكو السعوديه بنهايه جلسه اليوم نحو 704 تريليون ريال لتقفز براس المال السوقي ل تداول الي نحو 895 تريليون ريال مقابل نحو 189 تريليون ريال بالجلسه السابقه التفاصيل نجاحاكتابارامكو تداولارامكو سهمارامكو    \n",
       "3675  نجاحاكتابارامكو ثقافه الكسب السريع هي عثره في طريق الحريهالماليه                                                                                                                                                                   \n",
       "3676   تسوق مع نون لحصول علي خصم 10 استخدام كود الخصم LMN48 نجاحاكتابارامكو                                                                                                                                                              \n",
       "3677  مكن تعيدون الاكتاب شوي نبغي نكتب انا وصاحبتي نجاحاكتابارامكو                                                                                                                                                                       \n",
       "\n",
       "                                                                                                                                                                                                                                                                                                                                         tokens  \\\n",
       "3672  ['وضع', 'المكتبين', 'في', 'ارامكو', 'اليوم', 'نجاحاكتابارامكو']                                                                                                                                                                                                                                                                             \n",
       "3673  ['بلغت', 'القيمه', 'السوقيه', 'ل', 'ارامكو', 'السعوديه', 'بنهايه', 'جلسه', 'اليوم', 'نحو', '704', 'تريليون', 'ريال', 'لتقفز', 'براس', 'المال', 'السوقي', 'ل', 'تداول', 'الي', 'نحو', '895', 'تريليون', 'ريال', 'مقابل', 'نحو', '189', 'تريليون', 'ريال', 'بالجلسه', 'السابقه', 'التفاصيل', 'نجاحاكتابارامكو', 'تداولارامكو', 'سهمارامكو']   \n",
       "3675  ['نجاحاكتابارامكو', 'ثقافه', 'الكسب', 'السريع', 'هي', 'عثره', 'في', 'طريق', 'الحريهالماليه']                                                                                                                                                                                                                                                \n",
       "3676  ['تسوق', 'مع', 'نون', 'لحصول', 'علي', 'خصم', '10', 'استخدام', 'كود', 'الخصم', 'LMN48', 'نجاحاكتابارامكو']                                                                                                                                                                                                                                   \n",
       "3677  ['مكن', 'تعيدون', 'الاكتاب', 'شوي', 'نبغي', 'نكتب', 'انا', 'وصاحبتي', 'نجاحاكتابارامكو']                                                                                                                                                                                                                                                    \n",
       "\n",
       "               City  \n",
       "3672  Not Given      \n",
       "3673  Not Given      \n",
       "3675  Other Country  \n",
       "3676  Not Given      \n",
       "3677  Riyadh         "
      ]
     },
     "execution_count": 82,
     "metadata": {},
     "output_type": "execute_result"
    }
   ],
   "source": [
    "df_desc.tail(5)"
   ]
  },
  {
   "cell_type": "code",
   "execution_count": 83,
   "metadata": {},
   "outputs": [
    {
     "data": {
      "text/plain": [
       "2     Negative\n",
       "4     Positive\n",
       "7     Positive\n",
       "11    Positive\n",
       "13    Negative\n",
       "21    Positive\n",
       "23    Negative\n",
       "24    Negative\n",
       "Name: stance, dtype: object"
      ]
     },
     "execution_count": 83,
     "metadata": {},
     "output_type": "execute_result"
    }
   ],
   "source": [
    "# Assign y to target varaiable (stance)\n",
    "y = df_desc['stance']\n",
    "y[0:8]"
   ]
  },
  {
   "cell_type": "code",
   "execution_count": 84,
   "metadata": {},
   "outputs": [],
   "source": [
    "# Use TfidfVectorizer for feature extraction (TFIDF to convert textual data to numeric form):\n",
    "tf_dec = TfidfVectorizer()\n",
    "X = tf_dec.fit_transform(dataX.ravel())"
   ]
  },
  {
   "cell_type": "code",
   "execution_count": 95,
   "metadata": {},
   "outputs": [],
   "source": [
    "#Splitting of Data into train and test set took 30% of data as testing and 70% for training the model\n",
    "X_trainset, X_testset, y_trainset, y_testset = train_test_split(X, y, test_size=0.3) "
   ]
  },
  {
   "cell_type": "code",
   "execution_count": 96,
   "metadata": {},
   "outputs": [
    {
     "name": "stdout",
     "output_type": "stream",
     "text": [
      "(1923, 12968)\n",
      "(1923,)\n"
     ]
    }
   ],
   "source": [
    "print(np.shape(X_trainset))\n",
    "print(np.shape(y_trainset))"
   ]
  },
  {
   "cell_type": "code",
   "execution_count": 97,
   "metadata": {},
   "outputs": [
    {
     "name": "stdout",
     "output_type": "stream",
     "text": [
      "(825, 12968)\n",
      "(825,)\n"
     ]
    }
   ],
   "source": [
    "print(np.shape(X_testset))\n",
    "print(np.shape(y_testset))"
   ]
  },
  {
   "cell_type": "code",
   "execution_count": 98,
   "metadata": {},
   "outputs": [
    {
     "data": {
      "text/plain": [
       "DecisionTreeClassifier(ccp_alpha=0.0, class_weight=None, criterion='entropy',\n",
       "                       max_depth=None, max_features=None, max_leaf_nodes=None,\n",
       "                       min_impurity_decrease=0.0, min_impurity_split=None,\n",
       "                       min_samples_leaf=1, min_samples_split=2,\n",
       "                       min_weight_fraction_leaf=0.0, presort='deprecated',\n",
       "                       random_state=None, splitter='best')"
      ]
     },
     "execution_count": 98,
     "metadata": {},
     "output_type": "execute_result"
    }
   ],
   "source": [
    "descTree = DecisionTreeClassifier(criterion=\"entropy\",max_depth=None) # Define Model\n",
    "descTree.fit(X_trainset,y_trainset) # train the model using training set\n",
    "predTree = descTree.predict(X_testset)  # test the model using testing set\n",
    "descTree"
   ]
  },
  {
   "cell_type": "markdown",
   "metadata": {},
   "source": [
    "#### Accuracy of classifier"
   ]
  },
  {
   "cell_type": "code",
   "execution_count": 99,
   "metadata": {},
   "outputs": [
    {
     "name": "stdout",
     "output_type": "stream",
     "text": [
      "['Positive' 'Positive' 'Positive' 'Positive' 'Positive' 'Positive'\n",
      " 'Positive' 'Positive']\n",
      "2395    Negative\n",
      "341     Negative\n",
      "1736    Negative\n",
      "3048    Positive\n",
      "3275    Negative\n",
      "1771    Positive\n",
      "2712    Positive\n",
      "3328    Negative\n",
      "Name: stance, dtype: object\n"
     ]
    }
   ],
   "source": [
    "print (predTree [0:8])\n",
    "print (y_testset [0:8])"
   ]
  },
  {
   "cell_type": "code",
   "execution_count": 100,
   "metadata": {},
   "outputs": [
    {
     "name": "stdout",
     "output_type": "stream",
     "text": [
      "DecisionTrees's Accuracy:  0.6484848484848484\n"
     ]
    }
   ],
   "source": [
    "print(\"DecisionTrees's Accuracy: \", metrics.accuracy_score(y_testset, predTree))"
   ]
  },
  {
   "cell_type": "markdown",
   "metadata": {},
   "source": [
    "#### Do a 10 fold cross-validation "
   ]
  },
  {
   "cell_type": "code",
   "execution_count": 101,
   "metadata": {},
   "outputs": [
    {
     "name": "stdout",
     "output_type": "stream",
     "text": [
      "\n",
      "10-fold cross-validation:\n",
      "[0.57090909 0.58545455 0.57818182 0.63272727 0.64363636 0.63272727\n",
      " 0.62545455 0.63272727 0.5729927  0.61678832]\n",
      "The average accuracy of the Decision tree classifier is : 0.61\n",
      "\n",
      "Confusion matrix of the Decision tree classifier:\n",
      "[[ 57 156]\n",
      " [134 478]]\n",
      "\n",
      "Classification_report of Decision tree classifier:\n",
      "              precision    recall  f1-score   support\n",
      "\n",
      "    Negative       0.30      0.27      0.28       213\n",
      "    Positive       0.75      0.78      0.77       612\n",
      "\n",
      "    accuracy                           0.65       825\n",
      "   macro avg       0.53      0.52      0.52       825\n",
      "weighted avg       0.64      0.65      0.64       825\n",
      "\n",
      "----------------------------------------------------------------------------\n"
     ]
    }
   ],
   "source": [
    "results_dt = cross_val_score(descTree, X,y, cv=10)\n",
    "print(\"\\n10-fold cross-validation:\")\n",
    "print(results_dt)\n",
    "\n",
    "print(\"The average accuracy of the Decision tree classifier is : %.2f\" % np.mean(results_dt))\n",
    "\n",
    "print(\"\\nConfusion matrix of the Decision tree classifier:\")\n",
    "predicted_dt = descTree.predict(X_testset)\n",
    "print(confusion_matrix(y_testset,predicted_dt))\n",
    "\n",
    "\n",
    "print(\"\\nClassification_report of Decision tree classifier:\")\n",
    "print(classification_report(y_testset,predicted_dt))\n",
    "print(\"----------------------------------------------------------------------------\")"
   ]
  },
  {
   "cell_type": "markdown",
   "metadata": {},
   "source": [
    "# Naive Bayes"
   ]
  },
  {
   "cell_type": "code",
   "execution_count": 38,
   "metadata": {},
   "outputs": [],
   "source": [
    "\n",
    "from sklearn.feature_extraction.text import TfidfVectorizer\n",
    "from sklearn.model_selection import train_test_split\n",
    "from sklearn import svm\n",
    "from sklearn.linear_model import LogisticRegression\n",
    "from sklearn.naive_bayes import MultinomialNB\n",
    "from sklearn.model_selection import cross_val_score, cross_val_predict, KFold\n",
    "from sklearn.metrics  import confusion_matrix, classification_report\n",
    "from sklearn import metrics"
   ]
  },
  {
   "cell_type": "code",
   "execution_count": 39,
   "metadata": {},
   "outputs": [],
   "source": [
    "df = pd.read_csv(\"final_cleaned.csv\")"
   ]
  },
  {
   "cell_type": "code",
   "execution_count": 6,
   "metadata": {},
   "outputs": [
    {
     "data": {
      "text/html": [
       "<div>\n",
       "<style scoped>\n",
       "    .dataframe tbody tr th:only-of-type {\n",
       "        vertical-align: middle;\n",
       "    }\n",
       "\n",
       "    .dataframe tbody tr th {\n",
       "        vertical-align: top;\n",
       "    }\n",
       "\n",
       "    .dataframe thead th {\n",
       "        text-align: right;\n",
       "    }\n",
       "</style>\n",
       "<table border=\"1\" class=\"dataframe\">\n",
       "  <thead>\n",
       "    <tr style=\"text-align: right;\">\n",
       "      <th></th>\n",
       "      <th>date</th>\n",
       "      <th>text</th>\n",
       "      <th>id</th>\n",
       "      <th>stance</th>\n",
       "      <th>location</th>\n",
       "      <th>clean text</th>\n",
       "      <th>tokens</th>\n",
       "      <th>City</th>\n",
       "    </tr>\n",
       "  </thead>\n",
       "  <tbody>\n",
       "    <tr>\n",
       "      <th>0</th>\n",
       "      <td>3/7/2020 20:40</td>\n",
       "      <td>السلام عليكم هل اقدر ابيع جزء من اسهم اكتتاب ارامكو ؟ من تطبيق المباشر للافراد</td>\n",
       "      <td>1.240000e+18</td>\n",
       "      <td>Natural</td>\n",
       "      <td>Not Given</td>\n",
       "      <td>السلام عليكم هل اقدر ابيع جزء من اسهم اكتاب ارامكو من تطبيق المباشر لافراد</td>\n",
       "      <td>['السلام', 'عليكم', 'هل', 'اقدر', 'ابيع', 'جزء', 'من', 'اسهم', 'اكتاب', 'ارامكو', 'من', 'تطبيق', 'المباشر', 'لافراد']</td>\n",
       "      <td>Not Given</td>\n",
       "    </tr>\n",
       "    <tr>\n",
       "      <th>1</th>\n",
       "      <td>3/7/2020 10:26</td>\n",
       "      <td>#تاسي مساء الخير ... غداً تستأنف التداولات في السوق السعودي بعد فشل اتفاق اوبك بلس وهبوط اسعار النفط لمستويات متدنية جديدة * توقعاتكم للاسبوع المقبل ؟ كتوقع شخصي ١. كسر سعر اكتتاب ارامكو . ٢. كسر مستوى ٧٠٠٠ نقطة . ٣. هناك أسهم ستعاكس اتجاه السوق موفقين</td>\n",
       "      <td>1.240000e+18</td>\n",
       "      <td>Natural</td>\n",
       "      <td>Not Given</td>\n",
       "      <td>تاسي مساء الخير غداً تستانف التداولات في السوق السعودي بعد فشل اتفاق اوبك بلس وهبوط اسعار النفط لمستويات متدنيه جديده توقعاتكم لاسبوع المقبل كتوقع شخصي ١ كسر سعر اكتاب ارامكو ٢ كسر مستوي ٧٠ نقطه ٣ هناك اسهم ستعاكس اتجاه السوق موفقين</td>\n",
       "      <td>['تاسي', 'مساء', 'الخير', 'غدا', 'تستانف', 'التداولات', 'في', 'السوق', 'السعودي', 'بعد', 'فشل', 'اتفاق', 'اوبك', 'بلس', 'وهبوط', 'اسعار', 'النفط', 'لمستويات', 'متدنيه', 'جديده', 'توقعاتكم', 'لاسبوع', 'المقبل', 'كتوقع', 'شخصي', '١', 'كسر', 'سعر', 'اكتاب', 'ارامكو', '٢', 'كسر', 'مستوي', '٧٠', 'نقطه', '٣', 'هناك', 'اسهم', 'ستعاكس', 'اتجاه', 'السوق', 'موفقين']</td>\n",
       "      <td>Not Given</td>\n",
       "    </tr>\n",
       "    <tr>\n",
       "      <th>2</th>\n",
       "      <td>3/7/2020 10:11</td>\n",
       "      <td>والله يابو دانة لعنة انهيار السوق ٢٠٠٦ حتى اليوم ملاحقة سوقنا ، ومع اكتتاب ارامكو عدد كبير من الناس اكتتبو وصارو يتابعون السوق وأصبح في اهتمام في الفرص الي فيه وللأسف خابت توقعات الكثير منهم ، اعتقد نحتاج فتره زمنية اطول وتحسن الأوضاع الاقتصادية علشان نصل للمستويات الي ذكرها الاخ</td>\n",
       "      <td>1.240000e+18</td>\n",
       "      <td>Negative</td>\n",
       "      <td>Kingdom of Saudi Arabia</td>\n",
       "      <td>واله يابو دانه لعنه انهيار السوق ٢٠٦ حتي اليوم ملاحقه سوقنا ومع اكتاب ارامكو عد كبير من الناس اكتبو وصارو يتابعون السوق واصبح في اهتمام في الفرص الي فيه ولاسف خابت توقعات الكثير منهم اعتقد نحتاج فتره زمنيه اطول وتحسن الاوضاع الاقتصاديه علشان نصل لمستويات الي ذكرها الاخ</td>\n",
       "      <td>['واله', 'يابو', 'دانه', 'لعنه', 'انهيار', 'السوق', '٢٠٦', 'حتي', 'اليوم', 'ملاحقه', 'سوقنا', 'ومع', 'اكتاب', 'ارامكو', 'عد', 'كبير', 'من', 'الناس', 'اكتبو', 'وصارو', 'يتابعون', 'السوق', 'واصبح', 'في', 'اهتمام', 'في', 'الفرص', 'الي', 'فيه', 'ولاسف', 'خابت', 'توقعات', 'الكثير', 'منهم', 'اعتقد', 'نحتاج', 'فتره', 'زمنيه', 'اطول', 'وتحسن', 'الاوضاع', 'الاقتصاديه', 'علشان', 'نصل', 'لمستويات', 'الي', 'ذكرها', 'الاخ']</td>\n",
       "      <td>Not Given</td>\n",
       "    </tr>\n",
       "    <tr>\n",
       "      <th>3</th>\n",
       "      <td>3/7/2020 9:50</td>\n",
       "      <td>استثمار مادي في العلاقه ! هذا اكتتاب ارامكو مو حب</td>\n",
       "      <td>1.240000e+18</td>\n",
       "      <td>Natural</td>\n",
       "      <td>قضاعه</td>\n",
       "      <td>استثمار مادي في العلاقه هذا اكتاب ارامكو مو حب</td>\n",
       "      <td>['استثمار', 'مادي', 'في', 'العلاقه', 'هذا', 'اكتاب', 'ارامكو', 'مو', 'حب']</td>\n",
       "      <td>Other Country</td>\n",
       "    </tr>\n",
       "    <tr>\n",
       "      <th>4</th>\n",
       "      <td>3/7/2020 8:07</td>\n",
       "      <td>بالنسبة للميزانية السعوديه فقد خرجت من أزمة اسعار النفط على الأقل للخمس سنوات القادمه بسبب اكتتاب أرامكو و الخطه الاستثمارية الشجاعة التي اعتمدتها في السبع سنوات الاخيره وعقبال عندنا</td>\n",
       "      <td>1.240000e+18</td>\n",
       "      <td>Positive</td>\n",
       "      <td>Not Given</td>\n",
       "      <td>بالنسبه لميزانيه السعوديه فقد خرجت من ازمه اسعار النفط علي الاقل لخمس سنوات القادمه بسب اكتاب ارامكو و الخطه الاستثماريه الشجاعه التي اعتمدتها في السبع سنوات الاخيره وعقبال عندنا</td>\n",
       "      <td>['بالنسبه', 'لميزانيه', 'السعوديه', 'فقد', 'خرجت', 'من', 'ازمه', 'اسعار', 'النفط', 'علي', 'الاقل', 'لخمس', 'سنوات', 'القادمه', 'بسب', 'اكتاب', 'ارامكو', 'و', 'الخطه', 'الاستثماريه', 'الشجاعه', 'التي', 'اعتمدتها', 'في', 'السبع', 'سنوات', 'الاخيره', 'وعقبال', 'عندنا']</td>\n",
       "      <td>Not Given</td>\n",
       "    </tr>\n",
       "  </tbody>\n",
       "</table>\n",
       "</div>"
      ],
      "text/plain": [
       "             date  \\\n",
       "0  3/7/2020 20:40   \n",
       "1  3/7/2020 10:26   \n",
       "2  3/7/2020 10:11   \n",
       "3  3/7/2020 9:50    \n",
       "4  3/7/2020 8:07    \n",
       "\n",
       "                                                                                                                                                                                                                                                                                       text  \\\n",
       "0  السلام عليكم هل اقدر ابيع جزء من اسهم اكتتاب ارامكو ؟ من تطبيق المباشر للافراد                                                                                                                                                                                                             \n",
       "1  #تاسي مساء الخير ... غداً تستأنف التداولات في السوق السعودي بعد فشل اتفاق اوبك بلس وهبوط اسعار النفط لمستويات متدنية جديدة * توقعاتكم للاسبوع المقبل ؟ كتوقع شخصي ١. كسر سعر اكتتاب ارامكو . ٢. كسر مستوى ٧٠٠٠ نقطة . ٣. هناك أسهم ستعاكس اتجاه السوق موفقين                               \n",
       "2  والله يابو دانة لعنة انهيار السوق ٢٠٠٦ حتى اليوم ملاحقة سوقنا ، ومع اكتتاب ارامكو عدد كبير من الناس اكتتبو وصارو يتابعون السوق وأصبح في اهتمام في الفرص الي فيه وللأسف خابت توقعات الكثير منهم ، اعتقد نحتاج فتره زمنية اطول وتحسن الأوضاع الاقتصادية علشان نصل للمستويات الي ذكرها الاخ   \n",
       "3  استثمار مادي في العلاقه ! هذا اكتتاب ارامكو مو حب                                                                                                                                                                                                                                          \n",
       "4  بالنسبة للميزانية السعوديه فقد خرجت من أزمة اسعار النفط على الأقل للخمس سنوات القادمه بسبب اكتتاب أرامكو و الخطه الاستثمارية الشجاعة التي اعتمدتها في السبع سنوات الاخيره وعقبال عندنا                                                                                                     \n",
       "\n",
       "             id   stance                  location  \\\n",
       "0  1.240000e+18  Natural   Not Given                 \n",
       "1  1.240000e+18  Natural   Not Given                 \n",
       "2  1.240000e+18  Negative  Kingdom of Saudi Arabia   \n",
       "3  1.240000e+18  Natural   قضاعه                     \n",
       "4  1.240000e+18  Positive  Not Given                 \n",
       "\n",
       "                                                                                                                                                                                                                                                                      clean text  \\\n",
       "0  السلام عليكم هل اقدر ابيع جزء من اسهم اكتاب ارامكو من تطبيق المباشر لافراد                                                                                                                                                                                                      \n",
       "1  تاسي مساء الخير غداً تستانف التداولات في السوق السعودي بعد فشل اتفاق اوبك بلس وهبوط اسعار النفط لمستويات متدنيه جديده توقعاتكم لاسبوع المقبل كتوقع شخصي ١ كسر سعر اكتاب ارامكو ٢ كسر مستوي ٧٠ نقطه ٣ هناك اسهم ستعاكس اتجاه السوق موفقين                                        \n",
       "2  واله يابو دانه لعنه انهيار السوق ٢٠٦ حتي اليوم ملاحقه سوقنا ومع اكتاب ارامكو عد كبير من الناس اكتبو وصارو يتابعون السوق واصبح في اهتمام في الفرص الي فيه ولاسف خابت توقعات الكثير منهم اعتقد نحتاج فتره زمنيه اطول وتحسن الاوضاع الاقتصاديه علشان نصل لمستويات الي ذكرها الاخ   \n",
       "3  استثمار مادي في العلاقه هذا اكتاب ارامكو مو حب                                                                                                                                                                                                                                  \n",
       "4  بالنسبه لميزانيه السعوديه فقد خرجت من ازمه اسعار النفط علي الاقل لخمس سنوات القادمه بسب اكتاب ارامكو و الخطه الاستثماريه الشجاعه التي اعتمدتها في السبع سنوات الاخيره وعقبال عندنا                                                                                              \n",
       "\n",
       "                                                                                                                                                                                                                                                                                                                                                                                                                           tokens  \\\n",
       "0  ['السلام', 'عليكم', 'هل', 'اقدر', 'ابيع', 'جزء', 'من', 'اسهم', 'اكتاب', 'ارامكو', 'من', 'تطبيق', 'المباشر', 'لافراد']                                                                                                                                                                                                                                                                                                            \n",
       "1  ['تاسي', 'مساء', 'الخير', 'غدا', 'تستانف', 'التداولات', 'في', 'السوق', 'السعودي', 'بعد', 'فشل', 'اتفاق', 'اوبك', 'بلس', 'وهبوط', 'اسعار', 'النفط', 'لمستويات', 'متدنيه', 'جديده', 'توقعاتكم', 'لاسبوع', 'المقبل', 'كتوقع', 'شخصي', '١', 'كسر', 'سعر', 'اكتاب', 'ارامكو', '٢', 'كسر', 'مستوي', '٧٠', 'نقطه', '٣', 'هناك', 'اسهم', 'ستعاكس', 'اتجاه', 'السوق', 'موفقين']                                                           \n",
       "2  ['واله', 'يابو', 'دانه', 'لعنه', 'انهيار', 'السوق', '٢٠٦', 'حتي', 'اليوم', 'ملاحقه', 'سوقنا', 'ومع', 'اكتاب', 'ارامكو', 'عد', 'كبير', 'من', 'الناس', 'اكتبو', 'وصارو', 'يتابعون', 'السوق', 'واصبح', 'في', 'اهتمام', 'في', 'الفرص', 'الي', 'فيه', 'ولاسف', 'خابت', 'توقعات', 'الكثير', 'منهم', 'اعتقد', 'نحتاج', 'فتره', 'زمنيه', 'اطول', 'وتحسن', 'الاوضاع', 'الاقتصاديه', 'علشان', 'نصل', 'لمستويات', 'الي', 'ذكرها', 'الاخ']   \n",
       "3  ['استثمار', 'مادي', 'في', 'العلاقه', 'هذا', 'اكتاب', 'ارامكو', 'مو', 'حب']                                                                                                                                                                                                                                                                                                                                                       \n",
       "4  ['بالنسبه', 'لميزانيه', 'السعوديه', 'فقد', 'خرجت', 'من', 'ازمه', 'اسعار', 'النفط', 'علي', 'الاقل', 'لخمس', 'سنوات', 'القادمه', 'بسب', 'اكتاب', 'ارامكو', 'و', 'الخطه', 'الاستثماريه', 'الشجاعه', 'التي', 'اعتمدتها', 'في', 'السبع', 'سنوات', 'الاخيره', 'وعقبال', 'عندنا']                                                                                                                                                       \n",
       "\n",
       "            City  \n",
       "0  Not Given      \n",
       "1  Not Given      \n",
       "2  Not Given      \n",
       "3  Other Country  \n",
       "4  Not Given      "
      ]
     },
     "execution_count": 6,
     "metadata": {},
     "output_type": "execute_result"
    }
   ],
   "source": [
    "df.head()"
   ]
  },
  {
   "cell_type": "code",
   "execution_count": 40,
   "metadata": {},
   "outputs": [],
   "source": [
    "df=df[ df[\"stance \"] != \"Natural\"]"
   ]
  },
  {
   "cell_type": "code",
   "execution_count": 41,
   "metadata": {},
   "outputs": [],
   "source": [
    "df=df[ df[\"stance \"] != \"natural\"]"
   ]
  },
  {
   "cell_type": "code",
   "execution_count": 42,
   "metadata": {},
   "outputs": [],
   "source": [
    "df=df[ df[\"stance \"] != \"natural \"]"
   ]
  },
  {
   "cell_type": "code",
   "execution_count": 43,
   "metadata": {},
   "outputs": [],
   "source": [
    "df=df[ df[\"stance \"] != \"Natural \"]"
   ]
  },
  {
   "cell_type": "code",
   "execution_count": 228,
   "metadata": {},
   "outputs": [
    {
     "data": {
      "text/html": [
       "<div>\n",
       "<style scoped>\n",
       "    .dataframe tbody tr th:only-of-type {\n",
       "        vertical-align: middle;\n",
       "    }\n",
       "\n",
       "    .dataframe tbody tr th {\n",
       "        vertical-align: top;\n",
       "    }\n",
       "\n",
       "    .dataframe thead th {\n",
       "        text-align: right;\n",
       "    }\n",
       "</style>\n",
       "<table border=\"1\" class=\"dataframe\">\n",
       "  <thead>\n",
       "    <tr style=\"text-align: right;\">\n",
       "      <th></th>\n",
       "      <th>date</th>\n",
       "      <th>text</th>\n",
       "      <th>id</th>\n",
       "      <th>stance</th>\n",
       "      <th>location</th>\n",
       "      <th>clean text</th>\n",
       "      <th>tokens</th>\n",
       "      <th>City</th>\n",
       "    </tr>\n",
       "  </thead>\n",
       "  <tbody>\n",
       "    <tr>\n",
       "      <th>2</th>\n",
       "      <td>03/07/2020 10:11</td>\n",
       "      <td>والله يابو دانة لعنة انهيار السوق ٢٠٠٦ حتى اليوم ملاحقة سوقنا ، ومع اكتتاب ارامكو عدد كبير من الناس اكتتبو وصارو يتابعون السوق وأصبح في اهتمام في الفرص الي فيه وللأسف خابت توقعات الكثير منهم ، اعتقد نحتاج فتره زمنية اطول وتحسن الأوضاع الاقتصادية علشان نصل للمستويات الي ذكرها الاخ</td>\n",
       "      <td>1.240000e+18</td>\n",
       "      <td>Negative</td>\n",
       "      <td>Kingdom of Saudi Arabia</td>\n",
       "      <td>واله يابو دانه لعنه انهيار السوق ٢٠٦ حتي اليوم ملاحقه سوقنا ومع اكتاب ارامكو عد كبير من الناس اكتبو وصارو يتابعون السوق واصبح في اهتمام في الفرص الي فيه ولاسف خابت توقعات الكثير منهم اعتقد نحتاج فتره زمنيه اطول وتحسن الاوضاع الاقتصاديه علشان نصل لمستويات الي ذكرها الاخ</td>\n",
       "      <td>['واله', 'يابو', 'دانه', 'لعنه', 'انهيار', 'السوق', '٢٠٦', 'حتي', 'اليوم', 'ملاحقه', 'سوقنا', 'ومع', 'اكتاب', 'ارامكو', 'عد', 'كبير', 'من', 'الناس', 'اكتبو', 'وصارو', 'يتابعون', 'السوق', 'واصبح', 'في', 'اهتمام', 'في', 'الفرص', 'الي', 'فيه', 'ولاسف', 'خابت', 'توقعات', 'الكثير', 'منهم', 'اعتقد', 'نحتاج', 'فتره', 'زمنيه', 'اطول', 'وتحسن', 'الاوضاع', 'الاقتصاديه', 'علشان', 'نصل', 'لمستويات', 'الي', 'ذكرها', 'الاخ']</td>\n",
       "      <td>Not Given</td>\n",
       "    </tr>\n",
       "    <tr>\n",
       "      <th>4</th>\n",
       "      <td>03/07/2020 8:07</td>\n",
       "      <td>بالنسبة للميزانية السعوديه فقد خرجت من أزمة اسعار النفط على الأقل للخمس سنوات القادمه بسبب اكتتاب أرامكو و الخطه الاستثمارية الشجاعة التي اعتمدتها في السبع سنوات الاخيره وعقبال عندنا</td>\n",
       "      <td>1.240000e+18</td>\n",
       "      <td>Positive</td>\n",
       "      <td>Not Given</td>\n",
       "      <td>بالنسبه لميزانيه السعوديه فقد خرجت من ازمه اسعار النفط علي الاقل لخمس سنوات القادمه بسب اكتاب ارامكو و الخطه الاستثماريه الشجاعه التي اعتمدتها في السبع سنوات الاخيره وعقبال عندنا</td>\n",
       "      <td>['بالنسبه', 'لميزانيه', 'السعوديه', 'فقد', 'خرجت', 'من', 'ازمه', 'اسعار', 'النفط', 'علي', 'الاقل', 'لخمس', 'سنوات', 'القادمه', 'بسب', 'اكتاب', 'ارامكو', 'و', 'الخطه', 'الاستثماريه', 'الشجاعه', 'التي', 'اعتمدتها', 'في', 'السبع', 'سنوات', 'الاخيره', 'وعقبال', 'عندنا']</td>\n",
       "      <td>Not Given</td>\n",
       "    </tr>\n",
       "    <tr>\n",
       "      <th>7</th>\n",
       "      <td>03/06/2020 15:36</td>\n",
       "      <td>طبعاً هذا كان قبل اكتتاب أرامكو بعدها وصلت السعودية ل المركز التاسع على مستوى العالم و السابعه دولياً و تحققت رؤية ٢٠٣٠ ب نهاية ٢٠١٩</td>\n",
       "      <td>1.240000e+18</td>\n",
       "      <td>Positive</td>\n",
       "      <td>اللهم إرحم جدي.</td>\n",
       "      <td>السعوديه اصابها الشل الرباعي من يوم مامسك محمد بن سلمان الحكم الغلا زاد التجار انحاشوا بسب الرسوم البنزين صار غالي صار عندنا فقراء ومعدومين فرض الضريبه الي عمرنا ماسمعنا عنها حتي قبل البترول البطاله زادت معدل الجريمه زاد ركود اقتصادي وفشل في اكتاب ارامكو</td>\n",
       "      <td>['السعوديه', 'اصابها', 'الشل', 'الرباعي', 'من', 'يوم', 'مامسك', 'محمد', 'بن', 'سلمان', 'الحكم', 'الغلا', 'زاد', 'التجار', 'انحاشوا', 'بسب', 'الرسوم', 'البنزين', 'صار', 'غالي', 'صار', 'عندنا', 'فقراء', 'ومعدومين', 'فرض', 'الضريبه', 'الي', 'عمرنا', 'ماسمعنا', 'عنها', 'حتي', 'قبل', 'البترول', 'البطاله', 'زادت', 'معدل', 'الجريمه', 'زاد', 'ركود', 'اقتصادي', 'وفشل', 'في', 'اكتاب', 'ارامكو']</td>\n",
       "      <td>Other Country</td>\n",
       "    </tr>\n",
       "    <tr>\n",
       "      <th>11</th>\n",
       "      <td>03/04/2020 16:27</td>\n",
       "      <td>طريقة تفكيرك جد متخلفة واليوم العالم كله خرج من عزلته وأصبح يصطاد العلماء والخبرات ويقوم بتوظيفها في بلاده للإستفادة منها وانت حسابها عيب ملاحظة :آخر اكتتاب طرحته أرامكو جلب أكثر من 2 تريليون دولار وهو سابقة في تاريخ الشركات القابضة وهذا داخل السعودية فقط وقريب تطرح خارجها.</td>\n",
       "      <td>1.240000e+18</td>\n",
       "      <td>Positive</td>\n",
       "      <td>سطيف (الجزائر)🇩🇿🇩🇿</td>\n",
       "      <td>في اكتاب ارامكو احسب اني بصير غني بسبه</td>\n",
       "      <td>['في', 'اكتاب', 'ارامكو', 'احسب', 'اني', 'بصير', 'غني', 'بسبه']</td>\n",
       "      <td>Other Country</td>\n",
       "    </tr>\n",
       "    <tr>\n",
       "      <th>13</th>\n",
       "      <td>03/04/2020 12:36</td>\n",
       "      <td>وين كانت الموضوعية أيام اكتتاب أوامكو كنت تحمس العالم فيها ..اتذكر بعدها ظهرت في اذاعة يو اف ام وتغير كلامك عن أرامكو وقلت فيما معناه \"الان الاكتتاب خلص وترى ارامكو أرباحها متوقع بأن لاتكون مثل ماضيها...الخ\" احترم شخصك ولو اختلفت معك في نسبة الموضوعية لك</td>\n",
       "      <td>1.240000e+18</td>\n",
       "      <td>Negative</td>\n",
       "      <td>Not Given</td>\n",
       "      <td>اكتابارامكو يبدا ١ نوفمبر</td>\n",
       "      <td>['اكتابارامكو', 'يبدا', '١', 'نوفمبر']</td>\n",
       "      <td>Not Given</td>\n",
       "    </tr>\n",
       "  </tbody>\n",
       "</table>\n",
       "</div>"
      ],
      "text/plain": [
       "                date  \\\n",
       "2   03/07/2020 10:11   \n",
       "4   03/07/2020 8:07    \n",
       "7   03/06/2020 15:36   \n",
       "11  03/04/2020 16:27   \n",
       "13  03/04/2020 12:36   \n",
       "\n",
       "                                                                                                                                                                                                                                                                                        text  \\\n",
       "2   والله يابو دانة لعنة انهيار السوق ٢٠٠٦ حتى اليوم ملاحقة سوقنا ، ومع اكتتاب ارامكو عدد كبير من الناس اكتتبو وصارو يتابعون السوق وأصبح في اهتمام في الفرص الي فيه وللأسف خابت توقعات الكثير منهم ، اعتقد نحتاج فتره زمنية اطول وتحسن الأوضاع الاقتصادية علشان نصل للمستويات الي ذكرها الاخ   \n",
       "4   بالنسبة للميزانية السعوديه فقد خرجت من أزمة اسعار النفط على الأقل للخمس سنوات القادمه بسبب اكتتاب أرامكو و الخطه الاستثمارية الشجاعة التي اعتمدتها في السبع سنوات الاخيره وعقبال عندنا                                                                                                     \n",
       "7   طبعاً هذا كان قبل اكتتاب أرامكو بعدها وصلت السعودية ل المركز التاسع على مستوى العالم و السابعه دولياً و تحققت رؤية ٢٠٣٠ ب نهاية ٢٠١٩                                                                                                                                                       \n",
       "11  طريقة تفكيرك جد متخلفة واليوم العالم كله خرج من عزلته وأصبح يصطاد العلماء والخبرات ويقوم بتوظيفها في بلاده للإستفادة منها وانت حسابها عيب ملاحظة :آخر اكتتاب طرحته أرامكو جلب أكثر من 2 تريليون دولار وهو سابقة في تاريخ الشركات القابضة وهذا داخل السعودية فقط وقريب تطرح خارجها.         \n",
       "13  وين كانت الموضوعية أيام اكتتاب أوامكو كنت تحمس العالم فيها ..اتذكر بعدها ظهرت في اذاعة يو اف ام وتغير كلامك عن أرامكو وقلت فيما معناه \"الان الاكتتاب خلص وترى ارامكو أرباحها متوقع بأن لاتكون مثل ماضيها...الخ\" احترم شخصك ولو اختلفت معك في نسبة الموضوعية لك                             \n",
       "\n",
       "              id    stance                  location  \\\n",
       "2   1.240000e+18  Negative   Kingdom of Saudi Arabia   \n",
       "4   1.240000e+18  Positive   Not Given                 \n",
       "7   1.240000e+18  Positive   اللهم إرحم جدي.           \n",
       "11  1.240000e+18  Positive   سطيف (الجزائر)🇩🇿🇩🇿        \n",
       "13  1.240000e+18  Negative   Not Given                 \n",
       "\n",
       "                                                                                                                                                                                                                                                                       clean text  \\\n",
       "2   واله يابو دانه لعنه انهيار السوق ٢٠٦ حتي اليوم ملاحقه سوقنا ومع اكتاب ارامكو عد كبير من الناس اكتبو وصارو يتابعون السوق واصبح في اهتمام في الفرص الي فيه ولاسف خابت توقعات الكثير منهم اعتقد نحتاج فتره زمنيه اطول وتحسن الاوضاع الاقتصاديه علشان نصل لمستويات الي ذكرها الاخ   \n",
       "4   بالنسبه لميزانيه السعوديه فقد خرجت من ازمه اسعار النفط علي الاقل لخمس سنوات القادمه بسب اكتاب ارامكو و الخطه الاستثماريه الشجاعه التي اعتمدتها في السبع سنوات الاخيره وعقبال عندنا                                                                                              \n",
       "7   السعوديه اصابها الشل الرباعي من يوم مامسك محمد بن سلمان الحكم الغلا زاد التجار انحاشوا بسب الرسوم البنزين صار غالي صار عندنا فقراء ومعدومين فرض الضريبه الي عمرنا ماسمعنا عنها حتي قبل البترول البطاله زادت معدل الجريمه زاد ركود اقتصادي وفشل في اكتاب ارامكو                  \n",
       "11  في اكتاب ارامكو احسب اني بصير غني بسبه                                                                                                                                                                                                                                          \n",
       "13  اكتابارامكو يبدا ١ نوفمبر                                                                                                                                                                                                                                                       \n",
       "\n",
       "                                                                                                                                                                                                                                                                                                                                                                                                                            tokens  \\\n",
       "2   ['واله', 'يابو', 'دانه', 'لعنه', 'انهيار', 'السوق', '٢٠٦', 'حتي', 'اليوم', 'ملاحقه', 'سوقنا', 'ومع', 'اكتاب', 'ارامكو', 'عد', 'كبير', 'من', 'الناس', 'اكتبو', 'وصارو', 'يتابعون', 'السوق', 'واصبح', 'في', 'اهتمام', 'في', 'الفرص', 'الي', 'فيه', 'ولاسف', 'خابت', 'توقعات', 'الكثير', 'منهم', 'اعتقد', 'نحتاج', 'فتره', 'زمنيه', 'اطول', 'وتحسن', 'الاوضاع', 'الاقتصاديه', 'علشان', 'نصل', 'لمستويات', 'الي', 'ذكرها', 'الاخ']   \n",
       "4   ['بالنسبه', 'لميزانيه', 'السعوديه', 'فقد', 'خرجت', 'من', 'ازمه', 'اسعار', 'النفط', 'علي', 'الاقل', 'لخمس', 'سنوات', 'القادمه', 'بسب', 'اكتاب', 'ارامكو', 'و', 'الخطه', 'الاستثماريه', 'الشجاعه', 'التي', 'اعتمدتها', 'في', 'السبع', 'سنوات', 'الاخيره', 'وعقبال', 'عندنا']                                                                                                                                                       \n",
       "7   ['السعوديه', 'اصابها', 'الشل', 'الرباعي', 'من', 'يوم', 'مامسك', 'محمد', 'بن', 'سلمان', 'الحكم', 'الغلا', 'زاد', 'التجار', 'انحاشوا', 'بسب', 'الرسوم', 'البنزين', 'صار', 'غالي', 'صار', 'عندنا', 'فقراء', 'ومعدومين', 'فرض', 'الضريبه', 'الي', 'عمرنا', 'ماسمعنا', 'عنها', 'حتي', 'قبل', 'البترول', 'البطاله', 'زادت', 'معدل', 'الجريمه', 'زاد', 'ركود', 'اقتصادي', 'وفشل', 'في', 'اكتاب', 'ارامكو']                              \n",
       "11  ['في', 'اكتاب', 'ارامكو', 'احسب', 'اني', 'بصير', 'غني', 'بسبه']                                                                                                                                                                                                                                                                                                                                                                  \n",
       "13  ['اكتابارامكو', 'يبدا', '١', 'نوفمبر']                                                                                                                                                                                                                                                                                                                                                                                           \n",
       "\n",
       "             City  \n",
       "2   Not Given      \n",
       "4   Not Given      \n",
       "7   Other Country  \n",
       "11  Other Country  \n",
       "13  Not Given      "
      ]
     },
     "execution_count": 228,
     "metadata": {},
     "output_type": "execute_result"
    }
   ],
   "source": [
    "#df.head()"
   ]
  },
  {
   "cell_type": "code",
   "execution_count": 229,
   "metadata": {},
   "outputs": [],
   "source": [
    "# change values to numeric\n",
    "#df['stance '] = df['stance '].map({'Positive ': 1, 'Positive': 1,'positive': 1,'Negative ': 0,'negative': 0,'Negative': 0})  "
   ]
  },
  {
   "cell_type": "code",
   "execution_count": 230,
   "metadata": {},
   "outputs": [
    {
     "data": {
      "text/html": [
       "<div>\n",
       "<style scoped>\n",
       "    .dataframe tbody tr th:only-of-type {\n",
       "        vertical-align: middle;\n",
       "    }\n",
       "\n",
       "    .dataframe tbody tr th {\n",
       "        vertical-align: top;\n",
       "    }\n",
       "\n",
       "    .dataframe thead th {\n",
       "        text-align: right;\n",
       "    }\n",
       "</style>\n",
       "<table border=\"1\" class=\"dataframe\">\n",
       "  <thead>\n",
       "    <tr style=\"text-align: right;\">\n",
       "      <th></th>\n",
       "      <th>date</th>\n",
       "      <th>text</th>\n",
       "      <th>id</th>\n",
       "      <th>stance</th>\n",
       "      <th>location</th>\n",
       "      <th>clean text</th>\n",
       "      <th>tokens</th>\n",
       "      <th>City</th>\n",
       "    </tr>\n",
       "  </thead>\n",
       "  <tbody>\n",
       "    <tr>\n",
       "      <th>2</th>\n",
       "      <td>03/07/2020 10:11</td>\n",
       "      <td>والله يابو دانة لعنة انهيار السوق ٢٠٠٦ حتى اليوم ملاحقة سوقنا ، ومع اكتتاب ارامكو عدد كبير من الناس اكتتبو وصارو يتابعون السوق وأصبح في اهتمام في الفرص الي فيه وللأسف خابت توقعات الكثير منهم ، اعتقد نحتاج فتره زمنية اطول وتحسن الأوضاع الاقتصادية علشان نصل للمستويات الي ذكرها الاخ</td>\n",
       "      <td>1.240000e+18</td>\n",
       "      <td>0</td>\n",
       "      <td>Kingdom of Saudi Arabia</td>\n",
       "      <td>واله يابو دانه لعنه انهيار السوق ٢٠٦ حتي اليوم ملاحقه سوقنا ومع اكتاب ارامكو عد كبير من الناس اكتبو وصارو يتابعون السوق واصبح في اهتمام في الفرص الي فيه ولاسف خابت توقعات الكثير منهم اعتقد نحتاج فتره زمنيه اطول وتحسن الاوضاع الاقتصاديه علشان نصل لمستويات الي ذكرها الاخ</td>\n",
       "      <td>['واله', 'يابو', 'دانه', 'لعنه', 'انهيار', 'السوق', '٢٠٦', 'حتي', 'اليوم', 'ملاحقه', 'سوقنا', 'ومع', 'اكتاب', 'ارامكو', 'عد', 'كبير', 'من', 'الناس', 'اكتبو', 'وصارو', 'يتابعون', 'السوق', 'واصبح', 'في', 'اهتمام', 'في', 'الفرص', 'الي', 'فيه', 'ولاسف', 'خابت', 'توقعات', 'الكثير', 'منهم', 'اعتقد', 'نحتاج', 'فتره', 'زمنيه', 'اطول', 'وتحسن', 'الاوضاع', 'الاقتصاديه', 'علشان', 'نصل', 'لمستويات', 'الي', 'ذكرها', 'الاخ']</td>\n",
       "      <td>Not Given</td>\n",
       "    </tr>\n",
       "    <tr>\n",
       "      <th>4</th>\n",
       "      <td>03/07/2020 8:07</td>\n",
       "      <td>بالنسبة للميزانية السعوديه فقد خرجت من أزمة اسعار النفط على الأقل للخمس سنوات القادمه بسبب اكتتاب أرامكو و الخطه الاستثمارية الشجاعة التي اعتمدتها في السبع سنوات الاخيره وعقبال عندنا</td>\n",
       "      <td>1.240000e+18</td>\n",
       "      <td>1</td>\n",
       "      <td>Not Given</td>\n",
       "      <td>بالنسبه لميزانيه السعوديه فقد خرجت من ازمه اسعار النفط علي الاقل لخمس سنوات القادمه بسب اكتاب ارامكو و الخطه الاستثماريه الشجاعه التي اعتمدتها في السبع سنوات الاخيره وعقبال عندنا</td>\n",
       "      <td>['بالنسبه', 'لميزانيه', 'السعوديه', 'فقد', 'خرجت', 'من', 'ازمه', 'اسعار', 'النفط', 'علي', 'الاقل', 'لخمس', 'سنوات', 'القادمه', 'بسب', 'اكتاب', 'ارامكو', 'و', 'الخطه', 'الاستثماريه', 'الشجاعه', 'التي', 'اعتمدتها', 'في', 'السبع', 'سنوات', 'الاخيره', 'وعقبال', 'عندنا']</td>\n",
       "      <td>Not Given</td>\n",
       "    </tr>\n",
       "    <tr>\n",
       "      <th>7</th>\n",
       "      <td>03/06/2020 15:36</td>\n",
       "      <td>طبعاً هذا كان قبل اكتتاب أرامكو بعدها وصلت السعودية ل المركز التاسع على مستوى العالم و السابعه دولياً و تحققت رؤية ٢٠٣٠ ب نهاية ٢٠١٩</td>\n",
       "      <td>1.240000e+18</td>\n",
       "      <td>1</td>\n",
       "      <td>اللهم إرحم جدي.</td>\n",
       "      <td>السعوديه اصابها الشل الرباعي من يوم مامسك محمد بن سلمان الحكم الغلا زاد التجار انحاشوا بسب الرسوم البنزين صار غالي صار عندنا فقراء ومعدومين فرض الضريبه الي عمرنا ماسمعنا عنها حتي قبل البترول البطاله زادت معدل الجريمه زاد ركود اقتصادي وفشل في اكتاب ارامكو</td>\n",
       "      <td>['السعوديه', 'اصابها', 'الشل', 'الرباعي', 'من', 'يوم', 'مامسك', 'محمد', 'بن', 'سلمان', 'الحكم', 'الغلا', 'زاد', 'التجار', 'انحاشوا', 'بسب', 'الرسوم', 'البنزين', 'صار', 'غالي', 'صار', 'عندنا', 'فقراء', 'ومعدومين', 'فرض', 'الضريبه', 'الي', 'عمرنا', 'ماسمعنا', 'عنها', 'حتي', 'قبل', 'البترول', 'البطاله', 'زادت', 'معدل', 'الجريمه', 'زاد', 'ركود', 'اقتصادي', 'وفشل', 'في', 'اكتاب', 'ارامكو']</td>\n",
       "      <td>Other Country</td>\n",
       "    </tr>\n",
       "    <tr>\n",
       "      <th>11</th>\n",
       "      <td>03/04/2020 16:27</td>\n",
       "      <td>طريقة تفكيرك جد متخلفة واليوم العالم كله خرج من عزلته وأصبح يصطاد العلماء والخبرات ويقوم بتوظيفها في بلاده للإستفادة منها وانت حسابها عيب ملاحظة :آخر اكتتاب طرحته أرامكو جلب أكثر من 2 تريليون دولار وهو سابقة في تاريخ الشركات القابضة وهذا داخل السعودية فقط وقريب تطرح خارجها.</td>\n",
       "      <td>1.240000e+18</td>\n",
       "      <td>1</td>\n",
       "      <td>سطيف (الجزائر)🇩🇿🇩🇿</td>\n",
       "      <td>في اكتاب ارامكو احسب اني بصير غني بسبه</td>\n",
       "      <td>['في', 'اكتاب', 'ارامكو', 'احسب', 'اني', 'بصير', 'غني', 'بسبه']</td>\n",
       "      <td>Other Country</td>\n",
       "    </tr>\n",
       "    <tr>\n",
       "      <th>13</th>\n",
       "      <td>03/04/2020 12:36</td>\n",
       "      <td>وين كانت الموضوعية أيام اكتتاب أوامكو كنت تحمس العالم فيها ..اتذكر بعدها ظهرت في اذاعة يو اف ام وتغير كلامك عن أرامكو وقلت فيما معناه \"الان الاكتتاب خلص وترى ارامكو أرباحها متوقع بأن لاتكون مثل ماضيها...الخ\" احترم شخصك ولو اختلفت معك في نسبة الموضوعية لك</td>\n",
       "      <td>1.240000e+18</td>\n",
       "      <td>0</td>\n",
       "      <td>Not Given</td>\n",
       "      <td>اكتابارامكو يبدا ١ نوفمبر</td>\n",
       "      <td>['اكتابارامكو', 'يبدا', '١', 'نوفمبر']</td>\n",
       "      <td>Not Given</td>\n",
       "    </tr>\n",
       "  </tbody>\n",
       "</table>\n",
       "</div>"
      ],
      "text/plain": [
       "                date  \\\n",
       "2   03/07/2020 10:11   \n",
       "4   03/07/2020 8:07    \n",
       "7   03/06/2020 15:36   \n",
       "11  03/04/2020 16:27   \n",
       "13  03/04/2020 12:36   \n",
       "\n",
       "                                                                                                                                                                                                                                                                                        text  \\\n",
       "2   والله يابو دانة لعنة انهيار السوق ٢٠٠٦ حتى اليوم ملاحقة سوقنا ، ومع اكتتاب ارامكو عدد كبير من الناس اكتتبو وصارو يتابعون السوق وأصبح في اهتمام في الفرص الي فيه وللأسف خابت توقعات الكثير منهم ، اعتقد نحتاج فتره زمنية اطول وتحسن الأوضاع الاقتصادية علشان نصل للمستويات الي ذكرها الاخ   \n",
       "4   بالنسبة للميزانية السعوديه فقد خرجت من أزمة اسعار النفط على الأقل للخمس سنوات القادمه بسبب اكتتاب أرامكو و الخطه الاستثمارية الشجاعة التي اعتمدتها في السبع سنوات الاخيره وعقبال عندنا                                                                                                     \n",
       "7   طبعاً هذا كان قبل اكتتاب أرامكو بعدها وصلت السعودية ل المركز التاسع على مستوى العالم و السابعه دولياً و تحققت رؤية ٢٠٣٠ ب نهاية ٢٠١٩                                                                                                                                                       \n",
       "11  طريقة تفكيرك جد متخلفة واليوم العالم كله خرج من عزلته وأصبح يصطاد العلماء والخبرات ويقوم بتوظيفها في بلاده للإستفادة منها وانت حسابها عيب ملاحظة :آخر اكتتاب طرحته أرامكو جلب أكثر من 2 تريليون دولار وهو سابقة في تاريخ الشركات القابضة وهذا داخل السعودية فقط وقريب تطرح خارجها.         \n",
       "13  وين كانت الموضوعية أيام اكتتاب أوامكو كنت تحمس العالم فيها ..اتذكر بعدها ظهرت في اذاعة يو اف ام وتغير كلامك عن أرامكو وقلت فيما معناه \"الان الاكتتاب خلص وترى ارامكو أرباحها متوقع بأن لاتكون مثل ماضيها...الخ\" احترم شخصك ولو اختلفت معك في نسبة الموضوعية لك                             \n",
       "\n",
       "              id  stance                  location  \\\n",
       "2   1.240000e+18  0        Kingdom of Saudi Arabia   \n",
       "4   1.240000e+18  1        Not Given                 \n",
       "7   1.240000e+18  1        اللهم إرحم جدي.           \n",
       "11  1.240000e+18  1        سطيف (الجزائر)🇩🇿🇩🇿        \n",
       "13  1.240000e+18  0        Not Given                 \n",
       "\n",
       "                                                                                                                                                                                                                                                                       clean text  \\\n",
       "2   واله يابو دانه لعنه انهيار السوق ٢٠٦ حتي اليوم ملاحقه سوقنا ومع اكتاب ارامكو عد كبير من الناس اكتبو وصارو يتابعون السوق واصبح في اهتمام في الفرص الي فيه ولاسف خابت توقعات الكثير منهم اعتقد نحتاج فتره زمنيه اطول وتحسن الاوضاع الاقتصاديه علشان نصل لمستويات الي ذكرها الاخ   \n",
       "4   بالنسبه لميزانيه السعوديه فقد خرجت من ازمه اسعار النفط علي الاقل لخمس سنوات القادمه بسب اكتاب ارامكو و الخطه الاستثماريه الشجاعه التي اعتمدتها في السبع سنوات الاخيره وعقبال عندنا                                                                                              \n",
       "7   السعوديه اصابها الشل الرباعي من يوم مامسك محمد بن سلمان الحكم الغلا زاد التجار انحاشوا بسب الرسوم البنزين صار غالي صار عندنا فقراء ومعدومين فرض الضريبه الي عمرنا ماسمعنا عنها حتي قبل البترول البطاله زادت معدل الجريمه زاد ركود اقتصادي وفشل في اكتاب ارامكو                  \n",
       "11  في اكتاب ارامكو احسب اني بصير غني بسبه                                                                                                                                                                                                                                          \n",
       "13  اكتابارامكو يبدا ١ نوفمبر                                                                                                                                                                                                                                                       \n",
       "\n",
       "                                                                                                                                                                                                                                                                                                                                                                                                                            tokens  \\\n",
       "2   ['واله', 'يابو', 'دانه', 'لعنه', 'انهيار', 'السوق', '٢٠٦', 'حتي', 'اليوم', 'ملاحقه', 'سوقنا', 'ومع', 'اكتاب', 'ارامكو', 'عد', 'كبير', 'من', 'الناس', 'اكتبو', 'وصارو', 'يتابعون', 'السوق', 'واصبح', 'في', 'اهتمام', 'في', 'الفرص', 'الي', 'فيه', 'ولاسف', 'خابت', 'توقعات', 'الكثير', 'منهم', 'اعتقد', 'نحتاج', 'فتره', 'زمنيه', 'اطول', 'وتحسن', 'الاوضاع', 'الاقتصاديه', 'علشان', 'نصل', 'لمستويات', 'الي', 'ذكرها', 'الاخ']   \n",
       "4   ['بالنسبه', 'لميزانيه', 'السعوديه', 'فقد', 'خرجت', 'من', 'ازمه', 'اسعار', 'النفط', 'علي', 'الاقل', 'لخمس', 'سنوات', 'القادمه', 'بسب', 'اكتاب', 'ارامكو', 'و', 'الخطه', 'الاستثماريه', 'الشجاعه', 'التي', 'اعتمدتها', 'في', 'السبع', 'سنوات', 'الاخيره', 'وعقبال', 'عندنا']                                                                                                                                                       \n",
       "7   ['السعوديه', 'اصابها', 'الشل', 'الرباعي', 'من', 'يوم', 'مامسك', 'محمد', 'بن', 'سلمان', 'الحكم', 'الغلا', 'زاد', 'التجار', 'انحاشوا', 'بسب', 'الرسوم', 'البنزين', 'صار', 'غالي', 'صار', 'عندنا', 'فقراء', 'ومعدومين', 'فرض', 'الضريبه', 'الي', 'عمرنا', 'ماسمعنا', 'عنها', 'حتي', 'قبل', 'البترول', 'البطاله', 'زادت', 'معدل', 'الجريمه', 'زاد', 'ركود', 'اقتصادي', 'وفشل', 'في', 'اكتاب', 'ارامكو']                              \n",
       "11  ['في', 'اكتاب', 'ارامكو', 'احسب', 'اني', 'بصير', 'غني', 'بسبه']                                                                                                                                                                                                                                                                                                                                                                  \n",
       "13  ['اكتابارامكو', 'يبدا', '١', 'نوفمبر']                                                                                                                                                                                                                                                                                                                                                                                           \n",
       "\n",
       "             City  \n",
       "2   Not Given      \n",
       "4   Not Given      \n",
       "7   Other Country  \n",
       "11  Other Country  \n",
       "13  Not Given      "
      ]
     },
     "execution_count": 230,
     "metadata": {},
     "output_type": "execute_result"
    }
   ],
   "source": [
    "df.head()"
   ]
  },
  {
   "cell_type": "code",
   "execution_count": 231,
   "metadata": {},
   "outputs": [
    {
     "data": {
      "text/html": [
       "<div>\n",
       "<style scoped>\n",
       "    .dataframe tbody tr th:only-of-type {\n",
       "        vertical-align: middle;\n",
       "    }\n",
       "\n",
       "    .dataframe tbody tr th {\n",
       "        vertical-align: top;\n",
       "    }\n",
       "\n",
       "    .dataframe thead th {\n",
       "        text-align: right;\n",
       "    }\n",
       "</style>\n",
       "<table border=\"1\" class=\"dataframe\">\n",
       "  <thead>\n",
       "    <tr style=\"text-align: right;\">\n",
       "      <th></th>\n",
       "      <th>date</th>\n",
       "      <th>text</th>\n",
       "      <th>id</th>\n",
       "      <th>stance</th>\n",
       "      <th>location</th>\n",
       "      <th>clean text</th>\n",
       "      <th>tokens</th>\n",
       "      <th>City</th>\n",
       "    </tr>\n",
       "  </thead>\n",
       "  <tbody>\n",
       "    <tr>\n",
       "      <th>3672</th>\n",
       "      <td>12/05/2019 21:54</td>\n",
       "      <td>#اكتتاب_أرامكو تخصيص ١٥٠٠ سهم كحد اعلى للفرد الواحد رقم كبير والله ، كنت متوقع ٣٠٠ سهم ، اعتقد فرصه وضاعت</td>\n",
       "      <td>1.200000e+18</td>\n",
       "      <td>1</td>\n",
       "      <td>Not Given</td>\n",
       "      <td>وضع المكتبين في ارامكو اليوم نجاحاكتابارامكو</td>\n",
       "      <td>['وضع', 'المكتبين', 'في', 'ارامكو', 'اليوم', 'نجاحاكتابارامكو']</td>\n",
       "      <td>Not Given</td>\n",
       "    </tr>\n",
       "    <tr>\n",
       "      <th>3673</th>\n",
       "      <td>12/05/2019 21:54</td>\n",
       "      <td>اكتتاب أرامكو يجمع 446 مليار ريال بتغطية 465%.. و32 ريالا تسعير نهائي http://dlvr.it/RKlMYl</td>\n",
       "      <td>1.200000e+18</td>\n",
       "      <td>0</td>\n",
       "      <td>العربيه السعوديةمملكةالانسانيه</td>\n",
       "      <td>بلغت القيمه السوقيه ل ارامكو السعوديه بنهايه جلسه اليوم نحو 704 تريليون ريال لتقفز براس المال السوقي ل تداول الي نحو 895 تريليون ريال مقابل نحو 189 تريليون ريال بالجلسه السابقه التفاصيل نجاحاكتابارامكو تداولارامكو سهمارامكو</td>\n",
       "      <td>['بلغت', 'القيمه', 'السوقيه', 'ل', 'ارامكو', 'السعوديه', 'بنهايه', 'جلسه', 'اليوم', 'نحو', '704', 'تريليون', 'ريال', 'لتقفز', 'براس', 'المال', 'السوقي', 'ل', 'تداول', 'الي', 'نحو', '895', 'تريليون', 'ريال', 'مقابل', 'نحو', '189', 'تريليون', 'ريال', 'بالجلسه', 'السابقه', 'التفاصيل', 'نجاحاكتابارامكو', 'تداولارامكو', 'سهمارامكو']</td>\n",
       "      <td>Not Given</td>\n",
       "    </tr>\n",
       "    <tr>\n",
       "      <th>3675</th>\n",
       "      <td>12/05/2019 21:54</td>\n",
       "      <td>#اكتتاب_ارامكو الحمد الله مكتتب ب 10 اسهم بس القناعه شي جميل</td>\n",
       "      <td>1.200000e+18</td>\n",
       "      <td>1</td>\n",
       "      <td>الرياض</td>\n",
       "      <td>نجاحاكتابارامكو ثقافه الكسب السريع هي عثره في طريق الحريهالماليه</td>\n",
       "      <td>['نجاحاكتابارامكو', 'ثقافه', 'الكسب', 'السريع', 'هي', 'عثره', 'في', 'طريق', 'الحريهالماليه']</td>\n",
       "      <td>Other Country</td>\n",
       "    </tr>\n",
       "    <tr>\n",
       "      <th>3676</th>\n",
       "      <td>12/05/2019 21:54</td>\n",
       "      <td>#اكتتاب_أرامكو هو الأكبر بالعالم • إجمالي الأموال المجمعة 446 مليار • تخصيص 1500 سهم للمكتتب الفرد الواحد في #ارامكوا</td>\n",
       "      <td>1.200000e+18</td>\n",
       "      <td>1</td>\n",
       "      <td>Not Given</td>\n",
       "      <td>تسوق مع نون لحصول علي خصم 10 استخدام كود الخصم LMN48 نجاحاكتابارامكو</td>\n",
       "      <td>['تسوق', 'مع', 'نون', 'لحصول', 'علي', 'خصم', '10', 'استخدام', 'كود', 'الخصم', 'LMN48', 'نجاحاكتابارامكو']</td>\n",
       "      <td>Not Given</td>\n",
       "    </tr>\n",
       "    <tr>\n",
       "      <th>3677</th>\n",
       "      <td>12/05/2019 21:54</td>\n",
       "      <td>#اكتتاب_أرامكو يصبح الأكبر في العالم بقيمة 25.6 مليار دولار • تخطّت قيمة #طلبات_الاكتتاب 119 مليار دولار</td>\n",
       "      <td>1.200000e+18</td>\n",
       "      <td>1</td>\n",
       "      <td>الرياض, المملكة العربية السعودية</td>\n",
       "      <td>مكن تعيدون الاكتاب شوي نبغي نكتب انا وصاحبتي نجاحاكتابارامكو</td>\n",
       "      <td>['مكن', 'تعيدون', 'الاكتاب', 'شوي', 'نبغي', 'نكتب', 'انا', 'وصاحبتي', 'نجاحاكتابارامكو']</td>\n",
       "      <td>Riyadh</td>\n",
       "    </tr>\n",
       "  </tbody>\n",
       "</table>\n",
       "</div>"
      ],
      "text/plain": [
       "                  date  \\\n",
       "3672  12/05/2019 21:54   \n",
       "3673  12/05/2019 21:54   \n",
       "3675  12/05/2019 21:54   \n",
       "3676  12/05/2019 21:54   \n",
       "3677  12/05/2019 21:54   \n",
       "\n",
       "                                                                                                                       text  \\\n",
       "3672  #اكتتاب_أرامكو تخصيص ١٥٠٠ سهم كحد اعلى للفرد الواحد رقم كبير والله ، كنت متوقع ٣٠٠ سهم ، اعتقد فرصه وضاعت               \n",
       "3673  اكتتاب أرامكو يجمع 446 مليار ريال بتغطية 465%.. و32 ريالا تسعير نهائي http://dlvr.it/RKlMYl                             \n",
       "3675  #اكتتاب_ارامكو الحمد الله مكتتب ب 10 اسهم بس القناعه شي جميل                                                            \n",
       "3676  #اكتتاب_أرامكو هو الأكبر بالعالم • إجمالي الأموال المجمعة 446 مليار • تخصيص 1500 سهم للمكتتب الفرد الواحد في #ارامكوا   \n",
       "3677  #اكتتاب_أرامكو يصبح الأكبر في العالم بقيمة 25.6 مليار دولار • تخطّت قيمة #طلبات_الاكتتاب 119 مليار دولار                \n",
       "\n",
       "                id  stance                           location  \\\n",
       "3672  1.200000e+18  1        Not Given                          \n",
       "3673  1.200000e+18  0        العربيه السعوديةمملكةالانسانيه     \n",
       "3675  1.200000e+18  1        الرياض                             \n",
       "3676  1.200000e+18  1        Not Given                          \n",
       "3677  1.200000e+18  1        الرياض, المملكة العربية السعودية   \n",
       "\n",
       "                                                                                                                                                                                                                            clean text  \\\n",
       "3672  وضع المكتبين في ارامكو اليوم نجاحاكتابارامكو                                                                                                                                                                                       \n",
       "3673  بلغت القيمه السوقيه ل ارامكو السعوديه بنهايه جلسه اليوم نحو 704 تريليون ريال لتقفز براس المال السوقي ل تداول الي نحو 895 تريليون ريال مقابل نحو 189 تريليون ريال بالجلسه السابقه التفاصيل نجاحاكتابارامكو تداولارامكو سهمارامكو    \n",
       "3675  نجاحاكتابارامكو ثقافه الكسب السريع هي عثره في طريق الحريهالماليه                                                                                                                                                                   \n",
       "3676   تسوق مع نون لحصول علي خصم 10 استخدام كود الخصم LMN48 نجاحاكتابارامكو                                                                                                                                                              \n",
       "3677  مكن تعيدون الاكتاب شوي نبغي نكتب انا وصاحبتي نجاحاكتابارامكو                                                                                                                                                                       \n",
       "\n",
       "                                                                                                                                                                                                                                                                                                                                         tokens  \\\n",
       "3672  ['وضع', 'المكتبين', 'في', 'ارامكو', 'اليوم', 'نجاحاكتابارامكو']                                                                                                                                                                                                                                                                             \n",
       "3673  ['بلغت', 'القيمه', 'السوقيه', 'ل', 'ارامكو', 'السعوديه', 'بنهايه', 'جلسه', 'اليوم', 'نحو', '704', 'تريليون', 'ريال', 'لتقفز', 'براس', 'المال', 'السوقي', 'ل', 'تداول', 'الي', 'نحو', '895', 'تريليون', 'ريال', 'مقابل', 'نحو', '189', 'تريليون', 'ريال', 'بالجلسه', 'السابقه', 'التفاصيل', 'نجاحاكتابارامكو', 'تداولارامكو', 'سهمارامكو']   \n",
       "3675  ['نجاحاكتابارامكو', 'ثقافه', 'الكسب', 'السريع', 'هي', 'عثره', 'في', 'طريق', 'الحريهالماليه']                                                                                                                                                                                                                                                \n",
       "3676  ['تسوق', 'مع', 'نون', 'لحصول', 'علي', 'خصم', '10', 'استخدام', 'كود', 'الخصم', 'LMN48', 'نجاحاكتابارامكو']                                                                                                                                                                                                                                   \n",
       "3677  ['مكن', 'تعيدون', 'الاكتاب', 'شوي', 'نبغي', 'نكتب', 'انا', 'وصاحبتي', 'نجاحاكتابارامكو']                                                                                                                                                                                                                                                    \n",
       "\n",
       "               City  \n",
       "3672  Not Given      \n",
       "3673  Not Given      \n",
       "3675  Other Country  \n",
       "3676  Not Given      \n",
       "3677  Riyadh         "
      ]
     },
     "execution_count": 231,
     "metadata": {},
     "output_type": "execute_result"
    }
   ],
   "source": [
    "df.tail()"
   ]
  },
  {
   "cell_type": "code",
   "execution_count": 44,
   "metadata": {},
   "outputs": [],
   "source": [
    "# idneitfy the data and the labels\n",
    "data= df['clean text']\n",
    "target= df['stance ']"
   ]
  },
  {
   "cell_type": "code",
   "execution_count": 45,
   "metadata": {},
   "outputs": [
    {
     "data": {
      "text/plain": [
       "(2748, 12968)"
      ]
     },
     "execution_count": 45,
     "metadata": {},
     "output_type": "execute_result"
    }
   ],
   "source": [
    "# Use TfidfVectorizer for feature extraction (TFIDF to convert textual data to numeric form):\n",
    "tf_vec = TfidfVectorizer()\n",
    "X = tf_vec.fit_transform(data)\n",
    "X.shape"
   ]
  },
  {
   "cell_type": "code",
   "execution_count": 9,
   "metadata": {},
   "outputs": [
    {
     "data": {
      "text/plain": [
       "False"
      ]
     },
     "execution_count": 9,
     "metadata": {},
     "output_type": "execute_result"
    }
   ],
   "source": [
    "pd.isnull(X)"
   ]
  },
  {
   "cell_type": "code",
   "execution_count": 11,
   "metadata": {},
   "outputs": [
    {
     "ename": "TypeError",
     "evalue": "ufunc 'isnan' not supported for the input types, and the inputs could not be safely coerced to any supported types according to the casting rule ''safe''",
     "output_type": "error",
     "traceback": [
      "\u001b[0;31m---------------------------------------------------------------------------\u001b[0m",
      "\u001b[0;31mTypeError\u001b[0m                                 Traceback (most recent call last)",
      "\u001b[0;32m<ipython-input-11-7a5e6fb63bfc>\u001b[0m in \u001b[0;36m<module>\u001b[0;34m()\u001b[0m\n\u001b[0;32m----> 1\u001b[0;31m \u001b[0mnp\u001b[0m\u001b[0;34m.\u001b[0m\u001b[0many\u001b[0m\u001b[0;34m(\u001b[0m\u001b[0mnp\u001b[0m\u001b[0;34m.\u001b[0m\u001b[0misnan\u001b[0m\u001b[0;34m(\u001b[0m\u001b[0mtarget\u001b[0m\u001b[0;34m)\u001b[0m\u001b[0;34m)\u001b[0m\u001b[0;34m\u001b[0m\u001b[0m\n\u001b[0m",
      "\u001b[0;31mTypeError\u001b[0m: ufunc 'isnan' not supported for the input types, and the inputs could not be safely coerced to any supported types according to the casting rule ''safe''"
     ]
    }
   ],
   "source": [
    "np.any(np.isnan(target))"
   ]
  },
  {
   "cell_type": "code",
   "execution_count": 12,
   "metadata": {},
   "outputs": [
    {
     "ename": "TypeError",
     "evalue": "ufunc 'isnan' not supported for the input types, and the inputs could not be safely coerced to any supported types according to the casting rule ''safe''",
     "output_type": "error",
     "traceback": [
      "\u001b[0;31m---------------------------------------------------------------------------\u001b[0m",
      "\u001b[0;31mTypeError\u001b[0m                                 Traceback (most recent call last)",
      "\u001b[0;32m<ipython-input-12-3c1969529205>\u001b[0m in \u001b[0;36m<module>\u001b[0;34m()\u001b[0m\n\u001b[0;32m----> 1\u001b[0;31m \u001b[0mnp\u001b[0m\u001b[0;34m.\u001b[0m\u001b[0misnan\u001b[0m\u001b[0;34m(\u001b[0m\u001b[0mtarget\u001b[0m\u001b[0;34m)\u001b[0m\u001b[0;34m\u001b[0m\u001b[0m\n\u001b[0m",
      "\u001b[0;31mTypeError\u001b[0m: ufunc 'isnan' not supported for the input types, and the inputs could not be safely coerced to any supported types according to the casting rule ''safe''"
     ]
    }
   ],
   "source": [
    "np.isnan(target)"
   ]
  },
  {
   "cell_type": "code",
   "execution_count": 46,
   "metadata": {},
   "outputs": [],
   "source": [
    "# Training Phase\n",
    "X_train, X_test, y_train, y_test = train_test_split(X, target, test_size=0.3, random_state=0)"
   ]
  },
  {
   "cell_type": "code",
   "execution_count": 47,
   "metadata": {},
   "outputs": [],
   "source": [
    "# create the classifer and fit the training data and lables\n",
    "classifier_nb = MultinomialNB().fit(X_train.todense(),y_train)"
   ]
  },
  {
   "cell_type": "code",
   "execution_count": 48,
   "metadata": {},
   "outputs": [
    {
     "name": "stdout",
     "output_type": "stream",
     "text": [
      "MultinomialNB accuracy: 0.72\n"
     ]
    }
   ],
   "source": [
    "print(\"MultinomialNB accuracy: %.2f\"%classifier_nb.score(X_test.todense(), y_test))"
   ]
  },
  {
   "cell_type": "code",
   "execution_count": 49,
   "metadata": {},
   "outputs": [
    {
     "name": "stdout",
     "output_type": "stream",
     "text": [
      "\n",
      "10-fold cross-validation:\n",
      "[0.66666667 0.69565217 0.73188406 0.73090909 0.73090909 0.73357664\n",
      " 0.73357664 0.73722628 0.71532847 0.72992701]\n",
      "The average accuracy of the MultinomialNB classifier is : 0.72\n",
      "\n",
      "Confusion matrix of the MultinomialNB classifier:\n",
      "[[  0 234]\n",
      " [  1 590]]\n",
      "\n",
      "Classification_report of MultinomialNB classifier:\n",
      "             precision    recall  f1-score   support\n",
      "\n",
      "   Negative       0.00      0.00      0.00       234\n",
      "   Positive       0.72      1.00      0.83       591\n",
      "\n",
      "avg / total       0.51      0.72      0.60       825\n",
      "\n"
     ]
    }
   ],
   "source": [
    "#do a 10 fold cross-validation \n",
    "results_nb = cross_val_score(classifier_nb, X.todense(),target, cv=10)\n",
    "print(\"\\n10-fold cross-validation:\")\n",
    "print(results_nb)\n",
    "\n",
    "print(\"The average accuracy of the MultinomialNB classifier is : %.2f\" % np.mean(results_nb))\n",
    "\n",
    "print(\"\\nConfusion matrix of the MultinomialNB classifier:\")\n",
    "predicted_nb = classifier_nb.predict(X_test.todense())\n",
    "print(confusion_matrix(y_test,predicted_nb))\n",
    "\n",
    "\n",
    "print(\"\\nClassification_report of MultinomialNB classifier:\")\n",
    "print(classification_report(y_test,predicted_nb))"
   ]
  },
  {
   "cell_type": "markdown",
   "metadata": {},
   "source": [
    "<h1> Visualization of our Findings </h1>"
   ]
  },
  {
   "cell_type": "code",
   "execution_count": 2,
   "metadata": {},
   "outputs": [
    {
     "name": "stdout",
     "output_type": "stream",
     "text": [
      "Requirement already satisfied: matplotlib in c:\\users\\abeer\\anaconda3\\lib\\site-packages (3.1.1)\n",
      "Requirement already satisfied: cycler>=0.10 in c:\\users\\abeer\\anaconda3\\lib\\site-packages (from matplotlib) (0.10.0)\n",
      "Requirement already satisfied: kiwisolver>=1.0.1 in c:\\users\\abeer\\anaconda3\\lib\\site-packages (from matplotlib) (1.1.0)\n",
      "Requirement already satisfied: pyparsing!=2.0.4,!=2.1.2,!=2.1.6,>=2.0.1 in c:\\users\\abeer\\anaconda3\\lib\\site-packages (from matplotlib) (2.4.2)\n",
      "Requirement already satisfied: python-dateutil>=2.1 in c:\\users\\abeer\\anaconda3\\lib\\site-packages (from matplotlib) (2.8.0)\n",
      "Requirement already satisfied: numpy>=1.11 in c:\\users\\abeer\\anaconda3\\lib\\site-packages (from matplotlib) (1.16.5)\n",
      "Requirement already satisfied: six in c:\\users\\abeer\\anaconda3\\lib\\site-packages (from cycler>=0.10->matplotlib) (1.12.0)\n",
      "Requirement already satisfied: setuptools in c:\\users\\abeer\\anaconda3\\lib\\site-packages (from kiwisolver>=1.0.1->matplotlib) (41.4.0)\n"
     ]
    }
   ],
   "source": [
    "!pip install matplotlib"
   ]
  },
  {
   "cell_type": "code",
   "execution_count": 4,
   "metadata": {},
   "outputs": [],
   "source": [
    "df = pd.read_csv(\"final_cleaned.csv\")"
   ]
  },
  {
   "cell_type": "code",
   "execution_count": 35,
   "metadata": {},
   "outputs": [
    {
     "data": {
      "text/plain": [
       "Positive    197\n",
       "Natural     77 \n",
       "Negative    66 \n",
       "Name: stance , dtype: int64"
      ]
     },
     "execution_count": 35,
     "metadata": {},
     "output_type": "execute_result"
    }
   ],
   "source": [
    "tweets_by_riyadh = df[df['City']=='Riyadh']\n",
    "tweets = tweets_by_riyadh['stance '].value_counts()\n",
    "tweets"
   ]
  },
  {
   "cell_type": "markdown",
   "metadata": {},
   "source": [
    "<h1>Riyadh's Stance percentage</h1>"
   ]
  },
  {
   "cell_type": "code",
   "execution_count": 49,
   "metadata": {},
   "outputs": [
    {
     "data": {
      "text/plain": [
       "<matplotlib.axes._subplots.AxesSubplot at 0x24ff0aec4c8>"
      ]
     },
     "execution_count": 49,
     "metadata": {},
     "output_type": "execute_result"
    },
    {
     "data": {
      "image/png": "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\n",
      "text/plain": [
       "<Figure size 432x288 with 1 Axes>"
      ]
     },
     "metadata": {},
     "output_type": "display_data"
    }
   ],
   "source": [
    "# since it's the most tweeted city\n",
    "tweets_by_riyadh = df[df['City']=='Riyadh']\n",
    "tweets = tweets_by_riyadh['stance '].value_counts()\n",
    "explode = (0, 0, 0.2)\n",
    "color= [\"lightgreen\",\"gold\",\"salmon\"]\n",
    "tweets.plot(kind='pie',\n",
    "           colors=color,\n",
    "            autopct='%.2f')"
   ]
  },
  {
   "cell_type": "code",
   "execution_count": 50,
   "metadata": {},
   "outputs": [
    {
     "data": {
      "text/plain": [
       "<matplotlib.axes._subplots.AxesSubplot at 0x24ff0b3b2c8>"
      ]
     },
     "execution_count": 50,
     "metadata": {},
     "output_type": "execute_result"
    },
    {
     "data": {
      "image/png": "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\n",
      "text/plain": [
       "<Figure size 432x288 with 1 Axes>"
      ]
     },
     "metadata": {},
     "output_type": "display_data"
    }
   ],
   "source": [
    "tweets_by_jeddah = df[df['City']=='Jeddah']\n",
    "tweets1 = tweets_by_jeddah['stance '].value_counts()\n",
    "explode = (0, 0, 0.2)\n",
    "color1= [\"lightgreen\",\"salmon\",\"gold\"]\n",
    "tweets1.plot(kind='pie',\n",
    "           colors=color1,\n",
    "            autopct='%.2f')"
   ]
  },
  {
   "cell_type": "code",
   "execution_count": 51,
   "metadata": {},
   "outputs": [
    {
     "data": {
      "text/plain": [
       "<matplotlib.axes._subplots.AxesSubplot at 0x24ff0571b08>"
      ]
     },
     "execution_count": 51,
     "metadata": {},
     "output_type": "execute_result"
    },
    {
     "data": {
      "image/png": "iVBORw0KGgoAAAANSUhEUgAAA4oAAAKhCAYAAAAWkVC5AAAABHNCSVQICAgIfAhkiAAAAAlwSFlzAAALEgAACxIB0t1+/AAAADh0RVh0U29mdHdhcmUAbWF0cGxvdGxpYiB2ZXJzaW9uMy4xLjEsIGh0dHA6Ly9tYXRwbG90bGliLm9yZy8QZhcZAAAgAElEQVR4nOzda7hdVX0v/u9PLiaRO4R6wRhaLyiYYghqvaZqw6W1RamA1aPYekIrPYJSKlApaKvS80dRoKJY1FpRURQ5WhBEjaKCchH5cwChSgS8FTCC3MJtnBdr7WTNzU6yd9i3JJ/P8+xnrTnGmHP+5kJffDPmHLNaawEAAIAhj5rqAgAAAJheBEUAAAA6BEUAAAA6BEUAAAA6BEUAAAA6BEUAAAA6BEUA1klVtU9VHVtVx45y/FZD46tq4cRWt/aqauFAnVuN87GXVFWrqqXjcKxj+8dqVTW337bK37iq5g6MP/aRnh+AibXxVBcAAGtpnySv738/dhTjt0pyzMD2knGuZ7wszMo6P57kN1NWyditK78xAGsgKAIAY9ZaOzajC+hD45cmqQkqB4Bx5tZTAEZt8NbFqtqjqq6uqrur6stVtX1V7VpVF1XVXVX1varabdj+M6vqn6rqR1W1vKqWVdVXquoFw8a9rKq+UVW39Mf9rD9un37/0qycTczALY1LVlH3gUluGGg6ZmCfhVV1fv/7Dwb2Ob3f9u2BtrP7bdcOtG1VVe+tqh9X1X39mj9TVU8ZVsOjqupvq+oH/d/szv7v+bLB3zfdGbkbht8qWlU7VdWnq+qX/fP9tKreV1WbDzvfblV1cVXd2//vtM9Iv82qVNVjq+rkqrqh/9/g1qr6alX9Xr+/c+vpKH7jEW89Hc3vMnA9X+5f9/L+5zeq6o1juS4ARseMIgBrY7skZyd5dH/7j5N8IclOSbbttz07yVlV9XuttfurapMk5ycZDIWbJtkjycuqap/W2per6klJvpRkxsC4x/f//ivJFyfger6V5I+SPLOqNmut3ZnkD/p9u1XVJq21+wfaLkySfjj7dpKdB461XZL9kyyqque01q7vt388yf8Ydt4XJ3lRVR3QWvvsmoqsqt/vn2+zgeY5Sd7SP87zW2vLq2rbJBekdytokjw9yZlJlq3pHP3zPCHJ95I8YaB52yQvS/LEJD8ezXFG6eNZw+9SVY9Jcl5W/m8rSX6n/3dXkn8bx3oAiBlFANbOY5L8S3pBZGjG7flJvp9kmyTv77c9Mclz+t9fk5Uh8fT+uBcnuTPJRklOqqpKsiArQ+Lu6YXRJyX5i6FztdbmJvn3oWJaa9X/WzhSsa21jyfZcaDpHQP7LEk/+PXr2L2qHtsf3/q1PKs/Qzi7P+5b/c9D0wuJ9yXZsz/2mUn+O8nWSf4pSarqhVkZhv4hyeZJHpfeM3yV5ISqelS//ncM1Lljv8a5/e33pRcSr++fd0aSfft9uyV5Q//7W7IyJL4zyZZJ/ld6IXY03pmVIfHf0gvp2/Wv4ZaRdhjFb/wwo/1d0v0HiH3T+weGHZL8WXr/qADAOBMUAVgb9yU5rrV2e5LvDLQf31pbluTcgbYn9j/3GGj7h9bastbat9Kb6UqSuUmekuSnA+OOSnJwekHhy621z4zfJXR8L71rSnqzhkMzh0Mh5Hn9vyFDQXGv/uemSb6S5N4k/3+S7fvtfzhsXJK8K8lvk/wivYVrkl4Qe9rqCqyqWekF66T3O/3f/vk+PzBs6HxDtd6T5F2ttTtaa6ckuXF15xgwVO8vk7yptfaL1tptrbVPttb+7yiPMZbzJKv/XX6W5MF+28HpBeFdk3yntfbhcawHgD5BEYC1cUtr7Z7+93sH2oeCyH0DbUO3pw7OZt28iu+zW2uXphca7knyivRm0c5L8quJeh6ttXZvkkv6m8/NyqB4Qnqzin+QleHrxtbaUJidndXbZpTjBseuytbpzXiO5hiP63/e2lob/G/x81HUkays9yf9W24nyqh+l9baL5O8OcntSV6S3mz2l5P8sqqOWd3OAKwdQRGAtfHAGNuT5NaB74PPvu0wfExr7e3pBcvnJzkwycVJZiY5saqGnq9vY6h3NOOHbj8dCoW/TW/m8EfpBsULB/YZuqbbkmw0cKtltdYqvZnGwXFJsusI4x7VWhuamV1VncuSPNT//sXhx+gfZ1G//xf9z+2qatOBYzx+Db/BkKHbS3934PcejbH+Nxn179Ja+2B6wfLZ6d3GfG56ay0cU1U7DD8wAI+MoAjAZDl/4Ps/91cLfUFWPmP30yTXVdUzq+roJE9N7/bKM5MMrUY6M73n2JKBhVmq6pmjOP+vB77v1F9cZ9BQANwuvWD4vdbaQ0kuSu/22aEFa741sM9X+p/bJnlfVW1XvZVdn1NVH01yxLBxSfL+qnpyVW1aVU/rrwD6uYH+wQVndhn60lq7e+DcL6+q/1FVj+n/jn9SVV9N8qJ+/1DonJnkH6pqi6r6m/QWvhmNc/qfj01ycn8F1K2r6tVVtfNq9lvTbzzcqH6XqvqdqjouyfwkP0nvdtuhZ2Mro3/2EoBREhQBmCyfTC90Jb0FTJalF842T+/5s0Naay290PXO9MLhb9Jb7OZv+vt9r/8MZLLyVtEkubL/2oV/XtXJW2u/TXJdf3P/JPf19xmaMftOVs7YPWqg1qHPoXcADgbF9ycZelXGIenNxN2d3gzoG9K/7ba19s0kn+6PW5jeYjTL+/sek27QGbyuL/Vr/GR/+7D0VvncKMkn0vttlqX3LOXLBmp8f3q/XZL8Y3q3bP7rQNuaHJPec4FJclB6M5S/TvKprOZ20VH8xsPHj/Z3mZnkben9rremd7vzu/p9NyW5epTXBcAoCYoATIr+s24vS/Lu9F5zcX96Aeb8JC9prZ3dH/pfSU5Nbzbx9vSCw9J+2+C7AD+b5ANZeZvlaLw+vSB2z/CO/sI8Vw40fbf/edFA2y2ttWuH7fMHSd6b3isj7ksvUF2WXpD5xMC+r03vObsfpBd07kwvEJ2a3oqfQ8e8KL1FfG7KyuA61Hd5eivBfjrJr9L7DX+R5BvprcB6eX/cbem97uP7/ZquS3JAkh+u8pfpnudn6a0++6/p/fb396/rgn5dq7PK33gVRvO73JbkxP6YZf16fpZecH3ZsOcwARgH1fvHWwAAAOgxowgAAECHoAgAAECHoAgAAECHoAgAAECHoAgAAEDHiO812hBst912be7cuVNdBgAAwJS47LLLbm2tjfh+3A02KM6dOzeXXnrpVJcBAAAwJarqp6vqc+spAAAAHYIiAAAAHYIiAAAAHRvsM4oAAMC64f7778/NN9+ce++9d6pLWSfNmDEjO+ywQzbZZJNR7yMoAgAA09rNN9+czTffPHPnzk1VTXU565TWWm677bbcfPPN2XHHHUe9n1tPAQCAae3ee+/NtttuKySuharKtttuO+bZWEERAACY9oTEtbc2v52gCAAAsAZVlcMOO2zF9vHHH59jjz123M/z7ne/u7P9vOc9b9zPMRqeUQQAANYp97/jsDUPGoNNjnnvGsc8+tGPzhe+8IUceeSR2W677cb1/IPe/e5356ijjlqx/d3vfnfCzrU6ZhQBAADWYOONN87ixYtzwgknPKzvlltuyb777pvdd989u+++e77zne+saP+jP/qjzJ8/PwcddFCe9KQn5dZbb02S7LPPPtltt92y884759RTT02SHHHEEbnnnnuy66675jWveU2SZLPNNkuS7L///jnnnHNWnPPAAw/M5z//+Tz44IM5/PDDs/vuu2fevHn58Ic/PC7XO6lBsapeVVX/p6p+VlV3VtVlVfXqEcb9z6q6vqru7Y956QhjnlBVZ/WPc2tVnVxVsybnSgAAgA3NwQcfnNNPPz233357p/2QQw7JW97yllxyySX5/Oc/nze+8Y1Jkne84x15yUtekssvvzyveMUrcuONN67Y56Mf/Wguu+yyXHrppTnxxBNz22235bjjjsvMmTNzxRVX5PTTT++c44ADDsgZZ5yRJLnvvvvyta99LXvvvXdOO+20bLnllrnkkktyySWX5CMf+UhuuOGGR3ytk33r6VuT3JDkLUluTbJ3kk9V1XattZOSpKoOSPKhJMcm+XaSNyT5clXt3lq7qj9m4yTnJbkvyf5Jtkryvv7nayfzggAAgA3DFltskde97nU58cQTM3PmzBXtF1xwQa6++uoV23fccUd++9vf5tvf/nbOOuusJMmee+6ZrbfeesWYE088cUXfTTfdlOuvvz7bbrvtKs+911575c1vfnOWL1+er3zlK3nRi16UmTNn5vzzz8+VV16ZM888M0ly++235/rrrx/TqzBGMtlB8eWttVsHtr9eVY9PL0Ce1G97R5J/b639U5JU1TeTPCvJEVkZAl+V5OlJntxau6E/7v4kn6mqd7TWrp/4SwEAADY0hx56aObPn583vOENK9oeeuihXHTRRZ3wmPTeYTiSJUuW5IILLshFF12UWbNmZeHChWt8fcWMGTOycOHCnHfeeTnjjDPy6le/esU5TjrppOyxxx6P8Mq6JvXW02EhccgPkmyfJFX1u0memuSzA/s8lORzSfYa2GevJJcMhcS+L6Y3w7jnOJcNAACQJNlmm22y33775bTTTlvRtmjRopx88skrtq+44ookyQte8IJ89rO9aHP++edn2bJlSXqzfltvvXVmzZqVa6+9NhdffPGKfTfZZJPcf//9I577gAMOyMc+9rFceOGFK4LhHnvskVNOOWXFPtddd13uuuuuR3yd02Exm+clGZqn3an/ee2wMdck2aaqZg+M64xprd2X5McDxwAAABh3hx122IpFaZLebaSXXnpp5s2bl2c84xn50Ic+lCQ55phjcv7552f+/Pk599xz87jHPS6bb7559txzzzzwwAOZN29ejj766Dz3uc9dcazFixdn3rx5KxazGbRo0aJ861vfyste9rJsuummSZI3vvGNecYznpH58+dnl112yUEHHZQHHnjgEV9jrWo6dDL0F6n5apK/bK19vKpek+STSbZurf1mYNzL+uOe1lq7rqquT/KfrbVDhx3v20lubK39xZrOvWDBgnbppZeO5+UAAAAT4JprrsnTn/70qS5jzJYvX56NNtooG2+8cS666KL8zd/8zYrZxsk20m9YVZe11haMNH7K3qNYVXOTfCrJ2a21jw/rHp5ea4T2kRJuraJ96JyLkyxOkjlz5oy+WAAAgDG68cYbs99+++Whhx7Kpptumo985CNTXdKoTUlQrKptkpyb5MZ0Vyld1v/cKsngmrNb9T9/MzBuqzzcVgNjHqa1dmqSU5PejOKYCwcAABilpzzlKfnBD34w1WWslUl/RrH/rsMvJ9k0yR+31gaftBx67nD4c4Y7Jfl1a+2WgXGdMVW1aZLfzcOfbwQAAGAMJjUo9t9/+LkkT0myV2vtvwf7W2s/SXJdeq+/GNrnUf3tcweGnptk96p60kDbnyZ5dJKvTEz1AAAAG4bJvvX0g0n2TnJIequYPneg7wetteVJjk3yyapamuQ7SV6fXrAcXKDmzCT/kOQLVXV0ki2TnJDkU96hCAAA8MhMdlBc1P/8wAh9OyZZ2lr7dFVtluRtSY5O8n+T/Elr7aqhga21+6tqzyQnp/fOxeVJPpPk8IksHgAAYEMwqbeettbmttZqFX9LB8Z9pLX25Nbao1tr81trXxvhWDe31vZprW3WWtu2tXZwa+3uybweAABgw7DRRhtl1113zS677JJXvepVufvusUePN77xjbn66t4r5N/97nd3+p73vOeNS53jZUrfoziVvEcRAADWDcPfAfiBZSPdoLj2Dtn6kDWO2WyzzXLnnXcmSV7zmtdkt912y1vf+ta1Pufg8SbDOvMeRdZf4/1/3EdiNP+nBwCAsXjhC1+YK6+8Mknyvve9Lx/96EeT9GYMDz300Nx1113Zb7/9cvPNN+fBBx/M0Ucfnf333z8LFy7M8ccfnzPPPDP33HNPdt111+y88845/fTTVwTH/fffP69//euz9957J0kOPPDAvPzlL88+++yTI444IkuWLMny5ctz8MEH56CDDpqwaxQUAQAARumBBx7Iueeemz333DOXXXZZPvaxj+V73/teWmt5znOekxe/+MX5yU9+ksc//vH5z//8zyTJ7bff3jnGcccdl5NPPjlXXHHFw45/wAEH5Iwzzsjee++d++67L1/72tdyyimn5LTTTsuWW26ZSy65JMuXL8/zn//8LFq0KDvuuOOEXOekv0cRAABgXTM0A7hgwYLMmTMnf/VXf5Vvf/vbecUrXpHHPOYx2WyzzfLKV74yF154YZ75zGfmggsuyNve9rZceOGF2XLLLUd9nr322itf//rXs3z58px77rl50YtelJkzZ+b888/PJz7xiey66655znOek9tuuy3XXz9xL3wwowgAALAGM2fOfNgM4KrWe3nqU5+ayy67LOecc06OPPLILFq0KP/4j/84qvPMmDEjCxcuzHnnnZczzjgjr371q1ec66STTsoee+zxyC5klMwoAgAArIUXvehF+eIXv5i77747d911V84666y88IUvzM9//vPMmjUrr33ta/N3f/d3ufzyyx+27yabbJL7779/xOMecMAB+djHPpYLL7xwRTDcY489csopp6zY57rrrstdd901YddmRhEAAGAtzJ8/PwceeGCe/exnJ+ktZvOsZz0r5513Xg4//PA86lGPyiabbJJTTjnlYfsuXrw48+bNy/z583P66ad3+hYtWpTXve51+dM//dNsuummK469dOnSzJ8/P621zJ49O1/84hcn7Nq8HoNxZ9VTAADG00ivdmBsxvp6DLeeAgAA0CEoAgAA0CEoAgAA0CEoAgAA0CEoAgAA0CEoAgAA0CEoAgAArEFV5bDDDluxffzxx+fYY49dq2P95je/yQc/+MG12nfu3Lm59dZb12rfsdh4ws8AAAAwnq6t8T3eTmt+t/yjH/3ofOELX8iRRx6Z7bbb7hGdbigovulNb3pY34MPPpiNNtroER1/PJhRBAAAWIONN944ixcvzgknnPCwvltuuSX77rtvdt999+y+++75zne+kyQ59thjc/zxx68Yt8suu2Tp0qU54ogj8uMf/zi77rprDj/88CxZsiR/+Id/mL/4i7/IM5/5zCTJPvvsk9122y0777xzTj311Mm5yAFmFAEAAEbh4IMPzrx58/L3f//3nfZDDjkkb3nLW/KCF7wgN954Y/bYY49cc801qzzOcccdl6uuuipXXHFFkmTJkiX5/ve/n6uuuio77rhjkuSjH/1ottlmm9xzzz3Zfffds++++2bbbbeduIsbRlAEAAAYhS222CKve93rcuKJJ2bmzJkr2i+44IJcffXVK7bvuOOO/Pa3vx3TsZ/97GevCIlJcuKJJ+ass85Kktx00025/vrrBUUAAIDp6NBDD838+fPzhje8YUXbQw89lIsuuqgTHpPe7aoPPfTQiu177713lcd9zGMes+L7kiVLcsEFF+Siiy7KrFmzsnDhwtXuOxE8owgAADBK22yzTfbbb7+cdtppK9oWLVqUk08+ecX20C2lc+fOzeWXX54kufzyy3PDDTckSTbffPPVzjjefvvt2XrrrTNr1qxce+21ufjiiyfiUlZLUAQAABiDww47rPOKihNPPDGXXnpp5s2bl2c84xn50Ic+lCTZd9998+tf/zq77rprTjnllDz1qU9Nkmy77bZ5/vOfn1122SWHH374w46/55575oEHHsi8efNy9NFH57nPfe7kXNiAam3NS8GujxYsWNAuvfTSqS5jvfSBZR+Y6hJWOGTrQ6a6BAAAHqFrrrkmT3/606e6jHXaSL9hVV3WWlsw0ngzigAAAHQIigAAAHQIigAAAHQIigAAwLS3oa6tMh7W5rcTFAEAgGltxowZue2224TFtdBay2233ZYZM2aMab+NJ6geAACAcbHDDjvk5ptvzi233DLVpayTZsyYkR122GFM+wiKAADAtLbJJptkxx13nOoyNihuPQUAAKBDUAQAAKBDUAQAAKBDUAQAAKBDUAQAAKBDUAQAAKBDUAQAAKBDUAQAAKBDUAQAAKBDUAQAAKBDUAQAAKBDUAQAAKBDUAQAAKBDUAQAAKBDUAQAAKBDUAQAAKBDUAQAAKBDUAQAAKBDUAQAAKBDUAQAAKBDUAQAAKBDUAQAAKBDUAQAAKBj0oNiVT25qj5cVT+sqgerasmw/oVV1Vbxd97AuANXMeavJ/uaAAAA1icbT8E5d06yd5KLk2w6Qv/lSf5gWNucJGckOXeE8S9Jcs/A9k/GoUYAAIAN1lQExS+11s5Okqo6M8l2g52ttTvSC5ErVNWLkjyU5LMjHO+S1tqdE1QrAADABmfSbz1trT20FrsdkOSbrbWfj3c9AAAAdE37xWyq6ilJnpXk06sY8uOqeqCqflRVB01iaQAAAOulqbj1dKxeneT+JJ8f1v6LJEcn+X6SjfrjPlRVs1prJ0xuiQAAAOuPdSEoHpDk/NbarwcbW2vnJTlvoOncqnp0krdX1QdGusW1qhYnWZwkc+bMmcCSAQAA1l3T+tbTqvr9JE/Pqm87He7MJNskmTtSZ2vt1NbagtbagtmzZ49PkQAAAOuZaR0U05tNvCfJ2WPcr01ALQAAABuE6R4U90/vdRqjff3FvkluTfLTiSsJAABg/TbpzyhW1awke/c3n5Bki6r68/72Oa21u/vjnptkxyRvXcVxPp/eQjZXpreYzf79vzev5Ss4AAAAyNQsZrN9ks8Naxva3jHJ0v73A5LcnuTcVRznR0n+MskTk1SSq5O8rrX2H+NZLAAAwIZm0oNia21pesFuTeMOTXLoavqPSnLU+FUGAABAMv2fUQQAAGCSCYoAAAB0CIoAAAB0CIoAAAB0CIoAAAB0CIoAAAB0CIoAAAB0CIoAAAB0CIoAAAB0CIoAAAB0CIoAAAB0CIoAAAB0CIoAAAB0CIoAAAB0CIoAAAB0CIoAAAB0CIoAAAB0CIoAAAB0CIoAAAB0CIoAAAB0CIoAAAB0CIoAAAB0CIoAAAB0CIoAAAB0CIoAAAB0CIoAAAB0CIoAAAB0CIoAAAB0CIoAAAB0CIoAAAB0CIoAAAB0CIoAAAB0CIoAAAB0CIoAAAB0CIoAAAB0CIoAAAB0CIoAAAB0CIoAAAB0CIoAAAB0CIoAAAB0CIoAAAB0CIoAAAB0CIoAAAB0CIoAAAB0CIoAAAB0CIoAAAB0CIoAAAB0CIoAAAB0CIoAAAB0CIoAAAB0CIoAAAB0CIoAAAB0CIoAAAB0THpQrKonV9WHq+qHVfVgVS0ZYczSqmrD/n45wrhnVNXXquruqvp5Vb2zqjaalAsBAABYT208BefcOcneSS5Osulqxn0qyUkD2/cNdlbV1kkuSHJ1kj9L8ntJ3pte+H37ONYLAACwQZmKoPil1trZSVJVZybZbhXjftFau3g1x/nrJDOTvLK1dkeSr1bVFkmOrar/3W8DAABgjCb91tPW2kPjdKi9kpw3LBB+Jr3w+OJxOgcAAMAGZzovZvOXVXVfVd1eVWdW1ZOG9e+U5NrBhtbajUnu7vcBAACwFqbi1tPRODu9ZxhvTvL0JMckubCqntlau70/Zuskvxlh32X9voepqsVJFifJnDlzxrtmAACA9cK0nFFsrR3SWvt0a+3C1tqpSfZI8vgkbxg+dITdaxXtaa2d2lpb0FpbMHv27PEtGgAAYD0xLYPicK21q5L8KMn8geZlSbYaYfiWGXmmEQAAgFFYJ4LigMGZwmsz7FnEqnpiksdk2LOLAAAAjN46ERSrapckT0ty2UDzuUn2qKrNB9r2T3JPkm9OYnkAAADrlUlfzKaqZiXZu7/5hCRbVNWf97fPSfKHSV6b5MtJfp7erOHbk9yY5OMDh/pQkjcn+UJV/UuS301ybJL3eYciAADA2puKVU+3T/K5YW1D2zsmuak/5v3pPYN4W5KvJDlqMAC21pZV1UuTnJzkS+k9l3hCemERAACAtTTpQbG1tjS9lUlX56WjPNbVSV7ySGsCAABgpXXiGUUAAAAmj6AIAABAh6AIAABAh6AIAABAh6AIAABAh6AIAABAh6AIAABAh6AIAABAh6AIAABAh6AIAABAh6AIAABAh6AIAABAh6AIAABAh6AIAABAh6AIAABAh6AIAABAh6AIAABAh6AIAABAh6AIAABAh6AIAABAh6AIAABAh6AIAABAh6AIAABAh6AIAABAh6AIAABAh6AIAABAh6AIAABAh6AIAABAh6AIAABAh6AIAABAh6AIAABAh6AIAABAh6AIAABAh6AIAABAh6AIAABAh6AIAABAh6AIAABAh6AIAABAh6AIAABAh6AIAABAh6AIAABAh6AIAABAh6AIAABAh6AIAABAh6AIAABAh6AIAABAh6AIAABAh6AIAABAh6AIAABAh6AIAABAh6AIAABAh6AIAABAx6QHxap6clV9uKp+WFUPVtWSYf2Pq6r/r99/Z1XdVFX/XlWPHzZuYVW1Ef6Om9QLAgAAWM9sPAXn3DnJ3kkuTrLpCP27JXlFkn9L8r0kv5Pk2CTfrapdWmt3Dhv/miQ/Gdj+2XgXDAAAsCGZiqD4pdba2UlSVWcm2W5Y/7eT7NRae2CooaouT/KjJPsm+fdh469srV01gfUCAABsUCY9KLbWHlpD/29GaLuuqu5Osv2EFQYAAECSdWQxm6qal2RWkqtH6P56/1nHpVX19qraaJLLAwAAWK9Mxa2nY1JVj0rygSTXJzl/oOv2JMcluTDJfUn+JMk7ksxOcsgklwkAALDemPZBMcl7kvxBkhe31u4famyt/SDJDwbGXVBVy5O8tar+qbV26/ADVdXiJIuTZM6cORNbNQAAwDpqWt96WlVvSnJ4kte31r43il3OTC/8zhups7V2amttQWttwezZs8exUgAAgPXHtA2KVbVvkpOS/H1r7Ywx7t4moCQAAIANwrQMilW1MMnpSU5urR0/hl33TfJAkisnoi4AAIANwaQ/o1hVs5Ls3d98QpItqurP+9vnJHlSki8muTbJGVX13IHdb2mt/bh/nFOS3JLkkvQWs/pmzlkAACAASURBVNk7yd8meX9r7bYJvxAAAID11FQsZrN9ks8Naxva3jHJc5JsmeT3k3xn2Lh/T3Jg//s1Sd6Y5C1JNk3yX0kOS3LiuFcMAACwAZn0oNhaW5qkVjPk4/2/NR3nxAiFAAAA425aPqMIAADA1BEUAQAA6BAUAQAA6BAUAQAA6BAUAQAA6BAUAQAA6BAUAQAA6BAUAQAA6BAUAQAA6BAUAQAA6BAUAQAA6BAUAQAA6BAUAQAA6BAUAQAA6BAUAQAA6BAUAQAA6BAUAQAA6BAUAQAA6BAUAQAA6BAUAQAA6BAUAQAA6BAUAQAA6BAUAQAA6BAUAQAA6BAUAQAA6BAUAQAA6BAUAQAA6BhTUKyqeVV1RlX9uKqWV9X8fvu7qmqviSkRAACAyTTqoNgPgpcleWySTyTZZKB7eZL/Nb6lAQAAMBXGMqP4niQfb629OMm7hvVdkWTXcasKAACAKTOWoLhTkjP639uwvjuSbDMuFQEAADClxhIU/zvJ766ib+ckNz7ycgAAAJhqYwmKn0nyzqp6wUBbq6qnJnlbktPHtTIAAACmxMZjGHt0kmck+WaSX/bbzk5vcZvzk7x7fEsDAABgKow6KLbWlif5k6p6aZKXJtkuya+TfK219tUJqg8AAIBJNpYZxSRJa+1rSb42AbUAAAAwDYzlPYoHVNXhq+j7u6rab/zKAgAAYKqMZTGbI5Lcu4q+u5Mc+cjLAQAAYKqNJSg+JclVq+i7pt8PAADAOm4sQfHuJDusou+JSZY/8nIAAACYamMJihckObqqth9srKrZSf4hvVdkAAAAsI4by6qnb0tycZIfV9VXkvwiyeOS7JHkN0n+fvzLAwAAYLKNekaxtXZjkt9PcnJ6t5ru1f88Kcn81tpNE1IhAAAAk2pM71Fsrd0Sq5sCAACs18byjCIAAAAbgFHPKFbVJkkOSfLK9FY/nTF8TGtt++FtAAAArFvGcuvpCUkOSvLlJN9Ict+EVAQAAMCUGktQfFWSI1pr752oYgAAAJh6Y3lGsZJcOVGFAAAAMD2MJSh+JMmrJ6oQAAAApoex3Hr6qySvqapvJPlqkt8M62+ttVPGrTIAAACmxFiC4vv7n3OSvHiE/pZEUAQAAFjHjTootta8cxEAAGADMOnhr6qeXFUfrqofVtWDVbVkhDFVVUdV1U1VdU9Vfauqdh1h3DOq6mtVdXdV/byq3llVG03KhQAAAKynxnLraZKkqnZI8tQkM4b3tdbOGcUhdk6yd5KLk2y6ijFHJDk6yeFJrk3y1iQXVNUurbVf9uvYOskFSa5O8mdJfi/Je9MLv28fwyUBAAAwYNRBsao2T/LZJIuGmvqfbWDYaGbzvtRaO7t/zDOTbDfsPDPSC4rvaa2d3G+7KMnSJH+blSHwr5PMTPLK1todSb5aVVskObaq/ne/DQAAgDEay62n70lvIZsXphcSX5FkYZLTktyQ5LmjOUhr7aE1DHleki3SC6VD+9yV5EtJ9hoYt1eS84YFws+kFx5HWmwHAACAURhLUNw7ybuSfK+//fPW2rdaa4uTnJ3ebaLjYackDya5flj7Nf2+wXHXDg5ord2Y5O5h4wAAABiDsQTF30lyU2vtwSR3JdlmoO+crLwl9ZHaOsmd/fMMWpZkVlVtOjBu+Lsch8ZtPU61AAAAbHDGEhRvysrnCa9P8icDfc9Jcu94FZXuc49DRnomclXjRmpPVS2uqkur6tJbbrnlEZYIAACwfhpLUPxqkpf1v5+Q5OCq+m5VfSPJPyX5xDjVtCzJ5iO85mKrJHe31u4fGLfVCPtvmZFnGtNaO7W1tqC1tmD27NnjVC4AAMD6ZSyvx3hbkllJ0lr7j6q6M8mfp7d4zN8m+fA41XRtequnPjnJjwbahz+TeG2GPYtYVU9M8phh4wAAABiDUQfF1trd6S0UM7R9VpKzJqCm7ya5I8mrkvxzklTVrCQvT3LqwLhzkxxeVZu31n7bb9s/yT1JvjkBdQEAAGwQxvIexQeT/EFr7fsj9O2W5PuttTW+R7Ef+vbubz4hyRZV9ef97XNaa3dX1XFJjq6qZenNDr41vdtkTxo41IeSvDnJF6rqX5L8bpJjk7zPOxQBAADW3lhuPa3V9G2S5IFRHmf7JJ8b1ja0vWOSpUmOSy8YHplk2ySXJvmj1tqvhnZorS2rqpcmOTm9dyz+Jr1nJ48dZR0AAACMYLVBsarmJJk70PSsqpoxbNiMJK9PcsNoTthaW5rVh8601lp672x81xrGXZ3kJaM5LwAAAKOzphnFNyQ5Jr3XTbQkp6xi3D1J3jiOdQEAADBF1hQUP5jkzPRmAK9M8pr+56D7ktzYWls+/uUBAAAw2VYbFFtrtyS5JUmqasckv2it3TcZhQEAADA1xvJ6jJ8Ofe+vXPpX6b3H8JdJPjHYDwAAwLprTYvZvDfJy1trTx1o2zzJJUmekmRZki2THFZVz26tXTeRxQIAADDxHrWG/j9M8slhbX+X5KlJ/mdrbbskj0/vlRZHj3t1AAAATLo1BcW5SS4b1rZvkqtbax9NVjzH+N4kzx/36gAAAJh0awqKGye5d2ijqrZJ8vQkXx82bmmSx45rZQAAAEyJNQXF65IsHNj+k/7necPGbZ/k1+NUEwAAAFNoTauenpzkI1W1ZZJfJXlzkhuSnD9s3KIkV41/eQAAAEy2Nb1H8eNV9bgkByfZKsnlSQ5urd0/NKaqZif5syTvmMhCAQAAmBxrfI9ia+09Sd6zmv5b4vlEAACA9caanlEEAABgAyMoAgAA0CEoAgAA0CEoAgAA0CEoAgAA0CEoAgAA0CEoAgAA0CEoAgAA0CEoAgAA0CEoAgAA0CEoAgAA0CEoAgAA0CEoAgAA0CEoAgAA0CEoAgAA0CEoAgAA0CEoAgAA0CEoAgAA0CEoAgAA0CEoAgAA0CEoAgAA0CEoAgAA0CEoAgAA0CEoAgAA0CEoAgAA0CEoAgAA0CEoAgAA0CEoAgAA0CEoAgAA0CEoAgAA0CEoAgAA0CEoAgAA0CEoAgAA0CEoAgAA0CEoAgAA0CEoAgAA0CEoAgAA0CEoAgAA0CEoAgAA0CEoAgAA0CEoAgAA0LHxVBcwkqpakuTFq+h+XmvtoqpamuRJw/p+1Vp77ETWxjrm2prqClbaqU11BQAAMCrTMigmeVOSLYa1vTPJs5JcMtD2qSQnDWzfN8F1AQAArPemZVBsrV09uF1VmyZZkOSM1toDA12/aK1dPKnFAQAArOfWlWcU90yydZJPT3UhAAAA67t1JSgekORnSS4c1v6XVXVfVd1eVWdW1fBnFgEAABijaXnr6aCqmpXk5UlOba0NrgZydpKLk9yc5OlJjklyYVU9s7V2++RXCgAAsH6Y9kExvZC4WYbddtpaO2Rg88Kq+m6SK5K8Icn7RzpQVS1OsjhJ5syZMyHFAgAArOvWhVtPD0jyX621S1c3qLV2VZIfJZm/mjGnttYWtNYWzJ49e5zLBAAAWD9M66BYVVsm2StjW8TGy+oAAAAegWkdFJO8IsmjM4qgWFW7JHlakssmuigAAID12XR/RvGAJD9srV0z2FhVf5zktUm+nOTnSXZK8vYkNyb5+CTXCAAAsF6ZtkGxqrZL8tIkR4/QfVOS7dNbtGarJLcl+UqSo1prd0xakQAAAOuhaRsUW2u3JtlkFX1XphciAQAAGGfT/RlFAAAAJpmgCAAAQIegCAAAQIegCAAAQIegCAAAQIegCAAAQIegCAAAQIegCAAAQIegCAAAQIegCAAAQIegCAAAQIegCAAAQIegCAAAQIegCAAAQIegCAAAQIegCAAAQMfGU10A4+P+dxw21SWs9OY5U10BAADwCJhRBAAAoENQBAAAoENQBAAAoENQBAAAoENQBAAAoENQBAAAoENQBAAAoENQBAAAoENQBAAAoENQBAAAoENQBAAAoENQBAAAoENQBAAAoENQBAAAoENQBAAAoENQBAAAoENQBAAAoENQBAAAoENQBAAAoENQBAAAoENQBAAAoENQBAAAoENQBAAAoENQBAAAoENQBAAAoENQBAAAoGPjqS4AgK4PLPvAVJewwiFbHzLVJQAAU8CMIgAAAB2CIgAAAB2CIgAAAB2CIgAAAB2CIgAAAB2CIgAAAB2CIgAAAB2CIgAAAB3TMihW1YFV1Ub4++uBMVVVR1XVTVV1T1V9q6p2ncq6AQAA1gcbT3UBa/CSJPcMbP9k4PsRSY5OcniSa5O8NckFVbVLa+2Xk1ciAADA+mW6B8VLWmt3Dm+sqhnpBcX3tNZO7rddlGRpkr9N8vbJLBIAAGB9Mi1vPR2F5yXZIslnhxpaa3cl+VKSvaaqKAAAgPXBdA+KP66qB6rqR1V10ED7TkkeTHL9sPHX9PsAAABYS9P11tNfpPf84feTbJTk1Uk+VFWzWmsnJNk6yZ2ttQeH7bcsyayq2rS1dt+kVgwAALCemJZBsbV2XpLzBprOrapHJ3l7VX1gaNgIu9Zq+lJVi5MsTpI5c+aMU7UAAADrl+l+6+mgM5Nsk2RuejOHm1fVRsPGbJXk7tba/SMdoLV2amttQWttwezZsye0WAAAgHXVuhQUh7T0XoexUZInD+vbqd8HAADAWlqXguK+SW5N8tMk301yR5JXDXVW1awkL09y7pRUBwAAsJ6Yls8oVtXn01vI5sr0Zg737/+9ubX2UJJ7q+q4JEdX1bL0ZhHfml7wPWlqqgYAAFg/TMugmORHSf4yyRPTW6Dm6iSva639x8CY49ILhkcm2TbJpUn+qLX2q0muFQAAYL0yLYNia+2oJEetYUxL8q7+HwAAAONkXXpGEQAAgEkgKAIAANAhKAIAANAhKAIAANAhKAIAANAhKAIAANAhKAIAANAhKAIAANAhKAIAANAhKAIAANAhKAIAANAhKAIAANAhKAIAANAhKAIAANAhKAIAANAhKAIAANAhKAIAANAhKAIAANAhKAIAANAhKAIAANAhKAIAANAhKAIAANAhKAIAANAhKAIAANAhKAIAANAhKAIAANAhKAIAANAhKAIAANAhKAIAANAhKAIAANAhKAIAANAhKAIAANAhKAIAANAhKAIAANAhKAIAANAhKAIAANAhKAIAANAhKAIAANAhKAIAANAhKAIAANAhKAIAANAhKAIAANAhKAIAANAhKAIAANAhKAIAANAhKAIAANAhKAIAANAhKAIAANAhKAIAANAhKAIAANAhKAIAANAhKAIAANAhKAIAANAxLYNiVb2qqv5PVf2squ6sqsuq6tXDxiypqjbC34ypqhsAAGB9sPFUF7AKb01yQ5K3JLk1yd5JPlVV27XWThoY940kRw3bd/nklAisT+5/x2FTXcJKb54z1RWsdG1NdQUr7dSmugIA2GBM16D48tbarQPbX6+qx6cXIAeD4q9baxdPbmkAAADrt2l56+mwkDjkB0m2n+xaAAAANjTTMiiuwvOSXD2sbVFV3d3/O6+q5k1FYQAAAOuTdSIoVtVLk/xZkn8daP5mkkOS7JFkcZI5SS6sqrmTXR8AAMD6ZLo+o7hCP/h9KsnZrbWPD7W31o4ZGHZhVV2Q5Nokh/b/RjrW4vRCZebMmUaLRQAAAEwj03pGsaq2SXJukhuTvHZ1Y1trv0zynSTzVzPm1NbagtbagtmzZ49rrQAAAOuLaRsUq2pWki8n2TTJH7fW7hrlrtZPBwAAeASmZVCsqo2TfC7JU5Ls1Vr771Hs8ztJnp/ksgkuDwAAYL02XZ9R/GCSvdNbrGabqnruQN8PkjwtyXvSC5M/TW8hmyOTPJTk/ZNbKgAAwPplugbFRf3PD4zQt2OS25JUemFx2yS/TbIkyT6ttf/X3n1HSVqWeR///hhFMCtRXSUoBtR9DRgQV0VXXQmLjAoYFhV3EdfAIiwoL0gwoCCKr6IrBkwrYGARlAymAy6CuIggiIG4BkQRBYQBrvePu9qpqumeme6Z7qeq5/s5p89UP8/TVb85Z2qqr+e+7+u+ei4CSpIkSdJ8NZKFYlVtuByXbTXbOSRJkiRpVTSSaxQlSZIkSd2xUJQkSZIkDbBQlCRJkiQNsFCUJEmSJA2wUJQkSZIkDbBQlCRJkiQNsFCUJEmSJA2wUJQkSZIkDbBQlCRJkiQNsFCUJEmSJA2wUJQkSZIkDbBQlCRJkiQNsFCUJEmSJA2wUJQkSZIkDbBQlCRJkiQNsFCUJEmSJA2wUJQkSZIkDbBQlCRJkiQNsFCUJEmSJA2wUJQkSZIkDbBQlCRJkiQNsFCUJEmSJA2wUJQkSZIkDbBQlCRJkiQNsFCUJEmSJA2wUJQkSZIkDbBQlCRJkiQNsFCUJEmSJA2wUJQkSZIkDbBQlCRJkiQNsFCUJEmSJA2wUJQkSZIkDbBQlCRJkiQNsFCUJEmSJA2wUJQkSZIkDbBQlCRJkiQNsFCUJEmSJA2wUJQkSZIkDbBQlCRJkiQNsFCUJEmSJA2wUJQkSZIkDbBQlCRJkiQNsFCUJEmSJA2wUJQkSZIkDbBQlCRJkiQNsFCUJEmSJA24W9cBJEnS/LDooD27jvBXH33Lw7qOAMDuD9i96wjS+LssXSdY7NHVdYI544iiJEmSJGmAI4qSJEnSCHBUfnKOy3fDEUVJkiRJ0gALRUmSJEnSAKeeSpIkzRabcEgaU44oSpIkSZIGjHWhmGTTJGcluSXJ/yY5OMmCrnNJkiRJ0jgb26mnSR4AnAlcCmwHPBw4nFb87tdhNEmSJEkaa2NbKAK7AWsCC6vqJuCMJPcFDkxyaO+YJEmSJGmaxnnq6YuA04YKwmNpxeOzu4kkSZIkSeNvnAvFRwOX9R+oqquBW3rnJEmSJEkzMM6F4gOAGyc5/ofeOUmSJEnSDKRqPPfUSbII2KuqPjR0/DrgM1X1fyf5mV2BXXvfPgq4fNaDaqbWBn7XdQhpzPk+klaM7yFpxfgeGn0bVNU6k50Y52Y2fwDuP8nx+zH5SCNVdRRw1GyG0sqR5IKq2qzrHNI4830krRjfQ9KK8T003sZ56ullDK1FTPJQ4F4MrV2UJEmSJC2/cS4UTwFemOQ+fcd2BG4Fvt1NJEmSJEkaf+NcKP4HcBtwfJK/760/PBD4gHsozgtOEZZWnO8jacX4HpJWjO+hMTa2zWwAkmwKfATYnLYu8ZPAgVV1Z6fBJEmSJGmMjXWhKEmSJEla+cZ56qkkSZIkaRZYKEqSJEmSBozzPoqSJCDJGsCzgL8B1hg6XVX1sblPJUmSxplrFCVpjCV5JnA8sPYUl1RVLZjDSNLYS/JIJr/xQlWdPPeJpPGQZHPgdcAjmfz989Q5D6UZc0RRIyPJZsBCph4V2XHuU0kj7/8BPweeD1xaVYs6ziONrV439eOATYFMckkB3niRJpHk+cDJwFnAM2l7nq8JbAFci/ucjx0LRY2EJG+gbXVyA3AFcHu3iaSx8ShgYVVd1HUQaR74OLA67ablpfhZJE3HwcCHgH2ARcD+VXVhkg2A04BvdZhNM2ChqFGxF3A0sFtV3dF1GGmM/AhYv+sQ0jzxRGCnqvp610GkMbQpsB9wF230/V4AVXVVkgOBg4DPdZZO02bXU42KdYFjLBKlaXsDsEeSZ3cdRJoHfs4k66okLZe/AKtVa4DyK+Dhfeduoi0t0hhxRFGj4hTgabR57ZKWIsn1tLu1E+4FnJ1kEe3DeEBVrTtX2aQxtydwaJILq+oXXYeRxsxFtOUQZ9B+n3t7kutoU7gPBi7uMJtmwEJRnek1DZhwJHBUkrvT/oO5cfj6qrp0rrJJI+5IBgtFSTOU5HwG308PAS5LciWTfxbZtVGa3BHARr3H+wIn0dYmQmtms30XoTRzbo+hziSZmMP+10O9P4f/UQZb/EuSZkGSzzCNGy9V9drZSyPNH0kCPILW+fSyqrI51JixUFRnprumqqpsqyxJkiTNAQtFSRpzbnAsSRoFSR4MbMPUe2LvM/epNFOuUZSkMeYGx9LKlWRD4FVMfeNlhzmOJI2FJNsDxwALgN+y5D6kRdtjUWPCEUV1ZpI1ikvlGkVpSUm+B5zD4g2ONxva4Pg9VeW+VdJySPJk2s2Va2iF4o+A+wEb0m68/KyqnttZQGmEJfkJcAXwmqr6fdd5tOIcUVSX3sLiQvHutLbkfwa+RrsTtR6wHa31/+FdBJTGgBscSyvPYcBXgV1oN15e17vx8gzaSMmhXYaTRtxDgTdbJM4fForqTFV9ZOJxkg8A5wEvq75h7iRvA77M4nbLkgb9dYPjJBMbHH+3d84NjqXpeQLwPtqNF+hNPa2qc5McBLwXOLWjbNKoO5e2j+KZXQfRyrFa1wGknp2BT9TQXOje95+grReRtKSJDY5h8QbHz+91FXaDY2l6Cri999nzW2CDvnPXAJt0kkoaD28Fdk3y6iQPTnLP4a+uA2p6LBQ1KhYAj5ni3GPx36o0lSNYPIV7X+Bm2trEbwLrAm/sKJc0ji6ljcoDfA/YI8kmvTW/ewM/7yyZNPp+BDweOJp2Y+VPk3xpjDj1VKPiP4H3JLkbcCLtTu66tDWKBwOf6jCbNLKq6uS+x9f1mnG4wbE0M0exeBRxX+B04LLe9zcDL+0ilDQmdmEaTQo1+ux6qpGQZHXaupDXA/foO3Ub7YN7b3/hlSTNpST3Bjan3Xj576r6bceRJGnOWChqpCR5IG3awvrAr4GL7Z4lDUryjulcX1UHz1YWaT5JsnFV/WIp559XVWfNZSZJ6oqFoiSNmSTXDx1aE5hoEvBn4N69x7cAt1TVunOVTRpnSa4EnllV105ybjvgmKqyIYfUk+T7tH0TL01yPsuYelpVT52bZFoZXKOokZEkwBa0TY7XGD5fVR+d81DSCKqqdSYeJ9mctsZ3P+D4qvpLkjWAlwDvBF7ZTUppLF0IfDPJ31XVrycOJnklrUHHIZ0lk0bTJcCtfY8dgZpHHFHUSEiyHq21/6a0/2TSO/XXf6BVtaCDaNJI693B/XhVfXKSc7sCu1XVk+Y+mTR+ktwdOIG2d++zqup3SXYDPgy8vare32lASZpDbjmgUXE48EfgobQi8WnAhsD+wBW0UUZJS3oc8L9TnLuOqbedkTSkqhYBC2nvqbOSHAB8BHizRaKkVY0jihoJSa4Bdqfdyb0DeHpVfb93bj/g76rqhR1GlEZSkouA64Gtq+q2vuNrAN8A1qqqJ3SVTxpHSdYETqV1PH1tVf1nx5GkkZTk09O5vqp2ma0sWvlco6hRcX/g+qq6K8lNtD0UJ5wL7NNNLGnkvRk4Gbg2yRks3oP0+bQGNy/qMJs08pbSgOPetIZQuyfZfeKgzTikAY8f+v5hwDq0z6KJz6N1aTc0r5rbaFpRFooaFb8EHtR7fAmtAcfXe99vC7hFhjSJqvpOkk2APYCnAE+kbS1zNHBEVU01LVVSYwMOaYaq6ikTj5NsCxwBbF9V5/Yd3wL4LPCuuU+oFeHUU42EJIcA61TVPyd5EfA12p2oRbS7U/u4PkSSJGk0JbkEeFdVHTPJuVcA+1eV6+bHiCOKGglV9fa+x6ckeQawPW1/uDOq6pTOwkmSVglJtqmqry/l/P5V9c65zCSNkY1p07UncwutSaHGiCOKGglJFlTVnV3nkMZBkl8yjalyVbXxLMaR5o0ktwLbVtWZk5w7DHhTVa0598mk0ZfkHNra+K2q6ld9xx9MW0v/56p6Zlf5NH2OKGpUXJfkc8DRVfWTrsNII+6rDBaKO9E+nIeb2dwMHDvn6aTx9Q7ghCQvqqrvThxM8nHa2vkXd5ZMGn27AqcDVyb5AYs/j54M3AC8qsNsmgFHFDUSkhwE/BOwAXAB8Cng2Kq6qdNg0ohLsi/wAtr2GDf3Hb83rSHUmVVlAwFpOSXZH9iL9r46H/g8sA2wTX/xKGlJva2ZdqE1V1uf1lztfNpAwK1dZtP0WShqpCR5LvAa2obHoe2rePRk04AkQZLrgF2r6huTnNsG+ERVPWjJn5Q0lSTvAXYDfkDrJPyiqjq/21SSNLdW6zqA1K+qzq6qnWl3od4MPAo4LcmVSQ7szXOXtNj9gPWmOLc+bS84SVNIcs/hL1ob/y8DTwC2Bi7pOydpGZKsNsV7S2PENYoaVZsBzwIeDfwB+C7wz8DeSXatqi90GU4aIScChyW5CTipqm5Lcg/gH4H3ASd1mk4afX9m6uZQAc4dOrZgduNI4ylJgL2BfwE2muIy3z9jxEJRIyPJBrRppzvTWiifSZvnfkJV3Z5kAfB+4DDAQlFq3gB8BvgSUEn+BNyH9gvuib3zkqa2C9PoIixpSm8B3gYcCrybNjJ/J63h2urAe7qLpplwjaJGQpKzaSOI19J+6T26qq6a5LqnAOdVldOmpT5JHktrHrAeveYBVXVpt6kkSauKJD8GjgKOBBYBm1XVhUlWo81uubiq3tZlRk2PI4oaFb8DtgLOqKXfvfgfpp7OIK2yquoS4JKuc0iSVlkbAf9TVXcmWQTcH6Cq7kryUeCTtBFHjQlHZTQSqmqHqjp9GUUiVbVospFGaVWWZN0k70tyVpLLe6OLJNk9yeZd55PGSZIdk5yZ5Ookvx3+6jqfNMJuYHEDtatpHYMnPABYc84TaYU4oqjOJNkU+Hmv+camy7reaXTSkpI8FTgDuB74NvAc4B690w8C9gRe2kk4acwkeQXwadoSiOf2Hq9Gaw51I/C5zsJJo+8c2hKIk4EvAgcmeSBwO/BG4KwOs2kGXKOoziS5C3h6VX2/93hpXeeqquyUJQ1Jcg6tSFxI+4X2dhavC1kIHFFVD+syozQukvwQ+ArwXgbXWN2HdkPmK1X1/i4zSqMqyaOAh1TV2b3u24fSblSuSXv/vLmqHJUfI44oqktbApf2PZY0fU8CtuutAcnQuRuAdTvIJI2rTYBzemus7gTuC1BVf0ryPuCDtO7bkoZU1eXA5b3HtwG79740piwU1Zmq+vZkj4cl2ZK2tJBb0AAACkhJREFUL8+U10irsD8C60xxbmPgN3OYRRp3f2Tx1O3rgMcA3+p9H2CtDjJJUicsFNWpJPcH/gF4KPAL4MSqWtQ79zJgH9qIyU87CymNtq8BByX5HjDR6KmSrA3sBRzfWTJp/FwA/C1wGm0f0nckuYM2pfsdwHkdZpNGXpIdgO2BhwBrDJ+vqqfOeSjNmGsU1ZkkjwdOp+37NuFC4CW0RdCb09r9vwc4rqrumvOQ0ohL8gBag4BNgR/Q3jfnA48AfglsWVV/6i6hND6SPB3YoKqO693I/Cxt66YFtPfVK6rq511mlEZVkvfSZoCdD/yMdoNlQFW9dq5zaeYsFNWZJCcBjwR2Bi4CNgA+DDyBNvXnjVX1he4SSuMhyerAPwHPA9YGfk8rHj/XWyciaYZ6TTnuUVU3dZ1FGmW97WM+WFWHdJ1FK4eFojqT5FfA7lX1pb5jDweuAHatqk92Fk6StEpI8o5pXF5V9c5ZCyONsSTXAa+tqtO7zqKVw0JRnenfHqPv2AJaS/KnVdX5nYWTRliS65l6O5l+RZv6czXwX7Q7vXfOZjZp3PQ+i24FbqY1rFmaqio7CUuTSLI3sBmwY1lgzAs2s1HXpvqP5I45TSGNlyNZvkIR2v5VDwfeCTwQ2He2Qklj6hfAw2hrfI8F/stpptL0VdWhSd4PXJbk28CNS15S+3QQTTPkiKI607uLeyNLFoVrT3bcu7jSzCV5E7BXVW3YdRZp1CTZDNgJ2IH2GXQqcAzw9aq6tcts0rhI8kpaA6i7gOtZsplNVdXGcx5MM2ahqM4kOWA611fVQbOVRZrvkmwKfKSqntt1FmmUJXkWrWh8CXBP2jYZH6+q73QaTBpxSa4BvgPsZrft+cFCUZIkaUivm/C7gT1oe/wu7DiSNNKS/BFYWFVndZ1FK4drFCVJknqSbEEbUXwpcB/gK8DHOg0ljYevAlvStmfSPGChKEmSVmlJnkQrDncE1qOtUZwYSbyly2zSGDkNeG+S9YGzWbKZDVV18pyn0ow59VSSJK2yklwObET7xfZY4Hi7nkrT12tSuDRVVQvmJIxWCgtFSZK0yur9cvsX2j6Ky/ylyA7c0uSSbLCsa6rqqrnIopXDqaeSJGlVZkdtaSWwCJx/HFGUJEmSNG1J7jmd613zO14sFCVJkiRNW2/q9nIXE65RHC9OPZUkSZI0E7uw/IXi6rMZRCufI4qSJEmSVrokoe2t+HJgYVWt1XEkTYMjipIkSZJWmiRPoxWHO9D2Jv09bfsZjRELRUmSJEkrJMnjaMXhTsCGwO206aZvBY6sqju6S6eZWK3rAJIkSZLGT5KNk+yb5GLgImAv4CfAzsAmQIAfWiSOJ0cUJUmSJM3Ez2jNbM4DXg98tar+AJDkfl0G04pzRFGSJEnSTFxFGzV8HPAc4BlJHIiaJywUJUmSJE1bVW0EbAF8FngecBLwmySf6H3v9gpjzO0xJEmSJK2QJKvRisOXAy8G7k8rFL8IfKiqLugwnmbAQlGSJEnSSpNkdWArWgfUbYA1gZ9W1WM6DaZpsVCUJEmSNCuS3Is2wrhTVW3bdR4tPwtFSZIkSdIAm9lIkiRJkgZYKEqSJEmSBlgoSpLmrSQLk5yd5MYktyX5aZJ3JVk7yYZJKsk2fdfvneQ5K/ialyZ5Q+9x9X3dmuQnSfaZzX3GklyZ5P2z9fySpFWDG2JKkualJIcD/wYcDXwQuAnYFNgNeCytG9/mwGV9P7Y38BHgWzN8zY2AxwAn9x0+HPgKrevfNsB7gbsD75rJayyH7YEbZum5JUmrCAtFSdK8k2Rb4K3A66rq032nvp3kKOAFVXUb8N8r+aW3Bn5cVVf1HbuyqiZe55tJHgvszCwVilX1w9l4XknSqsWpp5Kk+WgP4MKhIhGAqrqzqk4Znnqa5EpgLeCAvumiz0ny5STfHH6eJAcl+U2Su/cd3hr4xjKyXQQ8dJLn2y7JBUn+kuTXSQ4dem6SvCzJFb1prN9M8sReztf0XbPE1NMkOyS5uDf99pok7+6f/prkNb3neXySM5LcnOSyJAuX8XeRJM1TFoqSpHmlV1w9Azh1mj+6PfBH4FO0KambAxcCnwSe3ZtWOvEaoY0KfqGqFvWO3RN4DssuFB8G/HIo8w7A8cD3gX8EDgJ2BQ7pu2Yz4Nhepu2BE4HjlvWXSvKC3nUXAtsBHwb2ok2xHfbF3vNuD1wBHJvkb5b1GpKk+cepp5Kk+WYt4B7A1dP5oar6YZI7gGv7poqS5AzgGuA1wAG9w1sCG9LWP054HnArcO7QU6/WG72bWKO4EHh13/MHOAz4XFX9a9/x24AjkxxSVTcA+wA/oW1aXcCpvaL4fcv4qx0MfKuqJl7z1PaSHJLkXVV1bd+1H5wYhU3yA+A3vcz/sYzXkCTNM44oSpLmq1opT1J1F/AZYOdeUQetaLygqn7cd+nWwGlVdefQU3wIWERrpvNF4MiqOrbv/CNpo4xfSnK3iS/gbGAN4HG9654CnNQrEiecuLTsSRYATwK+PHTqONrvAJsPHT+97+99A/BbwBFFSVoFWShKkuabG4DbaMXXynI0sAGwZZL7AC8Bhtc/bsXk004PoxV5fw98HdgjyVZ959fu/XkyraCc+JqYnjqxnnF94Pqh5x7+ftjatA6rvxk6PvH9A4eO3zj0/e20YlWStIpx6qkkaV6pqkVJzgFeCOy3kp7zyiRn0kYSN6LdaD1m4nySvwUewuTrIq+uqgt6130HuBg4LMkpvdHB3/eu2xWYrGPpRMH4a2CdoXPD3w/7Ha3oXHfo+Hq9P3+PJEmTcERRkjQfHQFsluTVwyeSrJbkH6b4uaWNoH2KNpL4r8AJVdU/+rY1cF5V/W5poXqNb/an7ee4be/w5cB1wIZVdcEkXxN7Ip4PbNs3/RVa45ulvd6dwA+Alw2d2gG4C/je0n5ekrTqckRRkjTvVNVJST4AfCrJFsDXgD8DjwZ2A66kbaEx7DJg6ySn9q6/vKr+1Dt3AvBR2pq/tw/93PJsizHhq73X+XfgxKq6K8mewOeT3Bc4hVawbgy8GHhpVd1Ca1pzHq0T6dHAY4B/6T3nXUt5vQOA03o/cyzweOCdwCeGGtlIkvRXjihKkualqtoT2BHYhNZE5gxgT+As4A1T/Ni/AzfTir7zgSf3Pd9ttCLuGuDMieNJHgg8neUsFHvNcQ4Bnplk896x42hbVzyB1njmeNrI5YW0opHe9NWX9zKdQBvdnPh73LSU1zsd2AnYDDgJ+DfgcOBNy5NXkrRqymDzNEmSNJleJ9KrgE9X1f59x18BHFpVc94dNMmrgM8DG1fVL5d1vSRJy8tCUZKkpUiyOvB/gFfQRvAe0dWUzSQfo42M/oE2BXY/4Jyq2qaLPJKk+cs1ipIkLd2Dge/T9hR8fcfr+tairZNci7YNyHHA3h3mkSTNU44oSpIkSZIG2MxGkiRJkjTAQlGSJEmSNMBCUZIkSZI0wEJRkiRJkjTAQlGSJEmSNMBCUZIkSZI04P8DVKU03EfJw0QAAAAASUVORK5CYII=\n",
      "text/plain": [
       "<Figure size 1080x720 with 1 Axes>"
      ]
     },
     "metadata": {
      "needs_background": "light"
     },
     "output_type": "display_data"
    }
   ],
   "source": [
    "# convert the time and date for easier plotting\n",
    "df['date']= pd.to_datetime(df['date'])\n",
    "\n",
    "negative = df[df['stance ']=='Negative']\n",
    "positive = df[df['stance ']=='Positive']\n",
    "neutral = df[df['stance ']=='Natural']\n",
    "\n",
    "negative.drop(['date','text','id','stance ','location','clean text','tokens'],axis=1)\n",
    "positive.drop(['date','text','id','stance ','location','clean text','tokens'],axis=1)\n",
    "neutral.drop(['date','text','id','stance ','location','clean text','tokens'],axis=1)\n",
    "\n",
    "negatives = negative['City'].value_counts()\n",
    "positives = positive['City'].value_counts()\n",
    "neutrals = neutral['City'].value_counts()\n",
    "\n",
    "result = pd.concat([negatives, positives, neutrals], axis=1, sort=False)\n",
    "result_with_only_Cities = result.drop(result.index[0])\n",
    "result_with_only_Cities = result_with_only_Cities.drop(result_with_only_Cities.index[0])\n",
    "result.columns=['Negative','Positive','Neutral']\n",
    "result_with_only_Cities.columns=['Negative','Positive','Neutral']\n",
    "# result[:5].plot(kind='bar')\n",
    "\n",
    "\n",
    "fig,ax = plt.subplots()\n",
    "ax.tick_params(axis='x', labelsize=15)\n",
    "ax.tick_params(axis='y', labelsize=15)\n",
    "ax.set_xlabel('City/Region', fontsize=15)\n",
    "ax.set_ylabel('Stance' , fontsize=15)\n",
    "ax.set_title('most tweeted cities', fontsize=15, fontweight='bold')\n",
    "\n",
    "result_with_only_Cities[:4].plot(ax=ax,kind='bar',figsize=(15, 10),color={\"salmon\",\"lightgreen\",\"gold\"})"
   ]
  },
  {
   "cell_type": "code",
   "execution_count": 54,
   "metadata": {},
   "outputs": [
    {
     "data": {
      "image/png": "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\n",
      "text/plain": [
       "<Figure size 720x432 with 1 Axes>"
      ]
     },
     "metadata": {
      "needs_background": "light"
     },
     "output_type": "display_data"
    }
   ],
   "source": [
    "# in Dec 11 Aramco's IPO published their start offering\n",
    "fig = plt.figure(figsize=(10,6))\n",
    "ax1 = fig.add_axes([0,0,1,1])\n",
    "ax1.set_title(\"Tweets Activity\")\n",
    "tweetsdate = df['date'].value_counts()\n",
    "ax1.plot(df['date'],color='teal')\n",
    "plt.show()"
   ]
  },
  {
   "cell_type": "code",
   "execution_count": 52,
   "metadata": {},
   "outputs": [
    {
     "data": {
      "text/plain": [
       "<matplotlib.axes._subplots.AxesSubplot at 0x24f669b9308>"
      ]
     },
     "execution_count": 52,
     "metadata": {},
     "output_type": "execute_result"
    },
    {
     "data": {
      "image/png": "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\n",
      "text/plain": [
       "<Figure size 432x288 with 1 Axes>"
      ]
     },
     "metadata": {},
     "output_type": "display_data"
    }
   ],
   "source": [
    "# Other Countries\n",
    "All = df[df['City']=='Other Country']\n",
    "tweets11 = All['stance '].value_counts()\n",
    "explode = (0.05, 0.05, 0.05)\n",
    "color= [\"lightgreen\",\"gold\",\"salmon\"]\n",
    "tweets11.plot(kind='pie',\n",
    "            colors=color,\n",
    "            autopct='%.2f',\n",
    "            radius=1.30,\n",
    "             fontsize=15,\n",
    "             explode=explode)"
   ]
  },
  {
   "cell_type": "code",
   "execution_count": null,
   "metadata": {},
   "outputs": [],
   "source": []
  },
  {
   "cell_type": "code",
   "execution_count": null,
   "metadata": {},
   "outputs": [],
   "source": []
  },
  {
   "cell_type": "code",
   "execution_count": null,
   "metadata": {},
   "outputs": [],
   "source": []
  }
 ],
 "metadata": {
  "kernelspec": {
   "display_name": "Python 3",
   "language": "python",
   "name": "python3"
  },
  "language_info": {
   "codemirror_mode": {
    "name": "ipython",
    "version": 3
   },
   "file_extension": ".py",
   "mimetype": "text/x-python",
   "name": "python",
   "nbconvert_exporter": "python",
   "pygments_lexer": "ipython3",
   "version": "3.7.4"
  }
 },
 "nbformat": 4,
 "nbformat_minor": 2
}
